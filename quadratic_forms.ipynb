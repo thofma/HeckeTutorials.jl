{
 "cells": [
  {
   "cell_type": "markdown",
   "id": "7b7ca2eb",
   "metadata": {
    "slideshow": {
     "slide_type": "slide"
    }
   },
   "source": [
    "# Lattices in OSCAR\n",
    "\n",
    "* Author: Tommmy Hofmann, Universität Siegen\n",
    "* Version: OSCAR version 0.14.0\n",
    "* Last modified: January 26, 2024"
   ]
  },
  {
   "cell_type": "markdown",
   "id": "3a85d8a9",
   "metadata": {
    "slideshow": {
     "slide_type": "slide"
    }
   },
   "source": [
    "## Outline\n",
    "\n",
    "1. [General information](#General-information)\n",
    "2. [Quadratic spaces](#Quadratic-spaces)\n",
    "3. [Quadratic lattices](#Quadratic-lattices)\n",
    "4. [Kneser's neighbor method](#Kneser's-neighbor-method)\n",
    "5. [Enumerating lattices](#Enumerating-lattices)\n",
    "6. [Torsion quadratic modules](#Torsion-quadratic-modules)"
   ]
  },
  {
   "cell_type": "markdown",
   "id": "ee5782f8",
   "metadata": {
    "slideshow": {
     "slide_type": "slide"
    }
   },
   "source": [
    "## General information\n",
    "\n",
    "- A lot of functionality for quadratic and hermitian lattices in OSCAR, we only consider quadratic lattices\n",
    "- Code due to S. Brandhorst, S. Muller, H., heavily inspired by M. Kirschmer's Magma package, and S. Brandhorst's SageMath code\n",
    "- This notebeook is (will be) on the homepage of the summer school\n",
    "- Documentation is at\n",
    "  \n",
    "      https://docs.oscar-system.org/stable/Hecke/quad_forms/introduction/\n",
    "- Questions? Found a bug? Tell us about it via github, slack, email, etc:\n",
    "\n",
    "      https://www.oscar-system.org/community/\n",
    "\n",
    "- This notebook has been tested with Oscar 0.14.0. Here are all the packages that you need:\n",
    "    * [bd48cda9] GraphRecipes v0.5.12\n",
    "    * [86223c79] Graphs v1.9.0\n",
    "    * [7073ff75] IJulia v1.24.2\n",
    "    * [c601a237] Interact v0.10.5\n",
    "    * [f1435218] Oscar v0.14.0\n",
    "    * [91a5bcdd] Plots v1.39.0"
   ]
  },
  {
   "cell_type": "code",
   "execution_count": 1,
   "id": "0791fb8b-5235-4a67-b255-94d24b3ecb83",
   "metadata": {},
   "outputs": [
    {
     "name": "stdout",
     "output_type": "stream",
     "text": [
      " -----    -----    -----      -      -----   \n",
      "|     |  |     |  |     |    | |    |     |  \n",
      "|     |  |        |         |   |   |     |  \n",
      "|     |   -----   |        |     |  |-----   \n",
      "|     |        |  |        |-----|  |   |    \n",
      "|     |  |     |  |     |  |     |  |    |   \n",
      " -----    -----    -----   -     -  -     -  \n",
      "\n",
      "...combining (and extending) ANTIC, GAP, Polymake and Singular\n",
      "Version\u001b[32m 0.14.0 \u001b[39m... \n",
      " ... which comes with absolutely no warranty whatsoever\n",
      "Type: '?Oscar' for more information\n",
      "(c) 2019-2024 by The OSCAR Development Team\n"
     ]
    }
   ],
   "source": [
    "using Oscar"
   ]
  },
  {
   "cell_type": "markdown",
   "id": "cabb7870",
   "metadata": {
    "slideshow": {
     "slide_type": "slide"
    }
   },
   "source": [
    "## Quadratic spaces\n",
    "\n",
    "A quadratic space over field $K$ is $V = K^n$ together with a bilinear form $\\Phi \\colon V \\times V \\to K$, specified via the Gram matrix $G = (\\Phi(e_i,e_j))_{1 \\leq i, j \\leq n}$ of the canonical basis."
   ]
  },
  {
   "cell_type": "markdown",
   "id": "f4483a2c",
   "metadata": {
    "slideshow": {
     "slide_type": "slide"
    }
   },
   "source": [
    "## Construction"
   ]
  },
  {
   "cell_type": "markdown",
   "id": "496c5b84",
   "metadata": {
    "slideshow": {
     "slide_type": "fragment"
    }
   },
   "source": [
    "First construct a Gram matrix"
   ]
  },
  {
   "cell_type": "code",
   "execution_count": 2,
   "id": "1f8003d6",
   "metadata": {
    "slideshow": {
     "slide_type": "fragment"
    }
   },
   "outputs": [],
   "source": [
    "using Oscar"
   ]
  },
  {
   "cell_type": "code",
   "execution_count": 3,
   "id": "ecda8eed",
   "metadata": {
    "slideshow": {
     "slide_type": "fragment"
    }
   },
   "outputs": [
    {
     "data": {
      "text/plain": [
       "[2   1]\n",
       "[1   0]"
      ]
     },
     "execution_count": 3,
     "metadata": {},
     "output_type": "execute_result"
    }
   ],
   "source": [
    "G1 = matrix(QQ, [2 1; 1 0])"
   ]
  },
  {
   "cell_type": "markdown",
   "id": "f514a998",
   "metadata": {
    "slideshow": {
     "slide_type": "fragment"
    }
   },
   "source": [
    "Now construct the quadratic space"
   ]
  },
  {
   "cell_type": "code",
   "execution_count": 4,
   "id": "09bdfec0",
   "metadata": {
    "slideshow": {
     "slide_type": "fragment"
    }
   },
   "outputs": [
    {
     "data": {
      "text/plain": [
       "Quadratic space of dimension 2\n",
       "  over rational field\n",
       "with gram matrix\n",
       "[2   1]\n",
       "[1   0]"
      ]
     },
     "execution_count": 4,
     "metadata": {},
     "output_type": "execute_result"
    }
   ],
   "source": [
    "V1 = quadratic_space(QQ, G1)"
   ]
  },
  {
   "cell_type": "markdown",
   "id": "c608c05b",
   "metadata": {
    "slideshow": {
     "slide_type": "slide"
    }
   },
   "source": [
    "Now a quadratic space over the number field $K = \\mathbf{Q}(\\sqrt 5)$."
   ]
  },
  {
   "cell_type": "code",
   "execution_count": 5,
   "id": "ac472bbe",
   "metadata": {
    "slideshow": {
     "slide_type": "fragment"
    }
   },
   "outputs": [
    {
     "data": {
      "text/plain": [
       "(Number field of degree 2 over QQ, √5)"
      ]
     },
     "execution_count": 5,
     "metadata": {},
     "output_type": "execute_result"
    }
   ],
   "source": [
    "Qx, x = QQ[\"x\"]\n",
    "K, a = number_field(x^2 - 5, \"√5\")"
   ]
  },
  {
   "cell_type": "code",
   "execution_count": 6,
   "id": "5916e704",
   "metadata": {
    "slideshow": {
     "slide_type": "fragment"
    }
   },
   "outputs": [
    {
     "data": {
      "text/plain": [
       "[√5    1    0]\n",
       "[ 1   √5   -1]\n",
       "[ 0   -1    1]"
      ]
     },
     "execution_count": 6,
     "metadata": {},
     "output_type": "execute_result"
    }
   ],
   "source": [
    "G2 = matrix(K, [a 1 0 ; 1 a -1; 0 -1 1])"
   ]
  },
  {
   "cell_type": "code",
   "execution_count": 7,
   "id": "9185d06d",
   "metadata": {
    "slideshow": {
     "slide_type": "fragment"
    }
   },
   "outputs": [
    {
     "data": {
      "text/plain": [
       "Quadratic space of dimension 3\n",
       "  over number field of degree 2 over QQ\n",
       "with gram matrix\n",
       "[√5    1    0]\n",
       "[ 1   √5   -1]\n",
       "[ 0   -1    1]"
      ]
     },
     "execution_count": 7,
     "metadata": {},
     "output_type": "execute_result"
    }
   ],
   "source": [
    "V2 = quadratic_space(K, G2)"
   ]
  },
  {
   "cell_type": "markdown",
   "id": "ed14020e",
   "metadata": {
    "slideshow": {
     "slide_type": "slide"
    }
   },
   "source": [
    "## Basic properties"
   ]
  },
  {
   "cell_type": "code",
   "execution_count": 8,
   "id": "472f8284",
   "metadata": {
    "slideshow": {
     "slide_type": "fragment"
    }
   },
   "outputs": [
    {
     "data": {
      "text/plain": [
       "2"
      ]
     },
     "execution_count": 8,
     "metadata": {},
     "output_type": "execute_result"
    }
   ],
   "source": [
    "dim(V1)"
   ]
  },
  {
   "cell_type": "code",
   "execution_count": 9,
   "id": "f0ede1b2",
   "metadata": {
    "slideshow": {
     "slide_type": "fragment"
    }
   },
   "outputs": [
    {
     "data": {
      "text/plain": [
       "[2   1]\n",
       "[1   0]"
      ]
     },
     "execution_count": 9,
     "metadata": {},
     "output_type": "execute_result"
    }
   ],
   "source": [
    "gram_matrix(V1)"
   ]
  },
  {
   "cell_type": "code",
   "execution_count": 10,
   "id": "869bd77c",
   "metadata": {
    "slideshow": {
     "slide_type": "fragment"
    }
   },
   "outputs": [
    {
     "data": {
      "text/plain": [
       "-1"
      ]
     },
     "execution_count": 10,
     "metadata": {},
     "output_type": "execute_result"
    }
   ],
   "source": [
    "det(V1)"
   ]
  },
  {
   "cell_type": "code",
   "execution_count": 11,
   "id": "d7c4b573",
   "metadata": {
    "slideshow": {
     "slide_type": "fragment"
    }
   },
   "outputs": [
    {
     "data": {
      "text/plain": [
       "1"
      ]
     },
     "execution_count": 11,
     "metadata": {},
     "output_type": "execute_result"
    }
   ],
   "source": [
    "discriminant(V1)"
   ]
  },
  {
   "cell_type": "code",
   "execution_count": 12,
   "id": "652c1a2b",
   "metadata": {
    "slideshow": {
     "slide_type": "fragment"
    }
   },
   "outputs": [
    {
     "data": {
      "text/plain": [
       "3"
      ]
     },
     "execution_count": 12,
     "metadata": {},
     "output_type": "execute_result"
    }
   ],
   "source": [
    "inner_product(V1, [1, 0], [1, 1])"
   ]
  },
  {
   "cell_type": "markdown",
   "id": "276a61de",
   "metadata": {
    "slideshow": {
     "slide_type": "slide"
    }
   },
   "source": [
    "## Local properties of spaces\n",
    "\n",
    "- For a quadratic space $V$ over $\\mathbf{Q}$, one is often interested in \"local\" properties, which are in fact properties of the $p$-adic completion $V_p = V \\otimes \\mathbf{Q}_p$.\n",
    "- We *cannot* work with arbitrary quadratic spaces over $\\mathbf{Q}_p$ exactly (same problems as over $\\mathbf{R}$), but we *can* answer questions about $p$-adic completions of quadratic spaces over $\\mathbf{Q}$.\n",
    "- For example, we can decide whether $V_p$ is isotropic.\n",
    "- The interface for such functions will have as input always the global object(s) and $p$, where $p$ can be a prime number, a prime ideal, an infinite place or a real/complex embedding.\n",
    "\n",
    "### Example\n",
    "\n",
    "The call `is_isotropic(V, p)` will tell us whether $V_p$ is isotropic."
   ]
  },
  {
   "cell_type": "code",
   "execution_count": 13,
   "id": "019cb58b",
   "metadata": {
    "slideshow": {
     "slide_type": "slide"
    }
   },
   "outputs": [
    {
     "data": {
      "text/plain": [
       "2-element Vector{QQFieldElem}:\n",
       " 2\n",
       " -1//2"
      ]
     },
     "execution_count": 13,
     "metadata": {},
     "output_type": "execute_result"
    }
   ],
   "source": [
    "diagonal(V1)"
   ]
  },
  {
   "cell_type": "code",
   "execution_count": 14,
   "id": "f4cea11d",
   "metadata": {
    "slideshow": {
     "slide_type": "fragment"
    }
   },
   "outputs": [
    {
     "data": {
      "text/plain": [
       "5-element Vector{Bool}:\n",
       " 1\n",
       " 1\n",
       " 1\n",
       " 1\n",
       " 1"
      ]
     },
     "execution_count": 14,
     "metadata": {},
     "output_type": "execute_result"
    }
   ],
   "source": [
    "[is_isotropic(V1, p) for p in [2, 3, 5, 7, 11]] # 1 means yes"
   ]
  },
  {
   "cell_type": "code",
   "execution_count": 15,
   "id": "06ba38d0",
   "metadata": {
    "slideshow": {
     "slide_type": "fragment"
    }
   },
   "outputs": [
    {
     "data": {
      "text/plain": [
       "true"
      ]
     },
     "execution_count": 15,
     "metadata": {},
     "output_type": "execute_result"
    }
   ],
   "source": [
    "is_isotropic(V1, inf)"
   ]
  },
  {
   "cell_type": "code",
   "execution_count": 16,
   "id": "b60cc92c",
   "metadata": {
    "slideshow": {
     "slide_type": "fragment"
    }
   },
   "outputs": [
    {
     "data": {
      "text/plain": [
       "1"
      ]
     },
     "execution_count": 16,
     "metadata": {},
     "output_type": "execute_result"
    }
   ],
   "source": [
    "hasse_invariant(V1, 2)"
   ]
  },
  {
   "cell_type": "markdown",
   "id": "34c94e02",
   "metadata": {
    "slideshow": {
     "slide_type": "slide"
    }
   },
   "source": [
    "Of course, also over a number field"
   ]
  },
  {
   "cell_type": "code",
   "execution_count": 17,
   "id": "f8fec499",
   "metadata": {
    "slideshow": {
     "slide_type": "fragment"
    }
   },
   "outputs": [
    {
     "data": {
      "text/plain": [
       "3-element Vector{nf_elem}:\n",
       " √5\n",
       " 4//5*√5\n",
       " -1//4*√5 + 1"
      ]
     },
     "execution_count": 17,
     "metadata": {},
     "output_type": "execute_result"
    }
   ],
   "source": [
    "diagonal(V2)"
   ]
  },
  {
   "cell_type": "code",
   "execution_count": 18,
   "id": "74e9540e",
   "metadata": {
    "slideshow": {
     "slide_type": "fragment"
    }
   },
   "outputs": [],
   "source": [
    "OK = ring_of_integers(K);"
   ]
  },
  {
   "cell_type": "code",
   "execution_count": 19,
   "id": "7b2ea983",
   "metadata": {
    "slideshow": {
     "slide_type": "fragment"
    }
   },
   "outputs": [
    {
     "data": {
      "text/plain": [
       "3-element Vector{Bool}:\n",
       " 1\n",
       " 1\n",
       " 1"
      ]
     },
     "execution_count": 19,
     "metadata": {},
     "output_type": "execute_result"
    }
   ],
   "source": [
    "[is_isotropic(V2, p) for p in prime_ideals_up_to(OK, 10)] # 1 means yes, 0 means no"
   ]
  },
  {
   "cell_type": "code",
   "execution_count": 20,
   "id": "d8dba4e8",
   "metadata": {
    "slideshow": {
     "slide_type": "fragment"
    }
   },
   "outputs": [
    {
     "data": {
      "text/plain": [
       "2-element Vector{Bool}:\n",
       " 1\n",
       " 0"
      ]
     },
     "execution_count": 20,
     "metadata": {},
     "output_type": "execute_result"
    }
   ],
   "source": [
    "[is_isotropic(V2, p) for p in real_places(K)]"
   ]
  },
  {
   "cell_type": "code",
   "execution_count": 21,
   "id": "16f38b34",
   "metadata": {
    "slideshow": {
     "slide_type": "fragment"
    }
   },
   "outputs": [
    {
     "data": {
      "text/plain": [
       "1-element Vector{Int64}:\n",
       " -1"
      ]
     },
     "execution_count": 21,
     "metadata": {},
     "output_type": "execute_result"
    }
   ],
   "source": [
    "[hasse_invariant(V2, p) for p in prime_ideals_over(OK, 2)]"
   ]
  },
  {
   "cell_type": "markdown",
   "id": "1fc67c38",
   "metadata": {
    "slideshow": {
     "slide_type": "slide"
    }
   },
   "source": [
    "### Comparing quadratic spaces\n",
    "\n",
    "... locally"
   ]
  },
  {
   "cell_type": "code",
   "execution_count": 22,
   "id": "1f916af8",
   "metadata": {
    "slideshow": {
     "slide_type": "fragment"
    }
   },
   "outputs": [],
   "source": [
    "W1 = quadratic_space(QQ, diagonal_matrix(QQ, [2, 3]));"
   ]
  },
  {
   "cell_type": "code",
   "execution_count": 23,
   "id": "2172b210",
   "metadata": {
    "slideshow": {
     "slide_type": "fragment"
    }
   },
   "outputs": [
    {
     "data": {
      "text/plain": [
       "false"
      ]
     },
     "execution_count": 23,
     "metadata": {},
     "output_type": "execute_result"
    }
   ],
   "source": [
    "is_isometric(V1, W1, 2)"
   ]
  },
  {
   "cell_type": "code",
   "execution_count": 24,
   "id": "8cc1fb89",
   "metadata": {
    "slideshow": {
     "slide_type": "fragment"
    }
   },
   "outputs": [],
   "source": [
    "W2 = quadratic_space(QQ, diagonal_matrix(QQ, [1, -1]));"
   ]
  },
  {
   "cell_type": "code",
   "execution_count": 25,
   "id": "d4f8ee45",
   "metadata": {
    "slideshow": {
     "slide_type": "fragment"
    }
   },
   "outputs": [
    {
     "data": {
      "text/plain": [
       "true"
      ]
     },
     "execution_count": 25,
     "metadata": {},
     "output_type": "execute_result"
    }
   ],
   "source": [
    "is_isometric(V1, W2, 3)"
   ]
  },
  {
   "cell_type": "markdown",
   "id": "54f4bbd4",
   "metadata": {
    "slideshow": {
     "slide_type": "slide"
    }
   },
   "source": [
    "... globally"
   ]
  },
  {
   "cell_type": "code",
   "execution_count": 26,
   "id": "a852665f",
   "metadata": {
    "slideshow": {
     "slide_type": "fragment"
    }
   },
   "outputs": [
    {
     "data": {
      "text/plain": [
       "false"
      ]
     },
     "execution_count": 26,
     "metadata": {},
     "output_type": "execute_result"
    }
   ],
   "source": [
    "is_isometric(V1, W1)"
   ]
  },
  {
   "cell_type": "code",
   "execution_count": 27,
   "id": "c1918088",
   "metadata": {
    "slideshow": {
     "slide_type": "fragment"
    }
   },
   "outputs": [
    {
     "data": {
      "text/plain": [
       "true"
      ]
     },
     "execution_count": 27,
     "metadata": {},
     "output_type": "execute_result"
    }
   ],
   "source": [
    "is_isometric(V1, W2)"
   ]
  },
  {
   "cell_type": "markdown",
   "id": "35e6c035",
   "metadata": {
    "slideshow": {
     "slide_type": "fragment"
    }
   },
   "source": [
    "We can also find an isometry!"
   ]
  },
  {
   "cell_type": "code",
   "execution_count": 28,
   "id": "494d4745",
   "metadata": {
    "slideshow": {
     "slide_type": "fragment"
    }
   },
   "outputs": [
    {
     "data": {
      "text/plain": [
       "(true, [-3//2 1//2; -1 1])"
      ]
     },
     "execution_count": 28,
     "metadata": {},
     "output_type": "execute_result"
    }
   ],
   "source": [
    "fl, T = is_isometric_with_isometry(V1, W2)"
   ]
  },
  {
   "cell_type": "code",
   "execution_count": 29,
   "id": "f04d0b80",
   "metadata": {
    "slideshow": {
     "slide_type": "fragment"
    }
   },
   "outputs": [
    {
     "data": {
      "text/plain": [
       "true"
      ]
     },
     "execution_count": 29,
     "metadata": {},
     "output_type": "execute_result"
    }
   ],
   "source": [
    "gram_matrix(V1) == T * gram_matrix(W2) * transpose(T)"
   ]
  },
  {
   "cell_type": "markdown",
   "id": "c94f08c0",
   "metadata": {
    "slideshow": {
     "slide_type": "fragment"
    }
   },
   "source": [
    "Warning: Runtime for computing an isometry explicitely quickly get's out of control for large dimensions. (Should be fine on a quantum computer.)"
   ]
  },
  {
   "cell_type": "markdown",
   "id": "86b3200d",
   "metadata": {
    "slideshow": {
     "slide_type": "slide"
    }
   },
   "source": [
    "## Quadratic lattices\n",
    "\n",
    "Given a quadratic space $V$ over a number field $K$, a quadratic lattice $L$ is a finitely generated $\\mathcal{O}_K$-submodule of $V$ ($V = K^n$). We represent quadratic lattices as follows:\n",
    "\n",
    "- If $K = \\mathbf{Q}$, the lattice $L$ is specified by a full rank integer matrix with row span $L$ (we call those *integer lattices*),\n",
    "- If $K$ is a number field, the lattice $L$ is specified by a full rank pseudo-matrix over $\\mathcal{O}_K$ with row span $L$."
   ]
  },
  {
   "cell_type": "markdown",
   "id": "01de8242",
   "metadata": {
    "slideshow": {
     "slide_type": "slide"
    }
   },
   "source": [
    "### Construction"
   ]
  },
  {
   "cell_type": "code",
   "execution_count": 30,
   "id": "d24cee52",
   "metadata": {
    "slideshow": {
     "slide_type": "fragment"
    }
   },
   "outputs": [
    {
     "data": {
      "text/plain": [
       "Quadratic space of dimension 2\n",
       "  over rational field\n",
       "with gram matrix\n",
       "[2   1]\n",
       "[1   0]"
      ]
     },
     "execution_count": 30,
     "metadata": {},
     "output_type": "execute_result"
    }
   ],
   "source": [
    "V1"
   ]
  },
  {
   "cell_type": "code",
   "execution_count": 31,
   "id": "d9810a46",
   "metadata": {
    "slideshow": {
     "slide_type": "fragment"
    }
   },
   "outputs": [
    {
     "data": {
      "text/plain": [
       "Integer lattice of rank 2 and degree 2\n",
       "with gram matrix\n",
       "[ 8   16]\n",
       "[16   24]"
      ]
     },
     "execution_count": 31,
     "metadata": {},
     "output_type": "execute_result"
    }
   ],
   "source": [
    "L1 = lattice(V1, ZZ[1 3; 3 1])"
   ]
  },
  {
   "cell_type": "code",
   "execution_count": 32,
   "id": "027c82ea",
   "metadata": {
    "slideshow": {
     "slide_type": "fragment"
    }
   },
   "outputs": [
    {
     "data": {
      "text/plain": [
       "[1   3]\n",
       "[3   1]"
      ]
     },
     "execution_count": 32,
     "metadata": {},
     "output_type": "execute_result"
    }
   ],
   "source": [
    "basis_matrix(L1)"
   ]
  },
  {
   "cell_type": "markdown",
   "id": "03f0160c",
   "metadata": {
    "slideshow": {
     "slide_type": "fragment"
    }
   },
   "source": [
    "One can also directly construct an integer lattice. The ambient quadratic space will be constructed implicitely."
   ]
  },
  {
   "cell_type": "code",
   "execution_count": 33,
   "id": "45d067b6",
   "metadata": {
    "slideshow": {
     "slide_type": "fragment"
    }
   },
   "outputs": [
    {
     "data": {
      "text/plain": [
       "Integer lattice of rank 2 and degree 2\n",
       "with gram matrix\n",
       "[5   4]\n",
       "[4   5]"
      ]
     },
     "execution_count": 33,
     "metadata": {},
     "output_type": "execute_result"
    }
   ],
   "source": [
    "LL1 = integer_lattice(gram = ZZ[5 4;4 5])"
   ]
  },
  {
   "cell_type": "code",
   "execution_count": 34,
   "id": "95d4044b",
   "metadata": {
    "slideshow": {
     "slide_type": "fragment"
    }
   },
   "outputs": [
    {
     "data": {
      "text/plain": [
       "[1   0]\n",
       "[0   1]"
      ]
     },
     "execution_count": 34,
     "metadata": {},
     "output_type": "execute_result"
    }
   ],
   "source": [
    "basis_matrix(LL1)"
   ]
  },
  {
   "cell_type": "markdown",
   "id": "b7a24248",
   "metadata": {
    "slideshow": {
     "slide_type": "slide"
    }
   },
   "source": [
    "... over a number field"
   ]
  },
  {
   "cell_type": "code",
   "execution_count": 35,
   "id": "92c724b0",
   "metadata": {
    "slideshow": {
     "slide_type": "fragment"
    }
   },
   "outputs": [
    {
     "data": {
      "text/plain": [
       "Quadratic space of dimension 3\n",
       "  over number field of degree 2 over QQ\n",
       "with gram matrix\n",
       "[√5    1    0]\n",
       "[ 1   √5   -1]\n",
       "[ 0   -1    1]"
      ]
     },
     "execution_count": 35,
     "metadata": {},
     "output_type": "execute_result"
    }
   ],
   "source": [
    "V2"
   ]
  },
  {
   "cell_type": "markdown",
   "id": "174e0ff3",
   "metadata": {
    "slideshow": {
     "slide_type": "fragment"
    }
   },
   "source": [
    "Construct a lattice by providing generators:"
   ]
  },
  {
   "cell_type": "code",
   "execution_count": 36,
   "id": "b6fb2c67",
   "metadata": {
    "slideshow": {
     "slide_type": "fragment"
    }
   },
   "outputs": [
    {
     "data": {
      "text/plain": [
       "Quadratic lattice of rank 3 and degree 3\n",
       "  over maximal order of Number field of degree 2 over QQ \n",
       "  with basis nf_elem[1, 1//2*√5 + 1//\n",
       "  2]"
      ]
     },
     "execution_count": 36,
     "metadata": {},
     "output_type": "execute_result"
    }
   ],
   "source": [
    "L2 = lattice(V2, [[1, 0, 0], [1, 1, 0], [0, 0, 1//2]])"
   ]
  },
  {
   "cell_type": "code",
   "execution_count": 37,
   "id": "fc888d1e",
   "metadata": {
    "slideshow": {
     "slide_type": "fragment"
    }
   },
   "outputs": [
    {
     "data": {
      "text/plain": [
       "Pseudo-matrix over Maximal order of Number field of degree 2 over QQ \n",
       "with basis nf_elem[1, 1//2*√5 + 1//2]\n",
       "1//1 * <1, 1> with row [1 0 0]\n",
       "1//1 * <1, 1> with row [0 1 0]\n",
       "1//2 * <1, 1> with row [0 0 1]"
      ]
     },
     "execution_count": 37,
     "metadata": {},
     "output_type": "execute_result"
    }
   ],
   "source": [
    "pseudo_matrix(L2)"
   ]
  },
  {
   "cell_type": "markdown",
   "id": "dbceae6b",
   "metadata": {
    "slideshow": {
     "slide_type": "slide"
    }
   },
   "source": [
    "### Properties"
   ]
  },
  {
   "cell_type": "code",
   "execution_count": 38,
   "id": "772bafb6",
   "metadata": {
    "slideshow": {
     "slide_type": "fragment"
    }
   },
   "outputs": [
    {
     "data": {
      "text/plain": [
       "[ 8   16]\n",
       "[16   24]"
      ]
     },
     "execution_count": 38,
     "metadata": {},
     "output_type": "execute_result"
    }
   ],
   "source": [
    "gram_matrix(L1)"
   ]
  },
  {
   "cell_type": "markdown",
   "id": "702ae978",
   "metadata": {
    "slideshow": {
     "slide_type": "fragment"
    }
   },
   "source": [
    "Associated quadratic spaces:"
   ]
  },
  {
   "cell_type": "code",
   "execution_count": 39,
   "id": "34983b74",
   "metadata": {
    "slideshow": {
     "slide_type": "fragment"
    }
   },
   "outputs": [
    {
     "data": {
      "text/plain": [
       "true"
      ]
     },
     "execution_count": 39,
     "metadata": {},
     "output_type": "execute_result"
    }
   ],
   "source": [
    "ambient_space(L1) == V1"
   ]
  },
  {
   "cell_type": "markdown",
   "id": "67a17e5d",
   "metadata": {
    "slideshow": {
     "slide_type": "fragment"
    }
   },
   "source": [
    "The quadratic space $\\mathbf{Q} \\otimes L$ is the *rational span* of $L$. It is quadratic space with gram matrix equal to the gram matrix of $L$."
   ]
  },
  {
   "cell_type": "code",
   "execution_count": 40,
   "id": "6e7c295d",
   "metadata": {
    "slideshow": {
     "slide_type": "fragment"
    }
   },
   "outputs": [
    {
     "data": {
      "text/plain": [
       "Quadratic space of dimension 2\n",
       "  over rational field\n",
       "with gram matrix\n",
       "[ 8   16]\n",
       "[16   24]"
      ]
     },
     "execution_count": 40,
     "metadata": {},
     "output_type": "execute_result"
    }
   ],
   "source": [
    "rational_span(L1)"
   ]
  },
  {
   "cell_type": "code",
   "execution_count": 41,
   "id": "b4506ec6",
   "metadata": {
    "slideshow": {
     "slide_type": "slide"
    }
   },
   "outputs": [
    {
     "data": {
      "text/plain": [
       "8"
      ]
     },
     "execution_count": 41,
     "metadata": {},
     "output_type": "execute_result"
    }
   ],
   "source": [
    "norm(L1)"
   ]
  },
  {
   "cell_type": "code",
   "execution_count": 42,
   "id": "5b2080b7",
   "metadata": {
    "slideshow": {
     "slide_type": "fragment"
    }
   },
   "outputs": [
    {
     "data": {
      "text/plain": [
       "8"
      ]
     },
     "execution_count": 42,
     "metadata": {},
     "output_type": "execute_result"
    }
   ],
   "source": [
    "scale(L1)"
   ]
  },
  {
   "cell_type": "code",
   "execution_count": 43,
   "id": "9dc7a079",
   "metadata": {
    "slideshow": {
     "slide_type": "fragment"
    }
   },
   "outputs": [
    {
     "data": {
      "text/plain": [
       "-64"
      ]
     },
     "execution_count": 43,
     "metadata": {},
     "output_type": "execute_result"
    }
   ],
   "source": [
    "det(L1)"
   ]
  },
  {
   "cell_type": "code",
   "execution_count": 44,
   "id": "31246980",
   "metadata": {
    "slideshow": {
     "slide_type": "fragment"
    }
   },
   "outputs": [
    {
     "data": {
      "text/plain": [
       "true"
      ]
     },
     "execution_count": 44,
     "metadata": {},
     "output_type": "execute_result"
    }
   ],
   "source": [
    "is_even(L1)"
   ]
  },
  {
   "cell_type": "code",
   "execution_count": 45,
   "id": "64a8f7ee",
   "metadata": {},
   "outputs": [
    {
     "data": {
      "text/plain": [
       "true"
      ]
     },
     "execution_count": 45,
     "metadata": {},
     "output_type": "execute_result"
    }
   ],
   "source": [
    "is_integral(L1)"
   ]
  },
  {
   "cell_type": "markdown",
   "id": "2e7737ad",
   "metadata": {
    "slideshow": {
     "slide_type": "slide"
    }
   },
   "source": [
    "### Local properties"
   ]
  },
  {
   "cell_type": "code",
   "execution_count": 46,
   "id": "c2a26355",
   "metadata": {
    "slideshow": {
     "slide_type": "fragment"
    }
   },
   "outputs": [
    {
     "data": {
      "text/plain": [
       "false"
      ]
     },
     "execution_count": 46,
     "metadata": {},
     "output_type": "execute_result"
    }
   ],
   "source": [
    "is_positive_definite(L1)"
   ]
  },
  {
   "cell_type": "code",
   "execution_count": 47,
   "id": "9b114a86",
   "metadata": {
    "slideshow": {
     "slide_type": "fragment"
    }
   },
   "outputs": [
    {
     "data": {
      "text/plain": [
       "false"
      ]
     },
     "execution_count": 47,
     "metadata": {},
     "output_type": "execute_result"
    }
   ],
   "source": [
    "is_negative_definite(L1)"
   ]
  },
  {
   "cell_type": "code",
   "execution_count": 48,
   "id": "123d254a",
   "metadata": {
    "slideshow": {
     "slide_type": "fragment"
    }
   },
   "outputs": [
    {
     "data": {
      "text/plain": [
       "true"
      ]
     },
     "execution_count": 48,
     "metadata": {},
     "output_type": "execute_result"
    }
   ],
   "source": [
    "is_isotropic(L1, 2)"
   ]
  },
  {
   "cell_type": "code",
   "execution_count": 49,
   "id": "8c8cebf0",
   "metadata": {
    "slideshow": {
     "slide_type": "fragment"
    }
   },
   "outputs": [
    {
     "data": {
      "text/plain": [
       "(true, 3)"
      ]
     },
     "execution_count": 49,
     "metadata": {},
     "output_type": "execute_result"
    }
   ],
   "source": [
    "is_modular(L1, 2)"
   ]
  },
  {
   "cell_type": "markdown",
   "id": "b5e7613b",
   "metadata": {
    "slideshow": {
     "slide_type": "slide"
    }
   },
   "source": [
    "### Enumeration and related things"
   ]
  },
  {
   "cell_type": "code",
   "execution_count": 50,
   "id": "a7d5ab83",
   "metadata": {
    "slideshow": {
     "slide_type": "fragment"
    }
   },
   "outputs": [
    {
     "data": {
      "text/plain": [
       "Integer lattice of rank 3 and degree 3\n",
       "with gram matrix\n",
       "[29   23    0]\n",
       "[23   26    0]\n",
       "[ 0    0   10]"
      ]
     },
     "execution_count": 50,
     "metadata": {},
     "output_type": "execute_result"
    }
   ],
   "source": [
    "V = quadratic_space(QQ, QQ[2 1 0; 1 5 0; 0 0 10]); L = lattice(V, ZZ[3 1 0; 1 2 0; 0 0 1])"
   ]
  },
  {
   "cell_type": "code",
   "execution_count": 51,
   "id": "3db4add8",
   "metadata": {
    "slideshow": {
     "slide_type": "fragment"
    }
   },
   "outputs": [
    {
     "data": {
      "text/plain": [
       "true"
      ]
     },
     "execution_count": 51,
     "metadata": {},
     "output_type": "execute_result"
    }
   ],
   "source": [
    "is_positive_definite(L)"
   ]
  },
  {
   "cell_type": "code",
   "execution_count": 52,
   "id": "4a7ef99f",
   "metadata": {
    "slideshow": {
     "slide_type": "fragment"
    }
   },
   "outputs": [
    {
     "data": {
      "text/plain": [
       "9"
      ]
     },
     "execution_count": 52,
     "metadata": {},
     "output_type": "execute_result"
    }
   ],
   "source": [
    "minimum(L)"
   ]
  },
  {
   "cell_type": "code",
   "execution_count": 53,
   "id": "9e74bf55",
   "metadata": {
    "slideshow": {
     "slide_type": "fragment"
    }
   },
   "outputs": [
    {
     "data": {
      "text/plain": [
       "1-element Vector{Vector{ZZRingElem}}:\n",
       " [1, -1, 0]"
      ]
     },
     "execution_count": 53,
     "metadata": {},
     "output_type": "execute_result"
    }
   ],
   "source": [
    "shortest_vectors(L)"
   ]
  },
  {
   "cell_type": "markdown",
   "id": "66bc85b6",
   "metadata": {
    "slideshow": {
     "slide_type": "fragment"
    }
   },
   "source": [
    "Careful, these coordinates are with respect to the lattice basis!"
   ]
  },
  {
   "cell_type": "code",
   "execution_count": 54,
   "id": "fa588c96",
   "metadata": {
    "slideshow": {
     "slide_type": "fragment"
    }
   },
   "outputs": [
    {
     "data": {
      "text/plain": [
       "5"
      ]
     },
     "execution_count": 54,
     "metadata": {},
     "output_type": "execute_result"
    }
   ],
   "source": [
    "inner_product(ambient_space(L), [1, -1, 0], [1, -1, 0])"
   ]
  },
  {
   "cell_type": "code",
   "execution_count": 55,
   "id": "4f2c43f2",
   "metadata": {
    "slideshow": {
     "slide_type": "fragment"
    }
   },
   "outputs": [
    {
     "data": {
      "text/plain": [
       "9"
      ]
     },
     "execution_count": 55,
     "metadata": {},
     "output_type": "execute_result"
    }
   ],
   "source": [
    "inner_product(rational_span(L), [1, -1, 0], [1, -1, 0])"
   ]
  },
  {
   "cell_type": "code",
   "execution_count": 56,
   "id": "dbfe99a6",
   "metadata": {
    "slideshow": {
     "slide_type": "slide"
    }
   },
   "outputs": [
    {
     "data": {
      "text/plain": [
       "4-element Vector{Tuple{Vector{ZZRingElem}, QQFieldElem}}:\n",
       " ([1, -1, -1], 19)\n",
       " ([0, 0, 1], 10)\n",
       " ([1, -1, 1], 19)\n",
       " ([1, -1, 0], 9)"
      ]
     },
     "execution_count": 56,
     "metadata": {},
     "output_type": "execute_result"
    }
   ],
   "source": [
    "short_vectors(L, 5, 25)"
   ]
  },
  {
   "cell_type": "code",
   "execution_count": 57,
   "id": "0d45f056",
   "metadata": {
    "slideshow": {
     "slide_type": "fragment"
    }
   },
   "outputs": [
    {
     "data": {
      "text/plain": [
       "2"
      ]
     },
     "execution_count": 57,
     "metadata": {},
     "output_type": "execute_result"
    }
   ],
   "source": [
    "kissing_number(L)"
   ]
  },
  {
   "cell_type": "code",
   "execution_count": 58,
   "id": "56a77c5e",
   "metadata": {
    "slideshow": {
     "slide_type": "slide"
    }
   },
   "outputs": [
    {
     "data": {
      "text/plain": [
       "Matrix group of degree 3\n",
       "  over rational field"
      ]
     },
     "execution_count": 58,
     "metadata": {},
     "output_type": "execute_result"
    }
   ],
   "source": [
    "OL = orthogonal_group(L)"
   ]
  },
  {
   "cell_type": "code",
   "execution_count": 59,
   "id": "55b12970",
   "metadata": {
    "slideshow": {
     "slide_type": "fragment"
    }
   },
   "outputs": [
    {
     "data": {
      "text/plain": [
       "2-element Vector{MatrixGroupElem{QQFieldElem, QQMatrix}}:\n",
       " [-1 0 0; 0 -1 0; 0 0 -1]\n",
       " [1 0 0; 0 1 0; 0 0 -1]"
      ]
     },
     "execution_count": 59,
     "metadata": {},
     "output_type": "execute_result"
    }
   ],
   "source": [
    "gens(OL)"
   ]
  },
  {
   "cell_type": "code",
   "execution_count": 60,
   "id": "72ecc174",
   "metadata": {
    "slideshow": {
     "slide_type": "fragment"
    }
   },
   "outputs": [
    {
     "data": {
      "text/plain": [
       "4"
      ]
     },
     "execution_count": 60,
     "metadata": {},
     "output_type": "execute_result"
    }
   ],
   "source": [
    "order(OL)"
   ]
  },
  {
   "cell_type": "code",
   "execution_count": 61,
   "id": "473ff823",
   "metadata": {
    "slideshow": {
     "slide_type": "fragment"
    }
   },
   "outputs": [
    {
     "data": {
      "text/plain": [
       "9//4"
      ]
     },
     "execution_count": 61,
     "metadata": {},
     "output_type": "execute_result"
    }
   ],
   "source": [
    "mass(L)"
   ]
  },
  {
   "cell_type": "markdown",
   "id": "d4d11734",
   "metadata": {
    "slideshow": {
     "slide_type": "slide"
    }
   },
   "source": [
    "### Genera and isometry"
   ]
  },
  {
   "cell_type": "code",
   "execution_count": 62,
   "id": "143fb046",
   "metadata": {
    "slideshow": {
     "slide_type": "fragment"
    }
   },
   "outputs": [
    {
     "data": {
      "text/plain": [
       "Integer lattice of rank 3 and degree 3\n",
       "with gram matrix\n",
       "[267   169   150]\n",
       "[169   116    90]\n",
       "[150    90    90]"
      ]
     },
     "execution_count": 62,
     "metadata": {},
     "output_type": "execute_result"
    }
   ],
   "source": [
    "M = lattice(V, ZZ[2 1 5; 1 2 3; 0 0 3])"
   ]
  },
  {
   "cell_type": "code",
   "execution_count": 63,
   "id": "abc92c95",
   "metadata": {
    "slideshow": {
     "slide_type": "fragment"
    }
   },
   "outputs": [
    {
     "data": {
      "text/plain": [
       "false"
      ]
     },
     "execution_count": 63,
     "metadata": {},
     "output_type": "execute_result"
    }
   ],
   "source": [
    "is_locally_isometric(L, M, 3)"
   ]
  },
  {
   "cell_type": "code",
   "execution_count": 64,
   "id": "7ec9be43",
   "metadata": {
    "slideshow": {
     "slide_type": "fragment"
    }
   },
   "outputs": [
    {
     "data": {
      "text/plain": [
       "(Local genus symbol at 3: 1^-2 9^-1, Local genus symbol at 3: 1^-2 729^-1)"
      ]
     },
     "execution_count": 64,
     "metadata": {},
     "output_type": "execute_result"
    }
   ],
   "source": [
    "genus(L, 3), genus(M, 3)"
   ]
  },
  {
   "cell_type": "markdown",
   "id": "aa1ae826",
   "metadata": {
    "slideshow": {
     "slide_type": "fragment"
    }
   },
   "source": [
    "The genus of a lattice $L$ is the set of all lattices, which are locally isometric to $L$ at all primes. It can be represented using a finite collection of genus symbols."
   ]
  },
  {
   "cell_type": "code",
   "execution_count": 65,
   "id": "567d34f2",
   "metadata": {
    "slideshow": {
     "slide_type": "fragment"
    }
   },
   "outputs": [
    {
     "data": {
      "text/latex": [
       "I_{(3, 0)}2^{-1}_{5}9^{-1}5^{-1}25^{1}"
      ],
      "text/plain": [
       "Genus symbol for integer lattices\n",
       "Signatures: (3, 0, 0)\n",
       "Local symbols:\n",
       "  Local genus symbol at 2: 1^2_2 2^-1_5\n",
       "  Local genus symbol at 3: 1^-2 9^-1\n",
       "  Local genus symbol at 5: 1^1 5^-1 25^1"
      ]
     },
     "execution_count": 65,
     "metadata": {},
     "output_type": "execute_result"
    }
   ],
   "source": [
    "genus(L)"
   ]
  },
  {
   "cell_type": "code",
   "execution_count": 66,
   "id": "6414690f",
   "metadata": {
    "slideshow": {
     "slide_type": "fragment"
    }
   },
   "outputs": [
    {
     "data": {
      "text/plain": [
       "false"
      ]
     },
     "execution_count": 66,
     "metadata": {},
     "output_type": "execute_result"
    }
   ],
   "source": [
    "genus(L) == genus(M)"
   ]
  },
  {
   "cell_type": "code",
   "execution_count": 67,
   "id": "aa85faa3",
   "metadata": {
    "slideshow": {
     "slide_type": "slide"
    }
   },
   "outputs": [
    {
     "data": {
      "text/plain": [
       "false"
      ]
     },
     "execution_count": 67,
     "metadata": {},
     "output_type": "execute_result"
    }
   ],
   "source": [
    "is_isometric(L, M)"
   ]
  },
  {
   "cell_type": "code",
   "execution_count": 68,
   "id": "64955ac2",
   "metadata": {
    "slideshow": {
     "slide_type": "fragment"
    }
   },
   "outputs": [
    {
     "data": {
      "text/plain": [
       "7-element Vector{ZZLat}:\n",
       " Integer lattice of rank 3 and degree 3\n",
       " Integer lattice of rank 3 and degree 3\n",
       " Integer lattice of rank 3 and degree 3\n",
       " Integer lattice of rank 3 and degree 3\n",
       " Integer lattice of rank 3 and degree 3\n",
       " Integer lattice of rank 3 and degree 3\n",
       " Integer lattice of rank 3 and degree 3"
      ]
     },
     "execution_count": 68,
     "metadata": {},
     "output_type": "execute_result"
    }
   ],
   "source": [
    "genus_representatives(L)"
   ]
  },
  {
   "cell_type": "markdown",
   "id": "1f86ff40",
   "metadata": {
    "slideshow": {
     "slide_type": "fragment"
    }
   },
   "source": [
    "Let's verify with the mass formula:"
   ]
  },
  {
   "cell_type": "code",
   "execution_count": 69,
   "id": "e270693c",
   "metadata": {
    "slideshow": {
     "slide_type": "fragment"
    }
   },
   "outputs": [
    {
     "data": {
      "text/plain": [
       "true"
      ]
     },
     "execution_count": 69,
     "metadata": {},
     "output_type": "execute_result"
    }
   ],
   "source": [
    "mass(L) == sum(1//order(orthogonal_group(M)) for M in genus_representatives(L))"
   ]
  },
  {
   "cell_type": "markdown",
   "id": "efbb8717",
   "metadata": {
    "slideshow": {
     "slide_type": "slide"
    }
   },
   "source": [
    "## Kneser's neighbor method"
   ]
  },
  {
   "cell_type": "code",
   "execution_count": 70,
   "id": "4955b934",
   "metadata": {
    "slideshow": {
     "slide_type": "skip"
    }
   },
   "outputs": [
    {
     "data": {
      "text/plain": [
       "random_neighbor (generic function with 1 method)"
      ]
     },
     "execution_count": 70,
     "metadata": {},
     "output_type": "execute_result"
    }
   ],
   "source": [
    "function neighbor(L::ZZLat, v::Vector, p)\n",
    "  M = Hecke.QQ.(v) * gram_matrix(L)\n",
    "  r, K = left_kernel(matrix(GF(p), rank(L), 1, M))\n",
    "  K = K[1:r, :]\n",
    "  LL = lattice_in_same_ambient_space(L, lift(K) * basis_matrix(L)) +\n",
    "       p*L +\n",
    "       lattice_in_same_ambient_space(L, matrix(QQ, [1//p * QQ.(v)]) * basis_matrix(L))\n",
    "  return LL\n",
    "end\n",
    "\n",
    "function random_neighbor(L::ZZLat, p)\n",
    "  while true\n",
    "    v = QQ.(rand(0:(p - 1), rank(L)))\n",
    "    if iszero(v)\n",
    "      continue\n",
    "    end\n",
    "    m = ZZ(Hecke.inner_product(rational_span(L), v, v))\n",
    "    if mod(m, p) == 0\n",
    "      while true\n",
    "        w = v + QQ.([rand(-10:10) * p for i in 1:rank(L)])\n",
    "        mm = ZZ(Hecke.inner_product(rational_span(L), w, w))\n",
    "        if mod(mm, p^2) == 0\n",
    "          _L =  neighbor(L, w, p)\n",
    "          @assert isintegral(_L)\n",
    "          #if !isintegral(_L)\n",
    "            #continue\n",
    "          #else\n",
    "            return _L\n",
    "          #end\n",
    "       end\n",
    "      end\n",
    "    end\n",
    "  end\n",
    "end"
   ]
  },
  {
   "cell_type": "markdown",
   "id": "01cf87bd",
   "metadata": {
    "slideshow": {
     "slide_type": "slide"
    }
   },
   "source": [
    "# Reminder\n",
    "\n",
    "- Assume that all lattices are definite. Let $p$ be a fixed prime.\n",
    "- Two lattices $L, L'$ are $p$-neighbors (write $L \\sim L'$), if $L/L \\cap L' \\cong \\mathbf{F}_p \\cong L'/L \\cap L'$.\n",
    "- If $L'$ is any lattice in the genus of $L$ (locally isometric to $L$ at all primes), there exists lattices $L_1,\\dotsc,L_r$ such that $L = L_1$, $L' = L_r$ and $L_i \\sim L_{i + 1}$ for $i \\in \\{1,\\dotsc,r\\}$. (As long as $p$ is *good*)\n",
    "- We can enumerate all $p$-neighbors of a given lattice!\n",
    "- We can test whether lattices are isometric!\n",
    "- We can find representatives for $\\operatorname{gen}(L)$ modulo isometry:\n",
    "  1. $R = \\{ L \\}$.\n",
    "  2. Pick a element $M$ of $R$ and a random $p$-neighbor $N$ of $M$. If we have not seen $N$ before, let $R \\leftarrow R \\cup \\{ N \\}$. \n",
    "  3. Rinse and repeat, until\n",
    "$$ \\sum_{M \\in R} \\frac{1}{\\lvert \\operatorname{O}(M)\\rvert} = \\operatorname{mass}(L)$$\n",
    "\n",
    "(This is just a random graph traversal)"
   ]
  },
  {
   "cell_type": "code",
   "execution_count": 71,
   "id": "afb2e753",
   "metadata": {
    "slideshow": {
     "slide_type": "slide"
    }
   },
   "outputs": [
    {
     "data": {
      "text/plain": [
       "representatives_random (generic function with 1 method)"
      ]
     },
     "execution_count": 71,
     "metadata": {},
     "output_type": "execute_result"
    }
   ],
   "source": [
    "function representatives_random(L::ZZLat, p)\n",
    "  R = [L]\n",
    "  m = mass(L)\n",
    "  edges = []\n",
    "  while true\n",
    "    for M in R\n",
    "      N= random_neighbor(M, p)\n",
    "      if any(LL -> is_isometric(N, LL), R)\n",
    "        continue\n",
    "      else\n",
    "        push!(R, N)\n",
    "        push!(edges, (M, N))\n",
    "      end\n",
    "    end\n",
    "    if m == sum(1//automorphism_group_order(M) for M in R)\n",
    "      break\n",
    "    end\n",
    "  end\n",
    "  return R, edges\n",
    "end"
   ]
  },
  {
   "cell_type": "markdown",
   "id": "36787f13",
   "metadata": {
    "slideshow": {
     "slide_type": "slide"
    }
   },
   "source": [
    "Let's pick an \"interesting\" lattice from the (beta version of the) LMFDB (https://beta.lmfdb.org/Lattice/) (could have also used something from: http://www.math.rwth-aachen.de/~Gabriele.Nebe/LATTICES/index.html)"
   ]
  },
  {
   "cell_type": "code",
   "execution_count": 72,
   "id": "22176e00",
   "metadata": {
    "slideshow": {
     "slide_type": "fragment"
    }
   },
   "outputs": [
    {
     "data": {
      "text/plain": [
       "Integer lattice of rank 3 and degree 3\n",
       "with gram matrix\n",
       "[2   0    1]\n",
       "[0   2    0]\n",
       "[1   0   70]"
      ]
     },
     "execution_count": 72,
     "metadata": {},
     "output_type": "execute_result"
    }
   ],
   "source": [
    "L = Zlattice(gram = matrix(ZZ, [[2, 0, 1], [0, 2, 0], [1, 0, 70]])) # 3.278.556.9.1"
   ]
  },
  {
   "cell_type": "markdown",
   "id": "d332ec8f",
   "metadata": {
    "slideshow": {
     "slide_type": "fragment"
    }
   },
   "source": [
    "What are the bad primes?"
   ]
  },
  {
   "cell_type": "code",
   "execution_count": 73,
   "id": "42dea9f0",
   "metadata": {
    "slideshow": {
     "slide_type": "fragment"
    }
   },
   "outputs": [
    {
     "data": {
      "text/plain": [
       "-1 * 2 * 139"
      ]
     },
     "execution_count": 73,
     "metadata": {},
     "output_type": "execute_result"
    }
   ],
   "source": [
    "factor(ZZ(discriminant(L))) # discriminants are in QQ"
   ]
  },
  {
   "cell_type": "code",
   "execution_count": 74,
   "id": "72c387a2",
   "metadata": {
    "slideshow": {
     "slide_type": "fragment"
    }
   },
   "outputs": [
    {
     "ename": "LoadError",
     "evalue": "MethodError: no method matching lift(::FqMatrix)\n\n\u001b[0mClosest candidates are:\n\u001b[0m  lift(\u001b[91m::Ring\u001b[39m, \u001b[91m::Union{fpMPolyRingElem, zzModMPolyRingElem}\u001b[39m)\n\u001b[0m\u001b[90m   @\u001b[39m \u001b[36mOscar\u001b[39m \u001b[90m/datadisk/Computer/Mathematics_software/PackagesForJulia/Oscar.jl/experimental/ModStd/\u001b[39m\u001b[90m\u001b[4mModStdQ.jl:233\u001b[24m\u001b[39m\n\u001b[0m  lift(\u001b[91m::Singular.sideal{T}\u001b[39m, \u001b[91m::Singular.sideal{T}\u001b[39m) where T\n\u001b[0m\u001b[90m   @\u001b[39m \u001b[32mSingular\u001b[39m \u001b[90m~/.julia/packages/Singular/tZxbi/src/ideal/\u001b[39m\u001b[90m\u001b[4mideal.jl:956\u001b[24m\u001b[39m\n\u001b[0m  lift(\u001b[91m::Singular.sideal{T}\u001b[39m, \u001b[91m::Singular.sideal{T}\u001b[39m, \u001b[91m::Bool\u001b[39m, \u001b[91m::Bool\u001b[39m, \u001b[91m::Bool\u001b[39m) where T\n\u001b[0m\u001b[90m   @\u001b[39m \u001b[32mSingular\u001b[39m \u001b[90m~/.julia/packages/Singular/tZxbi/src/ideal/\u001b[39m\u001b[90m\u001b[4mideal.jl:981\u001b[24m\u001b[39m\n\u001b[0m  ...\n",
     "output_type": "error",
     "traceback": [
      "MethodError: no method matching lift(::FqMatrix)\n\n\u001b[0mClosest candidates are:\n\u001b[0m  lift(\u001b[91m::Ring\u001b[39m, \u001b[91m::Union{fpMPolyRingElem, zzModMPolyRingElem}\u001b[39m)\n\u001b[0m\u001b[90m   @\u001b[39m \u001b[36mOscar\u001b[39m \u001b[90m/datadisk/Computer/Mathematics_software/PackagesForJulia/Oscar.jl/experimental/ModStd/\u001b[39m\u001b[90m\u001b[4mModStdQ.jl:233\u001b[24m\u001b[39m\n\u001b[0m  lift(\u001b[91m::Singular.sideal{T}\u001b[39m, \u001b[91m::Singular.sideal{T}\u001b[39m) where T\n\u001b[0m\u001b[90m   @\u001b[39m \u001b[32mSingular\u001b[39m \u001b[90m~/.julia/packages/Singular/tZxbi/src/ideal/\u001b[39m\u001b[90m\u001b[4mideal.jl:956\u001b[24m\u001b[39m\n\u001b[0m  lift(\u001b[91m::Singular.sideal{T}\u001b[39m, \u001b[91m::Singular.sideal{T}\u001b[39m, \u001b[91m::Bool\u001b[39m, \u001b[91m::Bool\u001b[39m, \u001b[91m::Bool\u001b[39m) where T\n\u001b[0m\u001b[90m   @\u001b[39m \u001b[32mSingular\u001b[39m \u001b[90m~/.julia/packages/Singular/tZxbi/src/ideal/\u001b[39m\u001b[90m\u001b[4mideal.jl:981\u001b[24m\u001b[39m\n\u001b[0m  ...\n",
      "",
      "Stacktrace:",
      " [1] neighbor(L::ZZLat, v::Vector{QQFieldElem}, p::Int64)",
      "   @ Main ./In[70]:5",
      " [2] random_neighbor(L::ZZLat, p::Int64)",
      "   @ Main ./In[70]:23",
      " [3] representatives_random(L::ZZLat, p::Int64)",
      "   @ Main ./In[71]:7",
      " [4] top-level scope",
      "   @ In[74]:1"
     ]
    }
   ],
   "source": [
    "R, edges = representatives_random(L, 5);"
   ]
  },
  {
   "cell_type": "markdown",
   "id": "5e4c8634",
   "metadata": {
    "slideshow": {
     "slide_type": "fragment"
    }
   },
   "source": [
    "Thus the class number is"
   ]
  },
  {
   "cell_type": "code",
   "execution_count": 75,
   "id": "b873b025",
   "metadata": {
    "slideshow": {
     "slide_type": "fragment"
    }
   },
   "outputs": [
    {
     "ename": "LoadError",
     "evalue": "UndefVarError: `R` not defined",
     "output_type": "error",
     "traceback": [
      "UndefVarError: `R` not defined",
      "",
      "Stacktrace:",
      " [1] top-level scope",
      "   @ In[75]:1"
     ]
    }
   ],
   "source": [
    "length(R)"
   ]
  },
  {
   "cell_type": "code",
   "execution_count": 76,
   "id": "83d41684",
   "metadata": {
    "slideshow": {
     "slide_type": "subslide"
    }
   },
   "outputs": [
    {
     "data": {
      "text/plain": [
       "Definite integer lattices of rank <= 40\n",
       "Author: Gabriele Nebe and Neil Sloane\n",
       "Source: http://www.math.rwth-aachen.de/~Gabriele.Nebe/LATTICES/index.html\n",
       "Number of lattices: 657"
      ]
     },
     "execution_count": 76,
     "metadata": {},
     "output_type": "execute_result"
    }
   ],
   "source": [
    "DB = lattice_database()"
   ]
  },
  {
   "cell_type": "code",
   "execution_count": 77,
   "id": "5657f785",
   "metadata": {
    "slideshow": {
     "slide_type": "fragment"
    }
   },
   "outputs": [
    {
     "data": {
      "text/plain": [
       "Integer lattice of rank 16 and degree 16\n",
       "with gram matrix\n",
       "[4    1   2   1   1   2   1   1    1    1   2    1   1   2    2    1]\n",
       "[1    4   2   1   1   1   2   1   -1    1   1    0   1   0    1    1]\n",
       "[2    2   4   0   1   2   2   1    1    1   2    1   0   1    1    2]\n",
       "[1    1   0   4   1   1   1   2    0    2   1    1   2   1    1    0]\n",
       "[1    1   1   1   4   1   1   1    1    0   0    0   1   2    2    2]\n",
       "[2    1   2   1   1   4   1   1    2    1   2    2   0   2    1    2]\n",
       "[1    2   2   1   1   1   4   1    0    2   2    1   1   0    1    1]\n",
       "[1    1   1   2   1   1   1   4    1    2   2    2   1   1    1    0]\n",
       "[1   -1   1   0   1   2   0   1    4    1   1    2   1   2    1    1]\n",
       "[1    1   1   2   0   1   2   2    1    4   2    2   1   0    0   -1]\n",
       "[2    1   2   1   0   2   2   2    1    2   4    2   0   0    1    1]\n",
       "[1    0   1   1   0   2   1   2    2    2   2    4   1   0   -1    1]\n",
       "[1    1   0   2   1   0   1   1    1    1   0    1   4   1    1    1]\n",
       "[2    0   1   1   2   2   0   1    2    0   0    0   1   4    2    1]\n",
       "[2    1   1   1   2   1   1   1    1    0   1   -1   1   2    4    1]\n",
       "[1    1   2   0   2   2   1   0    1   -1   1    1   1   1    1    4]"
      ]
     },
     "execution_count": 77,
     "metadata": {},
     "output_type": "execute_result"
    }
   ],
   "source": [
    "lattice(DB, 16, 10)"
   ]
  },
  {
   "cell_type": "markdown",
   "id": "20058f20",
   "metadata": {
    "slideshow": {
     "slide_type": "slide"
    }
   },
   "source": [
    "Let's check our random path in the neighbor graph of $L$."
   ]
  },
  {
   "cell_type": "code",
   "execution_count": 78,
   "id": "a41c2b34",
   "metadata": {
    "slideshow": {
     "slide_type": "skip"
    }
   },
   "outputs": [],
   "source": [
    "using Plots; using Graphs; using GraphRecipes;"
   ]
  },
  {
   "cell_type": "markdown",
   "id": "42335b2b",
   "metadata": {
    "slideshow": {
     "slide_type": "fragment"
    }
   },
   "source": [
    "We need to label our lattices from $1$ to $9$."
   ]
  },
  {
   "cell_type": "code",
   "execution_count": 79,
   "id": "df3948d1",
   "metadata": {
    "slideshow": {
     "slide_type": "fragment"
    }
   },
   "outputs": [
    {
     "ename": "LoadError",
     "evalue": "UndefVarError: `R` not defined",
     "output_type": "error",
     "traceback": [
      "UndefVarError: `R` not defined",
      "",
      "Stacktrace:",
      " [1] top-level scope",
      "   @ In[79]:1"
     ]
    }
   ],
   "source": [
    "D = Dict(R[i] => i for i in 1:length(R));"
   ]
  },
  {
   "cell_type": "markdown",
   "id": "5a0089ed",
   "metadata": {
    "slideshow": {
     "slide_type": "fragment"
    }
   },
   "source": [
    "Create a directed graph on $9$ vertices and add edges."
   ]
  },
  {
   "cell_type": "code",
   "execution_count": 80,
   "id": "b11b8049",
   "metadata": {
    "slideshow": {
     "slide_type": "fragment"
    }
   },
   "outputs": [
    {
     "name": "stderr",
     "output_type": "stream",
     "text": [
      "WARNING: both Graphs and Oscar export \"edges\"; uses of it in module Main must be qualified\n"
     ]
    },
    {
     "ename": "LoadError",
     "evalue": "UndefVarError: `edges` not defined",
     "output_type": "error",
     "traceback": [
      "UndefVarError: `edges` not defined",
      "",
      "Stacktrace:",
      " [1] top-level scope",
      "   @ ./In[80]:2"
     ]
    }
   ],
   "source": [
    "Grandom = DiGraph(9)\n",
    "for e in edges\n",
    "  Graphs.add_edge!(Grandom, D[e[1]], D[e[2]])\n",
    "end\n",
    "collect(Graphs.edges(Grandom))"
   ]
  },
  {
   "cell_type": "markdown",
   "id": "86627883",
   "metadata": {
    "slideshow": {
     "slide_type": "slide"
    }
   },
   "source": [
    "Let's plot this!"
   ]
  },
  {
   "cell_type": "code",
   "execution_count": 81,
   "id": "b6c35843",
   "metadata": {
    "slideshow": {
     "slide_type": "fragment"
    }
   },
   "outputs": [
    {
     "ename": "LoadError",
     "evalue": "MethodError: reducing over an empty collection is not allowed; consider supplying `init` to the reducer",
     "output_type": "error",
     "traceback": [
      "MethodError: reducing over an empty collection is not allowed; consider supplying `init` to the reducer",
      "",
      "Stacktrace:",
      "  [1] mapreduce_empty(#unused#::typeof(identity), op::Function, T::Type)",
      "    @ Base ./reduce.jl:367",
      "  [2] reduce_empty(op::Base.MappingRF{typeof(identity), typeof(max)}, #unused#::Type{Int64})",
      "    @ Base ./reduce.jl:356",
      "  [3] reduce_empty_iter",
      "    @ ./reduce.jl:379 [inlined]",
      "  [4] mapreduce_empty_iter(f::Function, op::Function, itr::Vector{Int64}, ItrEltype::Base.HasEltype)",
      "    @ Base ./reduce.jl:375",
      "  [5] _mapreduce",
      "    @ ./reduce.jl:427 [inlined]",
      "  [6] _mapreduce_dim",
      "    @ ./reducedim.jl:365 [inlined]",
      "  [7] #mapreduce#800",
      "    @ ./reducedim.jl:357 [inlined]",
      "  [8] mapreduce",
      "    @ ./reducedim.jl:357 [inlined]",
      "  [9] #_maximum#818",
      "    @ ./reducedim.jl:999 [inlined]",
      " [10] _maximum",
      "    @ ./reducedim.jl:999 [inlined]",
      " [11] #_maximum#817",
      "    @ ./reducedim.jl:998 [inlined]",
      " [12] _maximum",
      "    @ ./reducedim.jl:998 [inlined]",
      " [13] #maximum#815",
      "    @ ./reducedim.jl:994 [inlined]",
      " [14] maximum",
      "    @ ./reducedim.jl:994 [inlined]",
      " [15] _broadcast_getindex_evalf",
      "    @ ./broadcast.jl:683 [inlined]",
      " [16] _broadcast_getindex",
      "    @ ./broadcast.jl:656 [inlined]",
      " [17] #31",
      "    @ ./broadcast.jl:1088 [inlined]",
      " [18] ntuple",
      "    @ ./ntuple.jl:49 [inlined]",
      " [19] copy(bc::Base.Broadcast.Broadcasted{Base.Broadcast.Style{Tuple}, Nothing, typeof(maximum), Tuple{Tuple{Vector{Int64}, Vector{Int64}}}})",
      "    @ Base.Broadcast ./broadcast.jl:1088",
      " [20] materialize",
      "    @ ./broadcast.jl:873 [inlined]",
      " [21] infer_size_from(::Vector{Int64}, ::Vararg{Vector{Int64}})",
      "    @ GraphRecipes ~/.julia/packages/GraphRecipes/rzVTu/src/graph_layouts.jl:3",
      " [22] macro expansion",
      "    @ ~/.julia/packages/GraphRecipes/rzVTu/src/graphs.jl:432 [inlined]",
      " [23] apply_recipe(plotattributes::AbstractDict{Symbol, Any}, g::GraphRecipes.GraphPlot)",
      "    @ GraphRecipes ~/.julia/packages/RecipesBase/BRe07/src/RecipesBase.jl:300",
      " [24] _process_userrecipes!(plt::Any, plotattributes::Any, args::Any)",
      "    @ RecipesPipeline ~/.julia/packages/RecipesPipeline/BGM3l/src/user_recipe.jl:38",
      " [25] recipe_pipeline!(plt::Any, plotattributes::Any, args::Any)",
      "    @ RecipesPipeline ~/.julia/packages/RecipesPipeline/BGM3l/src/RecipesPipeline.jl:72",
      " [26] _plot!(plt::Plots.Plot, plotattributes::Any, args::Any)",
      "    @ Plots ~/.julia/packages/Plots/sxUvK/src/plot.jl:223",
      " [27] #plot#188",
      "    @ ~/.julia/packages/Plots/sxUvK/src/plot.jl:102 [inlined]",
      " [28] plot",
      "    @ ~/.julia/packages/Plots/sxUvK/src/plot.jl:93 [inlined]",
      " [29] #graphplot#80",
      "    @ ~/.julia/packages/RecipesBase/BRe07/src/RecipesBase.jl:380 [inlined]",
      " [30] top-level scope",
      "    @ In[81]:1"
     ]
    }
   ],
   "source": [
    "graphplot(Grandom, names = 1:9, nodeshape=:circle, aspect_ratio=1, nodesize=0.2, curvature_scalar = 0, fontsize = 10)"
   ]
  },
  {
   "cell_type": "markdown",
   "id": "ead5cfee",
   "metadata": {
    "slideshow": {
     "slide_type": "slide"
    }
   },
   "source": [
    "We can be a bit more fancy:"
   ]
  },
  {
   "cell_type": "code",
   "execution_count": 82,
   "id": "19c02009",
   "metadata": {
    "slideshow": {
     "slide_type": "skip"
    }
   },
   "outputs": [
    {
     "data": {
      "application/vnd.webio.node+json": {
       "children": [],
       "instanceArgs": {
        "namespace": "html",
        "tag": "div"
       },
       "nodeType": "DOM",
       "props": {},
       "type": "node"
      },
      "text/html": [
       "<div style=\"padding: 1em; background-color: #f8d6da; border: 1px solid #f5c6cb; font-weight: bold;\">\n",
       "<p>The WebIO Jupyter extension was not detected. See the\n",
       "<a href=\"https://juliagizmos.github.io/WebIO.jl/latest/providers/ijulia/\" target=\"_blank\">\n",
       "    WebIO Jupyter integration documentation\n",
       "</a>\n",
       "for more information.\n",
       "</div>\n"
      ],
      "text/plain": [
       "WebIO._IJuliaInit()"
      ]
     },
     "metadata": {},
     "output_type": "display_data"
    }
   ],
   "source": [
    "using Interact;"
   ]
  },
  {
   "cell_type": "code",
   "execution_count": 83,
   "id": "d00fe923",
   "metadata": {
    "slideshow": {
     "slide_type": "fragment"
    }
   },
   "outputs": [
    {
     "ename": "LoadError",
     "evalue": "MethodError: reducing over an empty collection is not allowed; consider supplying `init` to the reducer",
     "output_type": "error",
     "traceback": [
      "MethodError: reducing over an empty collection is not allowed; consider supplying `init` to the reducer",
      "",
      "Stacktrace:",
      "  [1] mapreduce_empty(#unused#::typeof(identity), op::Function, T::Type)",
      "    @ Base ./reduce.jl:367",
      "  [2] reduce_empty(op::Base.MappingRF{typeof(identity), typeof(max)}, #unused#::Type{Int64})",
      "    @ Base ./reduce.jl:356",
      "  [3] reduce_empty_iter",
      "    @ ./reduce.jl:379 [inlined]",
      "  [4] mapreduce_empty_iter(f::Function, op::Function, itr::Vector{Int64}, ItrEltype::Base.HasEltype)",
      "    @ Base ./reduce.jl:375",
      "  [5] _mapreduce",
      "    @ ./reduce.jl:427 [inlined]",
      "  [6] _mapreduce_dim",
      "    @ ./reducedim.jl:365 [inlined]",
      "  [7] #mapreduce#800",
      "    @ ./reducedim.jl:357 [inlined]",
      "  [8] mapreduce",
      "    @ ./reducedim.jl:357 [inlined]",
      "  [9] #_maximum#818",
      "    @ ./reducedim.jl:999 [inlined]",
      " [10] _maximum",
      "    @ ./reducedim.jl:999 [inlined]",
      " [11] #_maximum#817",
      "    @ ./reducedim.jl:998 [inlined]",
      " [12] _maximum",
      "    @ ./reducedim.jl:998 [inlined]",
      " [13] #maximum#815",
      "    @ ./reducedim.jl:994 [inlined]",
      " [14] maximum",
      "    @ ./reducedim.jl:994 [inlined]",
      " [15] _broadcast_getindex_evalf",
      "    @ ./broadcast.jl:683 [inlined]",
      " [16] _broadcast_getindex",
      "    @ ./broadcast.jl:656 [inlined]",
      " [17] #31",
      "    @ ./broadcast.jl:1088 [inlined]",
      " [18] ntuple",
      "    @ ./ntuple.jl:49 [inlined]",
      " [19] copy(bc::Base.Broadcast.Broadcasted{Base.Broadcast.Style{Tuple}, Nothing, typeof(maximum), Tuple{Tuple{Vector{Int64}, Vector{Int64}}}})",
      "    @ Base.Broadcast ./broadcast.jl:1088",
      " [20] materialize",
      "    @ ./broadcast.jl:873 [inlined]",
      " [21] infer_size_from(::Vector{Int64}, ::Vararg{Vector{Int64}})",
      "    @ GraphRecipes ~/.julia/packages/GraphRecipes/rzVTu/src/graph_layouts.jl:3",
      " [22] macro expansion",
      "    @ ~/.julia/packages/GraphRecipes/rzVTu/src/graphs.jl:432 [inlined]",
      " [23] apply_recipe(plotattributes::AbstractDict{Symbol, Any}, g::GraphRecipes.GraphPlot)",
      "    @ GraphRecipes ~/.julia/packages/RecipesBase/BRe07/src/RecipesBase.jl:300",
      " [24] _process_userrecipes!(plt::Any, plotattributes::Any, args::Any)",
      "    @ RecipesPipeline ~/.julia/packages/RecipesPipeline/BGM3l/src/user_recipe.jl:38",
      " [25] recipe_pipeline!(plt::Any, plotattributes::Any, args::Any)",
      "    @ RecipesPipeline ~/.julia/packages/RecipesPipeline/BGM3l/src/RecipesPipeline.jl:72",
      " [26] _plot!(plt::Plots.Plot, plotattributes::Any, args::Any)",
      "    @ Plots ~/.julia/packages/Plots/sxUvK/src/plot.jl:223",
      " [27] #plot#188",
      "    @ ~/.julia/packages/Plots/sxUvK/src/plot.jl:102 [inlined]",
      " [28] plot",
      "    @ ~/.julia/packages/Plots/sxUvK/src/plot.jl:93 [inlined]",
      " [29] #graphplot#80",
      "    @ ~/.julia/packages/RecipesBase/BRe07/src/RecipesBase.jl:380 [inlined]",
      " [30] graphplot",
      "    @ ~/.julia/packages/RecipesBase/BRe07/src/RecipesBase.jl:380 [inlined]",
      " [31] (::var\"#25#26\")(i::Int64)",
      "    @ Main ./In[83]:1",
      " [32] #map#13",
      "    @ ~/.julia/packages/Observables/YdEbO/src/Observables.jl:570 [inlined]",
      " [33] map(::var\"#25#26\", ::Widget{:slider, Int64})",
      "    @ Observables ~/.julia/packages/Observables/YdEbO/src/Observables.jl:568",
      " [34] top-level scope",
      "    @ ~/.julia/packages/Widgets/RFAvq/src/manipulate.jl:25"
     ]
    }
   ],
   "source": [
    "@manipulate for i in 2:9; # does not like graph with one vertex\n",
    "    graphplot(Grandom[1:i], names = 1:i, nodeshape=:circle, aspect_ratio=1, nodesize=0.2, curvature_scalar = 0, fontsize = 10)\n",
    "  end"
   ]
  },
  {
   "cell_type": "markdown",
   "id": "3f79607d",
   "metadata": {
    "slideshow": {
     "slide_type": "slide"
    }
   },
   "source": [
    "### The neighbor graph\n",
    "\n",
    "By determining all neighbors, we can determine the whole neighbor graph!"
   ]
  },
  {
   "cell_type": "code",
   "execution_count": 84,
   "id": "082a9d0e",
   "metadata": {
    "slideshow": {
     "slide_type": "skip"
    }
   },
   "outputs": [
    {
     "data": {
      "text/plain": [
       "neighbor_graph (generic function with 1 method)"
      ]
     },
     "execution_count": 84,
     "metadata": {},
     "output_type": "execute_result"
    }
   ],
   "source": [
    "function all_neighbors_up_to_isometry(L::ZZLat, p)\n",
    "  # keep L here\n",
    "  res = [L]\n",
    "  for _v in Hecke.cartesian_product_iterator(0:(p - 1), rank(L))\n",
    "    v = QQ.(collect(_v))\n",
    "    m = ZZ(Hecke.inner_product(rational_span(L), v, v))\n",
    "    if mod(m, p) == 0\n",
    "      while true\n",
    "        w = v + QQ.([rand(-10:10) * p for i in 1:rank(L)])\n",
    "        mm = ZZ(Hecke.inner_product(rational_span(L), w, w))\n",
    "        if mod(mm, p^2) == 0\n",
    "          _L =  neighbor(L, w, p)\n",
    "          @assert isintegral(_L)\n",
    "          #if !isintegral(_L)\n",
    "            #continue\n",
    "          #else\n",
    "            if any(M -> is_isometric(M, _L), res)\n",
    "              break\n",
    "            else\n",
    "              push!(res, _L)\n",
    "              break\n",
    "            end\n",
    "          #end\n",
    "       end\n",
    "      end\n",
    "    end\n",
    "  end\n",
    "  # drop L\n",
    "  popfirst!(res)\n",
    "  return res\n",
    "end\n",
    "\n",
    "function neighbor_graph(L::ZZLat, p)\n",
    "  work_list = [L]\n",
    "  edges = []\n",
    "  vertices = [L]\n",
    "  neighbor_cache = Dict()\n",
    "  while !isempty(work_list)\n",
    "    M = pop!(work_list)\n",
    "    M_neighbors = all_neighbors_up_to_isometry(M, p)\n",
    "    neighbor_cache[M] = M_neighbors\n",
    "    for N in M_neighbors\n",
    "      if any(NN -> is_isometric(NN, N), vertices)\n",
    "        continue\n",
    "      else\n",
    "        push!(vertices, N)\n",
    "        push!(work_list, N)\n",
    "      end\n",
    "    end\n",
    "  end\n",
    "  for M in vertices\n",
    "    M_neighbors = neighbor_cache[M]\n",
    "    for N in M_neighbors\n",
    "      for MM in vertices\n",
    "        if is_isometric(N, MM)\n",
    "          push!(edges, (M, MM))\n",
    "        end\n",
    "      end\n",
    "    end\n",
    "  end\n",
    "  G = Graphs.Graph(length(vertices))\n",
    "  D = Dict(vertices[i] => i for i in 1:length(vertices))\n",
    "  for e in edges\n",
    "    Graphs.add_edge!(G, D[e[1]], D[e[2]])\n",
    "  end\n",
    "  return G\n",
    "end"
   ]
  },
  {
   "cell_type": "code",
   "execution_count": 85,
   "id": "46df893d",
   "metadata": {
    "slideshow": {
     "slide_type": "fragment"
    }
   },
   "outputs": [
    {
     "ename": "LoadError",
     "evalue": "MethodError: no method matching lift(::FqMatrix)\n\n\u001b[0mClosest candidates are:\n\u001b[0m  lift(\u001b[91m::Ring\u001b[39m, \u001b[91m::Union{fpMPolyRingElem, zzModMPolyRingElem}\u001b[39m)\n\u001b[0m\u001b[90m   @\u001b[39m \u001b[36mOscar\u001b[39m \u001b[90m/datadisk/Computer/Mathematics_software/PackagesForJulia/Oscar.jl/experimental/ModStd/\u001b[39m\u001b[90m\u001b[4mModStdQ.jl:233\u001b[24m\u001b[39m\n\u001b[0m  lift(\u001b[91m::Singular.sideal{T}\u001b[39m, \u001b[91m::Singular.sideal{T}\u001b[39m) where T\n\u001b[0m\u001b[90m   @\u001b[39m \u001b[32mSingular\u001b[39m \u001b[90m~/.julia/packages/Singular/tZxbi/src/ideal/\u001b[39m\u001b[90m\u001b[4mideal.jl:956\u001b[24m\u001b[39m\n\u001b[0m  lift(\u001b[91m::Singular.sideal{T}\u001b[39m, \u001b[91m::Singular.sideal{T}\u001b[39m, \u001b[91m::Bool\u001b[39m, \u001b[91m::Bool\u001b[39m, \u001b[91m::Bool\u001b[39m) where T\n\u001b[0m\u001b[90m   @\u001b[39m \u001b[32mSingular\u001b[39m \u001b[90m~/.julia/packages/Singular/tZxbi/src/ideal/\u001b[39m\u001b[90m\u001b[4mideal.jl:981\u001b[24m\u001b[39m\n\u001b[0m  ...\n",
     "output_type": "error",
     "traceback": [
      "MethodError: no method matching lift(::FqMatrix)\n\n\u001b[0mClosest candidates are:\n\u001b[0m  lift(\u001b[91m::Ring\u001b[39m, \u001b[91m::Union{fpMPolyRingElem, zzModMPolyRingElem}\u001b[39m)\n\u001b[0m\u001b[90m   @\u001b[39m \u001b[36mOscar\u001b[39m \u001b[90m/datadisk/Computer/Mathematics_software/PackagesForJulia/Oscar.jl/experimental/ModStd/\u001b[39m\u001b[90m\u001b[4mModStdQ.jl:233\u001b[24m\u001b[39m\n\u001b[0m  lift(\u001b[91m::Singular.sideal{T}\u001b[39m, \u001b[91m::Singular.sideal{T}\u001b[39m) where T\n\u001b[0m\u001b[90m   @\u001b[39m \u001b[32mSingular\u001b[39m \u001b[90m~/.julia/packages/Singular/tZxbi/src/ideal/\u001b[39m\u001b[90m\u001b[4mideal.jl:956\u001b[24m\u001b[39m\n\u001b[0m  lift(\u001b[91m::Singular.sideal{T}\u001b[39m, \u001b[91m::Singular.sideal{T}\u001b[39m, \u001b[91m::Bool\u001b[39m, \u001b[91m::Bool\u001b[39m, \u001b[91m::Bool\u001b[39m) where T\n\u001b[0m\u001b[90m   @\u001b[39m \u001b[32mSingular\u001b[39m \u001b[90m~/.julia/packages/Singular/tZxbi/src/ideal/\u001b[39m\u001b[90m\u001b[4mideal.jl:981\u001b[24m\u001b[39m\n\u001b[0m  ...\n",
      "",
      "Stacktrace:",
      " [1] neighbor(L::ZZLat, v::Vector{QQFieldElem}, p::Int64)",
      "   @ Main ./In[70]:5",
      " [2] all_neighbors_up_to_isometry(L::ZZLat, p::Int64)",
      "   @ Main ./In[84]:12",
      " [3] top-level scope",
      "   @ In[85]:1"
     ]
    }
   ],
   "source": [
    "all_neighbors_up_to_isometry(L, 5)"
   ]
  },
  {
   "cell_type": "code",
   "execution_count": 86,
   "id": "61e79ead",
   "metadata": {
    "slideshow": {
     "slide_type": "fragment"
    }
   },
   "outputs": [
    {
     "ename": "LoadError",
     "evalue": "MethodError: no method matching lift(::FqMatrix)\n\n\u001b[0mClosest candidates are:\n\u001b[0m  lift(\u001b[91m::Ring\u001b[39m, \u001b[91m::Union{fpMPolyRingElem, zzModMPolyRingElem}\u001b[39m)\n\u001b[0m\u001b[90m   @\u001b[39m \u001b[36mOscar\u001b[39m \u001b[90m/datadisk/Computer/Mathematics_software/PackagesForJulia/Oscar.jl/experimental/ModStd/\u001b[39m\u001b[90m\u001b[4mModStdQ.jl:233\u001b[24m\u001b[39m\n\u001b[0m  lift(\u001b[91m::Singular.sideal{T}\u001b[39m, \u001b[91m::Singular.sideal{T}\u001b[39m) where T\n\u001b[0m\u001b[90m   @\u001b[39m \u001b[32mSingular\u001b[39m \u001b[90m~/.julia/packages/Singular/tZxbi/src/ideal/\u001b[39m\u001b[90m\u001b[4mideal.jl:956\u001b[24m\u001b[39m\n\u001b[0m  lift(\u001b[91m::Singular.sideal{T}\u001b[39m, \u001b[91m::Singular.sideal{T}\u001b[39m, \u001b[91m::Bool\u001b[39m, \u001b[91m::Bool\u001b[39m, \u001b[91m::Bool\u001b[39m) where T\n\u001b[0m\u001b[90m   @\u001b[39m \u001b[32mSingular\u001b[39m \u001b[90m~/.julia/packages/Singular/tZxbi/src/ideal/\u001b[39m\u001b[90m\u001b[4mideal.jl:981\u001b[24m\u001b[39m\n\u001b[0m  ...\n",
     "output_type": "error",
     "traceback": [
      "MethodError: no method matching lift(::FqMatrix)\n\n\u001b[0mClosest candidates are:\n\u001b[0m  lift(\u001b[91m::Ring\u001b[39m, \u001b[91m::Union{fpMPolyRingElem, zzModMPolyRingElem}\u001b[39m)\n\u001b[0m\u001b[90m   @\u001b[39m \u001b[36mOscar\u001b[39m \u001b[90m/datadisk/Computer/Mathematics_software/PackagesForJulia/Oscar.jl/experimental/ModStd/\u001b[39m\u001b[90m\u001b[4mModStdQ.jl:233\u001b[24m\u001b[39m\n\u001b[0m  lift(\u001b[91m::Singular.sideal{T}\u001b[39m, \u001b[91m::Singular.sideal{T}\u001b[39m) where T\n\u001b[0m\u001b[90m   @\u001b[39m \u001b[32mSingular\u001b[39m \u001b[90m~/.julia/packages/Singular/tZxbi/src/ideal/\u001b[39m\u001b[90m\u001b[4mideal.jl:956\u001b[24m\u001b[39m\n\u001b[0m  lift(\u001b[91m::Singular.sideal{T}\u001b[39m, \u001b[91m::Singular.sideal{T}\u001b[39m, \u001b[91m::Bool\u001b[39m, \u001b[91m::Bool\u001b[39m, \u001b[91m::Bool\u001b[39m) where T\n\u001b[0m\u001b[90m   @\u001b[39m \u001b[32mSingular\u001b[39m \u001b[90m~/.julia/packages/Singular/tZxbi/src/ideal/\u001b[39m\u001b[90m\u001b[4mideal.jl:981\u001b[24m\u001b[39m\n\u001b[0m  ...\n",
      "",
      "Stacktrace:",
      " [1] neighbor(L::ZZLat, v::Vector{QQFieldElem}, p::Int64)",
      "   @ Main ./In[70]:5",
      " [2] all_neighbors_up_to_isometry(L::ZZLat, p::Int64)",
      "   @ Main ./In[84]:12",
      " [3] neighbor_graph(L::ZZLat, p::Int64)",
      "   @ Main ./In[84]:40",
      " [4] top-level scope",
      "   @ In[86]:1"
     ]
    }
   ],
   "source": [
    "G = neighbor_graph(L, 5)"
   ]
  },
  {
   "cell_type": "markdown",
   "id": "07d99095",
   "metadata": {
    "slideshow": {
     "slide_type": "slide"
    }
   },
   "source": [
    "Let's plot this!"
   ]
  },
  {
   "cell_type": "code",
   "execution_count": 87,
   "id": "1e5a0b1d",
   "metadata": {
    "slideshow": {
     "slide_type": "fragment"
    }
   },
   "outputs": [
    {
     "ename": "LoadError",
     "evalue": "UndefVarError: `G` not defined",
     "output_type": "error",
     "traceback": [
      "UndefVarError: `G` not defined",
      "",
      "Stacktrace:",
      " [1] top-level scope",
      "   @ In[87]:1"
     ]
    }
   ],
   "source": [
    "graphplot(G, names = 1:length(G), nodeshape=:circle, aspect_ratio=1, nodesize=0.2, curvature_scalar = 0, fontsize = 10)"
   ]
  },
  {
   "cell_type": "markdown",
   "id": "3113f82f",
   "metadata": {
    "slideshow": {
     "slide_type": "slide"
    }
   },
   "source": [
    "### Changing the prime\n",
    "\n",
    "What happens if we choose a different (good) prime?"
   ]
  },
  {
   "cell_type": "code",
   "execution_count": 88,
   "id": "8117bdbd",
   "metadata": {
    "slideshow": {
     "slide_type": "fragment"
    }
   },
   "outputs": [
    {
     "ename": "LoadError",
     "evalue": "MethodError: no method matching lift(::FqMatrix)\n\n\u001b[0mClosest candidates are:\n\u001b[0m  lift(\u001b[91m::Ring\u001b[39m, \u001b[91m::Union{fpMPolyRingElem, zzModMPolyRingElem}\u001b[39m)\n\u001b[0m\u001b[90m   @\u001b[39m \u001b[36mOscar\u001b[39m \u001b[90m/datadisk/Computer/Mathematics_software/PackagesForJulia/Oscar.jl/experimental/ModStd/\u001b[39m\u001b[90m\u001b[4mModStdQ.jl:233\u001b[24m\u001b[39m\n\u001b[0m  lift(\u001b[91m::Singular.sideal{T}\u001b[39m, \u001b[91m::Singular.sideal{T}\u001b[39m) where T\n\u001b[0m\u001b[90m   @\u001b[39m \u001b[32mSingular\u001b[39m \u001b[90m~/.julia/packages/Singular/tZxbi/src/ideal/\u001b[39m\u001b[90m\u001b[4mideal.jl:956\u001b[24m\u001b[39m\n\u001b[0m  lift(\u001b[91m::Singular.sideal{T}\u001b[39m, \u001b[91m::Singular.sideal{T}\u001b[39m, \u001b[91m::Bool\u001b[39m, \u001b[91m::Bool\u001b[39m, \u001b[91m::Bool\u001b[39m) where T\n\u001b[0m\u001b[90m   @\u001b[39m \u001b[32mSingular\u001b[39m \u001b[90m~/.julia/packages/Singular/tZxbi/src/ideal/\u001b[39m\u001b[90m\u001b[4mideal.jl:981\u001b[24m\u001b[39m\n\u001b[0m  ...\n",
     "output_type": "error",
     "traceback": [
      "MethodError: no method matching lift(::FqMatrix)\n\n\u001b[0mClosest candidates are:\n\u001b[0m  lift(\u001b[91m::Ring\u001b[39m, \u001b[91m::Union{fpMPolyRingElem, zzModMPolyRingElem}\u001b[39m)\n\u001b[0m\u001b[90m   @\u001b[39m \u001b[36mOscar\u001b[39m \u001b[90m/datadisk/Computer/Mathematics_software/PackagesForJulia/Oscar.jl/experimental/ModStd/\u001b[39m\u001b[90m\u001b[4mModStdQ.jl:233\u001b[24m\u001b[39m\n\u001b[0m  lift(\u001b[91m::Singular.sideal{T}\u001b[39m, \u001b[91m::Singular.sideal{T}\u001b[39m) where T\n\u001b[0m\u001b[90m   @\u001b[39m \u001b[32mSingular\u001b[39m \u001b[90m~/.julia/packages/Singular/tZxbi/src/ideal/\u001b[39m\u001b[90m\u001b[4mideal.jl:956\u001b[24m\u001b[39m\n\u001b[0m  lift(\u001b[91m::Singular.sideal{T}\u001b[39m, \u001b[91m::Singular.sideal{T}\u001b[39m, \u001b[91m::Bool\u001b[39m, \u001b[91m::Bool\u001b[39m, \u001b[91m::Bool\u001b[39m) where T\n\u001b[0m\u001b[90m   @\u001b[39m \u001b[32mSingular\u001b[39m \u001b[90m~/.julia/packages/Singular/tZxbi/src/ideal/\u001b[39m\u001b[90m\u001b[4mideal.jl:981\u001b[24m\u001b[39m\n\u001b[0m  ...\n",
      "",
      "Stacktrace:",
      " [1] neighbor(L::ZZLat, v::Vector{QQFieldElem}, p::Int64)",
      "   @ Main ./In[70]:5",
      " [2] all_neighbors_up_to_isometry(L::ZZLat, p::Int64)",
      "   @ Main ./In[84]:12",
      " [3] neighbor_graph(L::ZZLat, p::Int64)",
      "   @ Main ./In[84]:40",
      " [4] top-level scope",
      "   @ In[88]:1"
     ]
    }
   ],
   "source": [
    "G = neighbor_graph(L, 7)"
   ]
  },
  {
   "cell_type": "code",
   "execution_count": 89,
   "id": "f766214e",
   "metadata": {
    "slideshow": {
     "slide_type": "fragment"
    }
   },
   "outputs": [
    {
     "ename": "LoadError",
     "evalue": "UndefVarError: `G` not defined",
     "output_type": "error",
     "traceback": [
      "UndefVarError: `G` not defined",
      "",
      "Stacktrace:",
      " [1] top-level scope",
      "   @ In[89]:1"
     ]
    }
   ],
   "source": [
    "graphplot(G, names = 1:length(G), nodeshape=:circle, aspect_ratio=1, nodesize=0.2, curvature_scalar = 0, fontsize = 10)"
   ]
  },
  {
   "cell_type": "markdown",
   "id": "0a0b31ea",
   "metadata": {
    "slideshow": {
     "slide_type": "fragment"
    }
   },
   "source": [
    "This is a different graph! For example, vertex $1$ has degree $3$."
   ]
  },
  {
   "cell_type": "markdown",
   "id": "4ef79d65",
   "metadata": {
    "slideshow": {
     "slide_type": "slide"
    }
   },
   "source": [
    "Something interesting for $p = 13$"
   ]
  },
  {
   "cell_type": "code",
   "execution_count": 90,
   "id": "267ef777",
   "metadata": {
    "slideshow": {
     "slide_type": "fragment"
    }
   },
   "outputs": [
    {
     "ename": "LoadError",
     "evalue": "MethodError: no method matching lift(::FqMatrix)\n\n\u001b[0mClosest candidates are:\n\u001b[0m  lift(\u001b[91m::Ring\u001b[39m, \u001b[91m::Union{fpMPolyRingElem, zzModMPolyRingElem}\u001b[39m)\n\u001b[0m\u001b[90m   @\u001b[39m \u001b[36mOscar\u001b[39m \u001b[90m/datadisk/Computer/Mathematics_software/PackagesForJulia/Oscar.jl/experimental/ModStd/\u001b[39m\u001b[90m\u001b[4mModStdQ.jl:233\u001b[24m\u001b[39m\n\u001b[0m  lift(\u001b[91m::Singular.sideal{T}\u001b[39m, \u001b[91m::Singular.sideal{T}\u001b[39m) where T\n\u001b[0m\u001b[90m   @\u001b[39m \u001b[32mSingular\u001b[39m \u001b[90m~/.julia/packages/Singular/tZxbi/src/ideal/\u001b[39m\u001b[90m\u001b[4mideal.jl:956\u001b[24m\u001b[39m\n\u001b[0m  lift(\u001b[91m::Singular.sideal{T}\u001b[39m, \u001b[91m::Singular.sideal{T}\u001b[39m, \u001b[91m::Bool\u001b[39m, \u001b[91m::Bool\u001b[39m, \u001b[91m::Bool\u001b[39m) where T\n\u001b[0m\u001b[90m   @\u001b[39m \u001b[32mSingular\u001b[39m \u001b[90m~/.julia/packages/Singular/tZxbi/src/ideal/\u001b[39m\u001b[90m\u001b[4mideal.jl:981\u001b[24m\u001b[39m\n\u001b[0m  ...\n",
     "output_type": "error",
     "traceback": [
      "MethodError: no method matching lift(::FqMatrix)\n\n\u001b[0mClosest candidates are:\n\u001b[0m  lift(\u001b[91m::Ring\u001b[39m, \u001b[91m::Union{fpMPolyRingElem, zzModMPolyRingElem}\u001b[39m)\n\u001b[0m\u001b[90m   @\u001b[39m \u001b[36mOscar\u001b[39m \u001b[90m/datadisk/Computer/Mathematics_software/PackagesForJulia/Oscar.jl/experimental/ModStd/\u001b[39m\u001b[90m\u001b[4mModStdQ.jl:233\u001b[24m\u001b[39m\n\u001b[0m  lift(\u001b[91m::Singular.sideal{T}\u001b[39m, \u001b[91m::Singular.sideal{T}\u001b[39m) where T\n\u001b[0m\u001b[90m   @\u001b[39m \u001b[32mSingular\u001b[39m \u001b[90m~/.julia/packages/Singular/tZxbi/src/ideal/\u001b[39m\u001b[90m\u001b[4mideal.jl:956\u001b[24m\u001b[39m\n\u001b[0m  lift(\u001b[91m::Singular.sideal{T}\u001b[39m, \u001b[91m::Singular.sideal{T}\u001b[39m, \u001b[91m::Bool\u001b[39m, \u001b[91m::Bool\u001b[39m, \u001b[91m::Bool\u001b[39m) where T\n\u001b[0m\u001b[90m   @\u001b[39m \u001b[32mSingular\u001b[39m \u001b[90m~/.julia/packages/Singular/tZxbi/src/ideal/\u001b[39m\u001b[90m\u001b[4mideal.jl:981\u001b[24m\u001b[39m\n\u001b[0m  ...\n",
      "",
      "Stacktrace:",
      " [1] neighbor(L::ZZLat, v::Vector{QQFieldElem}, p::Int64)",
      "   @ Main ./In[70]:5",
      " [2] all_neighbors_up_to_isometry(L::ZZLat, p::Int64)",
      "   @ Main ./In[84]:12",
      " [3] neighbor_graph(L::ZZLat, p::Int64)",
      "   @ Main ./In[84]:40",
      " [4] top-level scope",
      "   @ In[90]:1"
     ]
    }
   ],
   "source": [
    "G = neighbor_graph(L, 13)"
   ]
  },
  {
   "cell_type": "code",
   "execution_count": 91,
   "id": "e6530df6",
   "metadata": {
    "slideshow": {
     "slide_type": "fragment"
    }
   },
   "outputs": [
    {
     "ename": "LoadError",
     "evalue": "UndefVarError: `G` not defined",
     "output_type": "error",
     "traceback": [
      "UndefVarError: `G` not defined",
      "",
      "Stacktrace:",
      " [1] top-level scope",
      "   @ In[91]:1"
     ]
    }
   ],
   "source": [
    "graphplot(G, names = 1:length(G), nodeshape=:circle, aspect_ratio=1, nodesize=0.2, curvature_scalar = 0, fontsize = 10)"
   ]
  },
  {
   "cell_type": "markdown",
   "id": "bb829125",
   "metadata": {
    "slideshow": {
     "slide_type": "fragment"
    }
   },
   "source": [
    "There is a vertex with degree $8$!. Since $8 + 1 = 9 = \\lvert \\operatorname{gen}(L)\\rvert$, this lattice and all its neighbors are representative for all classes in the genus!"
   ]
  },
  {
   "cell_type": "markdown",
   "id": "f7e28a06",
   "metadata": {
    "slideshow": {
     "slide_type": "slide"
    }
   },
   "source": [
    "## Another example"
   ]
  },
  {
   "cell_type": "code",
   "execution_count": 92,
   "id": "b5768f55",
   "metadata": {
    "slideshow": {
     "slide_type": "fragment"
    }
   },
   "outputs": [
    {
     "data": {
      "text/plain": [
       "Integer lattice of rank 3 and degree 3\n",
       "with gram matrix\n",
       "[2   0     1]\n",
       "[0   2     0]\n",
       "[1   0   496]"
      ]
     },
     "execution_count": 92,
     "metadata": {},
     "output_type": "execute_result"
    }
   ],
   "source": [
    "L = Zlattice(; gram = matrix(ZZ, [[2, 0, 1], [0, 2, 0], [1, 0, 496]])) # 3.1982.3964.50.1"
   ]
  },
  {
   "cell_type": "code",
   "execution_count": 93,
   "id": "3a126215",
   "metadata": {
    "slideshow": {
     "slide_type": "fragment"
    }
   },
   "outputs": [
    {
     "data": {
      "text/plain": [
       "-1 * 2 * 991"
      ]
     },
     "execution_count": 93,
     "metadata": {},
     "output_type": "execute_result"
    }
   ],
   "source": [
    "factor(ZZ(discriminant(L)))"
   ]
  },
  {
   "cell_type": "code",
   "execution_count": 94,
   "id": "cd23b4f1",
   "metadata": {
    "slideshow": {
     "slide_type": "fragment"
    }
   },
   "outputs": [
    {
     "ename": "LoadError",
     "evalue": "MethodError: no method matching lift(::FqMatrix)\n\n\u001b[0mClosest candidates are:\n\u001b[0m  lift(\u001b[91m::Ring\u001b[39m, \u001b[91m::Union{fpMPolyRingElem, zzModMPolyRingElem}\u001b[39m)\n\u001b[0m\u001b[90m   @\u001b[39m \u001b[36mOscar\u001b[39m \u001b[90m/datadisk/Computer/Mathematics_software/PackagesForJulia/Oscar.jl/experimental/ModStd/\u001b[39m\u001b[90m\u001b[4mModStdQ.jl:233\u001b[24m\u001b[39m\n\u001b[0m  lift(\u001b[91m::Singular.sideal{T}\u001b[39m, \u001b[91m::Singular.sideal{T}\u001b[39m) where T\n\u001b[0m\u001b[90m   @\u001b[39m \u001b[32mSingular\u001b[39m \u001b[90m~/.julia/packages/Singular/tZxbi/src/ideal/\u001b[39m\u001b[90m\u001b[4mideal.jl:956\u001b[24m\u001b[39m\n\u001b[0m  lift(\u001b[91m::Singular.sideal{T}\u001b[39m, \u001b[91m::Singular.sideal{T}\u001b[39m, \u001b[91m::Bool\u001b[39m, \u001b[91m::Bool\u001b[39m, \u001b[91m::Bool\u001b[39m) where T\n\u001b[0m\u001b[90m   @\u001b[39m \u001b[32mSingular\u001b[39m \u001b[90m~/.julia/packages/Singular/tZxbi/src/ideal/\u001b[39m\u001b[90m\u001b[4mideal.jl:981\u001b[24m\u001b[39m\n\u001b[0m  ...\n",
     "output_type": "error",
     "traceback": [
      "MethodError: no method matching lift(::FqMatrix)\n\n\u001b[0mClosest candidates are:\n\u001b[0m  lift(\u001b[91m::Ring\u001b[39m, \u001b[91m::Union{fpMPolyRingElem, zzModMPolyRingElem}\u001b[39m)\n\u001b[0m\u001b[90m   @\u001b[39m \u001b[36mOscar\u001b[39m \u001b[90m/datadisk/Computer/Mathematics_software/PackagesForJulia/Oscar.jl/experimental/ModStd/\u001b[39m\u001b[90m\u001b[4mModStdQ.jl:233\u001b[24m\u001b[39m\n\u001b[0m  lift(\u001b[91m::Singular.sideal{T}\u001b[39m, \u001b[91m::Singular.sideal{T}\u001b[39m) where T\n\u001b[0m\u001b[90m   @\u001b[39m \u001b[32mSingular\u001b[39m \u001b[90m~/.julia/packages/Singular/tZxbi/src/ideal/\u001b[39m\u001b[90m\u001b[4mideal.jl:956\u001b[24m\u001b[39m\n\u001b[0m  lift(\u001b[91m::Singular.sideal{T}\u001b[39m, \u001b[91m::Singular.sideal{T}\u001b[39m, \u001b[91m::Bool\u001b[39m, \u001b[91m::Bool\u001b[39m, \u001b[91m::Bool\u001b[39m) where T\n\u001b[0m\u001b[90m   @\u001b[39m \u001b[32mSingular\u001b[39m \u001b[90m~/.julia/packages/Singular/tZxbi/src/ideal/\u001b[39m\u001b[90m\u001b[4mideal.jl:981\u001b[24m\u001b[39m\n\u001b[0m  ...\n",
      "",
      "Stacktrace:",
      " [1] neighbor(L::ZZLat, v::Vector{QQFieldElem}, p::Int64)",
      "   @ Main ./In[70]:5",
      " [2] all_neighbors_up_to_isometry(L::ZZLat, p::Int64)",
      "   @ Main ./In[84]:12",
      " [3] neighbor_graph(L::ZZLat, p::Int64)",
      "   @ Main ./In[84]:40",
      " [4] top-level scope",
      "   @ In[94]:1"
     ]
    }
   ],
   "source": [
    "G = neighbor_graph(L, 3)"
   ]
  },
  {
   "cell_type": "code",
   "execution_count": 95,
   "id": "b3053866",
   "metadata": {
    "slideshow": {
     "slide_type": "slide"
    }
   },
   "outputs": [
    {
     "ename": "LoadError",
     "evalue": "UndefVarError: `G` not defined",
     "output_type": "error",
     "traceback": [
      "UndefVarError: `G` not defined",
      "",
      "Stacktrace:",
      " [1] top-level scope",
      "   @ In[95]:1"
     ]
    }
   ],
   "source": [
    "graphplot(G, names = 1:length(G), nodeshape=:circle, markersize=.12, aspect_ratio=1, nodesize=0.15, curvature_scalar = 0, fontsize = 10, size = (800, 800))"
   ]
  },
  {
   "cell_type": "markdown",
   "id": "6a81472a",
   "metadata": {
    "slideshow": {
     "slide_type": "slide"
    }
   },
   "source": [
    "## Enumerating lattices\n",
    "\n",
    "Question: Find the set $S$ of all (up to isometry) lattices $L$ with certain properties.\n",
    "\n",
    "For example: Find all positive definite integer lattices $L$ with $\\operatorname{rank}(L) = 4$ and $\\lvert \\det(L) \\rvert \\leq 50$.\n",
    "\n",
    "This is a finite set! Can we compute it?"
   ]
  },
  {
   "cell_type": "markdown",
   "id": "dad99444",
   "metadata": {
    "slideshow": {
     "slide_type": "fragment"
    }
   },
   "source": [
    "1. Find $\\mathcal{G} = \\{ \\operatorname{genus}(L) \\mid L \\in S \\}$. This enumeration of genera can be done using only the rank and determinant bound.\n",
    "2. For each $G \\in \\mathcal{G}$, find the isometry classes of lattices in $G$."
   ]
  },
  {
   "cell_type": "markdown",
   "id": "8c47e3f4",
   "metadata": {
    "slideshow": {
     "slide_type": "slide"
    }
   },
   "source": [
    "The genera of positive definite integer lattices of determinant $1$:"
   ]
  },
  {
   "cell_type": "code",
   "execution_count": 96,
   "id": "14395bea",
   "metadata": {
    "slideshow": {
     "slide_type": "fragment"
    }
   },
   "outputs": [
    {
     "data": {
      "text/plain": [
       "1-element Vector{ZZGenus}:\n",
       " Genus symbol: I_(4, 0)"
      ]
     },
     "execution_count": 96,
     "metadata": {},
     "output_type": "execute_result"
    }
   ],
   "source": [
    "G, = integer_genera((4, 0), 1)"
   ]
  },
  {
   "cell_type": "code",
   "execution_count": 97,
   "id": "b7e3044a",
   "metadata": {
    "slideshow": {
     "slide_type": "fragment"
    }
   },
   "outputs": [
    {
     "data": {
      "text/plain": [
       "Integer lattice of rank 4 and degree 4\n",
       "with gram matrix\n",
       "[4   0   3   2]\n",
       "[0   2   1   1]\n",
       "[3   1   3   2]\n",
       "[2   1   2   2]"
      ]
     },
     "execution_count": 97,
     "metadata": {},
     "output_type": "execute_result"
    }
   ],
   "source": [
    "L = representative(G)"
   ]
  },
  {
   "cell_type": "code",
   "execution_count": 98,
   "id": "0aebeefc",
   "metadata": {
    "slideshow": {
     "slide_type": "fragment"
    }
   },
   "outputs": [
    {
     "data": {
      "text/plain": [
       "1-element Vector{ZZLat}:\n",
       " Integer lattice of rank 4 and degree 4"
      ]
     },
     "execution_count": 98,
     "metadata": {},
     "output_type": "execute_result"
    }
   ],
   "source": [
    "genus_representatives(L)"
   ]
  },
  {
   "cell_type": "markdown",
   "id": "e07186d6",
   "metadata": {
    "slideshow": {
     "slide_type": "slide"
    }
   },
   "source": [
    "Now for all possible determinants:"
   ]
  },
  {
   "cell_type": "code",
   "execution_count": 99,
   "id": "d786b239",
   "metadata": {
    "slideshow": {
     "slide_type": "fragment"
    }
   },
   "outputs": [
    {
     "data": {
      "text/plain": [
       "645"
      ]
     },
     "execution_count": 99,
     "metadata": {},
     "output_type": "execute_result"
    }
   ],
   "source": [
    "res = []\n",
    "for i in 1:50\n",
    "    for G in integer_genera((4, 0), i)\n",
    "        append!(res, genus_representatives(representative(G)))\n",
    "    end\n",
    "end\n",
    "length(res)"
   ]
  },
  {
   "cell_type": "markdown",
   "id": "018d43be",
   "metadata": {
    "slideshow": {
     "slide_type": "fragment"
    }
   },
   "source": [
    "Thus (up to isometry), there are 645 positive definite integer lattices with rank $4$ and determinant bounded by $50$."
   ]
  },
  {
   "cell_type": "markdown",
   "id": "21be346f",
   "metadata": {
    "slideshow": {
     "slide_type": "slide"
    }
   },
   "source": [
    "# Torsion quadratic modules"
   ]
  },
  {
   "cell_type": "markdown",
   "id": "9d478d0b",
   "metadata": {
    "slideshow": {
     "slide_type": "fragment"
    }
   },
   "source": [
    "A torsion quadratic module is the quotient $T = L/M$ of two integer lattices $L$ and $M$ of the same rank, equipped with induced maps\n",
    "\n",
    "$$ b \\colon T \\times T \\to \\mathbf{Q}/n\\mathbf{Z}$$\n",
    "\n",
    "\n",
    "and\n",
    "\n",
    "$$ q \\colon T \\to \\mathbf{Q}/m\\mathbf{Z}.$$\n",
    "\n",
    "Arise naturally when\n",
    "- constructing overlattices, or\n",
    "- gluing lattices together.\n",
    "\n",
    "If $L$ is an integral lattice with dual $L^\\vee$, then the torsion quadratic module $D_L = L^\\vee/L$ is the *discriminant group* of $L$."
   ]
  },
  {
   "cell_type": "markdown",
   "id": "ede8d6fa",
   "metadata": {
    "slideshow": {
     "slide_type": "slide"
    }
   },
   "source": [
    "### Construction and properties"
   ]
  },
  {
   "cell_type": "code",
   "execution_count": 100,
   "id": "14e06b72",
   "metadata": {
    "slideshow": {
     "slide_type": "fragment"
    }
   },
   "outputs": [
    {
     "data": {
      "text/plain": [
       "Integer lattice of rank 8 and degree 8\n",
       "with gram matrix\n",
       "[ 2   -1    0    0    0    0    0    0]\n",
       "[-1    2   -1    0    0    0    0    0]\n",
       "[ 0   -1    2   -1    0    0    0   -1]\n",
       "[ 0    0   -1    2   -1    0    0    0]\n",
       "[ 0    0    0   -1    2   -1    0    0]\n",
       "[ 0    0    0    0   -1    2   -1    0]\n",
       "[ 0    0    0    0    0   -1    2    0]\n",
       "[ 0    0   -1    0    0    0    0    2]"
      ]
     },
     "execution_count": 100,
     "metadata": {},
     "output_type": "execute_result"
    }
   ],
   "source": [
    "L = root_lattice(:E, 8)"
   ]
  },
  {
   "cell_type": "code",
   "execution_count": 101,
   "id": "3a05822a",
   "metadata": {
    "slideshow": {
     "slide_type": "fragment"
    }
   },
   "outputs": [],
   "source": [
    "M = 2*L;"
   ]
  },
  {
   "cell_type": "code",
   "execution_count": 102,
   "id": "0dc45ee6",
   "metadata": {
    "slideshow": {
     "slide_type": "fragment"
    }
   },
   "outputs": [
    {
     "data": {
      "text/plain": [
       "Finite quadratic module\n",
       "  over integer ring\n",
       "Abelian group: (Z/2)^8\n",
       "Bilinear value module: Q/2Z\n",
       "Quadratic value module: Q/4Z\n",
       "Gram matrix quadratic form: \n",
       "[2   1   0   0   0   0   0   0]\n",
       "[1   2   1   0   0   0   0   0]\n",
       "[0   1   2   1   0   0   0   1]\n",
       "[0   0   1   2   1   0   0   0]\n",
       "[0   0   0   1   2   1   0   0]\n",
       "[0   0   0   0   1   2   1   0]\n",
       "[0   0   0   0   0   1   2   0]\n",
       "[0   0   1   0   0   0   0   2]"
      ]
     },
     "execution_count": 102,
     "metadata": {},
     "output_type": "execute_result"
    }
   ],
   "source": [
    "T = torsion_quadratic_module(L, M)"
   ]
  },
  {
   "cell_type": "code",
   "execution_count": 103,
   "id": "a5cf5e76",
   "metadata": {
    "slideshow": {
     "slide_type": "fragment"
    }
   },
   "outputs": [
    {
     "data": {
      "text/plain": [
       "(2, 4)"
      ]
     },
     "execution_count": 103,
     "metadata": {},
     "output_type": "execute_result"
    }
   ],
   "source": [
    "modulus_bilinear_form(T), modulus_quadratic_form(T)"
   ]
  },
  {
   "cell_type": "code",
   "execution_count": 104,
   "id": "fd5ad457",
   "metadata": {},
   "outputs": [
    {
     "name": "stdout",
     "output_type": "stream",
     "text": [
      "ZZRingElem[2, 2, 2, 2, 2, 2, 2, 2]"
     ]
    }
   ],
   "source": [
    "elementary_divisors(T) |> print"
   ]
  },
  {
   "cell_type": "markdown",
   "id": "255dcc08",
   "metadata": {
    "slideshow": {
     "slide_type": "slide"
    }
   },
   "source": [
    "Let's construct a lattice between $M$ and $L$."
   ]
  },
  {
   "cell_type": "code",
   "execution_count": 105,
   "id": "b826fdc6",
   "metadata": {
    "slideshow": {
     "slide_type": "fragment"
    }
   },
   "outputs": [
    {
     "data": {
      "text/plain": [
       "4"
      ]
     },
     "execution_count": 105,
     "metadata": {},
     "output_type": "execute_result"
    }
   ],
   "source": [
    "S, StoT = subgroup(T, [gen(T, 1), gen(T, 2)]); order(S)"
   ]
  },
  {
   "cell_type": "markdown",
   "id": "24f4309e",
   "metadata": {
    "slideshow": {
     "slide_type": "fragment"
    }
   },
   "source": [
    "Thus $S \\leq L/M$ corresonds to $M \\subseteq N \\subseteq L$ with index $4$.\n",
    "\n",
    "To find $N$ we need to lift generators along $L \\to L/M$."
   ]
  },
  {
   "cell_type": "code",
   "execution_count": 106,
   "id": "c2470ef3",
   "metadata": {},
   "outputs": [
    {
     "data": {
      "text/plain": [
       "2-element Vector{Vector{QQFieldElem}}:\n",
       " [1, 0, 0, 0, 0, 0, 0, 0]\n",
       " [0, 1, 0, 0, 0, 0, 0, 0]"
      ]
     },
     "execution_count": 106,
     "metadata": {},
     "output_type": "execute_result"
    }
   ],
   "source": [
    "lift.(gens(S))"
   ]
  },
  {
   "cell_type": "code",
   "execution_count": 107,
   "id": "b6667fc9",
   "metadata": {
    "slideshow": {
     "slide_type": "fragment"
    }
   },
   "outputs": [
    {
     "data": {
      "text/plain": [
       "Integer lattice of rank 8 and degree 8\n",
       "with gram matrix\n",
       "[ 2   -1    0    0    0    0    0    0]\n",
       "[-1    2   -2    0    0    0    0    0]\n",
       "[ 0   -2    8   -4    0    0    0   -4]\n",
       "[ 0    0   -4    8   -4    0    0    0]\n",
       "[ 0    0    0   -4    8   -4    0    0]\n",
       "[ 0    0    0    0   -4    8   -4    0]\n",
       "[ 0    0    0    0    0   -4    8    0]\n",
       "[ 0    0   -4    0    0    0    0    8]"
      ]
     },
     "execution_count": 107,
     "metadata": {},
     "output_type": "execute_result"
    }
   ],
   "source": [
    "N = M + lattice_in_same_ambient_space(L, matrix(QQ, lift.(gens(S))))"
   ]
  },
  {
   "cell_type": "code",
   "execution_count": 108,
   "id": "16613768",
   "metadata": {
    "slideshow": {
     "slide_type": "fragment"
    }
   },
   "outputs": [
    {
     "data": {
      "text/plain": [
       "4"
      ]
     },
     "execution_count": 108,
     "metadata": {},
     "output_type": "execute_result"
    }
   ],
   "source": [
    "index(N, M)"
   ]
  },
  {
   "cell_type": "markdown",
   "id": "8bb45ce9",
   "metadata": {
    "slideshow": {
     "slide_type": "slide"
    }
   },
   "source": [
    "## Niemeier lattices"
   ]
  },
  {
   "cell_type": "markdown",
   "id": "fff33b8a",
   "metadata": {
    "slideshow": {
     "slide_type": "fragment"
    }
   },
   "source": [
    "A Niemeier lattice is a unimodular even lattice of rank $24$. If $L$ is a lattice, then\n",
    "\n",
    "$$ \\Phi_L = \\{ x \\in L \\mid x^2 = 2 \\}$$\n",
    "\n",
    "is the set of *roots* of $L$ and $R(L) = \\langle \\Phi_L \\rangle_{\\mathbf{Z}} \\subseteq L$ is the root lattice of $L$. Such a root lattice is determined up to isometry by the corresponding Dynkin diagram/root system.\n"
   ]
  },
  {
   "cell_type": "markdown",
   "id": "c243c64f",
   "metadata": {
    "slideshow": {
     "slide_type": "fragment"
    }
   },
   "source": [
    "\n",
    "Niemeier (1974): Up to isometry there are exactly 24 Niemeier lattices. Every Niemeier lattice is determined uniquely by $R(L)$. The 24 root systems are\n",
    "\n",
    "$$ \\emptyset, A_1^{\\oplus 24}, A_2^{\\oplus 12}, \\dotsc, A_9^{\\oplus 2} \\perp D_6,\\dotsc,$$\n"
   ]
  },
  {
   "cell_type": "markdown",
   "id": "c0c3934b",
   "metadata": {
    "slideshow": {
     "slide_type": "slide"
    }
   },
   "source": [
    "Let's construct the Niemeier lattice $L$ corresponding to $A_9^{\\oplus 2} \\perp D_6$. We begin by constructing the root lattice:"
   ]
  },
  {
   "cell_type": "code",
   "execution_count": 109,
   "id": "85456f0a",
   "metadata": {
    "slideshow": {
     "slide_type": "fragment"
    }
   },
   "outputs": [],
   "source": [
    "RL, = direct_sum([root_lattice(:A, 9), root_lattice(:A, 9), root_lattice(:D, 6)]);"
   ]
  },
  {
   "cell_type": "markdown",
   "id": "e6a2e53e",
   "metadata": {
    "slideshow": {
     "slide_type": "fragment"
    }
   },
   "source": [
    "We know that $R(L) \\subseteq L \\subseteq R(L)^\\vee$. Thus $L$ corresponds to a subgroup $S \\leq D_{R(L)}$ of the discriminant group $D_{R(L)}$.\n",
    "\n",
    "- Since $L$ is unimodular, we must have $\\lvert S \\rvert^2 = \\lvert D_{R(L)} \\rvert$.\n",
    "- Since $L$ is even, we must have that $S$ is totally isotropic."
   ]
  },
  {
   "cell_type": "code",
   "execution_count": 110,
   "id": "8e94dab7",
   "metadata": {
    "slideshow": {
     "slide_type": "fragment"
    }
   },
   "outputs": [
    {
     "data": {
      "text/plain": [
       "Finite quadratic module\n",
       "  over integer ring\n",
       "Abelian group: (Z/2)^2 x (Z/10)^2\n",
       "Bilinear value module: Q/Z\n",
       "Quadratic value module: Q/2Z\n",
       "Gram matrix quadratic form: \n",
       "[3//2   1//2       0       0]\n",
       "[1//2   3//2       0    1//2]\n",
       "[   0      0   9//10       0]\n",
       "[   0   1//2       0   9//10]"
      ]
     },
     "execution_count": 110,
     "metadata": {},
     "output_type": "execute_result"
    }
   ],
   "source": [
    "DL = discriminant_group(RL)"
   ]
  },
  {
   "cell_type": "code",
   "execution_count": 111,
   "id": "5f46251f",
   "metadata": {
    "slideshow": {
     "slide_type": "fragment"
    }
   },
   "outputs": [
    {
     "data": {
      "text/plain": [
       "GrpAb: (Z/2)^2 x (Z/10)^2"
      ]
     },
     "execution_count": 111,
     "metadata": {},
     "output_type": "execute_result"
    }
   ],
   "source": [
    "A = abelian_group(DL)"
   ]
  },
  {
   "cell_type": "code",
   "execution_count": 112,
   "id": "30a2b3d6",
   "metadata": {
    "slideshow": {
     "slide_type": "fragment"
    }
   },
   "outputs": [],
   "source": [
    "overlattices_and_submodules = []\n",
    "for (S, StoDL) in submodules(DL, order = 20)\n",
    "    M = RL + lattice(ambient_space(RL), matrix(QQ, lift.(StoDL.(gens(S)))), isbasis = false)\n",
    "    push!(overlattices_and_submodules, (M, S))\n",
    "end"
   ]
  },
  {
   "cell_type": "markdown",
   "id": "43eb1343",
   "metadata": {
    "slideshow": {
     "slide_type": "slide"
    }
   },
   "source": [
    "Let's look at those overlattices:"
   ]
  },
  {
   "cell_type": "code",
   "execution_count": 113,
   "id": "9a33e24a",
   "metadata": {
    "slideshow": {
     "slide_type": "fragment"
    }
   },
   "outputs": [
    {
     "data": {
      "text/plain": [
       "false"
      ]
     },
     "execution_count": 113,
     "metadata": {},
     "output_type": "execute_result"
    }
   ],
   "source": [
    "M, S = overlattices_and_submodules[1];\n",
    "is_integral(M)"
   ]
  },
  {
   "cell_type": "code",
   "execution_count": 114,
   "id": "e6eae391",
   "metadata": {
    "slideshow": {
     "slide_type": "fragment"
    }
   },
   "outputs": [
    {
     "data": {
      "text/plain": [
       "[8//5      0      0]\n",
       "[   0      1   1//2]\n",
       "[   0   1//2   1//2]"
      ]
     },
     "execution_count": 114,
     "metadata": {},
     "output_type": "execute_result"
    }
   ],
   "source": [
    "gram_matrix_quadratic(S)"
   ]
  },
  {
   "cell_type": "code",
   "execution_count": 115,
   "id": "297629df",
   "metadata": {
    "slideshow": {
     "slide_type": "fragment"
    }
   },
   "outputs": [
    {
     "data": {
      "text/plain": [
       "195"
      ]
     },
     "execution_count": 115,
     "metadata": {},
     "output_type": "execute_result"
    }
   ],
   "source": [
    "findfirst(((M, S),) -> is_integral(M) && !is_even(M), overlattices_and_submodules)"
   ]
  },
  {
   "cell_type": "code",
   "execution_count": 116,
   "id": "b654a27a",
   "metadata": {
    "slideshow": {
     "slide_type": "fragment"
    }
   },
   "outputs": [
    {
     "data": {
      "text/plain": [
       "(true, false)"
      ]
     },
     "execution_count": 116,
     "metadata": {},
     "output_type": "execute_result"
    }
   ],
   "source": [
    "M, S = overlattices_and_submodules[195]; is_integral(M), is_even(M)"
   ]
  },
  {
   "cell_type": "code",
   "execution_count": 117,
   "id": "157577fd",
   "metadata": {
    "slideshow": {
     "slide_type": "fragment"
    }
   },
   "outputs": [
    {
     "data": {
      "text/plain": [
       "false"
      ]
     },
     "execution_count": 117,
     "metadata": {},
     "output_type": "execute_result"
    }
   ],
   "source": [
    "is_totally_isotropic(S)"
   ]
  },
  {
   "cell_type": "code",
   "execution_count": 118,
   "id": "3a068815",
   "metadata": {
    "slideshow": {
     "slide_type": "slide"
    }
   },
   "outputs": [
    {
     "data": {
      "text/plain": [
       "69"
      ]
     },
     "execution_count": 118,
     "metadata": {},
     "output_type": "execute_result"
    }
   ],
   "source": [
    "findfirst(((M, S),) -> is_integral(M) && is_even(M), overlattices_and_submodules)"
   ]
  },
  {
   "cell_type": "code",
   "execution_count": 119,
   "id": "664342fe",
   "metadata": {
    "slideshow": {
     "slide_type": "fragment"
    }
   },
   "outputs": [
    {
     "data": {
      "text/plain": [
       "true"
      ]
     },
     "execution_count": 119,
     "metadata": {},
     "output_type": "execute_result"
    }
   ],
   "source": [
    "M, S = overlattices_and_submodules[69]; is_integral(M) && is_even(M)"
   ]
  },
  {
   "cell_type": "markdown",
   "id": "7ea04a1d",
   "metadata": {
    "slideshow": {
     "slide_type": "fragment"
    }
   },
   "source": [
    "We have found a Niemeier lattice, yay!"
   ]
  },
  {
   "cell_type": "code",
   "execution_count": 120,
   "id": "39d94dfc",
   "metadata": {
    "slideshow": {
     "slide_type": "fragment"
    }
   },
   "outputs": [
    {
     "data": {
      "text/plain": [
       "true"
      ]
     },
     "execution_count": 120,
     "metadata": {},
     "output_type": "execute_result"
    }
   ],
   "source": [
    "is_totally_isotropic(S)"
   ]
  },
  {
   "cell_type": "markdown",
   "id": "93c8fed1",
   "metadata": {
    "slideshow": {
     "slide_type": "fragment"
    }
   },
   "source": [
    "Is it *the* Niemeier lattice with root sublattice of type $A_9^{\\oplus 2} \\perp D_6$?"
   ]
  },
  {
   "cell_type": "code",
   "execution_count": 121,
   "id": "e2ef6af7",
   "metadata": {
    "slideshow": {
     "slide_type": "fragment"
    }
   },
   "outputs": [
    {
     "name": "stdout",
     "output_type": "stream",
     "text": [
      "[(:D, 6), (:A, 9), (:A, 9)]"
     ]
    }
   ],
   "source": [
    "roottype, = root_lattice_recognition(M); roottype |> print"
   ]
  },
  {
   "cell_type": "markdown",
   "id": "f57d92f7",
   "metadata": {
    "slideshow": {
     "slide_type": "fragment"
    }
   },
   "source": [
    "Yes!"
   ]
  },
  {
   "cell_type": "code",
   "execution_count": 122,
   "id": "e1bca89f",
   "metadata": {
    "slideshow": {
     "slide_type": "slide"
    }
   },
   "outputs": [
    {
     "data": {
      "text/plain": [
       "4-element Vector{Int64}:\n",
       " 69\n",
       " 70\n",
       " 87\n",
       " 88"
      ]
     },
     "execution_count": 122,
     "metadata": {},
     "output_type": "execute_result"
    }
   ],
   "source": [
    "findall(((M, S),) -> is_integral(M) && is_even(M), overlattices_and_submodules)"
   ]
  },
  {
   "cell_type": "markdown",
   "id": "530652f3",
   "metadata": {
    "slideshow": {
     "slide_type": "fragment"
    }
   },
   "source": [
    "They all have identitcal root sublattices and are thus all isometric (by theory). Our isometry is a bit too slow to show this. (We are working on this.)"
   ]
  },
  {
   "cell_type": "markdown",
   "id": "01fcb929",
   "metadata": {
    "slideshow": {
     "slide_type": "slide"
    }
   },
   "source": [
    "What about the other root systems?\n",
    "\n",
    "We cannot use this naive approach, since there are in general way too many subgroups:"
   ]
  },
  {
   "cell_type": "code",
   "execution_count": 123,
   "id": "49fc4aa8",
   "metadata": {
    "slideshow": {
     "slide_type": "fragment"
    }
   },
   "outputs": [
    {
     "data": {
      "text/plain": [
       "GrpAb: (Z/2)^24"
      ]
     },
     "execution_count": 123,
     "metadata": {},
     "output_type": "execute_result"
    }
   ],
   "source": [
    "L, = direct_sum([root_lattice(:A, 1) for i in 1:24]);\n",
    "abelian_group(discriminant_group(L))"
   ]
  },
  {
   "cell_type": "markdown",
   "id": "35932653",
   "metadata": {
    "slideshow": {
     "slide_type": "fragment"
    }
   },
   "source": [
    "$(\\mathbf{Z}/2\\mathbf{Z})^{24}$ has too many subgroups of order $2^{12}$, namely $77184136346814161837268404381760884963259795$.\n",
    "\n",
    "Also, not all even integral overlattices of $L$ have the correct root system, because more roots (elements of norm 2) might be added."
   ]
  },
  {
   "cell_type": "code",
   "execution_count": 124,
   "id": "91a292f3",
   "metadata": {
    "slideshow": {
     "slide_type": "fragment"
    }
   },
   "outputs": [
    {
     "data": {
      "text/plain": [
       "(true, true)"
      ]
     },
     "execution_count": 124,
     "metadata": {},
     "output_type": "execute_result"
    }
   ],
   "source": [
    "M = maximal_even_lattice(L); is_even(M), is_unimodular(M)"
   ]
  },
  {
   "cell_type": "code",
   "execution_count": 125,
   "id": "9490b816",
   "metadata": {
    "slideshow": {
     "slide_type": "fragment"
    }
   },
   "outputs": [
    {
     "name": "stdout",
     "output_type": "stream",
     "text": [
      "[(:E, 8), (:E, 8), (:E, 8)]"
     ]
    }
   ],
   "source": [
    "roottype, = root_lattice_recognition(M); roottype |> print"
   ]
  },
  {
   "cell_type": "markdown",
   "id": "5b9a6b4f",
   "metadata": {
    "slideshow": {
     "slide_type": "fragment"
    }
   },
   "source": [
    "We started with $A_1^{\\oplus 24}$ and ended with $E_8^{\\oplus 3}$. In fact $M$ is *the* root lattice $E_8^{\\oplus 3}$."
   ]
  },
  {
   "cell_type": "markdown",
   "id": "310506e8",
   "metadata": {
    "slideshow": {
     "slide_type": "slide"
    }
   },
   "source": [
    "### Glueing lattices\n",
    "\n",
    "We are given even integral lattices $R, S$ and we want to find an even integral $L$, such that\n",
    "- $R$ and $S$ are primitive sublattices of $L$,\n",
    "- $R \\perp S \\leq L$,\n",
    "- $\\operatorname{rank}(R) + \\operatorname{rank}(S) = \\operatorname{rank}(L)$\n",
    "\n",
    "Such overlattices $L$ correspond to *glue maps*\n",
    "\n",
    "$$ \\gamma \\colon H_R \\to H_S $$\n",
    "\n",
    "where $H_R \\leq D_R$, $H_S \\leq D_S$ are submodules and $\\gamma$ is an anti-isometry.\n"
   ]
  },
  {
   "cell_type": "code",
   "execution_count": 126,
   "id": "e6282da5",
   "metadata": {
    "slideshow": {
     "slide_type": "slide"
    }
   },
   "outputs": [],
   "source": [
    "V = quadratic_space(QQ, matrix(QQ, 8, 8 ,[2, -1, 0, 0, 0, 0, 0, 0, -1, 2, -1, 0, 0, 0, 0, 0, 0, -1, 2, -1, 0, 0, 0, -1, 0, 0, -1, 2, -1, 0, 0, 0, 0, 0, 0, -1, 2, -1, 0, 0, 0, 0, 0, 0, -1, 2, -1, 0, 0, 0, 0, 0, 0, -1, 2, 0, 0, 0, -1, 0, 0, 0, 0, 2]));\n",
    "R = lattice(V, matrix(ZZ, 4, 8 ,[1, 0, 0, 0, 0, 0, 0, 0, 0, 1, 0, 0, 0, 0, 0, 0, 0, 0, 6, 5, 4, 3, 0, 3, 0, 0, 0, 0, 0, 0, 1, 0]));\n",
    "S = lattice(V, matrix(ZZ, 4, 8, [1, 2, 3, 0, 0, 0, 0, 0, 0, 0, 0, 1, 0, 0, 0, 0, 0, 0, 0, 0, 1, 0, 0, 0, 0, 0, 0, 0, 0, 0, 0, 1]));"
   ]
  },
  {
   "cell_type": "code",
   "execution_count": 127,
   "id": "f3654968",
   "metadata": {
    "slideshow": {
     "slide_type": "fragment"
    }
   },
   "outputs": [
    {
     "data": {
      "text/plain": [
       "(GrpAb: (Z/3)^2, GrpAb: (Z/3)^2)"
      ]
     },
     "execution_count": 127,
     "metadata": {},
     "output_type": "execute_result"
    }
   ],
   "source": [
    "DR = discriminant_group(R); DS = discriminant_group(S); abelian_group(DS), abelian_group(DR)"
   ]
  },
  {
   "cell_type": "code",
   "execution_count": 128,
   "id": "05997f28",
   "metadata": {
    "slideshow": {
     "slide_type": "fragment"
    }
   },
   "outputs": [
    {
     "data": {
      "text/plain": [
       "10"
      ]
     },
     "execution_count": 128,
     "metadata": {},
     "output_type": "execute_result"
    }
   ],
   "source": [
    "glueings = []\n",
    "for (HR, _) in submodules(DR)\n",
    "    for (HS, _) in submodules(DS)\n",
    "        fl, gamma = is_anti_isometric_with_anti_isometry(HR, HS)\n",
    "        if fl\n",
    "            push!(glueings, gamma)\n",
    "        end\n",
    "    end\n",
    "end\n",
    "length(glueings)"
   ]
  },
  {
   "cell_type": "code",
   "execution_count": 129,
   "id": "b8d5b447",
   "metadata": {
    "slideshow": {
     "slide_type": "slide"
    }
   },
   "outputs": [
    {
     "data": {
      "text/plain": [
       "true"
      ]
     },
     "execution_count": 129,
     "metadata": {},
     "output_type": "execute_result"
    }
   ],
   "source": [
    "R + S == overlattice(glueings[1])"
   ]
  },
  {
   "cell_type": "code",
   "execution_count": 130,
   "id": "ce7681d2",
   "metadata": {
    "slideshow": {
     "slide_type": "fragment"
    }
   },
   "outputs": [
    {
     "data": {
      "text/plain": [
       "10"
      ]
     },
     "execution_count": 130,
     "metadata": {},
     "output_type": "execute_result"
    }
   ],
   "source": [
    "findfirst(M -> is_even(M) && is_unimodular(M), overlattice.(glueings))"
   ]
  },
  {
   "cell_type": "code",
   "execution_count": 131,
   "id": "eb269152",
   "metadata": {
    "slideshow": {
     "slide_type": "fragment"
    }
   },
   "outputs": [
    {
     "data": {
      "text/plain": [
       "Integer lattice of rank 8 and degree 8\n",
       "with gram matrix\n",
       "[ 2   -1    0    0    0    0    0    0]\n",
       "[-1    2   -1    0    0    0    0    0]\n",
       "[ 0   -1    2   -1    0    0    0   -1]\n",
       "[ 0    0   -1    2   -1    0    0    0]\n",
       "[ 0    0    0   -1    2   -1    0    0]\n",
       "[ 0    0    0    0   -1    2   -1    0]\n",
       "[ 0    0    0    0    0   -1    2    0]\n",
       "[ 0    0   -1    0    0    0    0    2]"
      ]
     },
     "execution_count": 131,
     "metadata": {},
     "output_type": "execute_result"
    }
   ],
   "source": [
    "L = overlattice(glueings[10])"
   ]
  },
  {
   "cell_type": "markdown",
   "id": "af72e094",
   "metadata": {
    "slideshow": {
     "slide_type": "fragment"
    }
   },
   "source": [
    "This is the root lattice $E_8$."
   ]
  },
  {
   "cell_type": "markdown",
   "id": "a3f5a442",
   "metadata": {
    "slideshow": {
     "slide_type": "slide"
    }
   },
   "source": [
    "Let's find all the glueings with glueing groups $H_R = D_R$ and $H_S = D_S$. If $\\gamma \\colon D_R \\to D_S$ is a fixed anti-isometry, then\n",
    "\n",
    "$$ \\{ H_R \\to H_S \\text{ anti-isometry}\\} = \\{ \\sigma \\circ \\gamma \\mid \\sigma \\in \\mathrm{O}(D_R) \\} $$"
   ]
  },
  {
   "cell_type": "code",
   "execution_count": 132,
   "id": "2223cbc2",
   "metadata": {
    "slideshow": {
     "slide_type": "fragment"
    }
   },
   "outputs": [
    {
     "data": {
      "text/plain": [
       "8"
      ]
     },
     "execution_count": 132,
     "metadata": {},
     "output_type": "execute_result"
    }
   ],
   "source": [
    "HR = DR; HS = DS; fl, gamma = is_anti_isometric_with_anti_isometry(HR, HS);\n",
    "all_glueings = [hom(sigma) * gamma for sigma in orthogonal_group(HR)];\n",
    "length(all_glueings)"
   ]
  },
  {
   "cell_type": "code",
   "execution_count": 133,
   "id": "c7a56d4a",
   "metadata": {
    "slideshow": {
     "slide_type": "fragment"
    }
   },
   "outputs": [
    {
     "data": {
      "text/plain": [
       "8-element Vector{ZZLat}:\n",
       " Integer lattice of rank 8 and degree 8\n",
       " Integer lattice of rank 8 and degree 8\n",
       " Integer lattice of rank 8 and degree 8\n",
       " Integer lattice of rank 8 and degree 8\n",
       " Integer lattice of rank 8 and degree 8\n",
       " Integer lattice of rank 8 and degree 8\n",
       " Integer lattice of rank 8 and degree 8\n",
       " Integer lattice of rank 8 and degree 8"
      ]
     },
     "execution_count": 133,
     "metadata": {},
     "output_type": "execute_result"
    }
   ],
   "source": [
    "overlats = [ overlattice(glue) for glue in all_glueings ]"
   ]
  },
  {
   "cell_type": "code",
   "execution_count": 134,
   "id": "2458bd7d",
   "metadata": {
    "slideshow": {
     "slide_type": "slide"
    }
   },
   "outputs": [
    {
     "data": {
      "text/plain": [
       "[1   0   0   0   0   0   0   0]\n",
       "[0   1   0   0   0   0   0   0]\n",
       "[0   0   1   0   0   0   0   0]\n",
       "[0   0   0   1   0   0   0   0]\n",
       "[0   0   0   0   1   0   0   0]\n",
       "[0   0   0   0   0   1   0   0]\n",
       "[0   0   0   0   0   0   1   0]\n",
       "[0   0   0   0   0   0   0   1]"
      ]
     },
     "execution_count": 134,
     "metadata": {},
     "output_type": "execute_result"
    }
   ],
   "source": [
    "basis_matrix(overlats[1])"
   ]
  },
  {
   "cell_type": "code",
   "execution_count": 135,
   "id": "dccaa9b7",
   "metadata": {
    "slideshow": {
     "slide_type": "fragment"
    }
   },
   "outputs": [
    {
     "data": {
      "text/plain": [
       "[   1      0   0      0      0   0   0   0]\n",
       "[   0      1   0      0      0   0   0   0]\n",
       "[2//3   1//3   1      0      0   0   0   0]\n",
       "[   0      0   0      1      0   0   0   0]\n",
       "[   0      0   0      0      1   0   0   0]\n",
       "[2//3   1//3   0   1//3   2//3   1   0   0]\n",
       "[   0      0   0      0      0   0   1   0]\n",
       "[   0      0   0      0      0   0   0   1]"
      ]
     },
     "execution_count": 135,
     "metadata": {},
     "output_type": "execute_result"
    }
   ],
   "source": [
    "basis_matrix(overlats[2])"
   ]
  },
  {
   "cell_type": "code",
   "execution_count": 136,
   "id": "92cda352",
   "metadata": {
    "slideshow": {
     "slide_type": "fragment"
    }
   },
   "outputs": [
    {
     "data": {
      "text/plain": [
       "true"
      ]
     },
     "execution_count": 136,
     "metadata": {},
     "output_type": "execute_result"
    }
   ],
   "source": [
    "all(M -> is_isometric(L, M), overlats)"
   ]
  },
  {
   "cell_type": "markdown",
   "id": "074270f5",
   "metadata": {
    "slideshow": {
     "slide_type": "fragment"
    }
   },
   "source": [
    "Glueings are not unique, but their isometry class is!"
   ]
  }
 ],
 "metadata": {
  "@webio": {
   "lastCommId": "fb2852331d4d4776985379b4262a013e",
   "lastKernelId": "f37b30cc-fd8e-4b08-a0f1-b4821750bc2f"
  },
  "celltoolbar": "Slideshow",
  "kernelspec": {
   "display_name": "Julia 1.9.2",
   "language": "julia",
   "name": "julia-1.9"
  },
  "language_info": {
   "file_extension": ".jl",
   "mimetype": "application/julia",
   "name": "julia",
   "version": "1.9.2"
  }
 },
 "nbformat": 4,
 "nbformat_minor": 5
}
