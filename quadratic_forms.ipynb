{
 "cells": [
  {
   "cell_type": "markdown",
   "id": "7b7ca2eb",
   "metadata": {
    "slideshow": {
     "slide_type": "slide"
    }
   },
   "source": [
    "# Lattices in OSCAR\n",
    "\n",
    "* Author: Tommmy Hofmann, Universität Siegen\n",
    "* Version: OSCAR version 1.5.0\n",
    "* Last modified: January 26, 2024"
   ]
  },
  {
   "cell_type": "markdown",
   "id": "3a85d8a9",
   "metadata": {
    "slideshow": {
     "slide_type": "slide"
    }
   },
   "source": [
    "## Outline\n",
    "\n",
    "1. [General information](#General-information)\n",
    "2. [Quadratic spaces](#Quadratic-spaces)\n",
    "3. [Quadratic lattices](#Quadratic-lattices)\n",
    "4. [Kneser's neighbor method](#Kneser's-neighbor-method)\n",
    "5. [Enumerating lattices](#Enumerating-lattices)\n",
    "6. [Torsion quadratic modules](#Torsion-quadratic-modules)"
   ]
  },
  {
   "cell_type": "markdown",
   "id": "ee5782f8",
   "metadata": {
    "slideshow": {
     "slide_type": "slide"
    }
   },
   "source": [
    "## General information\n",
    "\n",
    "- A lot of functionality for quadratic and hermitian lattices in OSCAR, we only consider quadratic lattices\n",
    "- Code due to S. Brandhorst, S. Muller, H., heavily inspired by M. Kirschmer's Magma package, and S. Brandhorst's SageMath code\n",
    "- This notebeook is (will be) on the homepage of the summer school\n",
    "- Documentation is at\n",
    "  \n",
    "      https://docs.oscar-system.org/stable/Hecke/quad_forms/introduction/\n",
    "- Questions? Found a bug? Tell us about it via github, slack, email, etc:\n",
    "\n",
    "      https://www.oscar-system.org/community/\n",
    "\n",
    "- This notebook has been tested with Oscar 0.14.0. Here are all the packages that you need:\n",
    "    * [bd48cda9] GraphRecipes v0.5.12\n",
    "    * [86223c79] Graphs v1.9.0\n",
    "    * [7073ff75] IJulia v1.24.2\n",
    "    * [c601a237] Interact v0.10.5\n",
    "    * [f1435218] Oscar v0.14.0\n",
    "    * [91a5bcdd] Plots v1.39.0"
   ]
  },
  {
   "cell_type": "code",
   "execution_count": 1,
   "id": "0791fb8b-5235-4a67-b255-94d24b3ecb83",
   "metadata": {},
   "outputs": [
    {
     "name": "stdout",
     "output_type": "stream",
     "text": [
      "  ___   ___   ___    _    ____\n",
      " / _ \\ / __\\ / __\\  / \\  |  _ \\  | Combining and extending ANTIC, GAP,\n",
      "| |_| |\\__ \\| |__  / ^ \\ |  ´ /  | Polymake and Singular\n",
      " \\___/ \\___/ \\___//_/ \\_\\|_|\\_\\  | Type \"?Oscar\" for more information\n",
      "\u001b[33mo--------o-----o-----o--------o\u001b[39m  | Documentation: https://docs.oscar-system.org\n",
      "  S Y M B O L I C   T O O L S    | Version 1.5.0\n"
     ]
    }
   ],
   "source": [
    "using Oscar"
   ]
  },
  {
   "cell_type": "markdown",
   "id": "cabb7870",
   "metadata": {
    "slideshow": {
     "slide_type": "slide"
    }
   },
   "source": [
    "## Quadratic spaces\n",
    "\n",
    "A quadratic space over field $K$ is $V = K^n$ together with a bilinear form $\\Phi \\colon V \\times V \\to K$, specified via the Gram matrix $G = (\\Phi(e_i,e_j))_{1 \\leq i, j \\leq n}$ of the canonical basis."
   ]
  },
  {
   "cell_type": "markdown",
   "id": "f4483a2c",
   "metadata": {
    "slideshow": {
     "slide_type": "slide"
    }
   },
   "source": [
    "## Construction"
   ]
  },
  {
   "cell_type": "markdown",
   "id": "496c5b84",
   "metadata": {
    "slideshow": {
     "slide_type": "fragment"
    }
   },
   "source": [
    "First construct a Gram matrix"
   ]
  },
  {
   "cell_type": "code",
   "execution_count": 2,
   "id": "1f8003d6",
   "metadata": {
    "slideshow": {
     "slide_type": "fragment"
    }
   },
   "outputs": [],
   "source": [
    "using Oscar"
   ]
  },
  {
   "cell_type": "code",
   "execution_count": 3,
   "id": "ecda8eed",
   "metadata": {
    "slideshow": {
     "slide_type": "fragment"
    }
   },
   "outputs": [
    {
     "data": {
      "text/plain": [
       "[2   1]\n",
       "[1   0]"
      ]
     },
     "execution_count": 3,
     "metadata": {},
     "output_type": "execute_result"
    }
   ],
   "source": [
    "G1 = matrix(QQ, [2 1; 1 0])"
   ]
  },
  {
   "cell_type": "markdown",
   "id": "f514a998",
   "metadata": {
    "slideshow": {
     "slide_type": "fragment"
    }
   },
   "source": [
    "Now construct the quadratic space"
   ]
  },
  {
   "cell_type": "code",
   "execution_count": 4,
   "id": "09bdfec0",
   "metadata": {
    "slideshow": {
     "slide_type": "fragment"
    }
   },
   "outputs": [
    {
     "data": {
      "text/plain": [
       "Quadratic space of dimension 2\n",
       "  over rational field\n",
       "with gram matrix\n",
       "[2   1]\n",
       "[1   0]"
      ]
     },
     "execution_count": 4,
     "metadata": {},
     "output_type": "execute_result"
    }
   ],
   "source": [
    "V1 = quadratic_space(QQ, G1)"
   ]
  },
  {
   "cell_type": "markdown",
   "id": "c608c05b",
   "metadata": {
    "slideshow": {
     "slide_type": "slide"
    }
   },
   "source": [
    "Now a quadratic space over the number field $K = \\mathbf{Q}(\\sqrt 5)$."
   ]
  },
  {
   "cell_type": "code",
   "execution_count": 5,
   "id": "ac472bbe",
   "metadata": {
    "slideshow": {
     "slide_type": "fragment"
    }
   },
   "outputs": [
    {
     "data": {
      "text/plain": [
       "(Number field of degree 2 over QQ, √5)"
      ]
     },
     "execution_count": 5,
     "metadata": {},
     "output_type": "execute_result"
    }
   ],
   "source": [
    "Qx, x = QQ[\"x\"]\n",
    "K, a = number_field(x^2 - 5, \"√5\")"
   ]
  },
  {
   "cell_type": "code",
   "execution_count": 6,
   "id": "5916e704",
   "metadata": {
    "slideshow": {
     "slide_type": "fragment"
    }
   },
   "outputs": [
    {
     "data": {
      "text/plain": [
       "[√5    1    0]\n",
       "[ 1   √5   -1]\n",
       "[ 0   -1    1]"
      ]
     },
     "execution_count": 6,
     "metadata": {},
     "output_type": "execute_result"
    }
   ],
   "source": [
    "G2 = matrix(K, [a 1 0 ; 1 a -1; 0 -1 1])"
   ]
  },
  {
   "cell_type": "code",
   "execution_count": 7,
   "id": "9185d06d",
   "metadata": {
    "slideshow": {
     "slide_type": "fragment"
    }
   },
   "outputs": [
    {
     "data": {
      "text/plain": [
       "Quadratic space of dimension 3\n",
       "  over number field of degree 2 over QQ\n",
       "with gram matrix\n",
       "[√5    1    0]\n",
       "[ 1   √5   -1]\n",
       "[ 0   -1    1]"
      ]
     },
     "execution_count": 7,
     "metadata": {},
     "output_type": "execute_result"
    }
   ],
   "source": [
    "V2 = quadratic_space(K, G2)"
   ]
  },
  {
   "cell_type": "markdown",
   "id": "ed14020e",
   "metadata": {
    "slideshow": {
     "slide_type": "slide"
    }
   },
   "source": [
    "## Basic properties"
   ]
  },
  {
   "cell_type": "code",
   "execution_count": 8,
   "id": "472f8284",
   "metadata": {
    "slideshow": {
     "slide_type": "fragment"
    }
   },
   "outputs": [
    {
     "data": {
      "text/plain": [
       "2"
      ]
     },
     "execution_count": 8,
     "metadata": {},
     "output_type": "execute_result"
    }
   ],
   "source": [
    "dim(V1)"
   ]
  },
  {
   "cell_type": "code",
   "execution_count": 9,
   "id": "f0ede1b2",
   "metadata": {
    "slideshow": {
     "slide_type": "fragment"
    }
   },
   "outputs": [
    {
     "data": {
      "text/plain": [
       "[2   1]\n",
       "[1   0]"
      ]
     },
     "execution_count": 9,
     "metadata": {},
     "output_type": "execute_result"
    }
   ],
   "source": [
    "gram_matrix(V1)"
   ]
  },
  {
   "cell_type": "code",
   "execution_count": 10,
   "id": "869bd77c",
   "metadata": {
    "slideshow": {
     "slide_type": "fragment"
    }
   },
   "outputs": [
    {
     "data": {
      "text/plain": [
       "-1"
      ]
     },
     "execution_count": 10,
     "metadata": {},
     "output_type": "execute_result"
    }
   ],
   "source": [
    "det(V1)"
   ]
  },
  {
   "cell_type": "code",
   "execution_count": 11,
   "id": "d7c4b573",
   "metadata": {
    "slideshow": {
     "slide_type": "fragment"
    }
   },
   "outputs": [
    {
     "data": {
      "text/plain": [
       "1"
      ]
     },
     "execution_count": 11,
     "metadata": {},
     "output_type": "execute_result"
    }
   ],
   "source": [
    "discriminant(V1)"
   ]
  },
  {
   "cell_type": "code",
   "execution_count": 12,
   "id": "652c1a2b",
   "metadata": {
    "slideshow": {
     "slide_type": "fragment"
    }
   },
   "outputs": [
    {
     "data": {
      "text/plain": [
       "3"
      ]
     },
     "execution_count": 12,
     "metadata": {},
     "output_type": "execute_result"
    }
   ],
   "source": [
    "inner_product(V1, [1, 0], [1, 1])"
   ]
  },
  {
   "cell_type": "markdown",
   "id": "276a61de",
   "metadata": {
    "slideshow": {
     "slide_type": "slide"
    }
   },
   "source": [
    "## Local properties of spaces\n",
    "\n",
    "- For a quadratic space $V$ over $\\mathbf{Q}$, one is often interested in \"local\" properties, which are in fact properties of the $p$-adic completion $V_p = V \\otimes \\mathbf{Q}_p$.\n",
    "- We *cannot* work with arbitrary quadratic spaces over $\\mathbf{Q}_p$ exactly (same problems as over $\\mathbf{R}$), but we *can* answer questions about $p$-adic completions of quadratic spaces over $\\mathbf{Q}$.\n",
    "- For example, we can decide whether $V_p$ is isotropic.\n",
    "- The interface for such functions will have as input always the global object(s) and $p$, where $p$ can be a prime number, a prime ideal, an infinite place or a real/complex embedding.\n",
    "\n",
    "### Example\n",
    "\n",
    "The call `is_isotropic(V, p)` will tell us whether $V_p$ is isotropic."
   ]
  },
  {
   "cell_type": "code",
   "execution_count": 13,
   "id": "019cb58b",
   "metadata": {
    "slideshow": {
     "slide_type": "slide"
    }
   },
   "outputs": [
    {
     "data": {
      "text/plain": [
       "2-element Vector{QQFieldElem}:\n",
       " 2\n",
       " -1//2"
      ]
     },
     "execution_count": 13,
     "metadata": {},
     "output_type": "execute_result"
    }
   ],
   "source": [
    "diagonal(V1)"
   ]
  },
  {
   "cell_type": "code",
   "execution_count": 14,
   "id": "f4cea11d",
   "metadata": {
    "slideshow": {
     "slide_type": "fragment"
    }
   },
   "outputs": [
    {
     "data": {
      "text/plain": [
       "5-element Vector{Bool}:\n",
       " 1\n",
       " 1\n",
       " 1\n",
       " 1\n",
       " 1"
      ]
     },
     "execution_count": 14,
     "metadata": {},
     "output_type": "execute_result"
    }
   ],
   "source": [
    "[is_isotropic(V1, p) for p in [2, 3, 5, 7, 11]] # 1 means yes"
   ]
  },
  {
   "cell_type": "code",
   "execution_count": 15,
   "id": "06ba38d0",
   "metadata": {
    "slideshow": {
     "slide_type": "fragment"
    }
   },
   "outputs": [
    {
     "data": {
      "text/plain": [
       "true"
      ]
     },
     "execution_count": 15,
     "metadata": {},
     "output_type": "execute_result"
    }
   ],
   "source": [
    "is_isotropic(V1, inf)"
   ]
  },
  {
   "cell_type": "code",
   "execution_count": 16,
   "id": "b60cc92c",
   "metadata": {
    "slideshow": {
     "slide_type": "fragment"
    }
   },
   "outputs": [
    {
     "data": {
      "text/plain": [
       "1"
      ]
     },
     "execution_count": 16,
     "metadata": {},
     "output_type": "execute_result"
    }
   ],
   "source": [
    "hasse_invariant(V1, 2)"
   ]
  },
  {
   "cell_type": "markdown",
   "id": "34c94e02",
   "metadata": {
    "slideshow": {
     "slide_type": "slide"
    }
   },
   "source": [
    "Of course, also over a number field"
   ]
  },
  {
   "cell_type": "code",
   "execution_count": 17,
   "id": "f8fec499",
   "metadata": {
    "slideshow": {
     "slide_type": "fragment"
    }
   },
   "outputs": [
    {
     "data": {
      "text/plain": [
       "3-element Vector{AbsSimpleNumFieldElem}:\n",
       " √5\n",
       " 4//5*√5\n",
       " -1//4*√5 + 1"
      ]
     },
     "execution_count": 17,
     "metadata": {},
     "output_type": "execute_result"
    }
   ],
   "source": [
    "diagonal(V2)"
   ]
  },
  {
   "cell_type": "code",
   "execution_count": 18,
   "id": "74e9540e",
   "metadata": {
    "slideshow": {
     "slide_type": "fragment"
    }
   },
   "outputs": [],
   "source": [
    "OK = ring_of_integers(K);"
   ]
  },
  {
   "cell_type": "code",
   "execution_count": 19,
   "id": "7b2ea983",
   "metadata": {
    "slideshow": {
     "slide_type": "fragment"
    }
   },
   "outputs": [
    {
     "data": {
      "text/plain": [
       "3-element Vector{Bool}:\n",
       " 1\n",
       " 1\n",
       " 1"
      ]
     },
     "execution_count": 19,
     "metadata": {},
     "output_type": "execute_result"
    }
   ],
   "source": [
    "[is_isotropic(V2, p) for p in prime_ideals_up_to(OK, 10)] # 1 means yes, 0 means no"
   ]
  },
  {
   "cell_type": "code",
   "execution_count": 20,
   "id": "d8dba4e8",
   "metadata": {
    "slideshow": {
     "slide_type": "fragment"
    }
   },
   "outputs": [
    {
     "data": {
      "text/plain": [
       "2-element Vector{Bool}:\n",
       " 1\n",
       " 0"
      ]
     },
     "execution_count": 20,
     "metadata": {},
     "output_type": "execute_result"
    }
   ],
   "source": [
    "[is_isotropic(V2, p) for p in real_places(K)]"
   ]
  },
  {
   "cell_type": "code",
   "execution_count": 21,
   "id": "16f38b34",
   "metadata": {
    "slideshow": {
     "slide_type": "fragment"
    }
   },
   "outputs": [
    {
     "data": {
      "text/plain": [
       "1-element Vector{Int64}:\n",
       " -1"
      ]
     },
     "execution_count": 21,
     "metadata": {},
     "output_type": "execute_result"
    }
   ],
   "source": [
    "[hasse_invariant(V2, p) for p in prime_ideals_over(OK, 2)]"
   ]
  },
  {
   "cell_type": "markdown",
   "id": "1fc67c38",
   "metadata": {
    "slideshow": {
     "slide_type": "slide"
    }
   },
   "source": [
    "### Comparing quadratic spaces\n",
    "\n",
    "... locally"
   ]
  },
  {
   "cell_type": "code",
   "execution_count": 22,
   "id": "1f916af8",
   "metadata": {
    "slideshow": {
     "slide_type": "fragment"
    }
   },
   "outputs": [],
   "source": [
    "W1 = quadratic_space(QQ, diagonal_matrix(QQ, [2, 3]));"
   ]
  },
  {
   "cell_type": "code",
   "execution_count": 23,
   "id": "2172b210",
   "metadata": {
    "slideshow": {
     "slide_type": "fragment"
    }
   },
   "outputs": [
    {
     "data": {
      "text/plain": [
       "false"
      ]
     },
     "execution_count": 23,
     "metadata": {},
     "output_type": "execute_result"
    }
   ],
   "source": [
    "is_isometric(V1, W1, 2)"
   ]
  },
  {
   "cell_type": "code",
   "execution_count": 24,
   "id": "8cc1fb89",
   "metadata": {
    "slideshow": {
     "slide_type": "fragment"
    }
   },
   "outputs": [],
   "source": [
    "W2 = quadratic_space(QQ, diagonal_matrix(QQ, [1, -1]));"
   ]
  },
  {
   "cell_type": "code",
   "execution_count": 25,
   "id": "d4f8ee45",
   "metadata": {
    "slideshow": {
     "slide_type": "fragment"
    }
   },
   "outputs": [
    {
     "data": {
      "text/plain": [
       "true"
      ]
     },
     "execution_count": 25,
     "metadata": {},
     "output_type": "execute_result"
    }
   ],
   "source": [
    "is_isometric(V1, W2, 3)"
   ]
  },
  {
   "cell_type": "markdown",
   "id": "54f4bbd4",
   "metadata": {
    "slideshow": {
     "slide_type": "slide"
    }
   },
   "source": [
    "... globally"
   ]
  },
  {
   "cell_type": "code",
   "execution_count": 26,
   "id": "a852665f",
   "metadata": {
    "slideshow": {
     "slide_type": "fragment"
    }
   },
   "outputs": [
    {
     "data": {
      "text/plain": [
       "false"
      ]
     },
     "execution_count": 26,
     "metadata": {},
     "output_type": "execute_result"
    }
   ],
   "source": [
    "is_isometric(V1, W1)"
   ]
  },
  {
   "cell_type": "code",
   "execution_count": 27,
   "id": "c1918088",
   "metadata": {
    "slideshow": {
     "slide_type": "fragment"
    }
   },
   "outputs": [
    {
     "data": {
      "text/plain": [
       "true"
      ]
     },
     "execution_count": 27,
     "metadata": {},
     "output_type": "execute_result"
    }
   ],
   "source": [
    "is_isometric(V1, W2)"
   ]
  },
  {
   "cell_type": "markdown",
   "id": "35e6c035",
   "metadata": {
    "slideshow": {
     "slide_type": "fragment"
    }
   },
   "source": [
    "We can also find an isometry!"
   ]
  },
  {
   "cell_type": "code",
   "execution_count": 28,
   "id": "494d4745",
   "metadata": {
    "slideshow": {
     "slide_type": "fragment"
    }
   },
   "outputs": [
    {
     "data": {
      "text/plain": [
       "(true, [-3//2 1//2; -1 1])"
      ]
     },
     "execution_count": 28,
     "metadata": {},
     "output_type": "execute_result"
    }
   ],
   "source": [
    "fl, T = is_isometric_with_isometry(V1, W2)"
   ]
  },
  {
   "cell_type": "code",
   "execution_count": 29,
   "id": "f04d0b80",
   "metadata": {
    "slideshow": {
     "slide_type": "fragment"
    }
   },
   "outputs": [
    {
     "data": {
      "text/plain": [
       "true"
      ]
     },
     "execution_count": 29,
     "metadata": {},
     "output_type": "execute_result"
    }
   ],
   "source": [
    "gram_matrix(V1) == T * gram_matrix(W2) * transpose(T)"
   ]
  },
  {
   "cell_type": "markdown",
   "id": "c94f08c0",
   "metadata": {
    "slideshow": {
     "slide_type": "fragment"
    }
   },
   "source": [
    "Warning: Runtime for computing an isometry explicitely quickly get's out of control for large dimensions. (Should be fine on a quantum computer.)"
   ]
  },
  {
   "cell_type": "markdown",
   "id": "86b3200d",
   "metadata": {
    "slideshow": {
     "slide_type": "slide"
    }
   },
   "source": [
    "## Quadratic lattices\n",
    "\n",
    "Given a quadratic space $V$ over a number field $K$, a quadratic lattice $L$ is a finitely generated $\\mathcal{O}_K$-submodule of $V$ ($V = K^n$). We represent quadratic lattices as follows:\n",
    "\n",
    "- If $K = \\mathbf{Q}$, the lattice $L$ is specified by a full rank integer matrix with row span $L$ (we call those *integer lattices*),\n",
    "- If $K$ is a number field, the lattice $L$ is specified by a full rank pseudo-matrix over $\\mathcal{O}_K$ with row span $L$."
   ]
  },
  {
   "cell_type": "markdown",
   "id": "01de8242",
   "metadata": {
    "slideshow": {
     "slide_type": "slide"
    }
   },
   "source": [
    "### Construction"
   ]
  },
  {
   "cell_type": "code",
   "execution_count": 30,
   "id": "d24cee52",
   "metadata": {
    "slideshow": {
     "slide_type": "fragment"
    }
   },
   "outputs": [
    {
     "data": {
      "text/plain": [
       "Quadratic space of dimension 2\n",
       "  over rational field\n",
       "with gram matrix\n",
       "[2   1]\n",
       "[1   0]"
      ]
     },
     "execution_count": 30,
     "metadata": {},
     "output_type": "execute_result"
    }
   ],
   "source": [
    "V1"
   ]
  },
  {
   "cell_type": "code",
   "execution_count": 31,
   "id": "d9810a46",
   "metadata": {
    "slideshow": {
     "slide_type": "fragment"
    }
   },
   "outputs": [
    {
     "data": {
      "text/plain": [
       "Integer lattice of rank 2 and degree 2\n",
       "with gram matrix\n",
       "[ 8   16]\n",
       "[16   24]"
      ]
     },
     "execution_count": 31,
     "metadata": {},
     "output_type": "execute_result"
    }
   ],
   "source": [
    "L1 = lattice(V1, ZZ[1 3; 3 1])"
   ]
  },
  {
   "cell_type": "code",
   "execution_count": 32,
   "id": "027c82ea",
   "metadata": {
    "slideshow": {
     "slide_type": "fragment"
    }
   },
   "outputs": [
    {
     "data": {
      "text/plain": [
       "[1   3]\n",
       "[3   1]"
      ]
     },
     "execution_count": 32,
     "metadata": {},
     "output_type": "execute_result"
    }
   ],
   "source": [
    "basis_matrix(L1)"
   ]
  },
  {
   "cell_type": "markdown",
   "id": "03f0160c",
   "metadata": {
    "slideshow": {
     "slide_type": "fragment"
    }
   },
   "source": [
    "One can also directly construct an integer lattice. The ambient quadratic space will be constructed implicitely."
   ]
  },
  {
   "cell_type": "code",
   "execution_count": 33,
   "id": "45d067b6",
   "metadata": {
    "slideshow": {
     "slide_type": "fragment"
    }
   },
   "outputs": [
    {
     "data": {
      "text/plain": [
       "Integer lattice of rank 2 and degree 2\n",
       "with gram matrix\n",
       "[5   4]\n",
       "[4   5]"
      ]
     },
     "execution_count": 33,
     "metadata": {},
     "output_type": "execute_result"
    }
   ],
   "source": [
    "LL1 = integer_lattice(gram = ZZ[5 4;4 5])"
   ]
  },
  {
   "cell_type": "code",
   "execution_count": 34,
   "id": "95d4044b",
   "metadata": {
    "slideshow": {
     "slide_type": "fragment"
    }
   },
   "outputs": [
    {
     "data": {
      "text/plain": [
       "[1   0]\n",
       "[0   1]"
      ]
     },
     "execution_count": 34,
     "metadata": {},
     "output_type": "execute_result"
    }
   ],
   "source": [
    "basis_matrix(LL1)"
   ]
  },
  {
   "cell_type": "markdown",
   "id": "b7a24248",
   "metadata": {
    "slideshow": {
     "slide_type": "slide"
    }
   },
   "source": [
    "... over a number field"
   ]
  },
  {
   "cell_type": "code",
   "execution_count": 35,
   "id": "92c724b0",
   "metadata": {
    "slideshow": {
     "slide_type": "fragment"
    }
   },
   "outputs": [
    {
     "data": {
      "text/plain": [
       "Quadratic space of dimension 3\n",
       "  over number field of degree 2 over QQ\n",
       "with gram matrix\n",
       "[√5    1    0]\n",
       "[ 1   √5   -1]\n",
       "[ 0   -1    1]"
      ]
     },
     "execution_count": 35,
     "metadata": {},
     "output_type": "execute_result"
    }
   ],
   "source": [
    "V2"
   ]
  },
  {
   "cell_type": "markdown",
   "id": "174e0ff3",
   "metadata": {
    "slideshow": {
     "slide_type": "fragment"
    }
   },
   "source": [
    "Construct a lattice by providing generators:"
   ]
  },
  {
   "cell_type": "code",
   "execution_count": 36,
   "id": "b6fb2c67",
   "metadata": {
    "slideshow": {
     "slide_type": "fragment"
    }
   },
   "outputs": [
    {
     "data": {
      "text/plain": [
       "Quadratic lattice of rank 3 and degree 3\n",
       "  over maximal order\n",
       "    of number field with defining polynomial x^2 - 5\n",
       "      over rational field\n",
       "  with Z-basis [1, 1//2*√5 + 1//2]"
      ]
     },
     "execution_count": 36,
     "metadata": {},
     "output_type": "execute_result"
    }
   ],
   "source": [
    "L2 = lattice(V2, [[1, 0, 0], [1, 1, 0], [0, 0, 1//2]])"
   ]
  },
  {
   "cell_type": "code",
   "execution_count": 37,
   "id": "fc888d1e",
   "metadata": {
    "slideshow": {
     "slide_type": "fragment"
    }
   },
   "outputs": [
    {
     "data": {
      "text/plain": [
       "[1   0   0] * <1>//1\n",
       "[0   1   0] * <1>//1\n",
       "[0   0   1] * <1>//2"
      ]
     },
     "execution_count": 37,
     "metadata": {},
     "output_type": "execute_result"
    }
   ],
   "source": [
    "pseudo_matrix(L2)"
   ]
  },
  {
   "cell_type": "markdown",
   "id": "dbceae6b",
   "metadata": {
    "slideshow": {
     "slide_type": "slide"
    }
   },
   "source": [
    "### Properties"
   ]
  },
  {
   "cell_type": "code",
   "execution_count": 38,
   "id": "772bafb6",
   "metadata": {
    "slideshow": {
     "slide_type": "fragment"
    }
   },
   "outputs": [
    {
     "data": {
      "text/plain": [
       "[ 8   16]\n",
       "[16   24]"
      ]
     },
     "execution_count": 38,
     "metadata": {},
     "output_type": "execute_result"
    }
   ],
   "source": [
    "gram_matrix(L1)"
   ]
  },
  {
   "cell_type": "markdown",
   "id": "702ae978",
   "metadata": {
    "slideshow": {
     "slide_type": "fragment"
    }
   },
   "source": [
    "Associated quadratic spaces:"
   ]
  },
  {
   "cell_type": "code",
   "execution_count": 39,
   "id": "34983b74",
   "metadata": {
    "slideshow": {
     "slide_type": "fragment"
    }
   },
   "outputs": [
    {
     "data": {
      "text/plain": [
       "true"
      ]
     },
     "execution_count": 39,
     "metadata": {},
     "output_type": "execute_result"
    }
   ],
   "source": [
    "ambient_space(L1) == V1"
   ]
  },
  {
   "cell_type": "markdown",
   "id": "67a17e5d",
   "metadata": {
    "slideshow": {
     "slide_type": "fragment"
    }
   },
   "source": [
    "The quadratic space $\\mathbf{Q} \\otimes L$ is the *rational span* of $L$. It is quadratic space with gram matrix equal to the gram matrix of $L$."
   ]
  },
  {
   "cell_type": "code",
   "execution_count": 40,
   "id": "6e7c295d",
   "metadata": {
    "slideshow": {
     "slide_type": "fragment"
    }
   },
   "outputs": [
    {
     "data": {
      "text/plain": [
       "Quadratic space of dimension 2\n",
       "  over rational field\n",
       "with gram matrix\n",
       "[ 8   16]\n",
       "[16   24]"
      ]
     },
     "execution_count": 40,
     "metadata": {},
     "output_type": "execute_result"
    }
   ],
   "source": [
    "rational_span(L1)"
   ]
  },
  {
   "cell_type": "code",
   "execution_count": 41,
   "id": "b4506ec6",
   "metadata": {
    "slideshow": {
     "slide_type": "slide"
    }
   },
   "outputs": [
    {
     "data": {
      "text/plain": [
       "8"
      ]
     },
     "execution_count": 41,
     "metadata": {},
     "output_type": "execute_result"
    }
   ],
   "source": [
    "norm(L1)"
   ]
  },
  {
   "cell_type": "code",
   "execution_count": 42,
   "id": "5b2080b7",
   "metadata": {
    "slideshow": {
     "slide_type": "fragment"
    }
   },
   "outputs": [
    {
     "data": {
      "text/plain": [
       "8"
      ]
     },
     "execution_count": 42,
     "metadata": {},
     "output_type": "execute_result"
    }
   ],
   "source": [
    "scale(L1)"
   ]
  },
  {
   "cell_type": "code",
   "execution_count": 43,
   "id": "9dc7a079",
   "metadata": {
    "slideshow": {
     "slide_type": "fragment"
    }
   },
   "outputs": [
    {
     "data": {
      "text/plain": [
       "-64"
      ]
     },
     "execution_count": 43,
     "metadata": {},
     "output_type": "execute_result"
    }
   ],
   "source": [
    "det(L1)"
   ]
  },
  {
   "cell_type": "code",
   "execution_count": 44,
   "id": "31246980",
   "metadata": {
    "slideshow": {
     "slide_type": "fragment"
    }
   },
   "outputs": [
    {
     "data": {
      "text/plain": [
       "true"
      ]
     },
     "execution_count": 44,
     "metadata": {},
     "output_type": "execute_result"
    }
   ],
   "source": [
    "is_even(L1)"
   ]
  },
  {
   "cell_type": "code",
   "execution_count": 45,
   "id": "64a8f7ee",
   "metadata": {},
   "outputs": [
    {
     "data": {
      "text/plain": [
       "true"
      ]
     },
     "execution_count": 45,
     "metadata": {},
     "output_type": "execute_result"
    }
   ],
   "source": [
    "is_integral(L1)"
   ]
  },
  {
   "cell_type": "markdown",
   "id": "2e7737ad",
   "metadata": {
    "slideshow": {
     "slide_type": "slide"
    }
   },
   "source": [
    "### Local properties"
   ]
  },
  {
   "cell_type": "code",
   "execution_count": 46,
   "id": "c2a26355",
   "metadata": {
    "slideshow": {
     "slide_type": "fragment"
    }
   },
   "outputs": [
    {
     "data": {
      "text/plain": [
       "false"
      ]
     },
     "execution_count": 46,
     "metadata": {},
     "output_type": "execute_result"
    }
   ],
   "source": [
    "is_positive_definite(L1)"
   ]
  },
  {
   "cell_type": "code",
   "execution_count": 47,
   "id": "9b114a86",
   "metadata": {
    "slideshow": {
     "slide_type": "fragment"
    }
   },
   "outputs": [
    {
     "data": {
      "text/plain": [
       "false"
      ]
     },
     "execution_count": 47,
     "metadata": {},
     "output_type": "execute_result"
    }
   ],
   "source": [
    "is_negative_definite(L1)"
   ]
  },
  {
   "cell_type": "code",
   "execution_count": 48,
   "id": "123d254a",
   "metadata": {
    "slideshow": {
     "slide_type": "fragment"
    }
   },
   "outputs": [
    {
     "data": {
      "text/plain": [
       "true"
      ]
     },
     "execution_count": 48,
     "metadata": {},
     "output_type": "execute_result"
    }
   ],
   "source": [
    "is_isotropic(L1, 2)"
   ]
  },
  {
   "cell_type": "code",
   "execution_count": 49,
   "id": "8c8cebf0",
   "metadata": {
    "slideshow": {
     "slide_type": "fragment"
    }
   },
   "outputs": [
    {
     "data": {
      "text/plain": [
       "(true, 3)"
      ]
     },
     "execution_count": 49,
     "metadata": {},
     "output_type": "execute_result"
    }
   ],
   "source": [
    "is_modular(L1, 2)"
   ]
  },
  {
   "cell_type": "markdown",
   "id": "b5e7613b",
   "metadata": {
    "slideshow": {
     "slide_type": "slide"
    }
   },
   "source": [
    "### Enumeration and related things"
   ]
  },
  {
   "cell_type": "code",
   "execution_count": 50,
   "id": "a7d5ab83",
   "metadata": {
    "slideshow": {
     "slide_type": "fragment"
    }
   },
   "outputs": [
    {
     "data": {
      "text/plain": [
       "Integer lattice of rank 3 and degree 3\n",
       "with gram matrix\n",
       "[29   23    0]\n",
       "[23   26    0]\n",
       "[ 0    0   10]"
      ]
     },
     "execution_count": 50,
     "metadata": {},
     "output_type": "execute_result"
    }
   ],
   "source": [
    "V = quadratic_space(QQ, QQ[2 1 0; 1 5 0; 0 0 10]); L = lattice(V, ZZ[3 1 0; 1 2 0; 0 0 1])"
   ]
  },
  {
   "cell_type": "code",
   "execution_count": 51,
   "id": "3db4add8",
   "metadata": {
    "slideshow": {
     "slide_type": "fragment"
    }
   },
   "outputs": [
    {
     "data": {
      "text/plain": [
       "true"
      ]
     },
     "execution_count": 51,
     "metadata": {},
     "output_type": "execute_result"
    }
   ],
   "source": [
    "is_positive_definite(L)"
   ]
  },
  {
   "cell_type": "code",
   "execution_count": 52,
   "id": "4a7ef99f",
   "metadata": {
    "slideshow": {
     "slide_type": "fragment"
    }
   },
   "outputs": [
    {
     "data": {
      "text/plain": [
       "9"
      ]
     },
     "execution_count": 52,
     "metadata": {},
     "output_type": "execute_result"
    }
   ],
   "source": [
    "minimum(L)"
   ]
  },
  {
   "cell_type": "code",
   "execution_count": 53,
   "id": "9e74bf55",
   "metadata": {
    "slideshow": {
     "slide_type": "fragment"
    }
   },
   "outputs": [
    {
     "data": {
      "text/plain": [
       "1-element Vector{Vector{ZZRingElem}}:\n",
       " [1, -1, 0]"
      ]
     },
     "execution_count": 53,
     "metadata": {},
     "output_type": "execute_result"
    }
   ],
   "source": [
    "shortest_vectors(L)"
   ]
  },
  {
   "cell_type": "markdown",
   "id": "66bc85b6",
   "metadata": {
    "slideshow": {
     "slide_type": "fragment"
    }
   },
   "source": [
    "Careful, these coordinates are with respect to the lattice basis!"
   ]
  },
  {
   "cell_type": "code",
   "execution_count": 54,
   "id": "fa588c96",
   "metadata": {
    "slideshow": {
     "slide_type": "fragment"
    }
   },
   "outputs": [
    {
     "data": {
      "text/plain": [
       "5"
      ]
     },
     "execution_count": 54,
     "metadata": {},
     "output_type": "execute_result"
    }
   ],
   "source": [
    "inner_product(ambient_space(L), [1, -1, 0], [1, -1, 0])"
   ]
  },
  {
   "cell_type": "code",
   "execution_count": 55,
   "id": "4f2c43f2",
   "metadata": {
    "slideshow": {
     "slide_type": "fragment"
    }
   },
   "outputs": [
    {
     "data": {
      "text/plain": [
       "9"
      ]
     },
     "execution_count": 55,
     "metadata": {},
     "output_type": "execute_result"
    }
   ],
   "source": [
    "inner_product(rational_span(L), [1, -1, 0], [1, -1, 0])"
   ]
  },
  {
   "cell_type": "code",
   "execution_count": 56,
   "id": "dbfe99a6",
   "metadata": {
    "slideshow": {
     "slide_type": "slide"
    }
   },
   "outputs": [
    {
     "data": {
      "text/plain": [
       "4-element Vector{Tuple{Vector{ZZRingElem}, QQFieldElem}}:\n",
       " ([1, -1, -1], 19)\n",
       " ([0, 0, 1], 10)\n",
       " ([1, -1, 1], 19)\n",
       " ([1, -1, 0], 9)"
      ]
     },
     "execution_count": 56,
     "metadata": {},
     "output_type": "execute_result"
    }
   ],
   "source": [
    "short_vectors(L, 5, 25)"
   ]
  },
  {
   "cell_type": "code",
   "execution_count": 57,
   "id": "0d45f056",
   "metadata": {
    "slideshow": {
     "slide_type": "fragment"
    }
   },
   "outputs": [
    {
     "data": {
      "text/plain": [
       "2"
      ]
     },
     "execution_count": 57,
     "metadata": {},
     "output_type": "execute_result"
    }
   ],
   "source": [
    "kissing_number(L)"
   ]
  },
  {
   "cell_type": "code",
   "execution_count": 58,
   "id": "56a77c5e",
   "metadata": {
    "slideshow": {
     "slide_type": "slide"
    }
   },
   "outputs": [
    {
     "data": {
      "text/plain": [
       "Matrix group of degree 3\n",
       "  over rational field"
      ]
     },
     "execution_count": 58,
     "metadata": {},
     "output_type": "execute_result"
    }
   ],
   "source": [
    "OL = orthogonal_group(L)"
   ]
  },
  {
   "cell_type": "code",
   "execution_count": 59,
   "id": "55b12970",
   "metadata": {
    "slideshow": {
     "slide_type": "fragment"
    }
   },
   "outputs": [
    {
     "data": {
      "text/plain": [
       "2-element Vector{MatrixGroupElem{QQFieldElem, QQMatrix}}:\n",
       " [-1 0 0; 0 -1 0; 0 0 -1]\n",
       " [1 0 0; 0 1 0; 0 0 -1]"
      ]
     },
     "execution_count": 59,
     "metadata": {},
     "output_type": "execute_result"
    }
   ],
   "source": [
    "gens(OL)"
   ]
  },
  {
   "cell_type": "code",
   "execution_count": 60,
   "id": "72ecc174",
   "metadata": {
    "slideshow": {
     "slide_type": "fragment"
    }
   },
   "outputs": [
    {
     "data": {
      "text/plain": [
       "4"
      ]
     },
     "execution_count": 60,
     "metadata": {},
     "output_type": "execute_result"
    }
   ],
   "source": [
    "order(OL)"
   ]
  },
  {
   "cell_type": "code",
   "execution_count": 61,
   "id": "473ff823",
   "metadata": {
    "slideshow": {
     "slide_type": "fragment"
    }
   },
   "outputs": [
    {
     "data": {
      "text/plain": [
       "9//4"
      ]
     },
     "execution_count": 61,
     "metadata": {},
     "output_type": "execute_result"
    }
   ],
   "source": [
    "mass(L)"
   ]
  },
  {
   "cell_type": "markdown",
   "id": "d4d11734",
   "metadata": {
    "slideshow": {
     "slide_type": "slide"
    }
   },
   "source": [
    "### Genera and isometry"
   ]
  },
  {
   "cell_type": "code",
   "execution_count": 62,
   "id": "143fb046",
   "metadata": {
    "slideshow": {
     "slide_type": "fragment"
    }
   },
   "outputs": [
    {
     "data": {
      "text/plain": [
       "Integer lattice of rank 3 and degree 3\n",
       "with gram matrix\n",
       "[267   169   150]\n",
       "[169   116    90]\n",
       "[150    90    90]"
      ]
     },
     "execution_count": 62,
     "metadata": {},
     "output_type": "execute_result"
    }
   ],
   "source": [
    "M = lattice(V, ZZ[2 1 5; 1 2 3; 0 0 3])"
   ]
  },
  {
   "cell_type": "code",
   "execution_count": 63,
   "id": "abc92c95",
   "metadata": {
    "slideshow": {
     "slide_type": "fragment"
    }
   },
   "outputs": [
    {
     "data": {
      "text/plain": [
       "false"
      ]
     },
     "execution_count": 63,
     "metadata": {},
     "output_type": "execute_result"
    }
   ],
   "source": [
    "is_locally_isometric(L, M, 3)"
   ]
  },
  {
   "cell_type": "code",
   "execution_count": 64,
   "id": "7ec9be43",
   "metadata": {
    "slideshow": {
     "slide_type": "fragment"
    }
   },
   "outputs": [
    {
     "data": {
      "text/plain": [
       "(Local genus symbol at 3: 1^-2 9^-1, Local genus symbol at 3: 1^-2 729^-1)"
      ]
     },
     "execution_count": 64,
     "metadata": {},
     "output_type": "execute_result"
    }
   ],
   "source": [
    "genus(L, 3), genus(M, 3)"
   ]
  },
  {
   "cell_type": "markdown",
   "id": "aa1ae826",
   "metadata": {
    "slideshow": {
     "slide_type": "fragment"
    }
   },
   "source": [
    "The genus of a lattice $L$ is the set of all lattices, which are locally isometric to $L$ at all primes. It can be represented using a finite collection of genus symbols."
   ]
  },
  {
   "cell_type": "code",
   "execution_count": 65,
   "id": "567d34f2",
   "metadata": {
    "slideshow": {
     "slide_type": "fragment"
    }
   },
   "outputs": [
    {
     "data": {
      "text/latex": [
       "\\(\\mathrm{I}_{(3, 0)}2^{-1}_{5}9^{-1}5^{-1}25^{1}\\)"
      ],
      "text/plain": [
       "Genus symbol for integer lattices\n",
       "Signatures: (3, 0, 0)\n",
       "Local symbols:\n",
       "  Local genus symbol at 2: 1^2_2 2^-1_5\n",
       "  Local genus symbol at 3: 1^-2 9^-1\n",
       "  Local genus symbol at 5: 1^1 5^-1 25^1"
      ]
     },
     "execution_count": 65,
     "metadata": {},
     "output_type": "execute_result"
    }
   ],
   "source": [
    "genus(L)"
   ]
  },
  {
   "cell_type": "code",
   "execution_count": 66,
   "id": "6414690f",
   "metadata": {
    "slideshow": {
     "slide_type": "fragment"
    }
   },
   "outputs": [
    {
     "data": {
      "text/plain": [
       "false"
      ]
     },
     "execution_count": 66,
     "metadata": {},
     "output_type": "execute_result"
    }
   ],
   "source": [
    "genus(L) == genus(M)"
   ]
  },
  {
   "cell_type": "code",
   "execution_count": 67,
   "id": "aa85faa3",
   "metadata": {
    "slideshow": {
     "slide_type": "slide"
    }
   },
   "outputs": [
    {
     "data": {
      "text/plain": [
       "false"
      ]
     },
     "execution_count": 67,
     "metadata": {},
     "output_type": "execute_result"
    }
   ],
   "source": [
    "is_isometric(L, M)"
   ]
  },
  {
   "cell_type": "code",
   "execution_count": 68,
   "id": "64955ac2",
   "metadata": {
    "slideshow": {
     "slide_type": "fragment"
    }
   },
   "outputs": [
    {
     "data": {
      "text/plain": [
       "7-element Vector{ZZLat}:\n",
       " Integer lattice of rank 3 and degree 3\n",
       " Integer lattice of rank 3 and degree 3\n",
       " Integer lattice of rank 3 and degree 3\n",
       " Integer lattice of rank 3 and degree 3\n",
       " Integer lattice of rank 3 and degree 3\n",
       " Integer lattice of rank 3 and degree 3\n",
       " Integer lattice of rank 3 and degree 3"
      ]
     },
     "execution_count": 68,
     "metadata": {},
     "output_type": "execute_result"
    }
   ],
   "source": [
    "genus_representatives(L)"
   ]
  },
  {
   "cell_type": "markdown",
   "id": "1f86ff40",
   "metadata": {
    "slideshow": {
     "slide_type": "fragment"
    }
   },
   "source": [
    "Let's verify with the mass formula:"
   ]
  },
  {
   "cell_type": "code",
   "execution_count": 69,
   "id": "e270693c",
   "metadata": {
    "slideshow": {
     "slide_type": "fragment"
    }
   },
   "outputs": [
    {
     "data": {
      "text/plain": [
       "true"
      ]
     },
     "execution_count": 69,
     "metadata": {},
     "output_type": "execute_result"
    }
   ],
   "source": [
    "mass(L) == sum(1//order(orthogonal_group(M)) for M in genus_representatives(L))"
   ]
  },
  {
   "cell_type": "markdown",
   "id": "efbb8717",
   "metadata": {
    "slideshow": {
     "slide_type": "slide"
    }
   },
   "source": [
    "## Kneser's neighbor method"
   ]
  },
  {
   "cell_type": "code",
   "execution_count": 70,
   "id": "4955b934",
   "metadata": {
    "slideshow": {
     "slide_type": "skip"
    }
   },
   "outputs": [
    {
     "data": {
      "text/plain": [
       "random_neighbor (generic function with 1 method)"
      ]
     },
     "execution_count": 70,
     "metadata": {},
     "output_type": "execute_result"
    }
   ],
   "source": [
    "function neighbor(L::ZZLat, v::Vector, p)\n",
    "  M = Hecke.QQ.(v) * gram_matrix(L)\n",
    "  K = kernel(matrix(GF(p), rank(L), 1, M); side = :left)\n",
    "  r = nrows(K)\n",
    "  K = K[1:r, :]\n",
    "  LL = lattice_in_same_ambient_space(L, map_entries(x -> lift(ZZ, x), K) * basis_matrix(L)) +\n",
    "       p*L +\n",
    "       lattice_in_same_ambient_space(L, matrix(QQ, [1//p * QQ.(v)]) * basis_matrix(L))\n",
    "  return LL\n",
    "end\n",
    "\n",
    "function random_neighbor(L::ZZLat, p)\n",
    "  while true\n",
    "    v = QQ.(rand(0:(p - 1), rank(L)))\n",
    "    if iszero(v)\n",
    "      continue\n",
    "    end\n",
    "    m = ZZ(Hecke.inner_product(rational_span(L), v, v))\n",
    "    if mod(m, p) == 0\n",
    "      while true\n",
    "        w = v + QQ.([rand(-10:10) * p for i in 1:rank(L)])\n",
    "        if is_zero(w)\n",
    "          continue\n",
    "        end\n",
    "        mm = ZZ(Hecke.inner_product(rational_span(L), w, w))\n",
    "        if mod(mm, p^2) == 0\n",
    "          _L =  neighbor(L, w, p)\n",
    "          @assert isintegral(_L)\n",
    "          #if !isintegral(_L)\n",
    "            #continue\n",
    "          #else\n",
    "            return _L\n",
    "          #end\n",
    "       end\n",
    "      end\n",
    "    end\n",
    "  end\n",
    "end"
   ]
  },
  {
   "cell_type": "markdown",
   "id": "01cf87bd",
   "metadata": {
    "slideshow": {
     "slide_type": "slide"
    }
   },
   "source": [
    "# Reminder\n",
    "\n",
    "- Assume that all lattices are definite. Let $p$ be a fixed prime.\n",
    "- Two lattices $L, L'$ are $p$-neighbors (write $L \\sim L'$), if $L/L \\cap L' \\cong \\mathbf{F}_p \\cong L'/L \\cap L'$.\n",
    "- If $L'$ is any lattice in the genus of $L$ (locally isometric to $L$ at all primes), there exists lattices $L_1,\\dotsc,L_r$ such that $L = L_1$, $L' = L_r$ and $L_i \\sim L_{i + 1}$ for $i \\in \\{1,\\dotsc,r\\}$. (As long as $p$ is *good*)\n",
    "- We can enumerate all $p$-neighbors of a given lattice!\n",
    "- We can test whether lattices are isometric!\n",
    "- We can find representatives for $\\operatorname{gen}(L)$ modulo isometry:\n",
    "  1. $R = \\{ L \\}$.\n",
    "  2. Pick a element $M$ of $R$ and a random $p$-neighbor $N$ of $M$. If we have not seen $N$ before, let $R \\leftarrow R \\cup \\{ N \\}$. \n",
    "  3. Rinse and repeat, until\n",
    "$$ \\sum_{M \\in R} \\frac{1}{\\lvert \\operatorname{O}(M)\\rvert} = \\operatorname{mass}(L)$$\n",
    "\n",
    "(This is just a random graph traversal)"
   ]
  },
  {
   "cell_type": "code",
   "execution_count": 71,
   "id": "afb2e753",
   "metadata": {
    "slideshow": {
     "slide_type": "slide"
    }
   },
   "outputs": [
    {
     "data": {
      "text/plain": [
       "representatives_random (generic function with 1 method)"
      ]
     },
     "execution_count": 71,
     "metadata": {},
     "output_type": "execute_result"
    }
   ],
   "source": [
    "function representatives_random(L::ZZLat, p)\n",
    "  R = [L]\n",
    "  m = mass(L)\n",
    "  edges = []\n",
    "  while true\n",
    "    for M in R\n",
    "      N= random_neighbor(M, p)\n",
    "      if any(LL -> is_isometric(N, LL), R)\n",
    "        continue\n",
    "      else\n",
    "        push!(R, N)\n",
    "        push!(edges, (M, N))\n",
    "      end\n",
    "    end\n",
    "    if m == sum(1//automorphism_group_order(M) for M in R)\n",
    "      break\n",
    "    end\n",
    "  end\n",
    "  return R, edges\n",
    "end"
   ]
  },
  {
   "cell_type": "markdown",
   "id": "36787f13",
   "metadata": {
    "slideshow": {
     "slide_type": "slide"
    }
   },
   "source": [
    "Let's pick an \"interesting\" lattice from the (beta version of the) LMFDB (https://beta.lmfdb.org/Lattice/) (could have also used something from: http://www.math.rwth-aachen.de/~Gabriele.Nebe/LATTICES/index.html)"
   ]
  },
  {
   "cell_type": "code",
   "execution_count": 72,
   "id": "22176e00",
   "metadata": {
    "slideshow": {
     "slide_type": "fragment"
    }
   },
   "outputs": [
    {
     "data": {
      "text/plain": [
       "Integer lattice of rank 3 and degree 3\n",
       "with gram matrix\n",
       "[2   0    1]\n",
       "[0   2    0]\n",
       "[1   0   70]"
      ]
     },
     "execution_count": 72,
     "metadata": {},
     "output_type": "execute_result"
    }
   ],
   "source": [
    "L = Zlattice(gram = matrix(ZZ, [[2, 0, 1], [0, 2, 0], [1, 0, 70]])) # 3.278.556.9.1"
   ]
  },
  {
   "cell_type": "markdown",
   "id": "d332ec8f",
   "metadata": {
    "slideshow": {
     "slide_type": "fragment"
    }
   },
   "source": [
    "What are the bad primes?"
   ]
  },
  {
   "cell_type": "code",
   "execution_count": 73,
   "id": "42dea9f0",
   "metadata": {
    "slideshow": {
     "slide_type": "fragment"
    }
   },
   "outputs": [
    {
     "data": {
      "text/plain": [
       "-1 * 2 * 139"
      ]
     },
     "execution_count": 73,
     "metadata": {},
     "output_type": "execute_result"
    }
   ],
   "source": [
    "factor(ZZ(discriminant(L))) # discriminants are in QQ"
   ]
  },
  {
   "cell_type": "code",
   "execution_count": 74,
   "id": "72c387a2",
   "metadata": {
    "slideshow": {
     "slide_type": "fragment"
    }
   },
   "outputs": [],
   "source": [
    "R, edges = representatives_random(L, 5);"
   ]
  },
  {
   "cell_type": "markdown",
   "id": "5e4c8634",
   "metadata": {
    "slideshow": {
     "slide_type": "fragment"
    }
   },
   "source": [
    "Thus the class number is"
   ]
  },
  {
   "cell_type": "code",
   "execution_count": 75,
   "id": "b873b025",
   "metadata": {
    "slideshow": {
     "slide_type": "fragment"
    }
   },
   "outputs": [
    {
     "data": {
      "text/plain": [
       "9"
      ]
     },
     "execution_count": 75,
     "metadata": {},
     "output_type": "execute_result"
    }
   ],
   "source": [
    "length(R)"
   ]
  },
  {
   "cell_type": "code",
   "execution_count": 76,
   "id": "83d41684",
   "metadata": {
    "slideshow": {
     "slide_type": "subslide"
    }
   },
   "outputs": [
    {
     "data": {
      "text/plain": [
       "Definite integer lattices of rank <= 40\n",
       "Author: Gabriele Nebe and Neil Sloane\n",
       "Source: http://www.math.rwth-aachen.de/~Gabriele.Nebe/LATTICES/index.html\n",
       "Number of lattices: 657"
      ]
     },
     "execution_count": 76,
     "metadata": {},
     "output_type": "execute_result"
    }
   ],
   "source": [
    "DB = lattice_database()"
   ]
  },
  {
   "cell_type": "code",
   "execution_count": 77,
   "id": "5657f785",
   "metadata": {
    "slideshow": {
     "slide_type": "fragment"
    }
   },
   "outputs": [
    {
     "data": {
      "text/plain": [
       "Integer lattice of rank 16 and degree 16\n",
       "with gram matrix\n",
       "[4    1   2   1   1   2   1   1    1    1   2    1   1   2    2    1]\n",
       "[1    4   2   1   1   1   2   1   -1    1   1    0   1   0    1    1]\n",
       "[2    2   4   0   1   2   2   1    1    1   2    1   0   1    1    2]\n",
       "[1    1   0   4   1   1   1   2    0    2   1    1   2   1    1    0]\n",
       "[1    1   1   1   4   1   1   1    1    0   0    0   1   2    2    2]\n",
       "[2    1   2   1   1   4   1   1    2    1   2    2   0   2    1    2]\n",
       "[1    2   2   1   1   1   4   1    0    2   2    1   1   0    1    1]\n",
       "[1    1   1   2   1   1   1   4    1    2   2    2   1   1    1    0]\n",
       "[1   -1   1   0   1   2   0   1    4    1   1    2   1   2    1    1]\n",
       "[1    1   1   2   0   1   2   2    1    4   2    2   1   0    0   -1]\n",
       "[2    1   2   1   0   2   2   2    1    2   4    2   0   0    1    1]\n",
       "[1    0   1   1   0   2   1   2    2    2   2    4   1   0   -1    1]\n",
       "[1    1   0   2   1   0   1   1    1    1   0    1   4   1    1    1]\n",
       "[2    0   1   1   2   2   0   1    2    0   0    0   1   4    2    1]\n",
       "[2    1   1   1   2   1   1   1    1    0   1   -1   1   2    4    1]\n",
       "[1    1   2   0   2   2   1   0    1   -1   1    1   1   1    1    4]"
      ]
     },
     "execution_count": 77,
     "metadata": {},
     "output_type": "execute_result"
    }
   ],
   "source": [
    "lattice(DB, 16, 10)"
   ]
  },
  {
   "cell_type": "markdown",
   "id": "20058f20",
   "metadata": {
    "slideshow": {
     "slide_type": "slide"
    }
   },
   "source": [
    "Let's check our random path in the neighbor graph of $L$."
   ]
  },
  {
   "cell_type": "code",
   "execution_count": 78,
   "id": "a41c2b34",
   "metadata": {
    "slideshow": {
     "slide_type": "skip"
    }
   },
   "outputs": [],
   "source": [
    "using Plots; using Graphs; using GraphRecipes;"
   ]
  },
  {
   "cell_type": "markdown",
   "id": "42335b2b",
   "metadata": {
    "slideshow": {
     "slide_type": "fragment"
    }
   },
   "source": [
    "We need to label our lattices from $1$ to $9$."
   ]
  },
  {
   "cell_type": "code",
   "execution_count": 79,
   "id": "df3948d1",
   "metadata": {
    "slideshow": {
     "slide_type": "fragment"
    }
   },
   "outputs": [],
   "source": [
    "D = Dict(R[i] => i for i in 1:length(R));"
   ]
  },
  {
   "cell_type": "markdown",
   "id": "5a0089ed",
   "metadata": {
    "slideshow": {
     "slide_type": "fragment"
    }
   },
   "source": [
    "Create a directed graph on $9$ vertices and add edges."
   ]
  },
  {
   "cell_type": "code",
   "execution_count": 80,
   "id": "b11b8049",
   "metadata": {
    "slideshow": {
     "slide_type": "fragment"
    }
   },
   "outputs": [
    {
     "data": {
      "text/plain": [
       "8-element Vector{Graphs.SimpleGraphs.SimpleEdge{Int64}}:\n",
       " Edge 1 => 2\n",
       " Edge 2 => 3\n",
       " Edge 2 => 4\n",
       " Edge 2 => 7\n",
       " Edge 4 => 5\n",
       " Edge 4 => 8\n",
       " Edge 5 => 6\n",
       " Edge 8 => 9"
      ]
     },
     "execution_count": 80,
     "metadata": {},
     "output_type": "execute_result"
    }
   ],
   "source": [
    "Grandom = DiGraph(9)\n",
    "for e in edges\n",
    "  Graphs.add_edge!(Grandom, D[e[1]], D[e[2]])\n",
    "end\n",
    "collect(Graphs.edges(Grandom))"
   ]
  },
  {
   "cell_type": "markdown",
   "id": "86627883",
   "metadata": {
    "slideshow": {
     "slide_type": "slide"
    }
   },
   "source": [
    "Let's plot this!"
   ]
  },
  {
   "cell_type": "code",
   "execution_count": 81,
   "id": "b6c35843",
   "metadata": {
    "slideshow": {
     "slide_type": "fragment"
    }
   },
   "outputs": [
    {
     "data": {
      "image/png": "[encoded data removed]",
      "image/svg+xml": [
       "<?xml version=\"1.0\" encoding=\"utf-8\"?>\n",
       "<svg xmlns=\"http://www.w3.org/2000/svg\" xmlns:xlink=\"http://www.w3.org/1999/xlink\" width=\"600\" height=\"400\" viewBox=\"0 0 2400 1600\">\n",
       "<defs>\n",
       "  <clipPath id=\"clip340\">\n",
       "    <rect x=\"0\" y=\"0\" width=\"2400\" height=\"1600\"/>\n",
       "  </clipPath>\n",
       "</defs>\n",
       "<path clip-path=\"url(#clip340)\" d=\"M0 1600 L2400 1600 L2400 8.88178e-14 L0 8.88178e-14  Z\" fill=\"#ffffff\" fill-rule=\"evenodd\" fill-opacity=\"1\"/>\n",
       "<defs>\n",
       "  <clipPath id=\"clip341\">\n",
       "    <rect x=\"480\" y=\"0\" width=\"1681\" height=\"1600\"/>\n",
       "  </clipPath>\n",
       "</defs>\n",
       "<path clip-path=\"url(#clip340)\" d=\"M447.244 1552.76 L1952.76 1552.76 L1952.76 47.2441 L447.244 47.2441  Z\" fill=\"#ffffff\" fill-rule=\"evenodd\" fill-opacity=\"1\"/>\n",
       "<defs>\n",
       "  <clipPath id=\"clip342\">\n",
       "    <rect x=\"447\" y=\"47\" width=\"1507\" height=\"1507\"/>\n",
       "  </clipPath>\n",
       "</defs>\n",
       "<polyline clip-path=\"url(#clip342)\" style=\"stroke:#000000; stroke-linecap:round; stroke-linejoin:round; stroke-width:4; stroke-opacity:1; fill:none\" points=\"1616.54,929.481 1612.66,922.849 1608.78,916.222 1604.9,909.605 1601.03,903.002 1597.18,896.418 1593.33,889.858 1589.51,883.327 1585.7,876.829 1581.92,870.37 1578.16,863.954 1574.43,857.586 1570.73,851.27 1567.06,845.012 1563.43,838.817 1559.84,832.689 1556.3,826.632 1552.79,820.652 1549.34,814.754 1545.93,808.942 1542.58,803.222 1539.29,797.597 1536.05,792.073 1532.88,786.654 1529.77,781.346 1526.73,776.152 1523.75,771.073 1520.84,766.105 1517.99,761.242 1515.2,756.48 1512.47,751.814 1509.79,747.239 1507.16,742.75 1504.58,738.343 1502.04,734.012 1499.55,729.754 1497.09,725.562 1494.67,721.433 1492.29,717.361 1489.93,713.343 1487.61,709.372 1485.3,705.444 1483.03,701.554 1480.77,697.699 1478.53,693.872 1476.3,690.069 1474.08,686.285 1471.87,682.515 1469.67,678.755 1467.47,675 \"/>\n",
       "<polyline clip-path=\"url(#clip342)\" style=\"stroke:#000000; stroke-linecap:round; stroke-linejoin:round; stroke-width:4; stroke-opacity:1; fill:none\" points=\"1470.14,715.161 1467.47,675 1501.2,696.965 \"/>\n",
       "<polyline clip-path=\"url(#clip342)\" style=\"stroke:#000000; stroke-linecap:round; stroke-linejoin:round; stroke-width:4; stroke-opacity:1; fill:none\" points=\"1467.47,675 1469.67,678.755 \"/>\n",
       "<polyline clip-path=\"url(#clip342)\" style=\"stroke:#000000; stroke-linecap:round; stroke-linejoin:round; stroke-width:4; stroke-opacity:1; fill:none\" points=\"1439.93,627.987 1446.55,626.307 1453.15,624.627 1459.75,622.951 1466.34,621.278 1472.9,619.611 1479.43,617.951 1485.93,616.299 1492.39,614.657 1498.82,613.025 1505.19,611.406 1511.51,609.801 1517.76,608.21 1523.96,606.636 1530.08,605.08 1536.13,603.543 1542.1,602.027 1547.98,600.532 1553.77,599.061 1559.47,597.614 1565.06,596.194 1570.54,594.8 1575.91,593.436 1581.16,592.101 1586.29,590.798 1591.29,589.528 1596.16,588.291 1600.91,587.085 1605.53,585.909 1610.05,584.762 1614.45,583.642 1618.76,582.549 1622.97,581.48 1627.08,580.434 1631.11,579.41 1635.06,578.406 1638.93,577.422 1642.74,576.456 1646.48,575.506 1650.15,574.571 1653.78,573.65 1657.36,572.741 1660.89,571.843 1664.39,570.954 1667.85,570.074 1671.29,569.201 1674.7,568.333 1678.1,567.469 1681.49,566.608 1684.88,565.749 \"/>\n",
       "<polyline clip-path=\"url(#clip342)\" style=\"stroke:#000000; stroke-linecap:round; stroke-linejoin:round; stroke-width:4; stroke-opacity:1; fill:none\" points=\"1645.55,557.169 1684.88,565.749 1654.42,592.06 \"/>\n",
       "<polyline clip-path=\"url(#clip342)\" style=\"stroke:#000000; stroke-linecap:round; stroke-linejoin:round; stroke-width:4; stroke-opacity:1; fill:none\" points=\"1684.88,565.749 1681.49,566.608 \"/>\n",
       "<polyline clip-path=\"url(#clip342)\" style=\"stroke:#000000; stroke-linecap:round; stroke-linejoin:round; stroke-width:4; stroke-opacity:1; fill:none\" points=\"1439.93,627.987 1432.95,629.761 1425.97,631.533 1419.01,633.303 1412.06,635.069 1405.13,636.829 1398.23,638.582 1391.36,640.327 1384.53,642.062 1377.74,643.787 1371,645.499 1364.32,647.197 1357.69,648.881 1351.13,650.548 1344.64,652.197 1338.22,653.827 1331.89,655.437 1325.64,657.024 1319.48,658.589 1313.42,660.128 1307.46,661.642 1301.61,663.128 1295.88,664.586 1290.26,666.014 1284.76,667.41 1279.4,668.773 1274.16,670.103 1269.05,671.402 1264.05,672.671 1259.17,673.911 1254.4,675.124 1249.73,676.311 1245.15,677.473 1240.67,678.612 1236.27,679.729 1231.96,680.826 1227.72,681.903 1223.55,682.962 1219.44,684.005 1215.39,685.034 1211.4,686.048 1207.46,687.05 1203.56,688.041 1199.69,689.023 1195.86,689.996 1192.06,690.962 1188.28,691.923 1184.51,692.88 1180.75,693.834 1177,694.787 \"/>\n",
       "<polyline clip-path=\"url(#clip342)\" style=\"stroke:#000000; stroke-linecap:round; stroke-linejoin:round; stroke-width:4; stroke-opacity:1; fill:none\" points=\"1216.33,703.368 1177,694.787 1207.46,668.477 \"/>\n",
       "<polyline clip-path=\"url(#clip342)\" style=\"stroke:#000000; stroke-linecap:round; stroke-linejoin:round; stroke-width:4; stroke-opacity:1; fill:none\" points=\"1177,694.787 1180.75,693.834 \"/>\n",
       "<polyline clip-path=\"url(#clip342)\" style=\"stroke:#000000; stroke-linecap:round; stroke-linejoin:round; stroke-width:4; stroke-opacity:1; fill:none\" points=\"1439.93,627.987 1441.09,620.095 1442.25,612.208 1443.41,604.332 1444.57,596.472 1445.72,588.635 1446.87,580.824 1448.02,573.047 1449.16,565.309 1450.29,557.614 1451.42,549.969 1452.53,542.379 1453.64,534.849 1454.74,527.385 1455.83,519.993 1456.91,512.678 1457.97,505.445 1459.02,498.3 1460.06,491.249 1461.09,484.297 1462.09,477.449 1463.09,470.711 1464.06,464.088 1465.02,457.587 1465.96,451.212 1466.88,444.968 1467.78,438.857 1468.66,432.872 1469.52,427.008 1470.37,421.259 1471.2,415.62 1472.01,410.086 1472.81,404.65 1473.6,399.308 1474.37,394.055 1475.13,388.883 1475.88,383.789 1476.62,378.766 1477.35,373.809 1478.07,368.912 1478.79,364.071 1479.49,359.279 1480.19,354.53 1480.88,349.821 1481.57,345.144 1482.26,340.495 1482.94,335.868 1483.62,331.257 1484.29,326.658 1484.97,322.064 \"/>\n",
       "<polyline clip-path=\"url(#clip342)\" style=\"stroke:#000000; stroke-linecap:round; stroke-linejoin:round; stroke-width:4; stroke-opacity:1; fill:none\" points=\"1461.92,355.058 1484.97,322.064 1497.53,360.302 \"/>\n",
       "<polyline clip-path=\"url(#clip342)\" style=\"stroke:#000000; stroke-linecap:round; stroke-linejoin:round; stroke-width:4; stroke-opacity:1; fill:none\" points=\"1484.97,322.064 1484.29,326.658 \"/>\n",
       "<polyline clip-path=\"url(#clip342)\" style=\"stroke:#000000; stroke-linecap:round; stroke-linejoin:round; stroke-width:4; stroke-opacity:1; fill:none\" points=\"1124.2,708.204 1119,702.983 1113.81,697.766 1108.63,692.557 1103.45,687.36 1098.3,682.178 1093.16,677.016 1088.05,671.878 1082.96,666.768 1077.91,661.689 1072.89,656.645 1067.91,651.641 1062.97,646.68 1058.08,641.766 1053.25,636.904 1048.46,632.097 1043.74,627.349 1039.08,622.664 1034.48,618.045 1029.96,613.498 1025.5,609.026 1021.13,604.632 1016.84,600.321 1012.64,596.097 1008.53,591.964 1004.51,587.924 1000.58,583.98 996.746,580.125 992.997,576.358 989.33,572.673 985.742,569.067 982.228,565.536 978.785,562.075 975.408,558.682 972.094,555.352 968.839,552.081 965.639,548.865 962.489,545.7 959.387,542.582 956.328,539.508 953.308,536.473 950.323,533.474 947.37,530.506 944.444,527.565 941.542,524.649 938.659,521.752 935.792,518.871 932.936,516.001 930.089,513.14 927.245,510.282 \"/>\n",
       "<polyline clip-path=\"url(#clip342)\" style=\"stroke:#000000; stroke-linecap:round; stroke-linejoin:round; stroke-width:4; stroke-opacity:1; fill:none\" points=\"939.879,548.497 927.245,510.282 965.398,523.104 \"/>\n",
       "<polyline clip-path=\"url(#clip342)\" style=\"stroke:#000000; stroke-linecap:round; stroke-linejoin:round; stroke-width:4; stroke-opacity:1; fill:none\" points=\"927.245,510.282 930.089,513.14 \"/>\n",
       "<polyline clip-path=\"url(#clip342)\" style=\"stroke:#000000; stroke-linecap:round; stroke-linejoin:round; stroke-width:4; stroke-opacity:1; fill:none\" points=\"1124.2,708.204 1121.35,715.44 1118.5,722.671 1115.66,729.892 1112.82,737.097 1109.99,744.281 1107.18,751.44 1104.37,758.568 1101.58,765.659 1098.8,772.709 1096.05,779.713 1093.31,786.665 1090.6,793.559 1087.91,800.392 1085.24,807.158 1082.61,813.851 1080,820.467 1077.43,827 1074.9,833.445 1072.4,839.797 1069.93,846.051 1067.51,852.201 1065.14,858.243 1062.8,864.171 1060.52,869.98 1058.28,875.665 1056.09,881.226 1053.95,886.668 1051.85,891.997 1049.79,897.217 1047.78,902.333 1045.8,907.351 1043.87,912.277 1041.96,917.114 1040.09,921.868 1038.25,926.545 1036.44,931.15 1034.65,935.687 1032.89,940.162 1031.15,944.581 1029.43,948.947 1027.73,953.267 1026.05,957.546 1024.38,961.789 1022.72,966 1021.07,970.186 1019.43,974.351 1017.8,978.5 1016.17,982.64 1014.54,986.774 \"/>\n",
       "<polyline clip-path=\"url(#clip342)\" style=\"stroke:#000000; stroke-linecap:round; stroke-linejoin:round; stroke-width:4; stroke-opacity:1; fill:none\" points=\"1044.48,959.868 1014.54,986.774 1010.98,946.682 \"/>\n",
       "<polyline clip-path=\"url(#clip342)\" style=\"stroke:#000000; stroke-linecap:round; stroke-linejoin:round; stroke-width:4; stroke-opacity:1; fill:none\" points=\"1014.54,986.774 1016.17,982.64 \"/>\n",
       "<polyline clip-path=\"url(#clip342)\" style=\"stroke:#000000; stroke-linecap:round; stroke-linejoin:round; stroke-width:4; stroke-opacity:1; fill:none\" points=\"888.813,471.661 883.783,467.012 878.757,462.366 873.74,457.729 868.734,453.102 863.745,448.491 858.776,443.898 853.832,439.328 848.916,434.785 844.033,430.272 839.187,425.792 834.381,421.351 829.621,416.951 824.909,412.596 820.251,408.29 815.649,404.037 811.109,399.841 806.634,395.705 802.228,391.633 797.896,387.629 793.642,383.696 789.469,379.84 785.382,376.062 781.384,372.367 777.481,368.759 773.675,365.242 769.967,361.814 766.353,358.474 762.828,355.216 759.39,352.038 756.033,348.935 752.753,345.904 749.547,342.941 746.41,340.042 743.339,337.203 740.329,334.421 737.376,331.692 734.476,329.011 731.625,326.376 728.819,323.783 726.054,321.227 723.325,318.705 720.629,316.213 717.962,313.748 715.319,311.305 712.697,308.881 710.09,306.473 707.497,304.075 704.911,301.685 702.329,299.299 \"/>\n",
       "<polyline clip-path=\"url(#clip342)\" style=\"stroke:#000000; stroke-linecap:round; stroke-linejoin:round; stroke-width:4; stroke-opacity:1; fill:none\" points=\"716.549,336.953 702.329,299.299 740.984,310.516 \"/>\n",
       "<polyline clip-path=\"url(#clip342)\" style=\"stroke:#000000; stroke-linecap:round; stroke-linejoin:round; stroke-width:4; stroke-opacity:1; fill:none\" points=\"702.329,299.299 704.911,301.685 \"/>\n",
       "<polyline clip-path=\"url(#clip342)\" style=\"stroke:#000000; stroke-linecap:round; stroke-linejoin:round; stroke-width:4; stroke-opacity:1; fill:none\" points=\"994.584,1037.47 991.682,1044.11 988.783,1050.74 985.889,1057.36 983.001,1063.96 980.122,1070.55 977.254,1077.11 974.399,1083.63 971.561,1090.13 968.739,1096.58 965.938,1102.99 963.16,1109.34 960.405,1115.64 957.678,1121.88 954.979,1128.05 952.311,1134.15 949.677,1140.17 947.079,1146.12 944.518,1151.97 941.998,1157.74 939.519,1163.41 937.086,1168.97 934.699,1174.43 932.361,1179.78 930.074,1185.01 927.84,1190.12 925.66,1195.1 923.531,1199.97 921.451,1204.73 919.418,1209.38 917.43,1213.93 915.483,1218.38 913.577,1222.74 911.709,1227.01 909.876,1231.2 908.077,1235.32 906.308,1239.36 904.569,1243.34 902.857,1247.25 901.169,1251.12 899.503,1254.93 897.857,1258.69 896.229,1262.41 894.617,1266.1 893.018,1269.76 891.43,1273.39 889.851,1277 888.279,1280.59 886.711,1284.18 885.145,1287.76 \"/>\n",
       "<polyline clip-path=\"url(#clip342)\" style=\"stroke:#000000; stroke-linecap:round; stroke-linejoin:round; stroke-width:4; stroke-opacity:1; fill:none\" points=\"916.06,1261.99 885.145,1287.76 883.075,1247.57 \"/>\n",
       "<polyline clip-path=\"url(#clip342)\" style=\"stroke:#000000; stroke-linecap:round; stroke-linejoin:round; stroke-width:4; stroke-opacity:1; fill:none\" points=\"885.145,1287.76 886.711,1284.18 \"/>\n",
       "<path clip-path=\"url(#clip342)\" d=\"M1671.03 929.481 L1670.86 925.152 L1670.34 920.851 L1669.49 916.604 L1668.3 912.438 L1666.78 908.381 L1664.94 904.456 L1662.8 900.69 L1660.37 897.106 L1657.66 893.727 L1654.69 890.573 L1651.47 887.666 L1648.04 885.023 L1644.41 882.661 L1640.6 880.595 L1636.64 878.838 L1632.55 877.401 L1628.37 876.294 L1624.1 875.523 L1619.79 875.093 L1615.46 875.007 L1611.14 875.265 L1606.85 875.866 L1602.62 876.806 L1598.48 878.079 L1594.45 879.677 L1590.56 881.59 L1586.84 883.806 L1583.3 886.31 L1579.98 889.088 L1576.89 892.12 L1574.04 895.389 L1571.47 898.874 L1569.18 902.552 L1567.19 906.4 L1565.51 910.394 L1564.16 914.509 L1563.13 918.719 L1562.45 922.996 L1562.1 927.315 L1562.1 931.647 L1562.45 935.966 L1563.13 940.243 L1564.16 944.453 L1565.51 948.568 L1567.19 952.562 L1569.18 956.41 L1571.47 960.088 L1574.04 963.573 L1576.89 966.842 L1579.98 969.875 L1583.3 972.652 L1586.84 975.157 L1590.56 977.372 L1594.45 979.285 L1598.48 980.883 L1602.62 982.156 L1606.85 983.096 L1611.14 983.697 L1615.46 983.956 L1619.79 983.869 L1624.1 983.439 L1628.37 982.668 L1632.55 981.561 L1636.64 980.124 L1640.6 978.367 L1644.41 976.301 L1648.04 973.94 L1651.47 971.297 L1654.69 968.389 L1657.66 965.236 L1660.37 961.856 L1662.8 958.272 L1664.94 954.506 L1666.78 950.582 L1668.3 946.524 L1669.49 942.358 L1670.34 938.112 L1670.86 933.81 L1671.03 929.481 L1671.03 929.481  Z\" fill=\"#009af9\" fill-rule=\"evenodd\" fill-opacity=\"1\"/>\n",
       "<polyline clip-path=\"url(#clip342)\" style=\"stroke:#000000; stroke-linecap:round; stroke-linejoin:round; stroke-width:4; stroke-opacity:1; fill:none\" points=\"1671.03,929.481 1670.86,925.152 1670.34,920.851 1669.49,916.604 1668.3,912.438 1666.78,908.381 1664.94,904.456 1662.8,900.69 1660.37,897.106 1657.66,893.727 1654.69,890.573 1651.47,887.666 1648.04,885.023 1644.41,882.661 1640.6,880.595 1636.64,878.838 1632.55,877.401 1628.37,876.294 1624.1,875.523 1619.79,875.093 1615.46,875.007 1611.14,875.265 1606.85,875.866 1602.62,876.806 1598.48,878.079 1594.45,879.677 1590.56,881.59 1586.84,883.806 1583.3,886.31 1579.98,889.088 1576.89,892.12 1574.04,895.389 1571.47,898.874 1569.18,902.552 1567.19,906.4 1565.51,910.394 1564.16,914.509 1563.13,918.719 1562.45,922.996 1562.1,927.315 1562.1,931.647 1562.45,935.966 1563.13,940.243 1564.16,944.453 1565.51,948.568 1567.19,952.562 1569.18,956.41 1571.47,960.088 1574.04,963.573 1576.89,966.842 1579.98,969.875 1583.3,972.652 1586.84,975.157 1590.56,977.372 1594.45,979.285 1598.48,980.883 1602.62,982.156 1606.85,983.096 1611.14,983.697 1615.46,983.956 1619.79,983.869 1624.1,983.439 1628.37,982.668 1632.55,981.561 1636.64,980.124 1640.6,978.367 1644.41,976.301 1648.04,973.94 1651.47,971.297 1654.69,968.389 1657.66,965.236 1660.37,961.856 1662.8,958.272 1664.94,954.506 1666.78,950.582 1668.3,946.524 1669.49,942.358 1670.34,938.112 1670.86,933.81 1671.03,929.481 \"/>\n",
       "<path clip-path=\"url(#clip342)\" d=\"M1494.42 627.987 L1494.24 623.658 L1493.73 619.357 L1492.87 615.11 L1491.68 610.945 L1490.16 606.887 L1488.33 602.962 L1486.19 599.196 L1483.75 595.612 L1481.04 592.233 L1478.07 589.079 L1474.86 586.172 L1471.43 583.529 L1467.8 581.167 L1463.99 579.101 L1460.03 577.344 L1455.94 575.908 L1451.75 574.8 L1447.49 574.029 L1443.18 573.599 L1438.85 573.513 L1434.52 573.771 L1430.23 574.372 L1426 575.312 L1421.86 576.585 L1417.84 578.183 L1413.95 580.096 L1410.23 582.312 L1406.69 584.816 L1403.37 587.594 L1400.27 590.627 L1397.43 593.895 L1394.86 597.38 L1392.57 601.058 L1390.58 604.906 L1388.9 608.901 L1387.54 613.015 L1386.52 617.225 L1385.83 621.503 L1385.49 625.821 L1385.49 630.153 L1385.83 634.472 L1386.52 638.75 L1387.54 642.959 L1388.9 647.074 L1390.58 651.068 L1392.57 654.917 L1394.86 658.595 L1397.43 662.079 L1400.27 665.348 L1403.37 668.381 L1406.69 671.158 L1410.23 673.663 L1413.95 675.878 L1417.84 677.791 L1421.86 679.389 L1426 680.662 L1430.23 681.602 L1434.52 682.203 L1438.85 682.462 L1443.18 682.376 L1447.49 681.946 L1451.75 681.174 L1455.94 680.067 L1460.03 678.63 L1463.99 676.874 L1467.8 674.808 L1471.43 672.446 L1474.86 669.803 L1478.07 666.895 L1481.04 663.742 L1483.75 660.362 L1486.19 656.778 L1488.33 653.012 L1490.16 649.088 L1491.68 645.03 L1492.87 640.865 L1493.73 636.618 L1494.24 632.316 L1494.42 627.987 L1494.42 627.987  Z\" fill=\"#009af9\" fill-rule=\"evenodd\" fill-opacity=\"1\"/>\n",
       "<polyline clip-path=\"url(#clip342)\" style=\"stroke:#000000; stroke-linecap:round; stroke-linejoin:round; stroke-width:4; stroke-opacity:1; fill:none\" points=\"1494.42,627.987 1494.24,623.658 1493.73,619.357 1492.87,615.11 1491.68,610.945 1490.16,606.887 1488.33,602.962 1486.19,599.196 1483.75,595.612 1481.04,592.233 1478.07,589.079 1474.86,586.172 1471.43,583.529 1467.8,581.167 1463.99,579.101 1460.03,577.344 1455.94,575.908 1451.75,574.8 1447.49,574.029 1443.18,573.599 1438.85,573.513 1434.52,573.771 1430.23,574.372 1426,575.312 1421.86,576.585 1417.84,578.183 1413.95,580.096 1410.23,582.312 1406.69,584.816 1403.37,587.594 1400.27,590.627 1397.43,593.895 1394.86,597.38 1392.57,601.058 1390.58,604.906 1388.9,608.901 1387.54,613.015 1386.52,617.225 1385.83,621.503 1385.49,625.821 1385.49,630.153 1385.83,634.472 1386.52,638.75 1387.54,642.959 1388.9,647.074 1390.58,651.068 1392.57,654.917 1394.86,658.595 1397.43,662.079 1400.27,665.348 1403.37,668.381 1406.69,671.158 1410.23,673.663 1413.95,675.878 1417.84,677.791 1421.86,679.389 1426,680.662 1430.23,681.602 1434.52,682.203 1438.85,682.462 1443.18,682.376 1447.49,681.946 1451.75,681.174 1455.94,680.067 1460.03,678.63 1463.99,676.874 1467.8,674.808 1471.43,672.446 1474.86,669.803 1478.07,666.895 1481.04,663.742 1483.75,660.362 1486.19,656.778 1488.33,653.012 1490.16,649.088 1491.68,645.03 1492.87,640.865 1493.73,636.618 1494.24,632.316 1494.42,627.987 \"/>\n",
       "<path clip-path=\"url(#clip342)\" d=\"M1792.17 552.331 L1792 548.002 L1791.48 543.7 L1790.62 539.453 L1789.43 535.288 L1787.92 531.23 L1786.08 527.306 L1783.94 523.54 L1781.51 519.956 L1778.8 516.576 L1775.82 513.423 L1772.61 510.515 L1769.18 507.872 L1765.55 505.51 L1761.74 503.444 L1757.78 501.688 L1753.69 500.251 L1749.5 499.144 L1745.24 498.372 L1740.93 497.942 L1736.6 497.856 L1732.27 498.115 L1727.98 498.716 L1723.76 499.656 L1719.61 500.929 L1715.59 502.527 L1711.7 504.44 L1707.98 506.655 L1704.44 509.16 L1701.12 511.937 L1698.02 514.97 L1695.18 518.239 L1692.61 521.723 L1690.32 525.401 L1688.33 529.25 L1686.65 533.244 L1685.3 537.359 L1684.27 541.568 L1683.58 545.846 L1683.24 550.165 L1683.24 554.497 L1683.58 558.815 L1684.27 563.093 L1685.3 567.303 L1686.65 571.417 L1688.33 575.412 L1690.32 579.26 L1692.61 582.938 L1695.18 586.423 L1698.02 589.692 L1701.12 592.724 L1704.44 595.502 L1707.98 598.006 L1711.7 600.222 L1715.59 602.135 L1719.61 603.733 L1723.76 605.006 L1727.98 605.946 L1732.27 606.547 L1736.6 606.805 L1740.93 606.719 L1745.24 606.289 L1749.5 605.518 L1753.69 604.41 L1757.78 602.974 L1761.74 601.217 L1765.55 599.151 L1769.18 596.789 L1772.61 594.146 L1775.82 591.239 L1778.8 588.085 L1781.51 584.706 L1783.94 581.122 L1786.08 577.356 L1787.92 573.431 L1789.43 569.373 L1790.62 565.208 L1791.48 560.961 L1792 556.66 L1792.17 552.331 L1792.17 552.331  Z\" fill=\"#009af9\" fill-rule=\"evenodd\" fill-opacity=\"1\"/>\n",
       "<polyline clip-path=\"url(#clip342)\" style=\"stroke:#000000; stroke-linecap:round; stroke-linejoin:round; stroke-width:4; stroke-opacity:1; fill:none\" points=\"1792.17,552.331 1792,548.002 1791.48,543.7 1790.62,539.453 1789.43,535.288 1787.92,531.23 1786.08,527.306 1783.94,523.54 1781.51,519.956 1778.8,516.576 1775.82,513.423 1772.61,510.515 1769.18,507.872 1765.55,505.51 1761.74,503.444 1757.78,501.688 1753.69,500.251 1749.5,499.144 1745.24,498.372 1740.93,497.942 1736.6,497.856 1732.27,498.115 1727.98,498.716 1723.76,499.656 1719.61,500.929 1715.59,502.527 1711.7,504.44 1707.98,506.655 1704.44,509.16 1701.12,511.937 1698.02,514.97 1695.18,518.239 1692.61,521.723 1690.32,525.401 1688.33,529.25 1686.65,533.244 1685.3,537.359 1684.27,541.568 1683.58,545.846 1683.24,550.165 1683.24,554.497 1683.58,558.815 1684.27,563.093 1685.3,567.303 1686.65,571.417 1688.33,575.412 1690.32,579.26 1692.61,582.938 1695.18,586.423 1698.02,589.692 1701.12,592.724 1704.44,595.502 1707.98,598.006 1711.7,600.222 1715.59,602.135 1719.61,603.733 1723.76,605.006 1727.98,605.946 1732.27,606.547 1736.6,606.805 1740.93,606.719 1745.24,606.289 1749.5,605.518 1753.69,604.41 1757.78,602.974 1761.74,601.217 1765.55,599.151 1769.18,596.789 1772.61,594.146 1775.82,591.239 1778.8,588.085 1781.51,584.706 1783.94,581.122 1786.08,577.356 1787.92,573.431 1789.43,569.373 1790.62,565.208 1791.48,560.961 1792,556.66 1792.17,552.331 \"/>\n",
       "<path clip-path=\"url(#clip342)\" d=\"M1178.68 708.204 L1178.51 703.875 L1177.99 699.573 L1177.14 695.326 L1175.95 691.161 L1174.43 687.103 L1172.59 683.179 L1170.45 679.412 L1168.02 675.828 L1165.31 672.449 L1162.34 669.296 L1159.13 666.388 L1155.69 663.745 L1152.06 661.383 L1148.25 659.317 L1144.29 657.56 L1140.21 656.124 L1136.02 655.016 L1131.76 654.245 L1127.44 653.815 L1123.11 653.729 L1118.79 653.987 L1114.5 654.588 L1110.27 655.528 L1106.13 656.801 L1102.1 658.399 L1098.21 660.312 L1094.49 662.528 L1090.96 665.033 L1087.63 667.81 L1084.54 670.843 L1081.69 674.112 L1079.12 677.596 L1076.83 681.274 L1074.84 685.123 L1073.16 689.117 L1071.81 693.232 L1070.78 697.441 L1070.1 701.719 L1069.75 706.037 L1069.75 710.37 L1070.1 714.688 L1070.78 718.966 L1071.81 723.175 L1073.16 727.29 L1074.84 731.284 L1076.83 735.133 L1079.12 738.811 L1081.69 742.295 L1084.54 745.564 L1087.63 748.597 L1090.96 751.375 L1094.49 753.879 L1098.21 756.095 L1102.1 758.008 L1106.13 759.606 L1110.27 760.879 L1114.5 761.819 L1118.79 762.42 L1123.11 762.678 L1127.44 762.592 L1131.76 762.162 L1136.02 761.391 L1140.21 760.283 L1144.29 758.847 L1148.25 757.09 L1152.06 755.024 L1155.69 752.662 L1159.13 750.019 L1162.34 747.111 L1165.31 743.958 L1168.02 740.579 L1170.45 736.995 L1172.59 733.228 L1174.43 729.304 L1175.95 725.246 L1177.14 721.081 L1177.99 716.834 L1178.51 712.532 L1178.68 708.204 L1178.68 708.204  Z\" fill=\"#009af9\" fill-rule=\"evenodd\" fill-opacity=\"1\"/>\n",
       "<polyline clip-path=\"url(#clip342)\" style=\"stroke:#000000; stroke-linecap:round; stroke-linejoin:round; stroke-width:4; stroke-opacity:1; fill:none\" points=\"1178.68,708.204 1178.51,703.875 1177.99,699.573 1177.14,695.326 1175.95,691.161 1174.43,687.103 1172.59,683.179 1170.45,679.412 1168.02,675.828 1165.31,672.449 1162.34,669.296 1159.13,666.388 1155.69,663.745 1152.06,661.383 1148.25,659.317 1144.29,657.56 1140.21,656.124 1136.02,655.016 1131.76,654.245 1127.44,653.815 1123.11,653.729 1118.79,653.987 1114.5,654.588 1110.27,655.528 1106.13,656.801 1102.1,658.399 1098.21,660.312 1094.49,662.528 1090.96,665.033 1087.63,667.81 1084.54,670.843 1081.69,674.112 1079.12,677.596 1076.83,681.274 1074.84,685.123 1073.16,689.117 1071.81,693.232 1070.78,697.441 1070.1,701.719 1069.75,706.037 1069.75,710.37 1070.1,714.688 1070.78,718.966 1071.81,723.175 1073.16,727.29 1074.84,731.284 1076.83,735.133 1079.12,738.811 1081.69,742.295 1084.54,745.564 1087.63,748.597 1090.96,751.375 1094.49,753.879 1098.21,756.095 1102.1,758.008 1106.13,759.606 1110.27,760.879 1114.5,761.819 1118.79,762.42 1123.11,762.678 1127.44,762.592 1131.76,762.162 1136.02,761.391 1140.21,760.283 1144.29,758.847 1148.25,757.09 1152.06,755.024 1155.69,752.662 1159.13,750.019 1162.34,747.111 1165.31,743.958 1168.02,740.579 1170.45,736.995 1172.59,733.228 1174.43,729.304 1175.95,725.246 1177.14,721.081 1177.99,716.834 1178.51,712.532 1178.68,708.204 \"/>\n",
       "<path clip-path=\"url(#clip342)\" d=\"M943.298 471.661 L943.126 467.332 L942.611 463.03 L941.755 458.783 L940.564 454.618 L939.047 450.56 L937.212 446.636 L935.07 442.87 L932.637 439.285 L929.926 435.906 L926.955 432.753 L923.743 429.845 L920.311 427.202 L916.679 424.84 L912.871 422.774 L908.911 421.018 L904.824 419.581 L900.635 418.473 L896.372 417.702 L892.061 417.272 L887.73 417.186 L883.405 417.444 L879.115 418.046 L874.886 418.986 L870.745 420.259 L866.718 421.857 L862.831 423.769 L859.108 425.985 L855.573 428.49 L852.248 431.267 L849.155 434.3 L846.312 437.569 L843.737 441.053 L841.448 444.731 L839.458 448.58 L837.781 452.574 L836.425 456.689 L835.402 460.898 L834.715 465.176 L834.371 469.494 L834.371 473.827 L834.715 478.145 L835.402 482.423 L836.425 486.632 L837.781 490.747 L839.458 494.742 L841.448 498.59 L843.737 502.268 L846.312 505.752 L849.155 509.021 L852.248 512.054 L855.573 514.832 L859.108 517.336 L862.831 519.552 L866.718 521.465 L870.745 523.063 L874.886 524.336 L879.115 525.276 L883.405 525.877 L887.73 526.135 L892.061 526.049 L896.372 525.619 L900.635 524.848 L904.824 523.74 L908.911 522.304 L912.871 520.547 L916.679 518.481 L920.311 516.119 L923.743 513.476 L926.955 510.569 L929.926 507.415 L932.637 504.036 L935.07 500.452 L937.212 496.686 L939.047 492.761 L940.564 488.703 L941.755 484.538 L942.611 480.291 L943.126 475.989 L943.298 471.661 L943.298 471.661  Z\" fill=\"#009af9\" fill-rule=\"evenodd\" fill-opacity=\"1\"/>\n",
       "<polyline clip-path=\"url(#clip342)\" style=\"stroke:#000000; stroke-linecap:round; stroke-linejoin:round; stroke-width:4; stroke-opacity:1; fill:none\" points=\"943.298,471.661 943.126,467.332 942.611,463.03 941.755,458.783 940.564,454.618 939.047,450.56 937.212,446.636 935.07,442.87 932.637,439.285 929.926,435.906 926.955,432.753 923.743,429.845 920.311,427.202 916.679,424.84 912.871,422.774 908.911,421.018 904.824,419.581 900.635,418.473 896.372,417.702 892.061,417.272 887.73,417.186 883.405,417.444 879.115,418.046 874.886,418.986 870.745,420.259 866.718,421.857 862.831,423.769 859.108,425.985 855.573,428.49 852.248,431.267 849.155,434.3 846.312,437.569 843.737,441.053 841.448,444.731 839.458,448.58 837.781,452.574 836.425,456.689 835.402,460.898 834.715,465.176 834.371,469.494 834.371,473.827 834.715,478.145 835.402,482.423 836.425,486.632 837.781,490.747 839.458,494.742 841.448,498.59 843.737,502.268 846.312,505.752 849.155,509.021 852.248,512.054 855.573,514.832 859.108,517.336 862.831,519.552 866.718,521.465 870.745,523.063 874.886,524.336 879.115,525.276 883.405,525.877 887.73,526.135 892.061,526.049 896.372,525.619 900.635,524.848 904.824,523.74 908.911,522.304 912.871,520.547 916.679,518.481 920.311,516.119 923.743,513.476 926.955,510.569 929.926,507.415 932.637,504.036 935.07,500.452 937.212,496.686 939.047,492.761 940.564,488.703 941.755,484.538 942.611,480.291 943.126,475.989 943.298,471.661 \"/>\n",
       "<path clip-path=\"url(#clip342)\" d=\"M716.802 262.317 L716.63 257.988 L716.115 253.687 L715.259 249.44 L714.068 245.274 L712.551 241.217 L710.715 237.292 L708.574 233.526 L706.141 229.942 L703.43 226.563 L700.459 223.409 L697.247 220.502 L693.815 217.859 L690.183 215.497 L686.375 213.431 L682.415 211.674 L678.328 210.237 L674.139 209.13 L669.876 208.359 L665.565 207.929 L661.234 207.843 L656.909 208.101 L652.619 208.702 L648.39 209.642 L644.249 210.915 L640.222 212.513 L636.335 214.426 L632.612 216.642 L629.077 219.146 L625.752 221.924 L622.659 224.956 L619.816 228.225 L617.241 231.71 L614.952 235.388 L612.962 239.236 L611.285 243.23 L609.929 247.345 L608.906 251.555 L608.219 255.832 L607.875 260.151 L607.875 264.483 L608.219 268.802 L608.906 273.08 L609.929 277.289 L611.285 281.404 L612.962 285.398 L614.952 289.246 L617.241 292.925 L619.816 296.409 L622.659 299.678 L625.752 302.711 L629.077 305.488 L632.612 307.993 L636.335 310.208 L640.222 312.121 L644.249 313.719 L648.39 314.992 L652.619 315.932 L656.909 316.533 L661.234 316.792 L665.565 316.705 L669.876 316.275 L674.139 315.504 L678.328 314.397 L682.415 312.96 L686.375 311.203 L690.183 309.138 L693.815 306.776 L697.247 304.133 L700.459 301.225 L703.43 298.072 L706.141 294.692 L708.574 291.108 L710.715 287.342 L712.551 283.418 L714.068 279.36 L715.259 275.194 L716.115 270.948 L716.63 266.646 L716.802 262.317 L716.802 262.317  Z\" fill=\"#009af9\" fill-rule=\"evenodd\" fill-opacity=\"1\"/>\n",
       "<polyline clip-path=\"url(#clip342)\" style=\"stroke:#000000; stroke-linecap:round; stroke-linejoin:round; stroke-width:4; stroke-opacity:1; fill:none\" points=\"716.802,262.317 716.63,257.988 716.115,253.687 715.259,249.44 714.068,245.274 712.551,241.217 710.715,237.292 708.574,233.526 706.141,229.942 703.43,226.563 700.459,223.409 697.247,220.502 693.815,217.859 690.183,215.497 686.375,213.431 682.415,211.674 678.328,210.237 674.139,209.13 669.876,208.359 665.565,207.929 661.234,207.843 656.909,208.101 652.619,208.702 648.39,209.642 644.249,210.915 640.222,212.513 636.335,214.426 632.612,216.642 629.077,219.146 625.752,221.924 622.659,224.956 619.816,228.225 617.241,231.71 614.952,235.388 612.962,239.236 611.285,243.23 609.929,247.345 608.906,251.555 608.219,255.832 607.875,260.151 607.875,264.483 608.219,268.802 608.906,273.08 609.929,277.289 611.285,281.404 612.962,285.398 614.952,289.246 617.241,292.925 619.816,296.409 622.659,299.678 625.752,302.711 629.077,305.488 632.612,307.993 636.335,310.208 640.222,312.121 644.249,313.719 648.39,314.992 652.619,315.932 656.909,316.533 661.234,316.792 665.565,316.705 669.876,316.275 674.139,315.504 678.328,314.397 682.415,312.96 686.375,311.203 690.183,309.138 693.815,306.776 697.247,304.133 700.459,301.225 703.43,298.072 706.141,294.692 708.574,291.108 710.715,287.342 712.551,283.418 714.068,279.36 715.259,275.194 716.115,270.948 716.63,266.646 716.802,262.317 \"/>\n",
       "<path clip-path=\"url(#clip342)\" d=\"M1547.39 268.16 L1547.22 263.831 L1546.7 259.529 L1545.85 255.282 L1544.66 251.117 L1543.14 247.059 L1541.3 243.135 L1539.16 239.368 L1536.73 235.784 L1534.02 232.405 L1531.05 229.252 L1527.84 226.344 L1524.4 223.701 L1520.77 221.339 L1516.96 219.273 L1513 217.516 L1508.92 216.08 L1504.73 214.972 L1500.47 214.201 L1496.15 213.771 L1491.82 213.685 L1487.5 213.943 L1483.21 214.544 L1478.98 215.484 L1474.84 216.757 L1470.81 218.356 L1466.92 220.268 L1463.2 222.484 L1459.67 224.989 L1456.34 227.766 L1453.25 230.799 L1450.4 234.068 L1447.83 237.552 L1445.54 241.23 L1443.55 245.079 L1441.87 249.073 L1440.52 253.188 L1439.49 257.397 L1438.81 261.675 L1438.46 265.993 L1438.46 270.326 L1438.81 274.644 L1439.49 278.922 L1440.52 283.131 L1441.87 287.246 L1443.55 291.241 L1445.54 295.089 L1447.83 298.767 L1450.4 302.251 L1453.25 305.52 L1456.34 308.553 L1459.67 311.331 L1463.2 313.835 L1466.92 316.051 L1470.81 317.964 L1474.84 319.562 L1478.98 320.835 L1483.21 321.775 L1487.5 322.376 L1491.82 322.634 L1496.15 322.548 L1500.47 322.118 L1504.73 321.347 L1508.92 320.239 L1513 318.803 L1516.96 317.046 L1520.77 314.98 L1524.4 312.618 L1527.84 309.975 L1531.05 307.067 L1534.02 303.914 L1536.73 300.535 L1539.16 296.951 L1541.3 293.184 L1543.14 289.26 L1544.66 285.202 L1545.85 281.037 L1546.7 276.79 L1547.22 272.488 L1547.39 268.16 L1547.39 268.16  Z\" fill=\"#009af9\" fill-rule=\"evenodd\" fill-opacity=\"1\"/>\n",
       "<polyline clip-path=\"url(#clip342)\" style=\"stroke:#000000; stroke-linecap:round; stroke-linejoin:round; stroke-width:4; stroke-opacity:1; fill:none\" points=\"1547.39,268.16 1547.22,263.831 1546.7,259.529 1545.85,255.282 1544.66,251.117 1543.14,247.059 1541.3,243.135 1539.16,239.368 1536.73,235.784 1534.02,232.405 1531.05,229.252 1527.84,226.344 1524.4,223.701 1520.77,221.339 1516.96,219.273 1513,217.516 1508.92,216.08 1504.73,214.972 1500.47,214.201 1496.15,213.771 1491.82,213.685 1487.5,213.943 1483.21,214.544 1478.98,215.484 1474.84,216.757 1470.81,218.356 1466.92,220.268 1463.2,222.484 1459.67,224.989 1456.34,227.766 1453.25,230.799 1450.4,234.068 1447.83,237.552 1445.54,241.23 1443.55,245.079 1441.87,249.073 1440.52,253.188 1439.49,257.397 1438.81,261.675 1438.46,265.993 1438.46,270.326 1438.81,274.644 1439.49,278.922 1440.52,283.131 1441.87,287.246 1443.55,291.241 1445.54,295.089 1447.83,298.767 1450.4,302.251 1453.25,305.52 1456.34,308.553 1459.67,311.331 1463.2,313.835 1466.92,316.051 1470.81,317.964 1474.84,319.562 1478.98,320.835 1483.21,321.775 1487.5,322.376 1491.82,322.634 1496.15,322.548 1500.47,322.118 1504.73,321.347 1508.92,320.239 1513,318.803 1516.96,317.046 1520.77,314.98 1524.4,312.618 1527.84,309.975 1531.05,307.067 1534.02,303.914 1536.73,300.535 1539.16,296.951 1541.3,293.184 1543.14,289.26 1544.66,285.202 1545.85,281.037 1546.7,276.79 1547.22,272.488 1547.39,268.16 \"/>\n",
       "<path clip-path=\"url(#clip342)\" d=\"M1049.07 1037.47 L1048.9 1033.14 L1048.38 1028.84 L1047.53 1024.6 L1046.33 1020.43 L1044.82 1016.37 L1042.98 1012.45 L1040.84 1008.68 L1038.41 1005.1 L1035.7 1001.72 L1032.73 998.564 L1029.51 995.657 L1026.08 993.014 L1022.45 990.652 L1018.64 988.586 L1014.68 986.829 L1010.59 985.393 L1006.41 984.285 L1002.14 983.514 L997.832 983.084 L993.5 982.998 L989.176 983.256 L984.886 983.857 L980.656 984.797 L976.515 986.07 L972.489 987.668 L968.602 989.581 L964.879 991.797 L961.344 994.301 L958.019 997.079 L954.925 1000.11 L952.082 1003.38 L949.508 1006.87 L947.219 1010.54 L945.229 1014.39 L943.551 1018.39 L942.196 1022.5 L941.172 1026.71 L940.486 1030.99 L940.142 1035.31 L940.142 1039.64 L940.486 1043.96 L941.172 1048.23 L942.196 1052.44 L943.551 1056.56 L945.229 1060.55 L947.219 1064.4 L949.508 1068.08 L952.082 1071.56 L954.925 1074.83 L958.019 1077.87 L961.344 1080.64 L964.879 1083.15 L968.602 1085.36 L972.489 1087.28 L976.515 1088.87 L980.656 1090.15 L984.886 1091.09 L989.176 1091.69 L993.5 1091.95 L997.832 1091.86 L1002.14 1091.43 L1006.41 1090.66 L1010.59 1089.55 L1014.68 1088.12 L1018.64 1086.36 L1022.45 1084.29 L1026.08 1081.93 L1029.51 1079.29 L1032.73 1076.38 L1035.7 1073.23 L1038.41 1069.85 L1040.84 1066.26 L1042.98 1062.5 L1044.82 1058.57 L1046.33 1054.52 L1047.53 1050.35 L1048.38 1046.1 L1048.9 1041.8 L1049.07 1037.47 L1049.07 1037.47  Z\" fill=\"#009af9\" fill-rule=\"evenodd\" fill-opacity=\"1\"/>\n",
       "<polyline clip-path=\"url(#clip342)\" style=\"stroke:#000000; stroke-linecap:round; stroke-linejoin:round; stroke-width:4; stroke-opacity:1; fill:none\" points=\"1049.07,1037.47 1048.9,1033.14 1048.38,1028.84 1047.53,1024.6 1046.33,1020.43 1044.82,1016.37 1042.98,1012.45 1040.84,1008.68 1038.41,1005.1 1035.7,1001.72 1032.73,998.564 1029.51,995.657 1026.08,993.014 1022.45,990.652 1018.64,988.586 1014.68,986.829 1010.59,985.393 1006.41,984.285 1002.14,983.514 997.832,983.084 993.5,982.998 989.176,983.256 984.886,983.857 980.656,984.797 976.515,986.07 972.489,987.668 968.602,989.581 964.879,991.797 961.344,994.301 958.019,997.079 954.925,1000.11 952.082,1003.38 949.508,1006.87 947.219,1010.54 945.229,1014.39 943.551,1018.39 942.196,1022.5 941.172,1026.71 940.486,1030.99 940.142,1035.31 940.142,1039.64 940.486,1043.96 941.172,1048.23 942.196,1052.44 943.551,1056.56 945.229,1060.55 947.219,1064.4 949.508,1068.08 952.082,1071.56 954.925,1074.83 958.019,1077.87 961.344,1080.64 964.879,1083.15 968.602,1085.36 972.489,1087.28 976.515,1088.87 980.656,1090.15 984.886,1091.09 989.176,1091.69 993.5,1091.95 997.832,1091.86 1002.14,1091.43 1006.41,1090.66 1010.59,1089.55 1014.68,1088.12 1018.64,1086.36 1022.45,1084.29 1026.08,1081.93 1029.51,1079.29 1032.73,1076.38 1035.7,1073.23 1038.41,1069.85 1040.84,1066.26 1042.98,1062.5 1044.82,1058.57 1046.33,1054.52 1047.53,1050.35 1048.38,1046.1 1048.9,1041.8 1049.07,1037.47 \"/>\n",
       "<path clip-path=\"url(#clip342)\" d=\"M917.802 1337.68 L917.63 1333.35 L917.114 1329.05 L916.259 1324.81 L915.068 1320.64 L913.55 1316.58 L911.715 1312.66 L909.574 1308.89 L907.14 1305.31 L904.43 1301.93 L901.459 1298.77 L898.247 1295.87 L894.814 1293.22 L891.183 1290.86 L887.375 1288.8 L883.415 1287.04 L879.327 1285.6 L875.139 1284.5 L870.876 1283.72 L866.565 1283.29 L862.234 1283.21 L857.909 1283.47 L853.619 1284.07 L849.39 1285.01 L845.249 1286.28 L841.222 1287.88 L837.335 1289.79 L833.612 1292.01 L830.077 1294.51 L826.752 1297.29 L823.658 1300.32 L820.815 1303.59 L818.241 1307.08 L815.952 1310.75 L813.962 1314.6 L812.284 1318.6 L810.929 1322.71 L809.905 1326.92 L809.219 1331.2 L808.875 1335.52 L808.875 1339.85 L809.219 1344.17 L809.905 1348.45 L810.929 1352.65 L812.284 1356.77 L813.962 1360.76 L815.952 1364.61 L818.241 1368.29 L820.815 1371.77 L823.658 1375.04 L826.752 1378.08 L830.077 1380.85 L833.612 1383.36 L837.335 1385.57 L841.222 1387.49 L845.249 1389.08 L849.39 1390.36 L853.619 1391.3 L857.909 1391.9 L862.234 1392.16 L866.565 1392.07 L870.876 1391.64 L875.139 1390.87 L879.327 1389.76 L883.415 1388.33 L887.375 1386.57 L891.183 1384.5 L894.814 1382.14 L898.247 1379.5 L901.459 1376.59 L904.43 1373.44 L907.14 1370.06 L909.574 1366.47 L911.715 1362.71 L913.55 1358.78 L915.068 1354.73 L916.259 1350.56 L917.114 1346.31 L917.63 1342.01 L917.802 1337.68 L917.802 1337.68  Z\" fill=\"#009af9\" fill-rule=\"evenodd\" fill-opacity=\"1\"/>\n",
       "<polyline clip-path=\"url(#clip342)\" style=\"stroke:#000000; stroke-linecap:round; stroke-linejoin:round; stroke-width:4; stroke-opacity:1; fill:none\" points=\"917.802,1337.68 917.63,1333.35 917.114,1329.05 916.259,1324.81 915.068,1320.64 913.55,1316.58 911.715,1312.66 909.574,1308.89 907.14,1305.31 904.43,1301.93 901.459,1298.77 898.247,1295.87 894.814,1293.22 891.183,1290.86 887.375,1288.8 883.415,1287.04 879.327,1285.6 875.139,1284.5 870.876,1283.72 866.565,1283.29 862.234,1283.21 857.909,1283.47 853.619,1284.07 849.39,1285.01 845.249,1286.28 841.222,1287.88 837.335,1289.79 833.612,1292.01 830.077,1294.51 826.752,1297.29 823.658,1300.32 820.815,1303.59 818.241,1307.08 815.952,1310.75 813.962,1314.6 812.284,1318.6 810.929,1322.71 809.905,1326.92 809.219,1331.2 808.875,1335.52 808.875,1339.85 809.219,1344.17 809.905,1348.45 810.929,1352.65 812.284,1356.77 813.962,1360.76 815.952,1364.61 818.241,1368.29 820.815,1371.77 823.658,1375.04 826.752,1378.08 830.077,1380.85 833.612,1383.36 837.335,1385.57 841.222,1387.49 845.249,1389.08 849.39,1390.36 853.619,1391.3 857.909,1391.9 862.234,1392.16 866.565,1392.07 870.876,1391.64 875.139,1390.87 879.327,1389.76 883.415,1388.33 887.375,1386.57 891.183,1384.5 894.814,1382.14 898.247,1379.5 901.459,1376.59 904.43,1373.44 907.14,1370.06 909.574,1366.47 911.715,1362.71 913.55,1358.78 915.068,1354.73 916.259,1350.56 917.114,1346.31 917.63,1342.01 917.802,1337.68 \"/>\n",
       "<circle clip-path=\"url(#clip342)\" style=\"fill:#009af9; stroke:none; fill-opacity:0\" cx=\"1616.54\" cy=\"929.481\" r=\"2\"/>\n",
       "<circle clip-path=\"url(#clip342)\" style=\"fill:#009af9; stroke:none; fill-opacity:0\" cx=\"1439.93\" cy=\"627.987\" r=\"2\"/>\n",
       "<circle clip-path=\"url(#clip342)\" style=\"fill:#009af9; stroke:none; fill-opacity:0\" cx=\"1737.68\" cy=\"552.331\" r=\"2\"/>\n",
       "<circle clip-path=\"url(#clip342)\" style=\"fill:#009af9; stroke:none; fill-opacity:0\" cx=\"1124.2\" cy=\"708.204\" r=\"2\"/>\n",
       "<circle clip-path=\"url(#clip342)\" style=\"fill:#009af9; stroke:none; fill-opacity:0\" cx=\"888.813\" cy=\"471.661\" r=\"2\"/>\n",
       "<circle clip-path=\"url(#clip342)\" style=\"fill:#009af9; stroke:none; fill-opacity:0\" cx=\"662.317\" cy=\"262.317\" r=\"2\"/>\n",
       "<circle clip-path=\"url(#clip342)\" style=\"fill:#009af9; stroke:none; fill-opacity:0\" cx=\"1492.91\" cy=\"268.16\" r=\"2\"/>\n",
       "<circle clip-path=\"url(#clip342)\" style=\"fill:#009af9; stroke:none; fill-opacity:0\" cx=\"994.584\" cy=\"1037.47\" r=\"2\"/>\n",
       "<circle clip-path=\"url(#clip342)\" style=\"fill:#009af9; stroke:none; fill-opacity:0\" cx=\"863.317\" cy=\"1337.68\" r=\"2\"/>\n",
       "<path clip-path=\"url(#clip340)\" d=\"M1604.52 946.162 L1614.07 946.162 L1614.07 913.205 L1603.68 915.289 L1603.68 909.964 L1614.01 907.881 L1619.86 907.881 L1619.86 946.162 L1629.41 946.162 L1629.41 951.081 L1604.52 951.081 L1604.52 946.162 Z\" fill=\"#000000\" fill-rule=\"nonzero\" fill-opacity=\"1\" /><path clip-path=\"url(#clip340)\" d=\"M1433.25 644.668 L1453.65 644.668 L1453.65 649.587 L1426.22 649.587 L1426.22 644.668 Q1429.54 641.225 1435.27 635.438 Q1441.03 629.622 1442.51 627.944 Q1445.31 624.79 1446.41 622.62 Q1447.54 620.421 1447.54 618.309 Q1447.54 614.865 1445.11 612.695 Q1442.71 610.525 1438.83 610.525 Q1436.08 610.525 1433.02 611.48 Q1429.98 612.435 1426.51 614.373 L1426.51 608.471 Q1430.04 607.053 1433.1 606.329 Q1436.17 605.606 1438.72 605.606 Q1445.43 605.606 1449.42 608.963 Q1453.41 612.319 1453.41 617.932 Q1453.41 620.594 1452.4 622.996 Q1451.42 625.369 1448.79 628.609 Q1448.06 629.449 1444.18 633.47 Q1440.31 637.464 1433.25 644.668 Z\" fill=\"#000000\" fill-rule=\"nonzero\" fill-opacity=\"1\" /><path clip-path=\"url(#clip340)\" d=\"M1742.99 550.638 Q1747.19 551.535 1749.53 554.371 Q1751.9 557.206 1751.9 561.373 Q1751.9 567.768 1747.51 571.269 Q1743.11 574.77 1735.01 574.77 Q1732.29 574.77 1729.39 574.22 Q1726.53 573.699 1723.46 572.629 L1723.46 566.986 Q1725.89 568.404 1728.79 569.127 Q1731.68 569.851 1734.83 569.851 Q1740.33 569.851 1743.19 567.681 Q1746.09 565.511 1746.09 561.373 Q1746.09 557.553 1743.4 555.412 Q1740.74 553.242 1735.96 553.242 L1730.93 553.242 L1730.93 548.439 L1736.19 548.439 Q1740.5 548.439 1742.79 546.732 Q1745.08 544.996 1745.08 541.755 Q1745.08 538.427 1742.7 536.662 Q1740.36 534.868 1735.96 534.868 Q1733.56 534.868 1730.81 535.389 Q1728.06 535.91 1724.76 537.01 L1724.76 531.801 Q1728.09 530.875 1730.98 530.412 Q1733.91 529.949 1736.48 529.949 Q1743.14 529.949 1747.01 532.988 Q1750.89 535.997 1750.89 541.147 Q1750.89 544.735 1748.84 547.224 Q1746.78 549.683 1742.99 550.638 Z\" fill=\"#000000\" fill-rule=\"nonzero\" fill-opacity=\"1\" /><path clip-path=\"url(#clip340)\" d=\"M1127.96 691.696 L1113.2 714.757 L1127.96 714.757 L1127.96 691.696 M1126.42 686.604 L1133.77 686.604 L1133.77 714.757 L1139.94 714.757 L1139.94 719.618 L1133.77 719.618 L1133.77 729.804 L1127.96 729.804 L1127.96 719.618 L1108.46 719.618 L1108.46 713.976 L1126.42 686.604 Z\" fill=\"#000000\" fill-rule=\"nonzero\" fill-opacity=\"1\" /><path clip-path=\"url(#clip340)\" d=\"M876.661 450.061 L899.606 450.061 L899.606 454.98 L882.014 454.98 L882.014 465.57 Q883.287 465.136 884.56 464.933 Q885.833 464.702 887.106 464.702 Q894.34 464.702 898.564 468.666 Q902.789 472.63 902.789 479.401 Q902.789 486.374 898.449 490.251 Q894.108 494.1 886.209 494.1 Q883.489 494.1 880.654 493.637 Q877.847 493.174 874.838 492.248 L874.838 486.374 Q877.442 487.792 880.22 488.486 Q882.997 489.181 886.093 489.181 Q891.099 489.181 894.022 486.548 Q896.944 483.915 896.944 479.401 Q896.944 474.887 894.022 472.254 Q891.099 469.621 886.093 469.621 Q883.75 469.621 881.406 470.142 Q879.091 470.662 876.661 471.762 L876.661 450.061 Z\" fill=\"#000000\" fill-rule=\"nonzero\" fill-opacity=\"1\" /><path clip-path=\"url(#clip340)\" d=\"M662.824 259.988 Q658.888 259.988 656.574 262.679 Q654.288 265.37 654.288 270.057 Q654.288 274.716 656.574 277.436 Q658.888 280.127 662.824 280.127 Q666.759 280.127 669.045 277.436 Q671.359 274.716 671.359 270.057 Q671.359 265.37 669.045 262.679 Q666.759 259.988 662.824 259.988 M674.427 241.672 L674.427 246.996 Q672.227 245.954 669.971 245.405 Q667.743 244.855 665.543 244.855 Q659.756 244.855 656.689 248.761 Q653.651 252.667 653.217 260.567 Q654.924 258.049 657.5 256.718 Q660.075 255.358 663.171 255.358 Q669.681 255.358 673.443 259.322 Q677.233 263.258 677.233 270.057 Q677.233 276.712 673.298 280.734 Q669.363 284.756 662.824 284.756 Q655.329 284.756 651.365 279.027 Q647.401 273.269 647.401 262.361 Q647.401 252.118 652.262 246.041 Q657.123 239.936 665.312 239.936 Q667.511 239.936 669.739 240.37 Q671.996 240.804 674.427 241.672 Z\" fill=\"#000000\" fill-rule=\"nonzero\" fill-opacity=\"1\" /><path clip-path=\"url(#clip340)\" d=\"M1479.02 246.56 L1506.8 246.56 L1506.8 249.048 L1491.11 289.76 L1485.01 289.76 L1499.76 251.478 L1479.02 251.478 L1479.02 246.56 Z\" fill=\"#000000\" fill-rule=\"nonzero\" fill-opacity=\"1\" /><path clip-path=\"url(#clip340)\" d=\"M994.584 1038.56 Q990.417 1038.56 988.016 1040.79 Q985.643 1043.01 985.643 1046.92 Q985.643 1050.83 988.016 1053.05 Q990.417 1055.28 994.584 1055.28 Q998.75 1055.28 1001.15 1053.05 Q1003.55 1050.8 1003.55 1046.92 Q1003.55 1043.01 1001.15 1040.79 Q998.779 1038.56 994.584 1038.56 M988.739 1036.07 Q984.977 1035.14 982.865 1032.57 Q980.782 1029.99 980.782 1026.29 Q980.782 1021.11 984.457 1018.1 Q988.16 1015.09 994.584 1015.09 Q1001.04 1015.09 1004.71 1018.1 Q1008.39 1021.11 1008.39 1026.29 Q1008.39 1029.99 1006.27 1032.57 Q1004.19 1035.14 1000.46 1036.07 Q1004.68 1037.05 1007.03 1039.92 Q1009.4 1042.78 1009.4 1046.92 Q1009.4 1053.2 1005.55 1056.55 Q1001.73 1059.91 994.584 1059.91 Q987.437 1059.91 983.588 1056.55 Q979.769 1053.2 979.769 1046.92 Q979.769 1042.78 982.142 1039.92 Q984.514 1037.05 988.739 1036.07 M986.598 1026.84 Q986.598 1030.2 988.681 1032.08 Q990.793 1033.96 994.584 1033.96 Q998.345 1033.96 1000.46 1032.08 Q1002.6 1030.2 1002.6 1026.84 Q1002.6 1023.48 1000.46 1021.6 Q998.345 1019.72 994.584 1019.72 Q990.793 1019.72 988.681 1021.6 Q986.598 1023.48 986.598 1026.84 Z\" fill=\"#000000\" fill-rule=\"nonzero\" fill-opacity=\"1\" /><path clip-path=\"url(#clip340)\" d=\"M851.193 1358.39 L851.193 1353.06 Q853.392 1354.1 855.649 1354.65 Q857.906 1355.2 860.076 1355.2 Q865.863 1355.2 868.901 1351.33 Q871.968 1347.42 872.403 1339.49 Q870.724 1341.98 868.149 1343.31 Q865.574 1344.64 862.449 1344.64 Q855.967 1344.64 852.177 1340.74 Q848.415 1336.8 848.415 1330 Q848.415 1323.35 852.351 1319.32 Q856.286 1315.3 862.825 1315.3 Q870.319 1315.3 874.254 1321.06 Q878.218 1326.79 878.218 1337.73 Q878.218 1347.94 873.357 1354.05 Q868.525 1360.12 860.337 1360.12 Q858.138 1360.12 855.881 1359.69 Q853.624 1359.25 851.193 1358.39 M862.825 1340.07 Q866.76 1340.07 869.046 1337.38 Q871.361 1334.69 871.361 1330 Q871.361 1325.34 869.046 1322.65 Q866.76 1319.93 862.825 1319.93 Q858.89 1319.93 856.575 1322.65 Q854.289 1325.34 854.289 1330 Q854.289 1334.69 856.575 1337.38 Q858.89 1340.07 862.825 1340.07 Z\" fill=\"#000000\" fill-rule=\"nonzero\" fill-opacity=\"1\" /></svg>\n"
      ],
      "text/html": [
       "<img src=\"data:image/png;base64,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\" />"
      ]
     },
     "execution_count": 81,
     "metadata": {},
     "output_type": "execute_result"
    }
   ],
   "source": [
    "graphplot(Grandom, names = 1:9, nodeshape=:circle, aspect_ratio=1, nodesize=0.2, curvature_scalar = 0, fontsize = 10)"
   ]
  },
  {
   "cell_type": "markdown",
   "id": "ead5cfee",
   "metadata": {
    "slideshow": {
     "slide_type": "slide"
    }
   },
   "source": [
    "We can be a bit more fancy:"
   ]
  },
  {
   "cell_type": "code",
   "execution_count": 82,
   "id": "19c02009",
   "metadata": {
    "slideshow": {
     "slide_type": "skip"
    }
   },
   "outputs": [
    {
     "data": {
      "application/vnd.webio.node+json": {
       "children": [],
       "instanceArgs": {
        "namespace": "html",
        "tag": "div"
       },
       "nodeType": "DOM",
       "props": {},
       "type": "node"
      },
      "text/html": [
       "<div style=\"padding: 1em; background-color: #f8d6da; border: 1px solid #f5c6cb; font-weight: bold;\">\n",
       "<p>The WebIO Jupyter extension was not detected. See the\n",
       "<a href=\"https://juliagizmos.github.io/WebIO.jl/latest/providers/ijulia/\" target=\"_blank\">\n",
       "    WebIO Jupyter integration documentation\n",
       "</a>\n",
       "for more information.\n",
       "</div>\n"
      ],
      "text/plain": [
       "WebIO._IJuliaInit()"
      ]
     },
     "metadata": {},
     "output_type": "display_data"
    }
   ],
   "source": [
    "using Interact;"
   ]
  },
  {
   "cell_type": "code",
   "execution_count": 83,
   "id": "d00fe923",
   "metadata": {
    "slideshow": {
     "slide_type": "fragment"
    }
   },
   "outputs": [
    {
     "data": {
      "application/vnd.webio.node+json": {
       "children": [
        {
         "children": [
          {
           "children": [
            {
             "children": [
              {
               "children": [
                {
                 "children": [
                  "i"
                 ],
                 "instanceArgs": {
                  "namespace": "html",
                  "tag": "label"
                 },
                 "nodeType": "DOM",
                 "props": {
                  "className": "interact ",
                  "style": {
                   "padding": "5px 10px 0px 10px"
                  }
                 },
                 "type": "node"
                }
               ],
               "instanceArgs": {
                "namespace": "html",
                "tag": "div"
               },
               "nodeType": "DOM",
               "props": {
                "className": "interact-flex-row-left"
               },
               "type": "node"
              },
              {
               "children": [
                {
                 "children": [],
                 "instanceArgs": {
                  "namespace": "html",
                  "tag": "input"
                 },
                 "nodeType": "DOM",
                 "props": {
                  "attributes": {
                   "data-bind": "numericValue: index, valueUpdate: 'input', event: {change: function (){this.changes(this.changes()+1)}}",
                   "orient": "horizontal",
                   "type": "range"
                  },
                  "className": "slider slider is-fullwidth",
                  "max": 9,
                  "min": 2,
                  "step": 1,
                  "style": {}
                 },
                 "type": "node"
                }
               ],
               "instanceArgs": {
                "namespace": "html",
                "tag": "div"
               },
               "nodeType": "DOM",
               "props": {
                "className": "interact-flex-row-center"
               },
               "type": "node"
              },
              {
               "children": [
                {
                 "children": [],
                 "instanceArgs": {
                  "namespace": "html",
                  "tag": "p"
                 },
                 "nodeType": "DOM",
                 "props": {
                  "attributes": {
                   "data-bind": "text: formatted_val"
                  }
                 },
                 "type": "node"
                }
               ],
               "instanceArgs": {
                "namespace": "html",
                "tag": "div"
               },
               "nodeType": "DOM",
               "props": {
                "className": "interact-flex-row-right"
               },
               "type": "node"
              }
             ],
             "instanceArgs": {
              "namespace": "html",
              "tag": "div"
             },
             "nodeType": "DOM",
             "props": {
              "className": "interact-flex-row interact-widget"
             },
             "type": "node"
            }
           ],
           "instanceArgs": {
            "handlers": {
             "changes": [
              "(function (val){return (val!=this.model[\"changes\"]()) ? (this.valueFromJulia[\"changes\"]=true, this.model[\"changes\"](val)) : undefined})"
             ],
             "index": [
              "(function (val){return (val!=this.model[\"index\"]()) ? (this.valueFromJulia[\"index\"]=true, this.model[\"index\"](val)) : undefined})"
             ]
            },
            "id": "9720960746012143132",
            "imports": {
             "data": [
              {
               "name": "knockout",
               "type": "js",
               "url": "/assetserver/e31c34c0a010a22b07a4ea62cf19565be16ef67a-knockout.js"
              },
              {
               "name": "knockout_punches",
               "type": "js",
               "url": "/assetserver/8f64646d1da8c510b22b1574adc5907d73077c69-knockout_punches.js"
              },
              {
               "name": null,
               "type": "js",
               "url": "/assetserver/238e875e3e3e23f69f6eaba02963d92d6dcbdb20-all.js"
              },
              {
               "name": null,
               "type": "css",
               "url": "/assetserver/771b94f0ac8f9083906a6d79393d1095c729ea3f-style.css"
              },
              {
               "name": null,
               "type": "css",
               "url": "/assetserver/e809a41cf3882134457fc55c56cb9c467ec562b6-bulma_confined.min.css"
              }
             ],
             "type": "async_block"
            },
            "mount_callbacks": [
             "function () {\n    var handler = (function (ko, koPunches) {\n    ko.punches.enableAll();\n    ko.bindingHandlers.numericValue = {\n        init: function(element, valueAccessor, allBindings, data, context) {\n            var stringified = ko.observable(ko.unwrap(valueAccessor()));\n            stringified.subscribe(function(value) {\n                var val = parseFloat(value);\n                if (!isNaN(val)) {\n                    valueAccessor()(val);\n                }\n            });\n            valueAccessor().subscribe(function(value) {\n                var str = JSON.stringify(value);\n                if ((str == \"0\") && ([\"-0\", \"-0.\"].indexOf(stringified()) >= 0))\n                     return;\n                 if ([\"null\", \"\"].indexOf(str) >= 0)\n                     return;\n                stringified(str);\n            });\n            ko.applyBindingsToNode(\n                element,\n                {\n                    value: stringified,\n                    valueUpdate: allBindings.get('valueUpdate'),\n                },\n                context,\n            );\n        }\n    };\n    var json_data = {\"formatted_vals\":[\"2\",\"3\",\"4\",\"5\",\"6\",\"7\",\"8\",\"9\"],\"changes\":WebIO.getval({\"name\":\"changes\",\"scope\":\"9720960746012143132\",\"id\":\"2\",\"type\":\"observable\"}),\"index\":WebIO.getval({\"name\":\"index\",\"scope\":\"9720960746012143132\",\"id\":\"1\",\"type\":\"observable\"})};\n    var self = this;\n    function AppViewModel() {\n        for (var key in json_data) {\n            var el = json_data[key];\n            this[key] = Array.isArray(el) ? ko.observableArray(el) : ko.observable(el);\n        }\n        \n        [this[\"formatted_val\"]=ko.computed(    function(){\n        return this.formatted_vals()[parseInt(this.index())-(2)];\n    }\n,this)]\n        [this[\"changes\"].subscribe((function (val){!(this.valueFromJulia[\"changes\"]) ? (WebIO.setval({\"name\":\"changes\",\"scope\":\"9720960746012143132\",\"id\":\"2\",\"type\":\"observable\"},val)) : undefined; return this.valueFromJulia[\"changes\"]=false}),self),this[\"index\"].subscribe((function (val){!(this.valueFromJulia[\"index\"]) ? (WebIO.setval({\"name\":\"index\",\"scope\":\"9720960746012143132\",\"id\":\"1\",\"type\":\"observable\"},val)) : undefined; return this.valueFromJulia[\"index\"]=false}),self)]\n        \n    }\n    self.model = new AppViewModel();\n    self.valueFromJulia = {};\n    for (var key in json_data) {\n        self.valueFromJulia[key] = false;\n    }\n    ko.applyBindings(self.model, self.dom);\n}\n);\n    (WebIO.importBlock({\"data\":[{\"name\":\"knockout\",\"type\":\"js\",\"url\":\"/assetserver/e31c34c0a010a22b07a4ea62cf19565be16ef67a-knockout.js\"},{\"name\":\"knockout_punches\",\"type\":\"js\",\"url\":\"/assetserver/8f64646d1da8c510b22b1574adc5907d73077c69-knockout_punches.js\"}],\"type\":\"async_block\"})).then((imports) => handler.apply(this, imports));\n}\n"
            ],
            "observables": {
             "changes": {
              "id": "2",
              "sync": false,
              "value": 0
             },
             "index": {
              "id": "1",
              "sync": true,
              "value": 5
             }
            },
            "systemjs_options": null
           },
           "nodeType": "Scope",
           "props": {},
           "type": "node"
          }
         ],
         "instanceArgs": {
          "namespace": "html",
          "tag": "div"
         },
         "nodeType": "DOM",
         "props": {
          "className": "field interact-widget"
         },
         "type": "node"
        },
        {
         "children": [
          {
           "children": [],
           "instanceArgs": {
            "id": "8",
            "name": "obs-node"
           },
           "nodeType": "ObservableNode",
           "props": {},
           "type": "node"
          }
         ],
         "instanceArgs": {
          "handlers": {},
          "id": "1773093033764295979",
          "imports": {
           "data": [],
           "type": "async_block"
          },
          "mount_callbacks": [],
          "observables": {
           "obs-node": {
            "id": "8",
            "sync": false,
            "value": {
             "children": [
              {
               "children": [],
               "instanceArgs": {
                "namespace": "html",
                "tag": "div"
               },
               "nodeType": "DOM",
               "props": {
                "setInnerHtml": "<img src=\"data:image/png;base64,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\" />"
               },
               "type": "node"
              }
             ],
             "instanceArgs": {
              "namespace": "html",
              "tag": "div"
             },
             "nodeType": "DOM",
             "props": {
              "className": "interact-flex-row interact-widget"
             },
             "type": "node"
            }
           }
          },
          "systemjs_options": null
         },
         "nodeType": "Scope",
         "props": {},
         "type": "node"
        }
       ],
       "instanceArgs": {
        "namespace": "html",
        "tag": "div"
       },
       "nodeType": "DOM",
       "props": {},
       "type": "node"
      },
      "text/html": [
       "<div\n",
       "    class=\"webio-mountpoint\"\n",
       "    data-webio-mountpoint=\"12680557227793525147\"\n",
       ">\n",
       "    <script>\n",
       "    (function(){\n",
       "    // Some integrations (namely, IJulia/Jupyter) use an alternate render pathway than\n",
       "    // just putting the html on the page. If WebIO isn't defined, then it's pretty likely\n",
       "    // that we're in one of those situations and the integration just isn't installed\n",
       "    // correctly.\n",
       "    if (typeof window.WebIO === \"undefined\") {\n",
       "        document\n",
       "            .querySelector('[data-webio-mountpoint=\"12680557227793525147\"]')\n",
       "            .innerHTML = (\n",
       "                '<div style=\"padding: 1em; background-color: #f8d6da; border: 1px solid #f5c6cb; font-weight: bold;\">' +\n",
       "                '<p><strong>WebIO not detected.</strong></p>' +\n",
       "                '<p>Please read ' +\n",
       "                '<a href=\"https://juliagizmos.github.io/WebIO.jl/latest/troubleshooting/not-detected/\" target=\"_blank\">the troubleshooting guide</a> ' +\n",
       "                'for more information on how to resolve this issue.</p>' +\n",
       "                '<p><a href=\"https://juliagizmos.github.io/WebIO.jl/latest/troubleshooting/not-detected/\" target=\"_blank\">https://juliagizmos.github.io/WebIO.jl/latest/troubleshooting/not-detected/</a></p>' +\n",
       "                '</div>'\n",
       "            );\n",
       "        return;\n",
       "    }\n",
       "    WebIO.mount(\n",
       "        document.querySelector('[data-webio-mountpoint=\"12680557227793525147\"]'),\n",
       "        {\"props\":{},\"nodeType\":\"DOM\",\"type\":\"node\",\"instanceArgs\":{\"namespace\":\"html\",\"tag\":\"div\"},\"children\":[{\"props\":{\"className\":\"field interact-widget\"},\"nodeType\":\"DOM\",\"type\":\"node\",\"instanceArgs\":{\"namespace\":\"html\",\"tag\":\"div\"},\"children\":[{\"props\":{},\"nodeType\":\"Scope\",\"type\":\"node\",\"instanceArgs\":{\"imports\":{\"data\":[{\"name\":\"knockout\",\"type\":\"js\",\"url\":\"\\/assetserver\\/e31c34c0a010a22b07a4ea62cf19565be16ef67a-knockout.js\"},{\"name\":\"knockout_punches\",\"type\":\"js\",\"url\":\"\\/assetserver\\/8f64646d1da8c510b22b1574adc5907d73077c69-knockout_punches.js\"},{\"name\":null,\"type\":\"js\",\"url\":\"\\/assetserver\\/238e875e3e3e23f69f6eaba02963d92d6dcbdb20-all.js\"},{\"name\":null,\"type\":\"css\",\"url\":\"\\/assetserver\\/771b94f0ac8f9083906a6d79393d1095c729ea3f-style.css\"},{\"name\":null,\"type\":\"css\",\"url\":\"\\/assetserver\\/e809a41cf3882134457fc55c56cb9c467ec562b6-bulma_confined.min.css\"}],\"type\":\"async_block\"},\"id\":\"9720960746012143132\",\"handlers\":{\"changes\":[\"(function (val){return (val!=this.model[\\\"changes\\\"]()) ? (this.valueFromJulia[\\\"changes\\\"]=true, this.model[\\\"changes\\\"](val)) : undefined})\"],\"index\":[\"(function (val){return (val!=this.model[\\\"index\\\"]()) ? (this.valueFromJulia[\\\"index\\\"]=true, this.model[\\\"index\\\"](val)) : undefined})\"]},\"systemjs_options\":null,\"mount_callbacks\":[\"function () {\\n    var handler = (function (ko, koPunches) {\\n    ko.punches.enableAll();\\n    ko.bindingHandlers.numericValue = {\\n        init: function(element, valueAccessor, allBindings, data, context) {\\n            var stringified = ko.observable(ko.unwrap(valueAccessor()));\\n            stringified.subscribe(function(value) {\\n                var val = parseFloat(value);\\n                if (!isNaN(val)) {\\n                    valueAccessor()(val);\\n                }\\n            });\\n            valueAccessor().subscribe(function(value) {\\n                var str = JSON.stringify(value);\\n                if ((str == \\\"0\\\") && ([\\\"-0\\\", \\\"-0.\\\"].indexOf(stringified()) >= 0))\\n                     return;\\n                 if ([\\\"null\\\", \\\"\\\"].indexOf(str) >= 0)\\n                     return;\\n                stringified(str);\\n            });\\n            ko.applyBindingsToNode(\\n                element,\\n                {\\n                    value: stringified,\\n                    valueUpdate: allBindings.get('valueUpdate'),\\n                },\\n                context,\\n            );\\n        }\\n    };\\n    var json_data = {\\\"formatted_vals\\\":[\\\"2\\\",\\\"3\\\",\\\"4\\\",\\\"5\\\",\\\"6\\\",\\\"7\\\",\\\"8\\\",\\\"9\\\"],\\\"changes\\\":WebIO.getval({\\\"name\\\":\\\"changes\\\",\\\"scope\\\":\\\"9720960746012143132\\\",\\\"id\\\":\\\"2\\\",\\\"type\\\":\\\"observable\\\"}),\\\"index\\\":WebIO.getval({\\\"name\\\":\\\"index\\\",\\\"scope\\\":\\\"9720960746012143132\\\",\\\"id\\\":\\\"1\\\",\\\"type\\\":\\\"observable\\\"})};\\n    var self = this;\\n    function AppViewModel() {\\n        for (var key in json_data) {\\n            var el = json_data[key];\\n            this[key] = Array.isArray(el) ? ko.observableArray(el) : ko.observable(el);\\n        }\\n        \\n        [this[\\\"formatted_val\\\"]=ko.computed(    function(){\\n        return this.formatted_vals()[parseInt(this.index())-(2)];\\n    }\\n,this)]\\n        [this[\\\"changes\\\"].subscribe((function (val){!(this.valueFromJulia[\\\"changes\\\"]) ? (WebIO.setval({\\\"name\\\":\\\"changes\\\",\\\"scope\\\":\\\"9720960746012143132\\\",\\\"id\\\":\\\"2\\\",\\\"type\\\":\\\"observable\\\"},val)) : undefined; return this.valueFromJulia[\\\"changes\\\"]=false}),self),this[\\\"index\\\"].subscribe((function (val){!(this.valueFromJulia[\\\"index\\\"]) ? (WebIO.setval({\\\"name\\\":\\\"index\\\",\\\"scope\\\":\\\"9720960746012143132\\\",\\\"id\\\":\\\"1\\\",\\\"type\\\":\\\"observable\\\"},val)) : undefined; return this.valueFromJulia[\\\"index\\\"]=false}),self)]\\n        \\n    }\\n    self.model = new AppViewModel();\\n    self.valueFromJulia = {};\\n    for (var key in json_data) {\\n        self.valueFromJulia[key] = false;\\n    }\\n    ko.applyBindings(self.model, self.dom);\\n}\\n);\\n    (WebIO.importBlock({\\\"data\\\":[{\\\"name\\\":\\\"knockout\\\",\\\"type\\\":\\\"js\\\",\\\"url\\\":\\\"\\/assetserver\\/e31c34c0a010a22b07a4ea62cf19565be16ef67a-knockout.js\\\"},{\\\"name\\\":\\\"knockout_punches\\\",\\\"type\\\":\\\"js\\\",\\\"url\\\":\\\"\\/assetserver\\/8f64646d1da8c510b22b1574adc5907d73077c69-knockout_punches.js\\\"}],\\\"type\\\":\\\"async_block\\\"})).then((imports) => handler.apply(this, imports));\\n}\\n\"],\"observables\":{\"changes\":{\"sync\":false,\"id\":\"2\",\"value\":0},\"index\":{\"sync\":true,\"id\":\"1\",\"value\":5}}},\"children\":[{\"props\":{\"className\":\"interact-flex-row interact-widget\"},\"nodeType\":\"DOM\",\"type\":\"node\",\"instanceArgs\":{\"namespace\":\"html\",\"tag\":\"div\"},\"children\":[{\"props\":{\"className\":\"interact-flex-row-left\"},\"nodeType\":\"DOM\",\"type\":\"node\",\"instanceArgs\":{\"namespace\":\"html\",\"tag\":\"div\"},\"children\":[{\"props\":{\"className\":\"interact \",\"style\":{\"padding\":\"5px 10px 0px 10px\"}},\"nodeType\":\"DOM\",\"type\":\"node\",\"instanceArgs\":{\"namespace\":\"html\",\"tag\":\"label\"},\"children\":[\"i\"]}]},{\"props\":{\"className\":\"interact-flex-row-center\"},\"nodeType\":\"DOM\",\"type\":\"node\",\"instanceArgs\":{\"namespace\":\"html\",\"tag\":\"div\"},\"children\":[{\"props\":{\"max\":9,\"min\":2,\"attributes\":{\"type\":\"range\",\"data-bind\":\"numericValue: index, valueUpdate: 'input', event: {change: function (){this.changes(this.changes()+1)}}\",\"orient\":\"horizontal\"},\"step\":1,\"className\":\"slider slider is-fullwidth\",\"style\":{}},\"nodeType\":\"DOM\",\"type\":\"node\",\"instanceArgs\":{\"namespace\":\"html\",\"tag\":\"input\"},\"children\":[]}]},{\"props\":{\"className\":\"interact-flex-row-right\"},\"nodeType\":\"DOM\",\"type\":\"node\",\"instanceArgs\":{\"namespace\":\"html\",\"tag\":\"div\"},\"children\":[{\"props\":{\"attributes\":{\"data-bind\":\"text: formatted_val\"}},\"nodeType\":\"DOM\",\"type\":\"node\",\"instanceArgs\":{\"namespace\":\"html\",\"tag\":\"p\"},\"children\":[]}]}]}]}]},{\"props\":{},\"nodeType\":\"Scope\",\"type\":\"node\",\"instanceArgs\":{\"imports\":{\"data\":[],\"type\":\"async_block\"},\"id\":\"9667715186634572528\",\"handlers\":{},\"systemjs_options\":null,\"mount_callbacks\":[],\"observables\":{\"obs-node\":{\"sync\":false,\"id\":\"6\",\"value\":{\"props\":{\"className\":\"interact-flex-row interact-widget\"},\"nodeType\":\"DOM\",\"type\":\"node\",\"instanceArgs\":{\"namespace\":\"html\",\"tag\":\"div\"},\"children\":[{\"props\":{\"setInnerHtml\":\"<img src=\\\"data:image\\/png;base64,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\\\" \\/>\"},\"nodeType\":\"DOM\",\"type\":\"node\",\"instanceArgs\":{\"namespace\":\"html\",\"tag\":\"div\"},\"children\":[]}]}}}},\"children\":[{\"props\":{},\"nodeType\":\"ObservableNode\",\"type\":\"node\",\"instanceArgs\":{\"id\":\"6\",\"name\":\"obs-node\"},\"children\":[]}]}]},\n",
       "        window,\n",
       "    );\n",
       "    })()\n",
       "    </script>\n",
       "</div>\n"
      ],
      "text/plain": [
       "Node{WebIO.DOM}(WebIO.DOM(:html, :div), Any[Node{WebIO.DOM}(WebIO.DOM(:html, :div), Any[Scope(Node{WebIO.DOM}(WebIO.DOM(:html, :div), Any[Node{WebIO.DOM}(WebIO.DOM(:html, :div), Any[Node{WebIO.DOM}(WebIO.DOM(:html, :label), Any[\"i\"], Dict{Symbol, Any}(:className => \"interact \", :style => Dict{Any, Any}(:padding => \"5px 10px 0px 10px\")))], Dict{Symbol, Any}(:className => \"interact-flex-row-left\")), Node{WebIO.DOM}(WebIO.DOM(:html, :div), Any[Node{WebIO.DOM}(WebIO.DOM(:html, :input), Any[], Dict{Symbol, Any}(:max => 9, :min => 2, :attributes => Dict{Any, Any}(:type => \"range\", Symbol(\"data-bind\") => \"numericValue: index, valueUpdate: 'input', event: {change: function (){this.changes(this.changes()+1)}}\", \"orient\" => \"horizontal\"), :step => 1, :className => \"slider slider is-fullwidth\", :style => Dict{Any, Any}()))], Dict{Symbol, Any}(:className => \"interact-flex-row-center\")), Node{WebIO.DOM}(WebIO.DOM(:html, :div), Any[Node{WebIO.DOM}(WebIO.DOM(:html, :p), Any[], Dict{Symbol, Any}(:attributes => Dict(\"data-bind\" => \"text: formatted_val\")))], Dict{Symbol, Any}(:className => \"interact-flex-row-right\"))], Dict{Symbol, Any}(:className => \"interact-flex-row interact-widget\")), Dict{String, Tuple{AbstractObservable, Union{Nothing, Bool}}}(\"changes\" => (Observable(0), nothing), \"index\" => (Observable(5), nothing)), Set{String}(), nothing, Asset[Asset(\"js\", \"knockout\", \"/Users/thofma/.julia/packages/Knockout/HReiN/src/../assets/knockout.js\"), Asset(\"js\", \"knockout_punches\", \"/Users/thofma/.julia/packages/Knockout/HReiN/src/../assets/knockout_punches.js\"), Asset(\"js\", nothing, \"/Users/thofma/.julia/packages/InteractBase/8TTmI/src/../assets/all.js\"), Asset(\"css\", nothing, \"/Users/thofma/.julia/packages/InteractBase/8TTmI/src/../assets/style.css\"), Asset(\"css\", nothing, \"/Users/thofma/.julia/packages/Interact/PENUy/src/../assets/bulma_confined.min.css\")], Dict{Any, Any}(\"changes\" => Any[WebIO.JSString(\"(function (val){return (val!=this.model[\\\"changes\\\"]()) ? (this.valueFromJulia[\\\"changes\\\"]=true, this.model[\\\"changes\\\"](val)) : undefined})\")], \"index\" => Any[WebIO.JSString(\"(function (val){return (val!=this.model[\\\"index\\\"]()) ? (this.valueFromJulia[\\\"index\\\"]=true, this.model[\\\"index\\\"](val)) : undefined})\")]), WebIO.ConnectionPool(Channel{Any}(32), Set{AbstractConnection}(), Base.GenericCondition(ReentrantLock())), WebIO.JSString[WebIO.JSString(\"function () {\\n    var handler = (function (ko, koPunches) {\\n    ko.punches.enableAll();\\n    ko.bindingHandlers.numericValue = {\\n        init: function(element, valueAccessor, allBindings, data, context) {\\n            var stringified = ko.observable(ko.unwrap(valueAccessor()));\\n            stringified.subscribe(function(value) {\\n                var val = parseFloat(value);\\n                if (!isNaN(val)) {\\n                    valueAccessor()(val);\\n                }\\n            });\\n            valueAccessor().subscribe(function(value) {\\n                var str = JSON.stringify(value);\\n                if ((str == \\\"0\\\") && ([\\\"-0\\\", \\\"-0.\\\"].indexOf(stringified()) >= 0))\\n                     return;\\n                 if ([\\\"null\\\", \\\"\\\"].indexOf(str) >= 0)\\n                     return;\\n                stringified(str);\\n            });\\n            ko.applyBindingsToNode(\\n                element,\\n                {\\n                    value: stringified,\\n                    valueUpdate: allBindings.get('valueUpdate'),\\n                },\\n                context,\\n            );\\n        }\\n    };\\n    var json_data = {\\\"formatted_vals\\\":[\\\"2\\\",\\\"3\\\",\\\"4\\\",\\\"5\\\",\\\"6\\\",\\\"7\\\",\\\"8\\\",\\\"9\\\"],\\\"changes\\\":WebIO.getval({\\\"name\\\":\\\"changes\\\",\\\"scope\\\":\\\"9720960746012143132\\\",\\\"id\\\":\\\"2\\\",\\\"type\\\":\\\"observable\\\"}),\\\"index\\\":WebIO.getval({\\\"name\\\":\\\"index\\\",\\\"scope\\\":\\\"9720960746012143132\\\",\\\"id\\\":\\\"1\\\",\\\"type\\\":\\\"observable\\\"})};\\n    var self = this;\\n    function AppViewModel() {\\n        for (var key in json_data) {\\n            var el = json_data[key];\\n            this[key] = Array.isArray(el) ? ko.observableArray(el) : ko.observable(el);\\n        }\\n        \\n        [this[\\\"formatted_val\\\"]=ko.computed(    function(){\\n        return this.formatted_vals()[parseInt(this.index())-(2)];\\n    }\\n,this)]\\n        [this[\\\"changes\\\"].subscribe((function (val){!(this.valueFromJulia[\\\"changes\\\"]) ? (WebIO.setval({\\\"name\\\":\\\"changes\\\",\\\"scope\\\":\\\"9720960746012143132\\\",\\\"id\\\":\\\"2\\\",\\\"type\\\":\\\"observable\\\"},val)) : undefined; return this.valueFromJulia[\\\"changes\\\"]=false}),self),this[\\\"index\\\"].subscribe((function (val){!(this.valueFromJulia[\\\"index\\\"]) ? (WebIO.setval({\\\"name\\\":\\\"index\\\",\\\"scope\\\":\\\"9720960746012143132\\\",\\\"id\\\":\\\"1\\\",\\\"type\\\":\\\"observable\\\"},val)) : undefined; return this.valueFromJulia[\\\"index\\\"]=false}),self)]\\n        \\n    }\\n    self.model = new AppViewModel();\\n    self.valueFromJulia = {};\\n    for (var key in json_data) {\\n        self.valueFromJulia[key] = false;\\n    }\\n    ko.applyBindings(self.model, self.dom);\\n}\\n);\\n    (WebIO.importBlock({\\\"data\\\":[{\\\"name\\\":\\\"knockout\\\",\\\"type\\\":\\\"js\\\",\\\"url\\\":\\\"/assetserver/e31c34c0a010a22b07a4ea62cf19565be16ef67a-knockout.js\\\"},{\\\"name\\\":\\\"knockout_punches\\\",\\\"type\\\":\\\"js\\\",\\\"url\\\":\\\"/assetserver/8f64646d1da8c510b22b1574adc5907d73077c69-knockout_punches.js\\\"}],\\\"type\\\":\\\"async_block\\\"})).then((imports) => handler.apply(this, imports));\\n}\\n\")])], Dict{Symbol, Any}(:className => \"field interact-widget\")), Observable(Node{WebIO.DOM}(WebIO.DOM(:html, :div), Any[Plot{Plots.GRBackend() n=10}\n",
       "Captured extra kwargs:\n",
       "  Series{10}:\n",
       "    markerstrokesize: 0\n",
       "], Dict{Symbol, Any}(:className => \"interact-flex-row interact-widget\")))], Dict{Symbol, Any}())"
      ]
     },
     "execution_count": 83,
     "metadata": {},
     "output_type": "execute_result"
    }
   ],
   "source": [
    "@manipulate for i in 2:9; # does not like graph with one vertex\n",
    "    graphplot(Grandom[1:i], names = 1:i, nodeshape=:circle, aspect_ratio=1, nodesize=0.2, curvature_scalar = 0, fontsize = 10)\n",
    "  end"
   ]
  },
  {
   "cell_type": "markdown",
   "id": "3f79607d",
   "metadata": {
    "slideshow": {
     "slide_type": "slide"
    }
   },
   "source": [
    "### The neighbor graph\n",
    "\n",
    "By determining all neighbors, we can determine the whole neighbor graph!"
   ]
  },
  {
   "cell_type": "code",
   "execution_count": 84,
   "id": "082a9d0e",
   "metadata": {
    "slideshow": {
     "slide_type": "skip"
    }
   },
   "outputs": [
    {
     "data": {
      "text/plain": [
       "neighbor_graph (generic function with 1 method)"
      ]
     },
     "execution_count": 84,
     "metadata": {},
     "output_type": "execute_result"
    }
   ],
   "source": [
    "function all_neighbors_up_to_isometry(L::ZZLat, p)\n",
    "  # keep L here\n",
    "  res = [L]\n",
    "  for _v in Hecke.cartesian_product_iterator(0:(p - 1), rank(L))\n",
    "    v = QQ.(collect(_v))\n",
    "    m = ZZ(Hecke.inner_product(rational_span(L), v, v))\n",
    "    if mod(m, p) == 0\n",
    "      while true\n",
    "        w = v + QQ.([rand(-10:10) * p for i in 1:rank(L)])\n",
    "        is_zero(w) && continue\n",
    "        mm = ZZ(Hecke.inner_product(rational_span(L), w, w))\n",
    "        if mod(mm, p^2) == 0\n",
    "          _L =  neighbor(L, w, p)\n",
    "          @assert isintegral(_L)\n",
    "          #if !isintegral(_L)\n",
    "            #continue\n",
    "          #else\n",
    "            if any(M -> is_isometric(M, _L), res)\n",
    "              break\n",
    "            else\n",
    "              push!(res, _L)\n",
    "              break\n",
    "            end\n",
    "          #end\n",
    "       end\n",
    "      end\n",
    "    end\n",
    "  end\n",
    "  # drop L\n",
    "  popfirst!(res)\n",
    "  return res\n",
    "end\n",
    "\n",
    "function neighbor_graph(L::ZZLat, p)\n",
    "  work_list = [L]\n",
    "  edges = []\n",
    "  vertices = [L]\n",
    "  neighbor_cache = Dict()\n",
    "  while !isempty(work_list)\n",
    "    M = pop!(work_list)\n",
    "    M_neighbors = all_neighbors_up_to_isometry(M, p)\n",
    "    neighbor_cache[M] = M_neighbors\n",
    "    for N in M_neighbors\n",
    "      if any(NN -> is_isometric(NN, N), vertices)\n",
    "        continue\n",
    "      else\n",
    "        push!(vertices, N)\n",
    "        push!(work_list, N)\n",
    "      end\n",
    "    end\n",
    "  end\n",
    "  for M in vertices\n",
    "    M_neighbors = neighbor_cache[M]\n",
    "    for N in M_neighbors\n",
    "      for MM in vertices\n",
    "        if is_isometric(N, MM)\n",
    "          push!(edges, (M, MM))\n",
    "        end\n",
    "      end\n",
    "    end\n",
    "  end\n",
    "  G = Graphs.Graph(length(vertices))\n",
    "  D = Dict(vertices[i] => i for i in 1:length(vertices))\n",
    "  for e in edges\n",
    "    Graphs.add_edge!(G, D[e[1]], D[e[2]])\n",
    "  end\n",
    "  return G\n",
    "end"
   ]
  },
  {
   "cell_type": "code",
   "execution_count": null,
   "id": "46df893d",
   "metadata": {
    "slideshow": {
     "slide_type": "fragment"
    }
   },
   "outputs": [],
   "source": [
    "all_neighbors_up_to_isometry(L, 5)"
   ]
  },
  {
   "cell_type": "code",
   "execution_count": null,
   "id": "61e79ead",
   "metadata": {
    "slideshow": {
     "slide_type": "fragment"
    }
   },
   "outputs": [],
   "source": [
    "G = neighbor_graph(L, 5)"
   ]
  },
  {
   "cell_type": "markdown",
   "id": "07d99095",
   "metadata": {
    "slideshow": {
     "slide_type": "slide"
    }
   },
   "source": [
    "Let's plot this!"
   ]
  },
  {
   "cell_type": "code",
   "execution_count": null,
   "id": "1e5a0b1d",
   "metadata": {
    "slideshow": {
     "slide_type": "fragment"
    }
   },
   "outputs": [],
   "source": [
    "graphplot(G, names = 1:length(G), nodeshape=:circle, aspect_ratio=1, nodesize=0.2, curvature_scalar = 0, fontsize = 10)"
   ]
  },
  {
   "cell_type": "markdown",
   "id": "3113f82f",
   "metadata": {
    "slideshow": {
     "slide_type": "slide"
    }
   },
   "source": [
    "### Changing the prime\n",
    "\n",
    "What happens if we choose a different (good) prime?"
   ]
  },
  {
   "cell_type": "code",
   "execution_count": null,
   "id": "8117bdbd",
   "metadata": {
    "slideshow": {
     "slide_type": "fragment"
    }
   },
   "outputs": [],
   "source": [
    "G = neighbor_graph(L, 7)"
   ]
  },
  {
   "cell_type": "code",
   "execution_count": null,
   "id": "f766214e",
   "metadata": {
    "slideshow": {
     "slide_type": "fragment"
    }
   },
   "outputs": [],
   "source": [
    "graphplot(G, names = 1:length(G), nodeshape=:circle, aspect_ratio=1, nodesize=0.2, curvature_scalar = 0, fontsize = 10)"
   ]
  },
  {
   "cell_type": "markdown",
   "id": "0a0b31ea",
   "metadata": {
    "slideshow": {
     "slide_type": "fragment"
    }
   },
   "source": [
    "This is a different graph! For example, vertex $1$ has degree $3$."
   ]
  },
  {
   "cell_type": "markdown",
   "id": "4ef79d65",
   "metadata": {
    "slideshow": {
     "slide_type": "slide"
    }
   },
   "source": [
    "Something interesting for $p = 13$"
   ]
  },
  {
   "cell_type": "code",
   "execution_count": null,
   "id": "267ef777",
   "metadata": {
    "slideshow": {
     "slide_type": "fragment"
    }
   },
   "outputs": [],
   "source": [
    "G = neighbor_graph(L, 13)"
   ]
  },
  {
   "cell_type": "code",
   "execution_count": null,
   "id": "e6530df6",
   "metadata": {
    "slideshow": {
     "slide_type": "fragment"
    }
   },
   "outputs": [],
   "source": [
    "graphplot(G, names = 1:length(G), nodeshape=:circle, aspect_ratio=1, nodesize=0.2, curvature_scalar = 0, fontsize = 10)"
   ]
  },
  {
   "cell_type": "markdown",
   "id": "bb829125",
   "metadata": {
    "slideshow": {
     "slide_type": "fragment"
    }
   },
   "source": [
    "There is a vertex with degree $8$!. Since $8 + 1 = 9 = \\lvert \\operatorname{gen}(L)\\rvert$, this lattice and all its neighbors are representative for all classes in the genus!"
   ]
  },
  {
   "cell_type": "markdown",
   "id": "f7e28a06",
   "metadata": {
    "slideshow": {
     "slide_type": "slide"
    }
   },
   "source": [
    "## Another example"
   ]
  },
  {
   "cell_type": "code",
   "execution_count": null,
   "id": "b5768f55",
   "metadata": {
    "slideshow": {
     "slide_type": "fragment"
    }
   },
   "outputs": [],
   "source": [
    "L = Zlattice(; gram = matrix(ZZ, [[2, 0, 1], [0, 2, 0], [1, 0, 496]])) # 3.1982.3964.50.1"
   ]
  },
  {
   "cell_type": "code",
   "execution_count": null,
   "id": "3a126215",
   "metadata": {
    "slideshow": {
     "slide_type": "fragment"
    }
   },
   "outputs": [],
   "source": [
    "factor(ZZ(discriminant(L)))"
   ]
  },
  {
   "cell_type": "code",
   "execution_count": null,
   "id": "cd23b4f1",
   "metadata": {
    "slideshow": {
     "slide_type": "fragment"
    }
   },
   "outputs": [],
   "source": [
    "G = neighbor_graph(L, 3)"
   ]
  },
  {
   "cell_type": "code",
   "execution_count": null,
   "id": "b3053866",
   "metadata": {
    "slideshow": {
     "slide_type": "slide"
    }
   },
   "outputs": [],
   "source": [
    "graphplot(G, names = 1:length(G), nodeshape=:circle, markersize=.12, aspect_ratio=1, nodesize=0.15, curvature_scalar = 0, fontsize = 10, size = (800, 800))"
   ]
  },
  {
   "cell_type": "markdown",
   "id": "6a81472a",
   "metadata": {
    "slideshow": {
     "slide_type": "slide"
    }
   },
   "source": [
    "## Enumerating lattices\n",
    "\n",
    "Question: Find the set $S$ of all (up to isometry) lattices $L$ with certain properties.\n",
    "\n",
    "For example: Find all positive definite integer lattices $L$ with $\\operatorname{rank}(L) = 4$ and $\\lvert \\det(L) \\rvert \\leq 50$.\n",
    "\n",
    "This is a finite set! Can we compute it?"
   ]
  },
  {
   "cell_type": "markdown",
   "id": "dad99444",
   "metadata": {
    "slideshow": {
     "slide_type": "fragment"
    }
   },
   "source": [
    "1. Find $\\mathcal{G} = \\{ \\operatorname{genus}(L) \\mid L \\in S \\}$. This enumeration of genera can be done using only the rank and determinant bound.\n",
    "2. For each $G \\in \\mathcal{G}$, find the isometry classes of lattices in $G$."
   ]
  },
  {
   "cell_type": "markdown",
   "id": "8c47e3f4",
   "metadata": {
    "slideshow": {
     "slide_type": "slide"
    }
   },
   "source": [
    "The genera of positive definite integer lattices of determinant $1$:"
   ]
  },
  {
   "cell_type": "code",
   "execution_count": null,
   "id": "14395bea",
   "metadata": {
    "slideshow": {
     "slide_type": "fragment"
    }
   },
   "outputs": [],
   "source": [
    "G, = integer_genera((4, 0), 1)"
   ]
  },
  {
   "cell_type": "code",
   "execution_count": null,
   "id": "b7e3044a",
   "metadata": {
    "slideshow": {
     "slide_type": "fragment"
    }
   },
   "outputs": [],
   "source": [
    "L = representative(G)"
   ]
  },
  {
   "cell_type": "code",
   "execution_count": null,
   "id": "0aebeefc",
   "metadata": {
    "slideshow": {
     "slide_type": "fragment"
    }
   },
   "outputs": [],
   "source": [
    "genus_representatives(L)"
   ]
  },
  {
   "cell_type": "markdown",
   "id": "e07186d6",
   "metadata": {
    "slideshow": {
     "slide_type": "slide"
    }
   },
   "source": [
    "Now for all possible determinants:"
   ]
  },
  {
   "cell_type": "code",
   "execution_count": null,
   "id": "d786b239",
   "metadata": {
    "slideshow": {
     "slide_type": "fragment"
    }
   },
   "outputs": [],
   "source": [
    "res = []\n",
    "for i in 1:50\n",
    "    for G in integer_genera((4, 0), i)\n",
    "        append!(res, genus_representatives(representative(G)))\n",
    "    end\n",
    "end\n",
    "length(res)"
   ]
  },
  {
   "cell_type": "markdown",
   "id": "018d43be",
   "metadata": {
    "slideshow": {
     "slide_type": "fragment"
    }
   },
   "source": [
    "Thus (up to isometry), there are 645 positive definite integer lattices with rank $4$ and determinant bounded by $50$."
   ]
  },
  {
   "cell_type": "markdown",
   "id": "21be346f",
   "metadata": {
    "slideshow": {
     "slide_type": "slide"
    }
   },
   "source": [
    "# Torsion quadratic modules"
   ]
  },
  {
   "cell_type": "markdown",
   "id": "9d478d0b",
   "metadata": {
    "slideshow": {
     "slide_type": "fragment"
    }
   },
   "source": [
    "A torsion quadratic module is the quotient $T = L/M$ of two integer lattices $L$ and $M$ of the same rank, equipped with induced maps\n",
    "\n",
    "$$ b \\colon T \\times T \\to \\mathbf{Q}/n\\mathbf{Z}$$\n",
    "\n",
    "\n",
    "and\n",
    "\n",
    "$$ q \\colon T \\to \\mathbf{Q}/m\\mathbf{Z}.$$\n",
    "\n",
    "Arise naturally when\n",
    "- constructing overlattices, or\n",
    "- gluing lattices together.\n",
    "\n",
    "If $L$ is an integral lattice with dual $L^\\vee$, then the torsion quadratic module $D_L = L^\\vee/L$ is the *discriminant group* of $L$."
   ]
  },
  {
   "cell_type": "markdown",
   "id": "ede8d6fa",
   "metadata": {
    "slideshow": {
     "slide_type": "slide"
    }
   },
   "source": [
    "### Construction and properties"
   ]
  },
  {
   "cell_type": "code",
   "execution_count": null,
   "id": "14e06b72",
   "metadata": {
    "slideshow": {
     "slide_type": "fragment"
    }
   },
   "outputs": [],
   "source": [
    "L = root_lattice(:E, 8)"
   ]
  },
  {
   "cell_type": "code",
   "execution_count": null,
   "id": "3a05822a",
   "metadata": {
    "slideshow": {
     "slide_type": "fragment"
    }
   },
   "outputs": [],
   "source": [
    "M = 2*L;"
   ]
  },
  {
   "cell_type": "code",
   "execution_count": null,
   "id": "0dc45ee6",
   "metadata": {
    "slideshow": {
     "slide_type": "fragment"
    }
   },
   "outputs": [],
   "source": [
    "T = torsion_quadratic_module(L, M)"
   ]
  },
  {
   "cell_type": "code",
   "execution_count": null,
   "id": "a5cf5e76",
   "metadata": {
    "slideshow": {
     "slide_type": "fragment"
    }
   },
   "outputs": [],
   "source": [
    "modulus_bilinear_form(T), modulus_quadratic_form(T)"
   ]
  },
  {
   "cell_type": "code",
   "execution_count": null,
   "id": "fd5ad457",
   "metadata": {},
   "outputs": [],
   "source": [
    "elementary_divisors(T) |> print"
   ]
  },
  {
   "cell_type": "markdown",
   "id": "255dcc08",
   "metadata": {
    "slideshow": {
     "slide_type": "slide"
    }
   },
   "source": [
    "Let's construct a lattice between $M$ and $L$."
   ]
  },
  {
   "cell_type": "code",
   "execution_count": null,
   "id": "b826fdc6",
   "metadata": {
    "slideshow": {
     "slide_type": "fragment"
    }
   },
   "outputs": [],
   "source": [
    "S, StoT = sub(T, [gen(T, 1), gen(T, 2)]); order(S)"
   ]
  },
  {
   "cell_type": "markdown",
   "id": "24f4309e",
   "metadata": {
    "slideshow": {
     "slide_type": "fragment"
    }
   },
   "source": [
    "Thus $S \\leq L/M$ corresonds to $M \\subseteq N \\subseteq L$ with index $4$.\n",
    "\n",
    "To find $N$ we need to lift generators along $L \\to L/M$."
   ]
  },
  {
   "cell_type": "code",
   "execution_count": null,
   "id": "c2470ef3",
   "metadata": {},
   "outputs": [],
   "source": [
    "lift.(gens(S))"
   ]
  },
  {
   "cell_type": "code",
   "execution_count": null,
   "id": "b6667fc9",
   "metadata": {
    "slideshow": {
     "slide_type": "fragment"
    }
   },
   "outputs": [],
   "source": [
    "N = M + lattice_in_same_ambient_space(L, matrix(QQ, lift.(gens(S))))"
   ]
  },
  {
   "cell_type": "code",
   "execution_count": null,
   "id": "16613768",
   "metadata": {
    "slideshow": {
     "slide_type": "fragment"
    }
   },
   "outputs": [],
   "source": [
    "index(N, M)"
   ]
  },
  {
   "cell_type": "markdown",
   "id": "8bb45ce9",
   "metadata": {
    "slideshow": {
     "slide_type": "slide"
    }
   },
   "source": [
    "## Niemeier lattices"
   ]
  },
  {
   "cell_type": "markdown",
   "id": "fff33b8a",
   "metadata": {
    "slideshow": {
     "slide_type": "fragment"
    }
   },
   "source": [
    "A Niemeier lattice is a unimodular even lattice of rank $24$. If $L$ is a lattice, then\n",
    "\n",
    "$$ \\Phi_L = \\{ x \\in L \\mid x^2 = 2 \\}$$\n",
    "\n",
    "is the set of *roots* of $L$ and $R(L) = \\langle \\Phi_L \\rangle_{\\mathbf{Z}} \\subseteq L$ is the root lattice of $L$. Such a root lattice is determined up to isometry by the corresponding Dynkin diagram/root system.\n"
   ]
  },
  {
   "cell_type": "markdown",
   "id": "c243c64f",
   "metadata": {
    "slideshow": {
     "slide_type": "fragment"
    }
   },
   "source": [
    "\n",
    "Niemeier (1974): Up to isometry there are exactly 24 Niemeier lattices. Every Niemeier lattice is determined uniquely by $R(L)$. The 24 root systems are\n",
    "\n",
    "$$ \\emptyset, A_1^{\\oplus 24}, A_2^{\\oplus 12}, \\dotsc, A_9^{\\oplus 2} \\perp D_6,\\dotsc,$$\n"
   ]
  },
  {
   "cell_type": "markdown",
   "id": "c0c3934b",
   "metadata": {
    "slideshow": {
     "slide_type": "slide"
    }
   },
   "source": [
    "Let's construct the Niemeier lattice $L$ corresponding to $A_9^{\\oplus 2} \\perp D_6$. We begin by constructing the root lattice:"
   ]
  },
  {
   "cell_type": "code",
   "execution_count": null,
   "id": "85456f0a",
   "metadata": {
    "slideshow": {
     "slide_type": "fragment"
    }
   },
   "outputs": [],
   "source": [
    "RL, = direct_sum([root_lattice(:A, 9), root_lattice(:A, 9), root_lattice(:D, 6)]);"
   ]
  },
  {
   "cell_type": "markdown",
   "id": "e6a2e53e",
   "metadata": {
    "slideshow": {
     "slide_type": "fragment"
    }
   },
   "source": [
    "We know that $R(L) \\subseteq L \\subseteq R(L)^\\vee$. Thus $L$ corresponds to a subgroup $S \\leq D_{R(L)}$ of the discriminant group $D_{R(L)}$.\n",
    "\n",
    "- Since $L$ is unimodular, we must have $\\lvert S \\rvert^2 = \\lvert D_{R(L)} \\rvert$.\n",
    "- Since $L$ is even, we must have that $S$ is totally isotropic."
   ]
  },
  {
   "cell_type": "code",
   "execution_count": null,
   "id": "8e94dab7",
   "metadata": {
    "slideshow": {
     "slide_type": "fragment"
    }
   },
   "outputs": [],
   "source": [
    "DL = discriminant_group(RL)"
   ]
  },
  {
   "cell_type": "code",
   "execution_count": null,
   "id": "5f46251f",
   "metadata": {
    "slideshow": {
     "slide_type": "fragment"
    }
   },
   "outputs": [],
   "source": [
    "A = abelian_group(DL)"
   ]
  },
  {
   "cell_type": "code",
   "execution_count": null,
   "id": "30a2b3d6",
   "metadata": {
    "slideshow": {
     "slide_type": "fragment"
    }
   },
   "outputs": [],
   "source": [
    "overlattices_and_submodules = []\n",
    "for (S, StoDL) in submodules(DL, order = 20)\n",
    "    M = RL + lattice(ambient_space(RL), matrix(QQ, lift.(StoDL.(gens(S)))), isbasis = false)\n",
    "    push!(overlattices_and_submodules, (M, S))\n",
    "end"
   ]
  },
  {
   "cell_type": "markdown",
   "id": "43eb1343",
   "metadata": {
    "slideshow": {
     "slide_type": "slide"
    }
   },
   "source": [
    "Let's look at those overlattices:"
   ]
  },
  {
   "cell_type": "code",
   "execution_count": null,
   "id": "9a33e24a",
   "metadata": {
    "slideshow": {
     "slide_type": "fragment"
    }
   },
   "outputs": [],
   "source": [
    "M, S = overlattices_and_submodules[1];\n",
    "is_integral(M)"
   ]
  },
  {
   "cell_type": "code",
   "execution_count": null,
   "id": "e6eae391",
   "metadata": {
    "slideshow": {
     "slide_type": "fragment"
    }
   },
   "outputs": [],
   "source": [
    "gram_matrix_quadratic(S)"
   ]
  },
  {
   "cell_type": "code",
   "execution_count": null,
   "id": "297629df",
   "metadata": {
    "slideshow": {
     "slide_type": "fragment"
    }
   },
   "outputs": [],
   "source": [
    "i0 = findfirst(((M, S),) -> is_integral(M) && !is_even(M), overlattices_and_submodules)"
   ]
  },
  {
   "cell_type": "code",
   "execution_count": null,
   "id": "b654a27a",
   "metadata": {
    "slideshow": {
     "slide_type": "fragment"
    }
   },
   "outputs": [],
   "source": [
    "M, S = overlattices_and_submodules[i0]; is_integral(M), is_even(M)"
   ]
  },
  {
   "cell_type": "code",
   "execution_count": null,
   "id": "157577fd",
   "metadata": {
    "slideshow": {
     "slide_type": "fragment"
    }
   },
   "outputs": [],
   "source": [
    "is_totally_isotropic(S)"
   ]
  },
  {
   "cell_type": "code",
   "execution_count": null,
   "id": "3a068815",
   "metadata": {
    "slideshow": {
     "slide_type": "slide"
    }
   },
   "outputs": [],
   "source": [
    "i0 = findfirst(((M, S),) -> is_integral(M) && is_even(M), overlattices_and_submodules)"
   ]
  },
  {
   "cell_type": "code",
   "execution_count": null,
   "id": "664342fe",
   "metadata": {
    "slideshow": {
     "slide_type": "fragment"
    }
   },
   "outputs": [],
   "source": [
    "M, S = overlattices_and_submodules[i0]; is_integral(M) && is_even(M)"
   ]
  },
  {
   "cell_type": "markdown",
   "id": "7ea04a1d",
   "metadata": {
    "slideshow": {
     "slide_type": "fragment"
    }
   },
   "source": [
    "We have found a Niemeier lattice, yay!"
   ]
  },
  {
   "cell_type": "code",
   "execution_count": null,
   "id": "39d94dfc",
   "metadata": {
    "slideshow": {
     "slide_type": "fragment"
    }
   },
   "outputs": [],
   "source": [
    "is_totally_isotropic(S)"
   ]
  },
  {
   "cell_type": "markdown",
   "id": "93c8fed1",
   "metadata": {
    "slideshow": {
     "slide_type": "fragment"
    }
   },
   "source": [
    "Is it *the* Niemeier lattice with root sublattice of type $A_9^{\\oplus 2} \\perp D_6$?"
   ]
  },
  {
   "cell_type": "code",
   "execution_count": null,
   "id": "e2ef6af7",
   "metadata": {
    "slideshow": {
     "slide_type": "fragment"
    }
   },
   "outputs": [],
   "source": [
    "roottype, = root_lattice_recognition(M); roottype |> print"
   ]
  },
  {
   "cell_type": "markdown",
   "id": "f57d92f7",
   "metadata": {
    "slideshow": {
     "slide_type": "fragment"
    }
   },
   "source": [
    "Yes!"
   ]
  },
  {
   "cell_type": "code",
   "execution_count": null,
   "id": "e1bca89f",
   "metadata": {
    "slideshow": {
     "slide_type": "slide"
    }
   },
   "outputs": [],
   "source": [
    "findall(((M, S),) -> is_integral(M) && is_even(M), overlattices_and_submodules)"
   ]
  },
  {
   "cell_type": "markdown",
   "id": "530652f3",
   "metadata": {
    "slideshow": {
     "slide_type": "fragment"
    }
   },
   "source": [
    "They all have identitcal root sublattices and are thus all isometric (by theory). Our isometry is a bit too slow to show this. (We are working on this.)"
   ]
  },
  {
   "cell_type": "markdown",
   "id": "01fcb929",
   "metadata": {
    "slideshow": {
     "slide_type": "slide"
    }
   },
   "source": [
    "What about the other root systems?\n",
    "\n",
    "We cannot use this naive approach, since there are in general way too many subgroups:"
   ]
  },
  {
   "cell_type": "code",
   "execution_count": null,
   "id": "49fc4aa8",
   "metadata": {
    "slideshow": {
     "slide_type": "fragment"
    }
   },
   "outputs": [],
   "source": [
    "L, = direct_sum([root_lattice(:A, 1) for i in 1:24]);\n",
    "abelian_group(discriminant_group(L))"
   ]
  },
  {
   "cell_type": "markdown",
   "id": "35932653",
   "metadata": {
    "slideshow": {
     "slide_type": "fragment"
    }
   },
   "source": [
    "$(\\mathbf{Z}/2\\mathbf{Z})^{24}$ has too many subgroups of order $2^{12}$, namely $77184136346814161837268404381760884963259795$.\n",
    "\n",
    "Also, not all even integral overlattices of $L$ have the correct root system, because more roots (elements of norm 2) might be added."
   ]
  },
  {
   "cell_type": "code",
   "execution_count": null,
   "id": "91a292f3",
   "metadata": {
    "slideshow": {
     "slide_type": "fragment"
    }
   },
   "outputs": [],
   "source": [
    "M = maximal_even_lattice(L); is_even(M), is_unimodular(M)"
   ]
  },
  {
   "cell_type": "code",
   "execution_count": null,
   "id": "9490b816",
   "metadata": {
    "slideshow": {
     "slide_type": "fragment"
    }
   },
   "outputs": [],
   "source": [
    "roottype, = root_lattice_recognition(M); roottype |> print"
   ]
  },
  {
   "cell_type": "markdown",
   "id": "5b9a6b4f",
   "metadata": {
    "slideshow": {
     "slide_type": "fragment"
    }
   },
   "source": [
    "We started with $A_1^{\\oplus 24}$ and ended with $E_8^{\\oplus 3}$. In fact $M$ is *the* root lattice $E_8^{\\oplus 3}$."
   ]
  },
  {
   "cell_type": "markdown",
   "id": "310506e8",
   "metadata": {
    "slideshow": {
     "slide_type": "slide"
    }
   },
   "source": [
    "### Glueing lattices\n",
    "\n",
    "We are given even integral lattices $R, S$ and we want to find an even integral $L$, such that\n",
    "- $R$ and $S$ are primitive sublattices of $L$,\n",
    "- $R \\perp S \\leq L$,\n",
    "- $\\operatorname{rank}(R) + \\operatorname{rank}(S) = \\operatorname{rank}(L)$\n",
    "\n",
    "Such overlattices $L$ correspond to *glue maps*\n",
    "\n",
    "$$ \\gamma \\colon H_R \\to H_S $$\n",
    "\n",
    "where $H_R \\leq D_R$, $H_S \\leq D_S$ are submodules and $\\gamma$ is an anti-isometry.\n"
   ]
  },
  {
   "cell_type": "code",
   "execution_count": null,
   "id": "e6282da5",
   "metadata": {
    "slideshow": {
     "slide_type": "slide"
    }
   },
   "outputs": [],
   "source": [
    "V = quadratic_space(QQ, matrix(QQ, 8, 8 ,[2, -1, 0, 0, 0, 0, 0, 0, -1, 2, -1, 0, 0, 0, 0, 0, 0, -1, 2, -1, 0, 0, 0, -1, 0, 0, -1, 2, -1, 0, 0, 0, 0, 0, 0, -1, 2, -1, 0, 0, 0, 0, 0, 0, -1, 2, -1, 0, 0, 0, 0, 0, 0, -1, 2, 0, 0, 0, -1, 0, 0, 0, 0, 2]));\n",
    "R = lattice(V, matrix(ZZ, 4, 8 ,[1, 0, 0, 0, 0, 0, 0, 0, 0, 1, 0, 0, 0, 0, 0, 0, 0, 0, 6, 5, 4, 3, 0, 3, 0, 0, 0, 0, 0, 0, 1, 0]));\n",
    "S = lattice(V, matrix(ZZ, 4, 8, [1, 2, 3, 0, 0, 0, 0, 0, 0, 0, 0, 1, 0, 0, 0, 0, 0, 0, 0, 0, 1, 0, 0, 0, 0, 0, 0, 0, 0, 0, 0, 1]));"
   ]
  },
  {
   "cell_type": "code",
   "execution_count": null,
   "id": "f3654968",
   "metadata": {
    "slideshow": {
     "slide_type": "fragment"
    }
   },
   "outputs": [],
   "source": [
    "DR = discriminant_group(R); DS = discriminant_group(S); abelian_group(DS), abelian_group(DR)"
   ]
  },
  {
   "cell_type": "code",
   "execution_count": null,
   "id": "05997f28",
   "metadata": {
    "slideshow": {
     "slide_type": "fragment"
    }
   },
   "outputs": [],
   "source": [
    "glueings = []\n",
    "for (HR, _) in submodules(DR)\n",
    "    for (HS, _) in submodules(DS)\n",
    "        fl, gamma = is_anti_isometric_with_anti_isometry(HR, HS)\n",
    "        if fl\n",
    "            push!(glueings, gamma)\n",
    "        end\n",
    "    end\n",
    "end\n",
    "length(glueings)"
   ]
  },
  {
   "cell_type": "code",
   "execution_count": null,
   "id": "b8d5b447",
   "metadata": {
    "slideshow": {
     "slide_type": "slide"
    }
   },
   "outputs": [],
   "source": [
    "R + S == overlattice(glueings[1])"
   ]
  },
  {
   "cell_type": "code",
   "execution_count": null,
   "id": "ce7681d2",
   "metadata": {
    "slideshow": {
     "slide_type": "fragment"
    }
   },
   "outputs": [],
   "source": [
    "findfirst(M -> is_even(M) && is_unimodular(M), overlattice.(glueings))"
   ]
  },
  {
   "cell_type": "code",
   "execution_count": null,
   "id": "eb269152",
   "metadata": {
    "slideshow": {
     "slide_type": "fragment"
    }
   },
   "outputs": [],
   "source": [
    "L = overlattice(glueings[10])"
   ]
  },
  {
   "cell_type": "markdown",
   "id": "af72e094",
   "metadata": {
    "slideshow": {
     "slide_type": "fragment"
    }
   },
   "source": [
    "This is the root lattice $E_8$."
   ]
  },
  {
   "cell_type": "markdown",
   "id": "a3f5a442",
   "metadata": {
    "slideshow": {
     "slide_type": "slide"
    }
   },
   "source": [
    "Let's find all the glueings with glueing groups $H_R = D_R$ and $H_S = D_S$. If $\\gamma \\colon D_R \\to D_S$ is a fixed anti-isometry, then\n",
    "\n",
    "$$ \\{ H_R \\to H_S \\text{ anti-isometry}\\} = \\{ \\sigma \\circ \\gamma \\mid \\sigma \\in \\mathrm{O}(D_R) \\} $$"
   ]
  },
  {
   "cell_type": "code",
   "execution_count": null,
   "id": "2223cbc2",
   "metadata": {
    "slideshow": {
     "slide_type": "fragment"
    }
   },
   "outputs": [],
   "source": [
    "HR = DR; HS = DS; fl, gamma = is_anti_isometric_with_anti_isometry(HR, HS);\n",
    "all_glueings = [hom(sigma) * gamma for sigma in orthogonal_group(HR)];\n",
    "length(all_glueings)"
   ]
  },
  {
   "cell_type": "code",
   "execution_count": null,
   "id": "c7a56d4a",
   "metadata": {
    "slideshow": {
     "slide_type": "fragment"
    }
   },
   "outputs": [],
   "source": [
    "overlats = [ overlattice(glue) for glue in all_glueings ]"
   ]
  },
  {
   "cell_type": "code",
   "execution_count": null,
   "id": "2458bd7d",
   "metadata": {
    "slideshow": {
     "slide_type": "slide"
    }
   },
   "outputs": [],
   "source": [
    "basis_matrix(overlats[1])"
   ]
  },
  {
   "cell_type": "code",
   "execution_count": null,
   "id": "dccaa9b7",
   "metadata": {
    "slideshow": {
     "slide_type": "fragment"
    }
   },
   "outputs": [],
   "source": [
    "basis_matrix(overlats[2])"
   ]
  },
  {
   "cell_type": "code",
   "execution_count": null,
   "id": "92cda352",
   "metadata": {
    "slideshow": {
     "slide_type": "fragment"
    }
   },
   "outputs": [],
   "source": [
    "all(M -> is_isometric(L, M), overlats)"
   ]
  },
  {
   "cell_type": "markdown",
   "id": "074270f5",
   "metadata": {
    "slideshow": {
     "slide_type": "fragment"
    }
   },
   "source": [
    "Glueings are not unique, but their isometry class is!"
   ]
  }
 ],
 "metadata": {
  "@webio": {
   "lastCommId": "fb2852331d4d4776985379b4262a013e",
   "lastKernelId": "f37b30cc-fd8e-4b08-a0f1-b4821750bc2f"
  },
  "celltoolbar": "Slideshow",
  "kernelspec": {
   "display_name": "Julia 1.12.0-rc2",
   "language": "julia",
   "name": "julia-1.12"
  },
  "language_info": {
   "file_extension": ".jl",
   "mimetype": "application/julia",
   "name": "julia",
   "version": "1.12.0"
  }
 },
 "nbformat": 4,
 "nbformat_minor": 5
}
