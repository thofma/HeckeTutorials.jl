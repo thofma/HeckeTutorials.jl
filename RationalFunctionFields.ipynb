{
 "cells": [
  {
   "cell_type": "code",
   "execution_count": 1,
   "id": "df6ff9c5-05ac-47f2-bc42-15c9eeb28b7b",
   "metadata": {},
   "outputs": [
    {
     "name": "stdout",
     "output_type": "stream",
     "text": [
      "\u001b[31m _    _           _        \u001b[39m\n",
      "\u001b[31m| |  | |         | |       \u001b[39m  |  Software package for\n",
      "\u001b[31m| |__| | ___  ___| | _____ \u001b[39m  |  algorithmic algebraic number theory\n",
      "\u001b[31m|  __  |/ _ \\/ __| |/ / _ \\\u001b[39m  |  \n",
      "\u001b[31m| |  | |  __/ (__|   <  __/\u001b[39m  |  Manual: https://thofma.github.io/Hecke.jl\n",
      "\u001b[31m|_|  |_|\\___|\\___|_|\\_\\___|\u001b[39m  |  Version \u001b[32m0.38.5\u001b[39m\n"
     ]
    }
   ],
   "source": [
    "using Hecke # also works with Oscar"
   ]
  },
  {
   "cell_type": "markdown",
   "id": "13e4dc29-7459-4517-9e81-c4f974002394",
   "metadata": {},
   "source": [
    "# Basics of rational function fields"
   ]
  },
  {
   "cell_type": "markdown",
   "id": "1f697e72-228d-49fe-8c9e-a03ebb046a7e",
   "metadata": {},
   "source": [
    "We explain how to work with elements of univariate rational function fields and the interaction with the underlying polynomial ring."
   ]
  },
  {
   "cell_type": "markdown",
   "id": "3c9e7ddc-2365-40f0-8e9d-c5b375a775e8",
   "metadata": {},
   "source": [
    "### Creating rational function fields"
   ]
  },
  {
   "cell_type": "markdown",
   "id": "bacaeb58-36cf-49c0-91fd-8d821da0767e",
   "metadata": {},
   "source": [
    "Create a finite field with 5 elements:"
   ]
  },
  {
   "cell_type": "code",
   "execution_count": 2,
   "id": "c1e5f173-d017-4c6d-bd29-114e9bc17674",
   "metadata": {},
   "outputs": [
    {
     "data": {
      "text/plain": [
       "Prime field of characteristic 5"
      ]
     },
     "execution_count": 2,
     "metadata": {},
     "output_type": "execute_result"
    }
   ],
   "source": [
    "K = GF(5)"
   ]
  },
  {
   "cell_type": "markdown",
   "id": "72484c2b-18dc-44f0-92dc-1bb2601e5b5d",
   "metadata": {},
   "source": [
    "Create the rational function field. The expression `:x` just tells the system how to print the indeterminate."
   ]
  },
  {
   "cell_type": "code",
   "execution_count": 3,
   "id": "8cee8a13-9937-421e-9dc8-bd832af3a463",
   "metadata": {},
   "outputs": [
    {
     "data": {
      "text/plain": [
       "(Rational function field over K, x)"
      ]
     },
     "execution_count": 3,
     "metadata": {},
     "output_type": "execute_result"
    }
   ],
   "source": [
    "F, x = rational_function_field(K, :x)"
   ]
  },
  {
   "cell_type": "markdown",
   "id": "6d7b8054-7cbb-44e1-a127-1af950e10e50",
   "metadata": {},
   "source": [
    "Given just the rational function field, one can recover the indeterminate using `gen`:"
   ]
  },
  {
   "cell_type": "code",
   "execution_count": 4,
   "id": "b2190462-5997-4df0-b2cc-7751df21556c",
   "metadata": {},
   "outputs": [
    {
     "data": {
      "text/plain": [
       "x"
      ]
     },
     "execution_count": 4,
     "metadata": {},
     "output_type": "execute_result"
    }
   ],
   "source": [
    "gen(F)"
   ]
  },
  {
   "cell_type": "code",
   "execution_count": 5,
   "id": "844141f8-d77a-4abc-ab92-2e0dcd833ff1",
   "metadata": {},
   "outputs": [
    {
     "data": {
      "text/plain": [
       "true"
      ]
     },
     "execution_count": 5,
     "metadata": {},
     "output_type": "execute_result"
    }
   ],
   "source": [
    "parent(x) == F"
   ]
  },
  {
   "cell_type": "markdown",
   "id": "10cca8d4-c223-44e3-b8b0-67e18ddf714f",
   "metadata": {},
   "source": [
    "### Interaction with the underlying polynomial ring"
   ]
  },
  {
   "cell_type": "code",
   "execution_count": 6,
   "id": "7f1771cd-6c5f-40d2-9b6a-582e1cb0119f",
   "metadata": {},
   "outputs": [
    {
     "data": {
      "text/plain": [
       "(x + 1)//(x + 2)"
      ]
     },
     "execution_count": 6,
     "metadata": {},
     "output_type": "execute_result"
    }
   ],
   "source": [
    "a = (x + 1)/(x + 2) # same as divexact(x + 1, x + 2)"
   ]
  },
  {
   "cell_type": "markdown",
   "id": "70cba4e6-6e22-4464-bf02-7e18f797f88a",
   "metadata": {},
   "source": [
    "Retrieve the numerator (similar for denominator):"
   ]
  },
  {
   "cell_type": "code",
   "execution_count": 7,
   "id": "9b5266de-8e24-415b-a9a1-52f6e17cd263",
   "metadata": {},
   "outputs": [
    {
     "data": {
      "text/plain": [
       "x + 1"
      ]
     },
     "execution_count": 7,
     "metadata": {},
     "output_type": "execute_result"
    }
   ],
   "source": [
    "numa = numerator(a)"
   ]
  },
  {
   "cell_type": "code",
   "execution_count": 8,
   "id": "00bd2cf8-b8de-4f45-a369-f26939630c0f",
   "metadata": {},
   "outputs": [
    {
     "data": {
      "text/plain": [
       "Univariate polynomial ring in x over K"
      ]
     },
     "execution_count": 8,
     "metadata": {},
     "output_type": "execute_result"
    }
   ],
   "source": [
    "Kx = parent(numa)"
   ]
  },
  {
   "cell_type": "markdown",
   "id": "e0a451d1-993a-421f-924f-141a211d8c9a",
   "metadata": {},
   "source": [
    "To construct an element of the rational function with given numerator and denominator, one can do the following:"
   ]
  },
  {
   "cell_type": "code",
   "execution_count": 9,
   "id": "1af13619-a532-455a-8efe-7a5a1049235f",
   "metadata": {},
   "outputs": [
    {
     "data": {
      "text/plain": [
       "(x + 1)//(x + 4)"
      ]
     },
     "execution_count": 9,
     "metadata": {},
     "output_type": "execute_result"
    }
   ],
   "source": [
    "F(numa, numa+3)"
   ]
  },
  {
   "cell_type": "markdown",
   "id": "47dedbd1-30ba-49a3-b12f-3e90da983e59",
   "metadata": {},
   "source": [
    "#### Important details"
   ]
  },
  {
   "cell_type": "code",
   "execution_count": 10,
   "id": "aaa7b17b-5f12-4e06-bbda-64110a66c5b4",
   "metadata": {},
   "outputs": [
    {
     "data": {
      "text/plain": [
       "x"
      ]
     },
     "execution_count": 10,
     "metadata": {},
     "output_type": "execute_result"
    }
   ],
   "source": [
    "xx = gen(Kx)"
   ]
  },
  {
   "cell_type": "markdown",
   "id": "46a9c946-ad73-4905-999f-aa8edfd960ad",
   "metadata": {},
   "source": [
    "Mathematically, this is the same as the indeterminate of `F`, but both elements have different parents:"
   ]
  },
  {
   "cell_type": "code",
   "execution_count": 11,
   "id": "2b01a1d2-0536-4737-8a15-6055bad5c24d",
   "metadata": {},
   "outputs": [
    {
     "data": {
      "text/plain": [
       "false"
      ]
     },
     "execution_count": 11,
     "metadata": {},
     "output_type": "execute_result"
    }
   ],
   "source": [
    "parent(x) == parent(xx)"
   ]
  },
  {
   "cell_type": "markdown",
   "id": "163fc85c-7a44-4b97-b889-8b635e999bab",
   "metadata": {},
   "source": [
    "### Interacting with the field of fractions"
   ]
  },
  {
   "cell_type": "markdown",
   "id": "fc027cc8-8be4-4074-a2bc-c44bee9d5260",
   "metadata": {},
   "source": [
    "The system has a notion of \"fraction field\", which can be obtained from any integral domain. It is constructed automatically if you do `a//b` for two elements."
   ]
  },
  {
   "cell_type": "code",
   "execution_count": 12,
   "id": "ce197020-f82f-42af-9af5-732f7ea12278",
   "metadata": {},
   "outputs": [
    {
     "data": {
      "text/plain": [
       "x//(x + 1)"
      ]
     },
     "execution_count": 12,
     "metadata": {},
     "output_type": "execute_result"
    }
   ],
   "source": [
    "z = xx//(xx + 1)"
   ]
  },
  {
   "cell_type": "code",
   "execution_count": 13,
   "id": "760c6237-c81d-4925-b282-dc12b3c24423",
   "metadata": {},
   "outputs": [
    {
     "data": {
      "text/plain": [
       "Fraction field\n",
       "  of univariate polynomial ring in x over K"
      ]
     },
     "execution_count": 13,
     "metadata": {},
     "output_type": "execute_result"
    }
   ],
   "source": [
    "parent(z)"
   ]
  },
  {
   "cell_type": "markdown",
   "id": "128b0e31-4b48-4317-bd54-26ef3f3798d3",
   "metadata": {},
   "source": [
    "This is *not* the same as the rational function field."
   ]
  },
  {
   "cell_type": "code",
   "execution_count": 14,
   "id": "c793ff7a-96ab-4686-a2f3-2e1a021b0001",
   "metadata": {},
   "outputs": [
    {
     "data": {
      "text/plain": [
       "false"
      ]
     },
     "execution_count": 14,
     "metadata": {},
     "output_type": "execute_result"
    }
   ],
   "source": [
    "parent(z) == F"
   ]
  },
  {
   "cell_type": "markdown",
   "id": "625d62a2-7cf2-43bd-acc2-2fb53023cd45",
   "metadata": {},
   "source": [
    "There are some mechanisms implemented to make `==` work in this case (but this can get confusing if one does more compicated things):"
   ]
  },
  {
   "cell_type": "code",
   "execution_count": 15,
   "id": "c8a7bae5-5448-43cd-a515-66fc3561623c",
   "metadata": {},
   "outputs": [
    {
     "data": {
      "text/plain": [
       "true"
      ]
     },
     "execution_count": 15,
     "metadata": {},
     "output_type": "execute_result"
    }
   ],
   "source": [
    "z == F(xx, xx + 1)"
   ]
  },
  {
   "cell_type": "markdown",
   "id": "6b435327-df50-48d3-a93c-fbaebd5c7509",
   "metadata": {},
   "source": [
    "### Working with rational function fields in practice"
   ]
  },
  {
   "cell_type": "markdown",
   "id": "dda60331-b330-4eda-82ed-9b97f7d520b2",
   "metadata": {},
   "source": [
    "A common workflow for rational function fields is to translate the objects to the underlying polynomial ring, do some computations there, and then to go back."
   ]
  },
  {
   "cell_type": "markdown",
   "id": "1df599c9-c66b-44f3-9da0-2421e010e491",
   "metadata": {},
   "source": [
    "1. Given the rational function field `F`, construct the polynomial ring:"
   ]
  },
  {
   "cell_type": "code",
   "execution_count": 16,
   "id": "a1af3667-2e2e-4b4b-a5c5-16df1e3988eb",
   "metadata": {},
   "outputs": [
    {
     "data": {
      "text/plain": [
       "Univariate polynomial ring in x over K"
      ]
     },
     "execution_count": 16,
     "metadata": {},
     "output_type": "execute_result"
    }
   ],
   "source": [
    "Kx = base_ring(Generic.underlying_fraction_field(F))"
   ]
  },
  {
   "cell_type": "markdown",
   "id": "0193a7e3-6e33-4da4-875f-4e82c4dcb45d",
   "metadata": {},
   "source": [
    "2. Coerce elements from `F` to `Kx`: "
   ]
  },
  {
   "cell_type": "code",
   "execution_count": 17,
   "id": "23312030-4f01-424f-b42f-ea11b4fa197c",
   "metadata": {},
   "outputs": [
    {
     "data": {
      "text/plain": [
       "x"
      ]
     },
     "execution_count": 17,
     "metadata": {},
     "output_type": "execute_result"
    }
   ],
   "source": [
    "Kx(x) # only works if denominator is one"
   ]
  },
  {
   "cell_type": "code",
   "execution_count": 18,
   "id": "72816d61-44f5-4a90-9b0e-67a160efc0da",
   "metadata": {},
   "outputs": [
    {
     "data": {
      "text/plain": [
       "x"
      ]
     },
     "execution_count": 18,
     "metadata": {},
     "output_type": "execute_result"
    }
   ],
   "source": [
    "numerator(x)"
   ]
  },
  {
   "cell_type": "markdown",
   "id": "6030da92-e597-49ff-8908-306b9828ce02",
   "metadata": {},
   "source": [
    "3. Go from `Kx` to `F`:"
   ]
  },
  {
   "cell_type": "code",
   "execution_count": 19,
   "id": "7a2d67eb-656b-44e5-b5de-77d354bae200",
   "metadata": {},
   "outputs": [
    {
     "data": {
      "text/plain": [
       "x"
      ]
     },
     "execution_count": 19,
     "metadata": {},
     "output_type": "execute_result"
    }
   ],
   "source": [
    "F(gen(Kx))"
   ]
  },
  {
   "cell_type": "code",
   "execution_count": 20,
   "id": "dafa7201-7e89-4535-af99-44839ad86b1f",
   "metadata": {},
   "outputs": [
    {
     "data": {
      "text/plain": [
       "x//(x + 1)"
      ]
     },
     "execution_count": 20,
     "metadata": {},
     "output_type": "execute_result"
    }
   ],
   "source": [
    "F(gen(Kx), gen(Kx) + 1)"
   ]
  },
  {
   "cell_type": "markdown",
   "id": "cac45fb5-a952-4737-8339-227467daa62b",
   "metadata": {},
   "source": [
    "### Miscellaneous"
   ]
  },
  {
   "cell_type": "markdown",
   "id": "587bba70-d1f9-4983-9a1d-2b5e8af08911",
   "metadata": {},
   "source": [
    "Evaluation of polynomials or rational funcion field elements can be done using the normal \"call\" syntax:"
   ]
  },
  {
   "cell_type": "code",
   "execution_count": 21,
   "id": "2ebf8cf1-e9b5-44de-a261-3430d41f1855",
   "metadata": {},
   "outputs": [
    {
     "data": {
      "text/plain": [
       "x//(x + 1)"
      ]
     },
     "execution_count": 21,
     "metadata": {},
     "output_type": "execute_result"
    }
   ],
   "source": [
    "z = x//(x + 1)"
   ]
  },
  {
   "cell_type": "code",
   "execution_count": 22,
   "id": "6bb10a10-4240-4090-84ab-3d897d14a61d",
   "metadata": {},
   "outputs": [
    {
     "data": {
      "text/plain": [
       "3"
      ]
     },
     "execution_count": 22,
     "metadata": {},
     "output_type": "execute_result"
    }
   ],
   "source": [
    "z(F(1))"
   ]
  },
  {
   "cell_type": "code",
   "execution_count": 23,
   "id": "d55e6a82-4800-41ce-b529-f520900b166e",
   "metadata": {},
   "outputs": [
    {
     "data": {
      "text/plain": [
       "4//0"
      ]
     },
     "execution_count": 23,
     "metadata": {},
     "output_type": "execute_result"
    }
   ],
   "source": [
    "z(F(4)) # this should probably error ..."
   ]
  },
  {
   "cell_type": "code",
   "execution_count": 24,
   "id": "add97397-d6ac-4736-9e6b-0aac69a86fa1",
   "metadata": {},
   "outputs": [
    {
     "data": {
      "text/plain": [
       "x^2 + x + 1"
      ]
     },
     "execution_count": 24,
     "metadata": {},
     "output_type": "execute_result"
    }
   ],
   "source": [
    "y = xx^2 + xx + 1"
   ]
  },
  {
   "cell_type": "code",
   "execution_count": 25,
   "id": "def9b524-a064-4a39-9f9f-0a1265e0f27d",
   "metadata": {},
   "outputs": [
    {
     "data": {
      "text/plain": [
       "3"
      ]
     },
     "execution_count": 25,
     "metadata": {},
     "output_type": "execute_result"
    }
   ],
   "source": [
    "y(F(1))"
   ]
  },
  {
   "cell_type": "markdown",
   "id": "da6532c0-124f-4255-80e5-6791aa421374",
   "metadata": {},
   "source": [
    "You can also do this with matrices:"
   ]
  },
  {
   "cell_type": "code",
   "execution_count": 26,
   "id": "da3df758-8f83-41f7-a0b9-15ecb34dd2f6",
   "metadata": {},
   "outputs": [],
   "source": [
    "xx = gen(Kx);"
   ]
  },
  {
   "cell_type": "code",
   "execution_count": 27,
   "id": "0c86bc58-aaeb-40d3-ac5f-28229d088865",
   "metadata": {},
   "outputs": [
    {
     "data": {
      "text/plain": [
       "[x     x^2]\n",
       "[x   x + 1]"
      ]
     },
     "execution_count": 27,
     "metadata": {},
     "output_type": "execute_result"
    }
   ],
   "source": [
    "A = Kx[xx xx^2; xx xx + 1]"
   ]
  },
  {
   "cell_type": "code",
   "execution_count": 28,
   "id": "215b9e71-aada-4320-bab7-b8782c847469",
   "metadata": {},
   "outputs": [
    {
     "data": {
      "text/plain": [
       "[1   1]\n",
       "[1   2]"
      ]
     },
     "execution_count": 28,
     "metadata": {},
     "output_type": "execute_result"
    }
   ],
   "source": [
    "map_entries(f -> f(F(1)), A)"
   ]
  },
  {
   "cell_type": "code",
   "execution_count": 29,
   "id": "d6d76ef3-d91d-49e6-bbf9-ec509563b0aa",
   "metadata": {},
   "outputs": [
    {
     "data": {
      "text/plain": [
       "[x//(x + 1)   0]\n",
       "[         0   1]"
      ]
     },
     "execution_count": 29,
     "metadata": {},
     "output_type": "execute_result"
    }
   ],
   "source": [
    "B = F[x//(x + 1) 0; 0 1]"
   ]
  },
  {
   "cell_type": "code",
   "execution_count": 30,
   "id": "a61b39e5-c065-4107-bc58-32f3b976ba9b",
   "metadata": {},
   "outputs": [
    {
     "data": {
      "text/plain": [
       "[3   0]\n",
       "[0   1]"
      ]
     },
     "execution_count": 30,
     "metadata": {},
     "output_type": "execute_result"
    }
   ],
   "source": [
    "map_entries(f -> f(F(1)), B)"
   ]
  }
 ],
 "metadata": {
  "kernelspec": {
   "display_name": "Julia 1.12.0-rc2",
   "language": "julia",
   "name": "julia-1.12"
  },
  "language_info": {
   "file_extension": ".jl",
   "mimetype": "application/julia",
   "name": "julia",
   "version": "1.12.0"
  }
 },
 "nbformat": 4,
 "nbformat_minor": 5
}
