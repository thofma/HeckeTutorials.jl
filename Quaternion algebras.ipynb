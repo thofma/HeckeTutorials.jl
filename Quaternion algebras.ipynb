{
 "cells": [
  {
   "cell_type": "code",
   "execution_count": 4,
   "id": "f4f9e65f-029d-4dd5-a387-148f582ef4fb",
   "metadata": {},
   "outputs": [],
   "source": [
    "using Hecke # this is with version 0.35.16"
   ]
  },
  {
   "cell_type": "markdown",
   "id": "ecb5855d-d8be-47d6-aedf-9d644c2fe48d",
   "metadata": {},
   "source": [
    "# Quaternion algebras"
   ]
  },
  {
   "cell_type": "markdown",
   "id": "d3907cb5-b8a0-4e96-a44b-6eee908f14e0",
   "metadata": {},
   "source": [
    "## Creation"
   ]
  },
  {
   "cell_type": "code",
   "execution_count": 7,
   "id": "e765eef5-cee6-403f-bef0-33958ff73d62",
   "metadata": {},
   "outputs": [
    {
     "data": {
      "text/plain": [
       "Quaternion algebra\n",
       "  over rational field\n",
       "  defined by i^2 = -1, j^2 = -1"
      ]
     },
     "execution_count": 7,
     "metadata": {},
     "output_type": "execute_result"
    }
   ],
   "source": [
    "Q = Hecke.QuaternionAlgebra(QQ, QQ(-1), QQ(-1))"
   ]
  },
  {
   "cell_type": "markdown",
   "id": "8b5e0826-d08f-459b-8c2d-696296d418a4",
   "metadata": {},
   "source": [
    "Construct the standard basis:"
   ]
  },
  {
   "cell_type": "code",
   "execution_count": 8,
   "id": "8d7b94ca-7fce-4437-955c-7ca823d2ff6f",
   "metadata": {},
   "outputs": [
    {
     "data": {
      "text/plain": [
       "4-element Vector{AssociativeAlgebraElem{QQFieldElem, Hecke.QuaternionAlgebra{QQFieldElem}}}:\n",
       " 1\n",
       " i\n",
       " j\n",
       " k"
      ]
     },
     "execution_count": 8,
     "metadata": {},
     "output_type": "execute_result"
    }
   ],
   "source": [
    "_, i, j, k = basis(Q)"
   ]
  },
  {
   "cell_type": "markdown",
   "id": "7572bf04-0c29-40d1-adea-747353bd9bbe",
   "metadata": {},
   "source": [
    "Verifying the relations:"
   ]
  },
  {
   "cell_type": "code",
   "execution_count": 11,
   "id": "e1319ba9-d840-4d99-b7ff-fae71979031a",
   "metadata": {},
   "outputs": [
    {
     "data": {
      "text/plain": [
       "true"
      ]
     },
     "execution_count": 11,
     "metadata": {},
     "output_type": "execute_result"
    }
   ],
   "source": [
    "i^2 == -1 && j^2 == -1 && i * j == k"
   ]
  },
  {
   "cell_type": "markdown",
   "id": "eac06092-1449-4d24-b437-3089479792ab",
   "metadata": {},
   "source": [
    "Construction of elements:"
   ]
  },
  {
   "cell_type": "code",
   "execution_count": 13,
   "id": "66474f2f-7fbd-45fa-834e-a07f4c9b964e",
   "metadata": {},
   "outputs": [
    {
     "data": {
      "text/plain": [
       "1 + 2*i + 3*j"
      ]
     },
     "execution_count": 13,
     "metadata": {},
     "output_type": "execute_result"
    }
   ],
   "source": [
    "alpha = 1 + 2*i + 3*j"
   ]
  },
  {
   "cell_type": "markdown",
   "id": "518352cf-06e3-433b-b6c2-22bd037ac5db",
   "metadata": {},
   "source": [
    "Or via directly supplying the coordinates as a vector:"
   ]
  },
  {
   "cell_type": "code",
   "execution_count": 16,
   "id": "cf12693c-1cdb-4198-950c-67149280b506",
   "metadata": {},
   "outputs": [
    {
     "data": {
      "text/plain": [
       "true"
      ]
     },
     "execution_count": 16,
     "metadata": {},
     "output_type": "execute_result"
    }
   ],
   "source": [
    "alpha == Q(QQ.([1, 2, 3, 0])) # fix this"
   ]
  },
  {
   "cell_type": "markdown",
   "id": "85642f81-8e6b-44aa-a31b-a56429a66cf4",
   "metadata": {},
   "source": [
    "This works for also for number fields:"
   ]
  },
  {
   "cell_type": "code",
   "execution_count": 20,
   "id": "5dba1442-c942-4b6e-ac2a-95b0f299381a",
   "metadata": {},
   "outputs": [
    {
     "data": {
      "text/plain": [
       "(Real quadratic field defined by x^2 - 2, sqrt(2))"
      ]
     },
     "execution_count": 20,
     "metadata": {},
     "output_type": "execute_result"
    }
   ],
   "source": [
    "K, sqrt2 = quadratic_field(2)"
   ]
  },
  {
   "cell_type": "code",
   "execution_count": 21,
   "id": "e3651296-53f3-4d5e-b456-fb8d26c1e262",
   "metadata": {},
   "outputs": [
    {
     "data": {
      "text/plain": [
       "Quaternion algebra\n",
       "  over real quadratic field defined by x^2 - 2\n",
       "  defined by i^2 = sqrt(2), j^2 = 3"
      ]
     },
     "execution_count": 21,
     "metadata": {},
     "output_type": "execute_result"
    }
   ],
   "source": [
    "Q = Hecke.QuaternionAlgebra(K, sqrt2, K(3))"
   ]
  },
  {
   "cell_type": "code",
   "execution_count": 26,
   "id": "69d2d264-0db5-4fb5-aae3-b7c1eefae28b",
   "metadata": {},
   "outputs": [
    {
     "data": {
      "text/plain": [
       "sqrt(2) + i + k"
      ]
     },
     "execution_count": 26,
     "metadata": {},
     "output_type": "execute_result"
    }
   ],
   "source": [
    "alpha = Q(K.([sqrt2, 1, 0, 1])) # fix this"
   ]
  },
  {
   "cell_type": "markdown",
   "id": "cccb48fd-1f2d-45b7-82a0-1e61ff590475",
   "metadata": {},
   "source": [
    "## Properties of elements"
   ]
  },
  {
   "cell_type": "markdown",
   "id": "de4ce94c-655b-4a8c-a698-2802fc4110bf",
   "metadata": {},
   "source": [
    "Get the coefficients with respect to the canonical basis:"
   ]
  },
  {
   "cell_type": "code",
   "execution_count": 31,
   "id": "94789664-4776-4480-9f9d-be7bb913ba67",
   "metadata": {},
   "outputs": [
    {
     "data": {
      "text/plain": [
       "4-element Vector{AbsSimpleNumFieldElem}:\n",
       " sqrt(2)\n",
       " 1\n",
       " 0\n",
       " 1"
      ]
     },
     "execution_count": 31,
     "metadata": {},
     "output_type": "execute_result"
    }
   ],
   "source": [
    "coefficients(alpha)"
   ]
  },
  {
   "cell_type": "markdown",
   "id": "f13152c4-c450-47bc-bcd2-e83648cc397f",
   "metadata": {},
   "source": [
    "Trace and norm (also reduced version)"
   ]
  },
  {
   "cell_type": "code",
   "execution_count": 32,
   "id": "865c4f7d-7d6f-4131-be07-7992c19d5e95",
   "metadata": {},
   "outputs": [
    {
     "data": {
      "text/plain": [
       "(4*sqrt(2), 8*sqrt(2) + 12)"
      ]
     },
     "execution_count": 32,
     "metadata": {},
     "output_type": "execute_result"
    }
   ],
   "source": [
    "tr(alpha), norm(alpha)"
   ]
  },
  {
   "cell_type": "code",
   "execution_count": 33,
   "id": "73f7fc0f-44aa-47f7-94b4-6407dc164323",
   "metadata": {},
   "outputs": [
    {
     "data": {
      "text/plain": [
       "(2*sqrt(2), 2*sqrt(2) + 2)"
      ]
     },
     "execution_count": 33,
     "metadata": {},
     "output_type": "execute_result"
    }
   ],
   "source": [
    "trred(alpha), normred(alpha)"
   ]
  },
  {
   "cell_type": "markdown",
   "id": "8f5d7db9-615c-464f-948d-30608808ff87",
   "metadata": {},
   "source": [
    "Image of elements under canonical involution:"
   ]
  },
  {
   "cell_type": "code",
   "execution_count": 35,
   "id": "c11bc5c2-5ee0-46d9-9239-9faf7aeb664b",
   "metadata": {},
   "outputs": [
    {
     "data": {
      "text/plain": [
       "sqrt(2) - i - k"
      ]
     },
     "execution_count": 35,
     "metadata": {},
     "output_type": "execute_result"
    }
   ],
   "source": [
    "conjugate(alpha)"
   ]
  },
  {
   "cell_type": "code",
   "execution_count": 36,
   "id": "3ba35ef1-d5e5-4074-9dad-56ea8eab4318",
   "metadata": {},
   "outputs": [
    {
     "data": {
      "text/plain": [
       "true"
      ]
     },
     "execution_count": 36,
     "metadata": {},
     "output_type": "execute_result"
    }
   ],
   "source": [
    "normred(alpha) == conjugate(alpha) * alpha"
   ]
  },
  {
   "cell_type": "markdown",
   "id": "11304e85-f3c4-4faa-85d6-dbc583be5f65",
   "metadata": {},
   "source": [
    "## Division"
   ]
  },
  {
   "cell_type": "markdown",
   "id": "dbf7314f-5026-4e07-bc14-d22eee092782",
   "metadata": {},
   "source": [
    "For division there are the two functions `divexact_left` and `divexact_right`. If `c = divexact_right(a, b)`, then `a == c * b`. So, `divexact_right(a, b)` returns an element `c`, such that `b` becomes a right-divisor of `a`."
   ]
  },
  {
   "cell_type": "code",
   "execution_count": 39,
   "id": "44629054-7142-4ecc-8798-58b98b551612",
   "metadata": {},
   "outputs": [],
   "source": [
    "_, i, j, k = basis(Q);"
   ]
  },
  {
   "cell_type": "code",
   "execution_count": 41,
   "id": "cb709acf-cb64-41b0-8feb-73008c413026",
   "metadata": {},
   "outputs": [
    {
     "data": {
      "text/plain": [
       "i"
      ]
     },
     "execution_count": 41,
     "metadata": {},
     "output_type": "execute_result"
    }
   ],
   "source": [
    "divexact_right(k, j)"
   ]
  },
  {
   "cell_type": "code",
   "execution_count": 42,
   "id": "43332046-5098-4841-b362-14ddfa710e5c",
   "metadata": {},
   "outputs": [
    {
     "data": {
      "text/plain": [
       "true"
      ]
     },
     "execution_count": 42,
     "metadata": {},
     "output_type": "execute_result"
    }
   ],
   "source": [
    "k == i * j"
   ]
  },
  {
   "cell_type": "code",
   "execution_count": 44,
   "id": "9e026337-ca20-4132-bc7b-9a03e527147f",
   "metadata": {},
   "outputs": [
    {
     "data": {
      "text/plain": [
       "-i"
      ]
     },
     "execution_count": 44,
     "metadata": {},
     "output_type": "execute_result"
    }
   ],
   "source": [
    "divexact_left(k, j)"
   ]
  },
  {
   "cell_type": "code",
   "execution_count": 45,
   "id": "378949e2-5a5e-449a-83b3-ea2b89d0c9a4",
   "metadata": {},
   "outputs": [
    {
     "data": {
      "text/plain": [
       "true"
      ]
     },
     "execution_count": 45,
     "metadata": {},
     "output_type": "execute_result"
    }
   ],
   "source": [
    "k == j * (-i)"
   ]
  },
  {
   "cell_type": "markdown",
   "id": "ce7735e5-a22f-4114-9345-3d7a3f8d7a36",
   "metadata": {},
   "source": [
    "## Polynomials"
   ]
  },
  {
   "cell_type": "markdown",
   "id": "7cdccadb-d33a-46d9-ac86-38ffc080a502",
   "metadata": {},
   "source": [
    "Polynomials behave very much like polynonomials over commutative rings, except that everything related to divisions needs to specifiy the \"side\"."
   ]
  },
  {
   "cell_type": "code",
   "execution_count": 47,
   "id": "2919a5f9-c2b2-4d8e-93fa-9393d8e8cf34",
   "metadata": {},
   "outputs": [
    {
     "data": {
      "text/plain": [
       "i*x"
      ]
     },
     "execution_count": 47,
     "metadata": {},
     "output_type": "execute_result"
    }
   ],
   "source": [
    "Q = Hecke.QuaternionAlgebra(QQ, QQ(-1), QQ(-1))\n",
    "_, i, j, k = basis(Q)\n",
    "Qx, x = Q[:x]\n",
    "f = i * x^2 + j * x\n",
    "g = i * x"
   ]
  },
  {
   "cell_type": "code",
   "execution_count": 49,
   "id": "44a3296c-8ba2-4971-8361-926c88eb2b68",
   "metadata": {},
   "outputs": [
    {
     "data": {
      "text/plain": [
       "true"
      ]
     },
     "execution_count": 49,
     "metadata": {},
     "output_type": "execute_result"
    }
   ],
   "source": [
    "divexact_right(f, g) == x + k"
   ]
  },
  {
   "cell_type": "code",
   "execution_count": 51,
   "id": "259d71ce-3897-41ae-b969-b00ff11f16c8",
   "metadata": {},
   "outputs": [
    {
     "data": {
      "text/plain": [
       "true"
      ]
     },
     "execution_count": 51,
     "metadata": {},
     "output_type": "execute_result"
    }
   ],
   "source": [
    "divexact_left(f, g) == x + (- k)"
   ]
  },
  {
   "cell_type": "code",
   "execution_count": 52,
   "id": "ed3a2c8f-f8f9-4a25-a9ee-7bff61e58afb",
   "metadata": {},
   "outputs": [
    {
     "ename": "LoadError",
     "evalue": "UndefVarError: `divrem_right` not defined in `Hecke`\nSuggestion: check for spelling errors or missing imports.",
     "output_type": "error",
     "traceback": [
      "UndefVarError: `divrem_right` not defined in `Hecke`\nSuggestion: check for spelling errors or missing imports.",
      "",
      "Stacktrace:",
      " [1] getproperty(x::Module, f::Symbol)",
      "   @ Base ./Base.jl:42",
      " [2] top-level scope",
      "   @ In[52]:1"
     ]
    }
   ],
   "source": [
    "Hecke.divrem_right(f, g)"
   ]
  },
  {
   "cell_type": "code",
   "execution_count": 53,
   "id": "9134d39c-cb50-4c45-8179-20dd1760c8c3",
   "metadata": {},
   "outputs": [
    {
     "ename": "LoadError",
     "evalue": "UndefVarError: `gcd_right` not defined in `Hecke`\nSuggestion: check for spelling errors or missing imports.",
     "output_type": "error",
     "traceback": [
      "UndefVarError: `gcd_right` not defined in `Hecke`\nSuggestion: check for spelling errors or missing imports.",
      "",
      "Stacktrace:",
      " [1] getproperty(x::Module, f::Symbol)",
      "   @ Base ./Base.jl:42",
      " [2] top-level scope",
      "   @ In[53]:1"
     ]
    }
   ],
   "source": [
    "Hecke.gcd_right(f, g)"
   ]
  },
  {
   "cell_type": "markdown",
   "id": "9267a9ce-8f33-48f9-8f06-1206b1725dba",
   "metadata": {},
   "source": [
    "# Splitting of quaternion algebras"
   ]
  },
  {
   "cell_type": "code",
   "execution_count": 59,
   "id": "e44c4800-24de-4f33-bdc9-75a57450c4af",
   "metadata": {},
   "outputs": [
    {
     "data": {
      "text/plain": [
       "false"
      ]
     },
     "execution_count": 59,
     "metadata": {},
     "output_type": "execute_result"
    }
   ],
   "source": [
    "Q = Hecke.QuaternionAlgebra(QQ, QQ(-1), QQ(-1))\n",
    "is_split(Q)"
   ]
  },
  {
   "cell_type": "code",
   "execution_count": 58,
   "id": "4f958aff-604f-499b-8249-c40ed6a85b0a",
   "metadata": {},
   "outputs": [
    {
     "data": {
      "text/plain": [
       "true"
      ]
     },
     "execution_count": 58,
     "metadata": {},
     "output_type": "execute_result"
    }
   ],
   "source": [
    "Q = Hecke.QuaternionAlgebra(QQ, QQ(1), QQ(-1))\n",
    "is_split(Q)"
   ]
  },
  {
   "cell_type": "code",
   "execution_count": 60,
   "id": "41d0781b-5366-48b2-a6cd-d2bc513f6ba9",
   "metadata": {},
   "outputs": [
    {
     "ename": "LoadError",
     "evalue": "UndefVarError: `is_split_with_zerodivisor` not defined in `Hecke`\nSuggestion: check for spelling errors or missing imports.",
     "output_type": "error",
     "traceback": [
      "UndefVarError: `is_split_with_zerodivisor` not defined in `Hecke`\nSuggestion: check for spelling errors or missing imports.",
      "",
      "Stacktrace:",
      " [1] getproperty(x::Module, f::Symbol)",
      "   @ Base ./Base.jl:42",
      " [2] top-level scope",
      "   @ In[60]:1"
     ]
    }
   ],
   "source": [
    "Hecke.is_split_with_zerodivisor(Q)"
   ]
  },
  {
   "cell_type": "markdown",
   "id": "3541a0fe-8ab9-4377-b766-d5894e68a8e0",
   "metadata": {},
   "source": [
    "# Solving norm equations"
   ]
  },
  {
   "cell_type": "markdown",
   "id": "57972912-4790-4bf9-8062-28e80525daf2",
   "metadata": {},
   "source": [
    "Let's solve a norm equation. We want to check whether $2$ is a norm of $\\mathbf{Q}(\\sqrt{2})$."
   ]
  },
  {
   "cell_type": "code",
   "execution_count": 71,
   "id": "76ac56b8-841d-44bd-b10a-4d644400a908",
   "metadata": {},
   "outputs": [
    {
     "data": {
      "text/plain": [
       "(Real quadratic field defined by x^2 - 2, sqrt(2))"
      ]
     },
     "execution_count": 71,
     "metadata": {},
     "output_type": "execute_result"
    }
   ],
   "source": [
    "K, sqrt2 = quadratic_field(2)"
   ]
  },
  {
   "cell_type": "code",
   "execution_count": 79,
   "id": "0b9185cb-ed60-49f6-805f-8ddde61ba7f3",
   "metadata": {},
   "outputs": [],
   "source": [
    "fl, a = is_norm(K, 2);"
   ]
  },
  {
   "cell_type": "code",
   "execution_count": 80,
   "id": "942c4a90-b4d0-4e1b-8112-33bc9e446617",
   "metadata": {},
   "outputs": [
    {
     "data": {
      "text/plain": [
       "true"
      ]
     },
     "execution_count": 80,
     "metadata": {},
     "output_type": "execute_result"
    }
   ],
   "source": [
    "fl"
   ]
  },
  {
   "cell_type": "markdown",
   "id": "0f016d31-4e01-4d85-839b-8bd2d7f8efec",
   "metadata": {},
   "source": [
    "Since elements with given norm are in general large, they are represented in special \"factored\" form:"
   ]
  },
  {
   "cell_type": "code",
   "execution_count": 81,
   "id": "7242094c-9cfd-4e65-9b68-ddfd31473f90",
   "metadata": {},
   "outputs": [
    {
     "data": {
      "text/plain": [
       "(sqrt(2) + 64)^1*89^-1*(sqrt(2) + 25)^1*(sqrt(2) + 4)^-2*23^-1*1^-1*(sqrt(2) + 5)^1*7^1*(sqrt(2) + 3)^-1*sqrt(2)^2"
      ]
     },
     "execution_count": 81,
     "metadata": {},
     "output_type": "execute_result"
    }
   ],
   "source": [
    "a"
   ]
  },
  {
   "cell_type": "markdown",
   "id": "634036d1-93ee-4ee0-b145-a527bab608f1",
   "metadata": {},
   "source": [
    "We can turn this into an ordinary elements using `evaluate`:"
   ]
  },
  {
   "cell_type": "code",
   "execution_count": 86,
   "id": "358fe740-11b0-4203-ac08-7ca05ad03c91",
   "metadata": {},
   "outputs": [
    {
     "data": {
      "text/plain": [
       "-sqrt(2) + 2"
      ]
     },
     "execution_count": 86,
     "metadata": {},
     "output_type": "execute_result"
    }
   ],
   "source": [
    "b = evaluate(a)"
   ]
  },
  {
   "cell_type": "code",
   "execution_count": 87,
   "id": "bdb34f96-bc63-404e-8252-a6a8e0512510",
   "metadata": {},
   "outputs": [
    {
     "data": {
      "text/plain": [
       "true"
      ]
     },
     "execution_count": 87,
     "metadata": {},
     "output_type": "execute_result"
    }
   ],
   "source": [
    "norm(b) == 2"
   ]
  },
  {
   "cell_type": "markdown",
   "id": "997465e8-064d-43dd-9c0d-95b8ca0fea1f",
   "metadata": {},
   "source": [
    "If we know that a norm equation has a solution, we can directly ask for it:"
   ]
  },
  {
   "cell_type": "code",
   "execution_count": 88,
   "id": "9b5daa0e-c814-48ee-9599-35c14b5b9844",
   "metadata": {},
   "outputs": [
    {
     "data": {
      "text/plain": [
       "-sqrt(2) + 2"
      ]
     },
     "execution_count": 88,
     "metadata": {},
     "output_type": "execute_result"
    }
   ],
   "source": [
    "norm_equation(K, 2)"
   ]
  },
  {
   "cell_type": "markdown",
   "id": "b9268b02-6907-419b-b6eb-13db10897594",
   "metadata": {},
   "source": [
    "# Representation by binary quadratic forms "
   ]
  },
  {
   "cell_type": "markdown",
   "id": "62c4f65d-cf24-4b39-a37d-26eded5dc58d",
   "metadata": {},
   "source": [
    "Assume that we have two diagonal quadratic forms $q_1 = \\langle a_1, a_2 \\rangle$ and $q_2 = \\langle b_1, b_2 \\rangle$ over a field $K$.\n",
    "We want to find an element $d$, which is represented both by $q_1$ and $q_2$."
   ]
  },
  {
   "cell_type": "code",
   "execution_count": 98,
   "id": "2dfecce7-039b-426a-85d7-12f115270426",
   "metadata": {},
   "outputs": [],
   "source": [
    "K = QQ;"
   ]
  },
  {
   "cell_type": "code",
   "execution_count": 99,
   "id": "32f27e0e-1e87-41fe-aec4-ee12c3e62fab",
   "metadata": {},
   "outputs": [
    {
     "data": {
      "text/plain": [
       "(2, 3)"
      ]
     },
     "execution_count": 99,
     "metadata": {},
     "output_type": "execute_result"
    }
   ],
   "source": [
    "a1, a2 = 2, 3"
   ]
  },
  {
   "cell_type": "code",
   "execution_count": 100,
   "id": "6c6a1ff7-e918-4809-bb12-fdf1bcdf6a4e",
   "metadata": {},
   "outputs": [
    {
     "data": {
      "text/plain": [
       "(3, 4)"
      ]
     },
     "execution_count": 100,
     "metadata": {},
     "output_type": "execute_result"
    }
   ],
   "source": [
    "b1, b2 = 3, 4"
   ]
  },
  {
   "cell_type": "markdown",
   "id": "abbc47c1-52a7-48a5-8cf7-a94fb748fcf6",
   "metadata": {},
   "source": [
    "We form the quadratic form $q = \\langle a_1, a_2, -b_1, -b_2\\rangle$. Then the task becomes finding an isotropic vector."
   ]
  },
  {
   "cell_type": "code",
   "execution_count": 101,
   "id": "ed8eca2a-04bf-4c3c-bc1a-19f020d0afd2",
   "metadata": {},
   "outputs": [],
   "source": [
    "q = quadratic_space(K, diagonal_matrix(K, [a1, a2, -b1, b2]));"
   ]
  },
  {
   "cell_type": "markdown",
   "id": "396887c5-803d-4b7c-99eb-bad3e1ae9bac",
   "metadata": {},
   "source": [
    "Checking whether such an "
   ]
  },
  {
   "cell_type": "code",
   "execution_count": 102,
   "id": "4232c545-6636-482e-9630-af5eb6d253ce",
   "metadata": {},
   "outputs": [
    {
     "data": {
      "text/plain": [
       "true"
      ]
     },
     "execution_count": 102,
     "metadata": {},
     "output_type": "execute_result"
    }
   ],
   "source": [
    "is_isotropic(q)"
   ]
  },
  {
   "cell_type": "code",
   "execution_count": 104,
   "id": "17ef2d20-dd0f-46c3-9e03-1492aa8290fb",
   "metadata": {},
   "outputs": [
    {
     "data": {
      "text/plain": [
       "(true, QQFieldElem[0, -1//6, 1//6, 0])"
      ]
     },
     "execution_count": 104,
     "metadata": {},
     "output_type": "execute_result"
    }
   ],
   "source": [
    "fl, v = is_isotropic_with_vector(q)"
   ]
  },
  {
   "cell_type": "markdown",
   "id": "e63b72f9-e4ad-4882-a404-cc2b62310b7b",
   "metadata": {},
   "source": [
    "To extract the element $d$, we need to evaluate the quadratic form:"
   ]
  },
  {
   "cell_type": "code",
   "execution_count": 106,
   "id": "63fe0457-0f6e-42ff-9bbc-3d3c1db8d521",
   "metadata": {},
   "outputs": [
    {
     "data": {
      "text/plain": [
       "1//12"
      ]
     },
     "execution_count": 106,
     "metadata": {},
     "output_type": "execute_result"
    }
   ],
   "source": [
    "d = v[1]^2 * a1 + v[2]^2 * a2"
   ]
  },
  {
   "cell_type": "code",
   "execution_count": 107,
   "id": "2d416326-d35b-4d49-a02a-cb32bbddd631",
   "metadata": {},
   "outputs": [
    {
     "data": {
      "text/plain": [
       "true"
      ]
     },
     "execution_count": 107,
     "metadata": {},
     "output_type": "execute_result"
    }
   ],
   "source": [
    "v[1]^2 * a1 + v[2]^2 * a2 == v[3]^2 * b1 + v[4]^2 * b2"
   ]
  }
 ],
 "metadata": {
  "kernelspec": {
   "display_name": "Julia 1.11.4",
   "language": "julia",
   "name": "julia-1.11"
  },
  "language_info": {
   "file_extension": ".jl",
   "mimetype": "application/julia",
   "name": "julia",
   "version": "1.11.4"
  }
 },
 "nbformat": 4,
 "nbformat_minor": 5
}
