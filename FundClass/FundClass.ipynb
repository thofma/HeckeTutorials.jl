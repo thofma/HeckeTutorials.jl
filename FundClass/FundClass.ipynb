{
 "cells": [
  {
   "cell_type": "code",
   "execution_count": 2,
   "id": "6f21b389-d7fa-428e-9b49-2bb6d5918d19",
   "metadata": {},
   "outputs": [
    {
     "name": "stdout",
     "output_type": "stream",
     "text": [
      "  ___   ____   ____    _    ____\n",
      " / _ \\ / ___| / ___|  / \\  |  _ \\   |  Combining ANTIC, GAP, Polymake, Singular\n",
      "| | | |\\___ \\| |     / _ \\ | |_) |  |  Type \"?Oscar\" for more information\n",
      "| |_| | ___) | |___ / ___ \\|  _ <   |  Manual: https://docs.oscar-system.org\n",
      " \\___/ |____/ \\____/_/   \\_\\_| \\_\\  |  Version 1.0.3\n"
     ]
    }
   ],
   "source": [
    "using Oscar"
   ]
  },
  {
   "cell_type": "markdown",
   "id": "470deb96-b272-46fb-a618-11b9dc13519a",
   "metadata": {},
   "source": [
    "# Galois cohomology and the Shafarevich–Weil theorem"
   ]
  },
  {
   "cell_type": "markdown",
   "id": "042546e2-51e9-48ad-86d5-b1c19870f102",
   "metadata": {},
   "source": [
    "The study of the action of Galois groups on arithmetic objects has a long history in number theory. One classical application is the construction and investigation of number fields with prescribed invariants using Galois cohomology. In this regard, we will show how to use Oscar to determine fundamental classes of normal extensions and determine Galois groups using the Shafarevich–Weil theorem."
   ]
  },
  {
   "cell_type": "markdown",
   "id": "c4dc9393-34a4-4e46-963c-b40a51bf7282",
   "metadata": {},
   "source": [
    "Our running example will be the number field\n",
    "\n",
    "$$ k = \\mathbf{Q}(\\alpha) = \\mathbf{Q}[X]/(x^4 - 12x^3 + 36x^2 - 36x + 9) $$"
   ]
  },
  {
   "cell_type": "markdown",
   "id": "a97fba9f-5812-4566-b301-bc3536315d23",
   "metadata": {},
   "source": [
    "We begin by defining the field:"
   ]
  },
  {
   "cell_type": "code",
   "execution_count": 6,
   "id": "7b5a3b0f-f2d9-4c66-9471-7d15f0c64dc7",
   "metadata": {},
   "outputs": [],
   "source": [
    "QQx, x = QQ[\"x\"];"
   ]
  },
  {
   "cell_type": "code",
   "execution_count": 7,
   "id": "37443884-45f6-4386-9f60-2cab609527be",
   "metadata": {},
   "outputs": [],
   "source": [
    "k, α = number_field(x^4 - 12*x^3 + 36*x^2 - 36*x + 9, \"α\");"
   ]
  },
  {
   "cell_type": "markdown",
   "id": "0ef45366-0ad1-44f7-9866-cbe8945175aa",
   "metadata": {},
   "source": [
    "### Galois group\n",
    "\n",
    "Fundamental to any computation is with Galois cohomology is the computation of the Galois group itself."
   ]
  },
  {
   "cell_type": "code",
   "execution_count": 9,
   "id": "317d3ef4-a864-4d2c-9b17-644162f8e31d",
   "metadata": {},
   "outputs": [
    {
     "data": {
      "text/plain": [
       "(Permutation group of degree 4 and order 4, Galois context for x^4 - 12*x^3 + 36*x^2 - 36*x + 9 and prime 11)"
      ]
     },
     "execution_count": 9,
     "metadata": {},
     "output_type": "execute_result"
    }
   ],
   "source": [
    "Gk, Gkctx = galois_group(k)"
   ]
  },
  {
   "cell_type": "markdown",
   "id": "0fbe284a-3710-46b3-bddb-653ac7574656",
   "metadata": {},
   "source": [
    "Note that this not only returns Galois group as a permutation group on $4$ letters, but also approximations of the roots (in this case, in a splitting field $\\mathbf{Q}_{11}$. The group `Gk` is an ordinary Oscar group and thus can be investigated using `describe`:"
   ]
  },
  {
   "cell_type": "code",
   "execution_count": 11,
   "id": "392b5cb0-972f-4bdc-bf01-0668c4e494be",
   "metadata": {},
   "outputs": [
    {
     "data": {
      "text/plain": [
       "\"C2 x C2\""
      ]
     },
     "execution_count": 11,
     "metadata": {},
     "output_type": "execute_result"
    }
   ],
   "source": [
    "describe(Gk)"
   ]
  },
  {
   "cell_type": "markdown",
   "id": "5f366b0b-8a21-471a-8bdd-5fad231440d5",
   "metadata": {},
   "source": [
    "Thus the $k/\\mathbf{Q}$ is normal with Galois group the Klein four-group $\\operatorname{Gal}(k/\\mathbf{Q}) \\cong \\mathrm{C}_2 \\times \\mathrm{C}_2$."
   ]
  },
  {
   "cell_type": "markdown",
   "id": "6ebbb6dd-6ca4-44d2-913f-c7143dc38d33",
   "metadata": {
    "jp-MarkdownHeadingCollapsed": true
   },
   "source": [
    "### Subfields"
   ]
  },
  {
   "cell_type": "markdown",
   "id": "15797719-5381-40e8-887d-4827ee92b956",
   "metadata": {},
   "source": [
    "So there should be 3 quadratic subfields:"
   ]
  },
  {
   "cell_type": "code",
   "execution_count": 11,
   "id": "1fac8504-745e-456d-af15-61f7d6811136",
   "metadata": {},
   "outputs": [
    {
     "data": {
      "text/plain": [
       "3-element Vector{Tuple{AbsSimpleNumField, NumFieldHom{AbsSimpleNumField, AbsSimpleNumField, Hecke.MapDataFromAnticNumberField{AbsSimpleNumFieldElem}, Hecke.MapDataFromAnticNumberField{AbsSimpleNumFieldElem}, AbsSimpleNumFieldElem}}}:\n",
       " (Number field of degree 2 over QQ, Map: number field -> k)\n",
       " (Number field of degree 2 over QQ, Map: number field -> k)\n",
       " (Number field of degree 2 over QQ, Map: number field -> k)"
      ]
     },
     "execution_count": 11,
     "metadata": {},
     "output_type": "execute_result"
    }
   ],
   "source": [
    "subs = subfields(k, degree = 2)"
   ]
  },
  {
   "cell_type": "markdown",
   "id": "bea4596b-e9e6-4531-b86d-3656437aa2b2",
   "metadata": {},
   "source": [
    "To identify them, we'll compute their discriminants..."
   ]
  },
  {
   "cell_type": "code",
   "execution_count": 13,
   "id": "fff06e05-14d1-4838-8782-8623fcadeb6a",
   "metadata": {},
   "outputs": [
    {
     "data": {
      "text/plain": [
       "3-element Vector{ZZRingElem}:\n",
       " 12\n",
       " 8\n",
       " 24"
      ]
     },
     "execution_count": 13,
     "metadata": {},
     "output_type": "execute_result"
    }
   ],
   "source": [
    "[discriminant(maximal_order(x[1])) for x = subs]"
   ]
  },
  {
   "cell_type": "markdown",
   "id": "2968d0e4-4eac-412a-99ef-f90dd4ea3eac",
   "metadata": {},
   "source": [
    "### Constructing abelian extensions via class field theory"
   ]
  },
  {
   "cell_type": "markdown",
   "id": "b150b53e-df16-4e63-8194-b9956e2cce24",
   "metadata": {},
   "source": [
    "Next we want to study quadratic extensions of $k$. Our aim is to determine the maximal elementary abelian $2$-extension $K$ ramified only at $2$ and $3$, which is normal over $\\mathbf{Q}$. To this end, we will use constructive class field theory and begin by determining the maximal abelian extension of $k$ ramified only at $2$ and $3$, that is, the ray class field $M$ with modulus $3 \\cdot 8 \\cdot \\mathcal{O}_k$:\n",
    "\n",
    "$$ \\mathbf{Q} \\subseteq k \\subseteq K \\subseteq M. $$"
   ]
  },
  {
   "cell_type": "code",
   "execution_count": 17,
   "id": "01031c8b-e433-4ace-8ed7-5130f4014eb0",
   "metadata": {},
   "outputs": [
    {
     "data": {
      "text/plain": [
       "Class field defined mod (<24, 24>, InfPlc{AbsSimpleNumField, AbsSimpleNumFieldEmbedding}[]) of structure (Z/4)^2"
      ]
     },
     "execution_count": 17,
     "metadata": {},
     "output_type": "execute_result"
    }
   ],
   "source": [
    "M = ray_class_field(3*8*ring_of_integers(k))"
   ]
  },
  {
   "cell_type": "code",
   "execution_count": 18,
   "id": "27e466b0-036c-4546-93eb-6c8e0308ad1d",
   "metadata": {},
   "outputs": [],
   "source": [
    "a = filter(is_normal, subfields(a, degree = 2));"
   ]
  },
  {
   "cell_type": "code",
   "execution_count": 19,
   "id": "cc6190da-678f-4705-adc7-b11e70897373",
   "metadata": {},
   "outputs": [
    {
     "data": {
      "text/plain": [
       "Class field defined mod (<24, 24>, InfPlc{AbsSimpleNumField, AbsSimpleNumFieldEmbedding}[]) of structure Z/2"
      ]
     },
     "execution_count": 19,
     "metadata": {},
     "output_type": "execute_result"
    }
   ],
   "source": [
    "K = a[1]"
   ]
  },
  {
   "cell_type": "markdown",
   "id": "ad1d5a4d-60fc-4d3f-a19b-f7022a099aee",
   "metadata": {},
   "source": [
    "### Shafarevich–Weil theorem"
   ]
  },
  {
   "cell_type": "markdown",
   "id": "b1c9f5a5-1d41-424b-89af-5a239c972f33",
   "metadata": {},
   "source": [
    "Thus $K$ is a quadratic extension of $k$. Since $K/\\mathbf{Q}$ is normal, we might ask how the Galois group $G = \\operatorname{Gal}(K/\\mathbf{Q})$ looks like. We know that it is an extension of $\\operatorname{Gal}(k/\\mathbf{Q})$ by $\\operatorname{Gal}(K/k)$:\n",
    "\n",
    "$$ 1 \\to \\operatorname{Gal}(K/k) \\to \\operatorname{Gal}(K/\\mathbf{Q}) \\to \\operatorname{Gal}(k/\\mathbf{Q}) $$\n",
    "\n",
    "and thus determines (and is determined by) a class in $c \\in \\mathrm{H}^2(\\operatorname{Gal}(k/\\mathbf{Q}), \\operatorname{Gak}(K/k))$. The celebrated *Shafarevich–Weil theorem* asserts that $c$ is equal to the image of the *fundmanteal class*\n",
    "\n",
    "$$ \\delta \\in \\mathrm{H}^2(\\mathrm{Gal}(k/\\mathbf{Q}), C_k) $$\n",
    "\n",
    "under the canonical projection to the ray class group. Here, $C_k = \\mathbf{A}_k^\\times/k^\\times$ is the *idèle class group* of $k$."
   ]
  },
  {
   "cell_type": "markdown",
   "id": "a4243794-48b7-429e-af9d-59be5801f93c",
   "metadata": {
    "jp-MarkdownHeadingCollapsed": true
   },
   "source": [
    "### Old"
   ]
  },
  {
   "cell_type": "markdown",
   "id": "2b89582a-6b5a-40f9-974d-27b7534690e4",
   "metadata": {},
   "source": [
    "A class field is paramterized by a quotient of some ray class group. At this point, the no defining equation of the field has been computed. To compute the galois group (over Q), we use class field theory:\n",
    " - the group is an extension: `1 -> C_2 -> X -> C2 x C2 -> 1`\n",
    " - thus an element of `H^2(C2 x C2, C2)`\n",
    " - galois cohomology gives `H^2(C2 x C2, C) = C_4` where `C` denotes the idel class group.\n",
    " - there is a canonical generator `delta` for this\n",
    " - the idel class group projects onto any ray class group\n",
    " - `X` as an element of the `H^2` is obtained by projecting `delta` down"
   ]
  },
  {
   "cell_type": "code",
   "execution_count": 17,
   "id": "e2c90087-f3f5-4af4-afd6-cdb8005dedd1",
   "metadata": {},
   "outputs": [],
   "source": [
    "b = [galois_group(x, QQ) for x = a];"
   ]
  },
  {
   "cell_type": "code",
   "execution_count": 18,
   "id": "b340f46f-cf57-498f-9440-23a0ccf84816",
   "metadata": {},
   "outputs": [
    {
     "data": {
      "text/plain": [
       "(Permutation group of degree 8 and order 8, (2-cochain with values in Z/2, G-module for permutation group of degree 4 and order 4 acting on Z/2))"
      ]
     },
     "execution_count": 18,
     "metadata": {},
     "output_type": "execute_result"
    }
   ],
   "source": [
    "b[1]"
   ]
  },
  {
   "cell_type": "code",
   "execution_count": 19,
   "id": "4d8e6070-8fde-4699-95e6-2fb63bdd9052",
   "metadata": {},
   "outputs": [
    {
     "data": {
      "text/plain": [
       "3-element Vector{String}:\n",
       " \"C4 x C2\"\n",
       " \"Q8\"\n",
       " \"D8\""
      ]
     },
     "execution_count": 19,
     "metadata": {},
     "output_type": "execute_result"
    }
   ],
   "source": [
    "[describe(x[1]) for x = b]"
   ]
  },
  {
   "cell_type": "markdown",
   "id": "460cdf17-0319-4c64-8fb2-df28dfc146a4",
   "metadata": {},
   "source": [
    "### Cohomology of the idele group"
   ]
  },
  {
   "cell_type": "markdown",
   "id": "006b3685-3143-44e6-9342-db382a9bbb34",
   "metadata": {},
   "source": [
    "Let's look at this in more detail. First we need to realize a $\\operatorname{Gal}(k/\\mathbf{Q})$-module representing the idéle class group:"
   ]
  },
  {
   "cell_type": "code",
   "execution_count": 23,
   "id": "3f333815-b0c9-4fc9-9706-ee24eccda168",
   "metadata": {},
   "outputs": [
    {
     "data": {
      "text/plain": [
       "Idel-group for Number field of degree 4 over QQ using ZZRingElem[2, 3] as places"
      ]
     },
     "execution_count": 23,
     "metadata": {},
     "output_type": "execute_result"
    }
   ],
   "source": [
    "I = idel_class_gmodule(k)"
   ]
  },
  {
   "cell_type": "markdown",
   "id": "8db0a9aa-9566-41d6-80f1-24c090749b00",
   "metadata": {},
   "source": [
    "Now we can compute the cohomology (the idèle class group is apriori infinite, but has cohomologically trivial subgroups of finite index):"
   ]
  },
  {
   "cell_type": "code",
   "execution_count": 29,
   "id": "065877ce-78ec-466f-9ed0-4594359d2389",
   "metadata": {},
   "outputs": [],
   "source": [
    "H2, mp, _ = cohomology_group(I, 2);"
   ]
  },
  {
   "cell_type": "code",
   "execution_count": 31,
   "id": "b6af9120-cafa-4640-90b5-2b4bd681944b",
   "metadata": {},
   "outputs": [
    {
     "data": {
      "text/plain": [
       "151"
      ]
     },
     "execution_count": 31,
     "metadata": {},
     "output_type": "execute_result"
    }
   ],
   "source": [
    "number_of_generators(H2)"
   ]
  },
  {
   "cell_type": "markdown",
   "id": "024bf3be-0f83-4268-8f4b-35849fa416aa",
   "metadata": {},
   "source": [
    "By theory, this is cyclic of order $4$. To see this structure, we compute a canonical decomposition of this group:"
   ]
  },
  {
   "cell_type": "code",
   "execution_count": 33,
   "id": "81473b39-95de-4666-b8d5-6a08370de7a4",
   "metadata": {},
   "outputs": [
    {
     "data": {
      "text/plain": [
       "Z/4"
      ]
     },
     "execution_count": 33,
     "metadata": {},
     "output_type": "execute_result"
    }
   ],
   "source": [
    "S, ms = snf(H2); S"
   ]
  },
  {
   "cell_type": "markdown",
   "id": "6926859a-a44d-4d3e-8b2a-f80249f9fca4",
   "metadata": {},
   "source": [
    "We now get a generator of $\\mathrm{H}^2(\\operatorname{Gal}(k/\\mathbf{Q}, C_k)$:"
   ]
  },
  {
   "cell_type": "code",
   "execution_count": 24,
   "id": "17a07005-c0d6-4c47-9e4b-6da4a96be976",
   "metadata": {},
   "outputs": [
    {
     "data": {
      "text/plain": [
       "2-cochain with values in (Z/2)^4 x Z/8 x Z/16 x Z/32 x Z/128 x Z/512 x Z^(17)"
      ]
     },
     "execution_count": 24,
     "metadata": {},
     "output_type": "execute_result"
    }
   ],
   "source": [
    "a = mp(ms(s[1]))"
   ]
  },
  {
   "cell_type": "code",
   "execution_count": 25,
   "id": "88d70764-819f-425e-8dc4-0c92321a3bb2",
   "metadata": {},
   "outputs": [
    {
     "data": {
      "text/plain": [
       "(Permutation group of degree 4 and order 4, Map: permutation group of degree 4 and order 4 -> generic group of order 4 with multiplication table -> set of automorphisms of Number field of degree 4 over QQ)"
      ]
     },
     "execution_count": 25,
     "metadata": {},
     "output_type": "execute_result"
    }
   ],
   "source": [
    "G, mG = automorphism_group(PermGroup, k)"
   ]
  },
  {
   "cell_type": "code",
   "execution_count": 26,
   "id": "b0e3da28-d9b9-48d5-aada-8e713f3ff26f",
   "metadata": {},
   "outputs": [
    {
     "data": {
      "text/plain": [
       "Abelian group element [0, 0, 0, 0, 0, 1, 1, 0, 0, 0, 12, 242, 0, 0, 0, 12, -318, 0, 0, 0, 0, 560, 0, 0, 0, 0]"
      ]
     },
     "execution_count": 26,
     "metadata": {},
     "output_type": "execute_result"
    }
   ],
   "source": [
    "i = a(G[1], G[1])"
   ]
  },
  {
   "cell_type": "markdown",
   "id": "1eedbc32-41f2-4422-ab8b-0a989203cba8",
   "metadata": {},
   "source": [
    "... but we can compute an ideal that would represent the same class - in a ray class group modulo 12:"
   ]
  },
  {
   "cell_type": "code",
   "execution_count": 27,
   "id": "464c4855-bcee-4c19-8f81-a27ad1720795",
   "metadata": {},
   "outputs": [
    {
     "data": {
      "text/plain": [
       "1//851777007454951063807395976805683743870799462999244449 * <851777007454951063807395976805683743870799462999244449, 688346858552416230003426443541737868176025810334911088337225957792407202703178853297336661423674459246723365*_a^3 + 214814237981429478342287826384260543321913599131038457295989337480394754821555899555784040126673066236013274*_a^2 + 255700829714150796156041822211320766853498877110948286769675365063343009872707834166704541691873530898502783*_a + 233775964634726252852867195375498105184410447718228493592424225582367266010479028913219735805505530803244190>\n",
       "Norm: 617984721546473612969832186137884293349816144449690365970190470664087524997924867626178773664186884271497996352265750400048961683875900007333071688876974851450849\n",
       "basis_matrix \n",
       "[851777007454951063807395976805683743870799462999244449 0 0 0; 0 851777007454951063807395976805683743870799462999244449 0 0; 0 0 851777007454951063807395976805683743870799462999244449 0; 450333948888262695609085896070228118825224696261521567 477855660292650770266113743684499431452884547739293744 508417553141937261097711737492702087025726913621683458 1]\n",
       "two normal wrt: 851777007454951063807395976805683743870799462999244449"
      ]
     },
     "execution_count": 27,
     "metadata": {},
     "output_type": "execute_result"
    }
   ],
   "source": [
    "ideal(I, ans, coprime = 12*maximal_order(k))"
   ]
  },
  {
   "cell_type": "code",
   "execution_count": 28,
   "id": "d7825b4d-bf99-43f4-bf99-0dc01065263b",
   "metadata": {},
   "outputs": [
    {
     "data": {
      "text/plain": [
       "Dict{AbsSimpleNumFieldOrderIdeal, Tuple{AbsSimpleNumFieldElem, Hecke.LocalFieldElem}} with 2 entries:\n",
       "  <2, _a + 1>                   => (751254989337*_a^3 + 2750695505974*_a^2 + 42…\n",
       "  <3, 7*_a^3 + _a^2 + 8*_a + 3> => (1, 1)"
      ]
     },
     "execution_count": 28,
     "metadata": {},
     "output_type": "execute_result"
    }
   ],
   "source": [
    "Oscar.GaloisCohomology_Mod.idel_finite(I, i)"
   ]
  },
  {
   "cell_type": "code",
   "execution_count": 29,
   "id": "433cd372-e88a-48d5-b118-2e5ffb85c66a",
   "metadata": {},
   "outputs": [
    {
     "data": {
      "text/plain": [
       "(751254989337*_a^3 + 2750695505974*_a^2 + 4207533492259*_a + 3265080393263, (2^0 + 2^3 + 2^4 + 2^9 + 2^11 + 2^13 + 2^14 + 2^16 + 2^19 + 2^22 + 2^25 + 2^27 + 2^29 + 2^30 + 2^31 + 2^33 + 2^34 + 2^35 + 2^37 + 2^39 + O(2^40))*a^3 + (2^0 + 2^1 + 2^3 + 2^5 + 2^6 + 2^7 + 2^8 + 2^14 + 2^17 + 2^18 + 2^19 + 2^20 + 2^22 + 2^24 + 2^25 + 2^28 + 2^29 + 2^31 + 2^32 + 2^33 + 2^36 + 2^37 + 2^38 + O(2^40))*a^2 + (2^1 + 2^9 + 2^10 + 2^14 + 2^16 + 2^20 + 2^21 + 2^22 + 2^23 + 2^25 + 2^26 + 2^27 + 2^28 + 2^29 + 2^30 + 2^32 + 2^33 + 2^34 + 2^35 + 2^36 + 2^38 + 2^39 + O(2^40))*a + 2^0 + 2^3 + 2^5 + 2^10 + 2^11 + 2^18 + 2^19 + 2^20 + 2^22 + 2^24 + 2^27 + 2^28 + 2^33 + 2^34 + 2^36 + 2^37 + 2^38 + 2^39 + O(2^40))"
      ]
     },
     "execution_count": 29,
     "metadata": {},
     "output_type": "execute_result"
    }
   ],
   "source": [
    "collect(values(ans))[1]"
   ]
  },
  {
   "cell_type": "markdown",
   "id": "3aa20b28-adab-4b7e-932d-4ed3cd0f4b63",
   "metadata": {},
   "source": [
    "The 1st part is an element in `k` that has the 2nd element as value in the completion. "
   ]
  }
 ],
 "metadata": {
  "kernelspec": {
   "display_name": "Julia 1.10.4",
   "language": "julia",
   "name": "julia-1.10"
  },
  "language_info": {
   "file_extension": ".jl",
   "mimetype": "application/julia",
   "name": "julia",
   "version": "1.10.4"
  }
 },
 "nbformat": 4,
 "nbformat_minor": 5
}
