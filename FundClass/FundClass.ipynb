{
 "cells": [
  {
   "cell_type": "code",
   "execution_count": 1,
   "id": "4ded2d23-ed59-46c4-9505-24429851e010",
   "metadata": {},
   "outputs": [
    {
     "name": "stderr",
     "output_type": "stream",
     "text": [
      "\u001b[32m\u001b[1m  Activating\u001b[22m\u001b[39m project at `~/tmp/Tommy`\n"
     ]
    }
   ],
   "source": [
    "] activate ."
   ]
  },
  {
   "cell_type": "code",
   "execution_count": 2,
   "id": "6f21b389-d7fa-428e-9b49-2bb6d5918d19",
   "metadata": {},
   "outputs": [
    {
     "name": "stderr",
     "output_type": "stream",
     "text": [
      "\u001b[36m\u001b[1m[ \u001b[22m\u001b[39m\u001b[36m\u001b[1mInfo: \u001b[22m\u001b[39mPrecompiling Oscar [f1435218-dba5-11e9-1e4d-f1a5fab5fc13]\n"
     ]
    },
    {
     "name": "stdout",
     "output_type": "stream",
     "text": [
      "#I  The Julia package 'Downloads' cannot be loaded.\n"
     ]
    },
    {
     "name": "stderr",
     "output_type": "stream",
     "text": [
      "WARNING: using LieAlgebras.hom_direct_sum in module Oscar conflicts with an existing identifier.\n"
     ]
    },
    {
     "name": "stdout",
     "output_type": "stream",
     "text": [
      "\r"
     ]
    },
    {
     "data": {
      "application/vnd.webio.node+json": {
       "children": [],
       "instanceArgs": {
        "namespace": "html",
        "tag": "div"
       },
       "nodeType": "DOM",
       "props": {},
       "type": "node"
      },
      "text/html": [
       "<div style=\"padding: 1em; background-color: #f8d6da; border: 1px solid #f5c6cb; font-weight: bold;\">\n",
       "<p>The WebIO Jupyter extension was not detected. See the\n",
       "<a href=\"https://juliagizmos.github.io/WebIO.jl/latest/providers/ijulia/\" target=\"_blank\">\n",
       "    WebIO Jupyter integration documentation\n",
       "</a>\n",
       "for more information.\n",
       "</div>\n"
      ],
      "text/plain": [
       "WebIO._IJuliaInit()"
      ]
     },
     "metadata": {
      "@webio": {
       "kernelId": "e926337e-aede-4776-bbaa-1bfe7730b1e6"
      }
     },
     "output_type": "display_data"
    }
   ],
   "source": [
    "using Revise, Oscar, Interact"
   ]
  },
  {
   "cell_type": "code",
   "execution_count": 3,
   "id": "7b5a3b0f-f2d9-4c66-9471-7d15f0c64dc7",
   "metadata": {},
   "outputs": [],
   "source": [
    "QQx, x = QQ[:x];"
   ]
  },
  {
   "cell_type": "code",
   "execution_count": 4,
   "id": "37443884-45f6-4386-9f60-2cab609527be",
   "metadata": {},
   "outputs": [],
   "source": [
    "k, a = number_field(x^4 - 12*x^3 + 36*x^2 - 36*x + 9);"
   ]
  },
  {
   "cell_type": "code",
   "execution_count": 5,
   "id": "317d3ef4-a864-4d2c-9b17-644162f8e31d",
   "metadata": {},
   "outputs": [
    {
     "data": {
      "text/plain": [
       "(Permutation group of degree 4 and order 4, Galois context for x^4 - 12*x^3 + 36*x^2 - 36*x + 9 and prime 11)"
      ]
     },
     "execution_count": 5,
     "metadata": {},
     "output_type": "execute_result"
    }
   ],
   "source": [
    "galois_group(k)"
   ]
  },
  {
   "cell_type": "markdown",
   "id": "0fbe284a-3710-46b3-bddb-653ac7574656",
   "metadata": {},
   "source": [
    "The computation of galois groups uses p-adic approximations of the roots as default, here a splitting field over Q_11.To obtain more information about the group, one can use `describe`:"
   ]
  },
  {
   "cell_type": "code",
   "execution_count": 6,
   "id": "392b5cb0-972f-4bdc-bf01-0668c4e494be",
   "metadata": {},
   "outputs": [
    {
     "data": {
      "text/plain": [
       "\"C2 x C2\""
      ]
     },
     "execution_count": 6,
     "metadata": {},
     "output_type": "execute_result"
    }
   ],
   "source": [
    "describe(ans[1])"
   ]
  },
  {
   "cell_type": "markdown",
   "id": "15797719-5381-40e8-887d-4827ee92b956",
   "metadata": {},
   "source": [
    "So there should be 3 quadratic subfields:"
   ]
  },
  {
   "cell_type": "code",
   "execution_count": 7,
   "id": "1fac8504-745e-456d-af15-61f7d6811136",
   "metadata": {},
   "outputs": [
    {
     "data": {
      "text/plain": [
       "3-element Vector{Tuple{AbsSimpleNumField, NumFieldHom{AbsSimpleNumField, AbsSimpleNumField, Hecke.MapDataFromAnticNumberField{AbsSimpleNumFieldElem}, Hecke.MapDataFromAnticNumberField{AbsSimpleNumFieldElem}, AbsSimpleNumFieldElem}}}:\n",
       " (Number field of degree 2 over QQ, Map: number field -> k)\n",
       " (Number field of degree 2 over QQ, Map: number field -> k)\n",
       " (Number field of degree 2 over QQ, Map: number field -> k)"
      ]
     },
     "execution_count": 7,
     "metadata": {},
     "output_type": "execute_result"
    }
   ],
   "source": [
    "subfields(k, degree = 2)"
   ]
  },
  {
   "cell_type": "markdown",
   "id": "bea4596b-e9e6-4531-b86d-3656437aa2b2",
   "metadata": {},
   "source": [
    "To identify them, we'll compute their discriminants..."
   ]
  },
  {
   "cell_type": "code",
   "execution_count": 8,
   "id": "fff06e05-14d1-4838-8782-8623fcadeb6a",
   "metadata": {},
   "outputs": [
    {
     "data": {
      "text/plain": [
       "3-element Vector{ZZRingElem}:\n",
       " 12\n",
       " 8\n",
       " 24"
      ]
     },
     "execution_count": 8,
     "metadata": {},
     "output_type": "execute_result"
    }
   ],
   "source": [
    "[discriminant(maximal_order(x[1])) for x = ans]"
   ]
  },
  {
   "cell_type": "markdown",
   "id": "b150b53e-df16-4e63-8194-b9956e2cce24",
   "metadata": {},
   "source": [
    "Next we want to study (quadratic) extensions. We start by creating some (parametrized) abelian extension, here the maximal elementary abelian extension of exponent 2 ramifed only at 2 and 3:"
   ]
  },
  {
   "cell_type": "code",
   "execution_count": 9,
   "id": "01031c8b-e433-4ace-8ed7-5130f4014eb0",
   "metadata": {},
   "outputs": [
    {
     "data": {
      "text/plain": [
       "Class field defined mod (<24, 24>, InfPlc{AbsSimpleNumField, AbsSimpleNumFieldEmbedding}[]) of structure (Z/2)^2"
      ]
     },
     "execution_count": 9,
     "metadata": {},
     "output_type": "execute_result"
    }
   ],
   "source": [
    "a = ray_class_field(8*3*maximal_order(k), n_quo = 2)"
   ]
  },
  {
   "cell_type": "markdown",
   "id": "a3a90c82-c9dc-4137-8c7c-82a7e3350c8a",
   "metadata": {},
   "source": [
    "(The `n_quo = 2` is just helping Oscar to avoid the discrete logarithms in finite fields). Next we compute all subfields and select the normal ones:"
   ]
  },
  {
   "cell_type": "code",
   "execution_count": 10,
   "id": "27e466b0-036c-4546-93eb-6c8e0308ad1d",
   "metadata": {},
   "outputs": [],
   "source": [
    "a = filter(is_normal, subfields(a, degree = 2));"
   ]
  },
  {
   "cell_type": "code",
   "execution_count": 11,
   "id": "cc6190da-678f-4705-adc7-b11e70897373",
   "metadata": {},
   "outputs": [
    {
     "data": {
      "text/plain": [
       "Class field defined mod (<24, 24>, InfPlc{AbsSimpleNumField, AbsSimpleNumFieldEmbedding}[]) of structure Z/2"
      ]
     },
     "execution_count": 11,
     "metadata": {},
     "output_type": "execute_result"
    }
   ],
   "source": [
    "a[1]"
   ]
  },
  {
   "cell_type": "markdown",
   "id": "2b89582a-6b5a-40f9-974d-27b7534690e4",
   "metadata": {},
   "source": [
    "A class field is paramterized by a quotient of some ray class group. At this point, the no defining equation of the field has been computed. To compute the galois group (over Q), we use class field theory:\n",
    " - the group is an extension: `1 -> C_2 -> X -> C2 x C2 -> 1`\n",
    " - thus an element of `H^2(C2 x C2, C2)`\n",
    " - galois cohomology gives `H^2(C2 x C2, C) = C_4` where `C` denotes the idel class group.\n",
    " - there is a canonical generator `delta` for this\n",
    " - the idel class group projects onto any ray class group\n",
    " - `X` as an element of the `H^2` is obtained by projecting `delta` down"
   ]
  },
  {
   "cell_type": "code",
   "execution_count": 12,
   "id": "e2c90087-f3f5-4af4-afd6-cdb8005dedd1",
   "metadata": {},
   "outputs": [],
   "source": [
    "b = [galois_group(x, QQ) for x = a];"
   ]
  },
  {
   "cell_type": "code",
   "execution_count": 13,
   "id": "b340f46f-cf57-498f-9440-23a0ccf84816",
   "metadata": {},
   "outputs": [
    {
     "data": {
      "text/plain": [
       "(Permutation group of degree 6 and order 8, (2-cochain with values in Z/2, G-module for permutation group of degree 4 and order 4 acting on Z/2))"
      ]
     },
     "execution_count": 13,
     "metadata": {},
     "output_type": "execute_result"
    }
   ],
   "source": [
    "b[1]"
   ]
  },
  {
   "cell_type": "code",
   "execution_count": 14,
   "id": "4d8e6070-8fde-4699-95e6-2fb63bdd9052",
   "metadata": {},
   "outputs": [
    {
     "data": {
      "text/plain": [
       "3-element Vector{String}:\n",
       " \"C4 x C2\"\n",
       " \"Q8\"\n",
       " \"D8\""
      ]
     },
     "execution_count": 14,
     "metadata": {},
     "output_type": "execute_result"
    }
   ],
   "source": [
    "[describe(x[1]) for x = b]"
   ]
  },
  {
   "cell_type": "markdown",
   "id": "006b3685-3143-44e6-9342-db382a9bbb34",
   "metadata": {},
   "source": [
    "Lets look at this in more detail. We need the (a) G-module representing the idel-class group:"
   ]
  },
  {
   "cell_type": "code",
   "execution_count": 15,
   "id": "3f333815-b0c9-4fc9-9706-ee24eccda168",
   "metadata": {},
   "outputs": [
    {
     "data": {
      "text/plain": [
       "Idel-group for Number field of degree 4 over QQ using ZZRingElem[2, 3] as places"
      ]
     },
     "execution_count": 15,
     "metadata": {},
     "output_type": "execute_result"
    }
   ],
   "source": [
    "I = idel_class_gmodule(k)"
   ]
  },
  {
   "cell_type": "markdown",
   "id": "8db0a9aa-9566-41d6-80f1-24c090749b00",
   "metadata": {},
   "source": [
    "Computing the cohomology is easy..."
   ]
  },
  {
   "cell_type": "code",
   "execution_count": 16,
   "id": "065877ce-78ec-466f-9ed0-4594359d2389",
   "metadata": {},
   "outputs": [],
   "source": [
    "h2, mp, _ = cohomology_group(I, 2);"
   ]
  },
  {
   "cell_type": "code",
   "execution_count": 17,
   "id": "b6af9120-cafa-4640-90b5-2b4bd681944b",
   "metadata": {},
   "outputs": [
    {
     "data": {
      "text/plain": [
       "151"
      ]
     },
     "execution_count": 17,
     "metadata": {},
     "output_type": "execute_result"
    }
   ],
   "source": [
    "ngens(h2)"
   ]
  },
  {
   "cell_type": "markdown",
   "id": "024bf3be-0f83-4268-8f4b-35849fa416aa",
   "metadata": {},
   "source": [
    "To see the structure, we compute the elementary divisors: the group should be cyclic of order 4:"
   ]
  },
  {
   "cell_type": "code",
   "execution_count": 18,
   "id": "81473b39-95de-4666-b8d5-6a08370de7a4",
   "metadata": {},
   "outputs": [
    {
     "data": {
      "text/plain": [
       "(Z/4, Map: s -> h2)"
      ]
     },
     "execution_count": 18,
     "metadata": {},
     "output_type": "execute_result"
    }
   ],
   "source": [
    "s, ms = snf(h2)"
   ]
  },
  {
   "cell_type": "markdown",
   "id": "6926859a-a44d-4d3e-8b2a-f80249f9fca4",
   "metadata": {},
   "source": [
    "A generator"
   ]
  },
  {
   "cell_type": "code",
   "execution_count": 19,
   "id": "17a07005-c0d6-4c47-9e4b-6da4a96be976",
   "metadata": {},
   "outputs": [
    {
     "data": {
      "text/plain": [
       "2-cochain with values in (Z/2)^4 x (Z/8)^2 x (Z/16)^2 x Z/128 x Z^(17)"
      ]
     },
     "execution_count": 19,
     "metadata": {},
     "output_type": "execute_result"
    }
   ],
   "source": [
    "a = mp(ms(s[1]))"
   ]
  },
  {
   "cell_type": "code",
   "execution_count": 20,
   "id": "88d70764-819f-425e-8dc4-0c92321a3bb2",
   "metadata": {},
   "outputs": [
    {
     "data": {
      "text/plain": [
       "(Permutation group of degree 4 and order 4, Map: G -> generic group of order 4 with multiplication table -> set of automorphisms of k)"
      ]
     },
     "execution_count": 20,
     "metadata": {},
     "output_type": "execute_result"
    }
   ],
   "source": [
    "G, mG = automorphism_group(PermGroup, k)"
   ]
  },
  {
   "cell_type": "code",
   "execution_count": 21,
   "id": "b0e3da28-d9b9-48d5-aada-8e713f3ff26f",
   "metadata": {},
   "outputs": [
    {
     "data": {
      "text/plain": [
       "Abelian group element [0, 0, 0, 0, 0, 0, 0, 0, 1, 0, 8, 20, 0, 0, 126, -12, 20, 0, 0, 126, 20, 0, 0, 0, 0, 0]"
      ]
     },
     "execution_count": 21,
     "metadata": {},
     "output_type": "execute_result"
    }
   ],
   "source": [
    "i = a(G[1], G[1])"
   ]
  },
  {
   "cell_type": "markdown",
   "id": "1eedbc32-41f2-4422-ab8b-0a989203cba8",
   "metadata": {},
   "source": [
    "... but we can compute an ideal that would represent the same class - in a ray class group modulo 12:"
   ]
  },
  {
   "cell_type": "code",
   "execution_count": 22,
   "id": "464c4855-bcee-4c19-8f81-a27ad1720795",
   "metadata": {},
   "outputs": [
    {
     "data": {
      "text/plain": [
       "1//64393976339170667658682988360825531103035565459171049081 * <64393976339170667658682988360825531103035565459171049081, 1515991503139397324064686911796474562595237736714534407128777737357218788646319737437810684103014930735855490609*_a^3 + 3409962610950941777134408565615699187469878399743563952865165457148798443739037460374752969637495248222417596290*_a^2 + 3062489011179093014930945748096191656862663843420271667183222662619108076034529877545494726599643413618694572786*_a + 995859769783882421604813159645782624801994185939177453223563263329762137475845807431783929950338242303795797653>\n",
       "Norm: 267015044140013442019000207316647969600923241522278428496852902232973829647073916781627721438027691171807291536478260862716746640132905480235604130808475025290200998441\n",
       "basis_matrix \n",
       "[64393976339170667658682988360825531103035565459171049081 0 0 0; 0 64393976339170667658682988360825531103035565459171049081 0 0; 0 0 64393976339170667658682988360825531103035565459171049081 0; 8149945099754504327250115479722490740153141586344536683 27397783551581995116365597439695936644360697493192153745 48743229438594784702850572444032865826988857676980642653 1]\n",
       "two normal wrt: 64393976339170667658682988360825531103035565459171049081"
      ]
     },
     "execution_count": 22,
     "metadata": {},
     "output_type": "execute_result"
    }
   ],
   "source": [
    "ideal(I, ans, coprime = 12*maximal_order(k))"
   ]
  },
  {
   "cell_type": "code",
   "execution_count": 23,
   "id": "d7825b4d-bf99-43f4-bf99-0dc01065263b",
   "metadata": {},
   "outputs": [
    {
     "data": {
      "text/plain": [
       "Dict{AbsSimpleNumFieldOrderIdeal, Tuple{AbsSimpleNumFieldElem, Hecke.LocalFieldElem}} with 2 entries:\n",
       "  <2, _a + 1>                        => (480754399878*_a^3 + 1540572726606*_a^2…\n",
       "  <3, 8//3*_a^3 + 4*_a^2 + 3*_a + 6> => (1, 1)"
      ]
     },
     "execution_count": 23,
     "metadata": {},
     "output_type": "execute_result"
    }
   ],
   "source": [
    "Oscar.GaloisCohomology_Mod.idel_finite(I, i)"
   ]
  },
  {
   "cell_type": "code",
   "execution_count": 24,
   "id": "433cd372-e88a-48d5-b118-2e5ffb85c66a",
   "metadata": {},
   "outputs": [
    {
     "data": {
      "text/plain": [
       "(480754399878*_a^3 + 1540572726606*_a^2 + 1942720414463*_a + 925632589508, (2^1 + 2^2 + 2^7 + 2^9 + 2^11 + 2^12 + 2^13 + 2^14 + 2^15 + 2^16 + 2^20 + 2^21 + 2^24 + 2^25 + 2^26 + 2^27 + 2^29 + 2^30 + 2^31 + 2^32 + 2^33 + 2^34 + 2^35 + 2^37 + 2^38 + O(2^40))*a^3 + (2^2 + 2^3 + 2^4 + 2^5 + 2^7 + 2^8 + 2^10 + 2^12 + 2^14 + 2^18 + 2^20 + 2^21 + 2^23 + 2^24 + 2^25 + 2^29 + 2^30 + 2^31 + 2^33 + 2^34 + 2^36 + O(2^40))*a^2 + (2^0 + 2^2 + 2^4 + 2^5 + 2^6 + 2^7 + 2^8 + 2^9 + 2^10 + 2^13 + 2^14 + 2^17 + 2^19 + 2^21 + 2^25 + 2^26 + 2^27 + 2^28 + 2^29 + 2^31 + 2^33 + 2^34 + 2^38 + O(2^40))*a + 2^0 + 2^2 + 2^3 + 2^7 + 2^9 + 2^10 + 2^12 + 2^13 + 2^15 + 2^16 + 2^17 + 2^18 + 2^19 + 2^21 + 2^22 + 2^23 + 2^25 + 2^28 + 2^29 + 2^30 + 2^31 + 2^32 + 2^35 + O(2^40))"
      ]
     },
     "execution_count": 24,
     "metadata": {},
     "output_type": "execute_result"
    }
   ],
   "source": [
    "collect(values(ans))[1]"
   ]
  },
  {
   "cell_type": "markdown",
   "id": "3aa20b28-adab-4b7e-932d-4ed3cd0f4b63",
   "metadata": {},
   "source": [
    "The 1st part is an element in `k` that has the 2nd element as value in the completion. "
   ]
  }
 ],
 "metadata": {
  "kernelspec": {
   "display_name": "Julia 1.10.3",
   "language": "julia",
   "name": "julia-1.10"
  },
  "language_info": {
   "file_extension": ".jl",
   "mimetype": "application/julia",
   "name": "julia",
   "version": "1.10.3"
  }
 },
 "nbformat": 4,
 "nbformat_minor": 5
}
