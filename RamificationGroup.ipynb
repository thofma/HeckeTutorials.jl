{
 "cells": [
  {
   "cell_type": "code",
   "execution_count": 1,
   "id": "1c3a6496-752e-4e21-819e-4c62c2ba947b",
   "metadata": {},
   "outputs": [
    {
     "name": "stdout",
     "output_type": "stream",
     "text": [
      "  ___   ____   ____    _    ____\n",
      " / _ \\ / ___| / ___|  / \\  |  _ \\   |  Combining ANTIC, GAP, Polymake, Singular\n",
      "| | | |\\___ \\| |     / _ \\ | |_) |  |  Type \"?Oscar\" for more information\n",
      "| |_| | ___) | |___ / ___ \\|  _ <   |  Manual: https://docs.oscar-system.org\n",
      " \\___/ |____/ \\____/_/   \\_\\_| \\_\\  |  1.2.0-DEV #mjrodgers-OW_GModules 5f02019 2024-10-28\n"
     ]
    }
   ],
   "source": [
    "using Revise, Oscar\n"
   ]
  },
  {
   "cell_type": "code",
   "execution_count": 2,
   "id": "7226f453-b283-4a3f-b992-21a73fdddaed",
   "metadata": {},
   "outputs": [
    {
     "data": {
      "text/plain": [
       "(Univariate polynomial ring in x over QQ, x)"
      ]
     },
     "execution_count": 2,
     "metadata": {},
     "output_type": "execute_result"
    }
   ],
   "source": [
    "Qx, x = QQ[:x]"
   ]
  },
  {
   "cell_type": "code",
   "execution_count": 3,
   "id": "aae8b52f-ae6d-440c-bc85-8427c167f381",
   "metadata": {},
   "outputs": [
    {
     "data": {
      "text/plain": [
       "(Number field of degree 4 over QQ, _a)"
      ]
     },
     "execution_count": 3,
     "metadata": {},
     "output_type": "execute_result"
    }
   ],
   "source": [
    "k, a = number_field(x^4-3)"
   ]
  },
  {
   "cell_type": "code",
   "execution_count": 4,
   "id": "fb94eb1f-d31c-4d84-a42c-dabcfcf4bed7",
   "metadata": {
    "scrolled": true
   },
   "outputs": [
    {
     "data": {
      "text/plain": [
       "(Number field of degree 8 over QQ, Map: k -> K)"
      ]
     },
     "execution_count": 4,
     "metadata": {},
     "output_type": "execute_result"
    }
   ],
   "source": [
    "K, A = normal_closure(k)"
   ]
  },
  {
   "cell_type": "markdown",
   "id": "48eb6ebb-11d1-401c-b744-d46ac9093c76",
   "metadata": {},
   "source": [
    "In order to get interesting examples, we need to have interesting fields. Wild ramification can only happen at primes bounded by the degree, we need p divides e and e <= n."
   ]
  },
  {
   "cell_type": "markdown",
   "id": "eb43c100-ca30-49d2-b060-f5fd61bb75bb",
   "metadata": {},
   "source": [
    "Lets add an abelian step on top, so we're getting an extension\n",
    "  1 -> C_2 -> X -> D_4 -> 1\n",
    "  of degree 16"
   ]
  },
  {
   "cell_type": "code",
   "execution_count": 5,
   "id": "62eb9056-9b71-40f0-942e-3fbf196a1d40",
   "metadata": {},
   "outputs": [
    {
     "data": {
      "text/plain": [
       "Maximal order of Number field of degree 8 over QQ \n",
       "with basis AbsSimpleNumFieldElem[1, x, x^2, x^3, 1//144*x^4 + 1//2*x^2 + 7//48, 1//720*x^5 + 1//2*x^3 + 199//240*x, 1//3600*x^6 + 439//1200*x^2 + 1//2, 1//18000*x^7 + 1639//6000*x^3 + 1//2*x]"
      ]
     },
     "execution_count": 5,
     "metadata": {},
     "output_type": "execute_result"
    }
   ],
   "source": [
    "ZK = maximal_order(K)"
   ]
  },
  {
   "cell_type": "code",
   "execution_count": 6,
   "id": "8044d924-4934-490a-9e28-a8b6b4df0e4d",
   "metadata": {},
   "outputs": [
    {
     "data": {
      "text/plain": [
       "<2, x + 1>\n",
       "Norm: 4\n",
       "Minimum: 2\n",
       "basis_matrix \n",
       "[2 0 0 0 0 0 0 0; 1 1 0 0 0 0 0 0; 1 0 1 0 0 0 0 0; 1 0 0 1 0 0 0 0; 0 0 0 0 2 0 0 0; 0 0 0 0 1 1 0 0; 0 0 0 0 1 0 1 0; 1 0 0 0 1 0 0 1]\n",
       "two normal wrt: 2"
      ]
     },
     "execution_count": 6,
     "metadata": {},
     "output_type": "execute_result"
    }
   ],
   "source": [
    "P = prime_decomposition(ZK, 2)[1][1]"
   ]
  },
  {
   "cell_type": "code",
   "execution_count": 7,
   "id": "a05ca236-6dc4-49a4-85a9-8eabec19f449",
   "metadata": {},
   "outputs": [
    {
     "data": {
      "text/plain": [
       "(Finitely generated abelian group with 2 generators and 6 relations, Map: G -> factored elements over Set of ideals of ZK)"
      ]
     },
     "execution_count": 7,
     "metadata": {},
     "output_type": "execute_result"
    }
   ],
   "source": [
    "G, M = ray_class_group(P^3)"
   ]
  },
  {
   "cell_type": "code",
   "execution_count": 8,
   "id": "e62dfd30-2e42-474f-9488-6e4c7c5eec52",
   "metadata": {},
   "outputs": [
    {
     "data": {
      "text/plain": [
       "Class field defined mod (<2, x^3 + 3*x^2 + 3*x + 1>, InfPlc{AbsSimpleNumField, AbsSimpleNumFieldEmbedding}[]) of structure Z/2"
      ]
     },
     "execution_count": 8,
     "metadata": {},
     "output_type": "execute_result"
    }
   ],
   "source": [
    "A = ray_class_field(M)"
   ]
  },
  {
   "cell_type": "code",
   "execution_count": 9,
   "id": "e334dcb0-7734-404e-83ad-10d51eeed07e",
   "metadata": {},
   "outputs": [
    {
     "data": {
      "text/plain": [
       "Non-simple number field with defining polynomials [x^2 + 1//900*x^6 + 1//144*x^4 - 11//300*x^2 + 7//48]\n",
       "  over number field with defining polynomial x^8 + 42*x^4 + 5625\n",
       "    over rational field"
      ]
     },
     "execution_count": 9,
     "metadata": {},
     "output_type": "execute_result"
    }
   ],
   "source": [
    "K = number_field(A)"
   ]
  },
  {
   "cell_type": "code",
   "execution_count": 10,
   "id": "623e625e-d105-4d02-9d9e-b6ae222f5c6a",
   "metadata": {},
   "outputs": [
    {
     "data": {
      "text/plain": [
       "Maximal order of Number field of degree 16 over QQ \n",
       "with basis AbsSimpleNumFieldElem[1, _a, _a^2, _a^3, _a^4, _a^5, _a^6, _a^7, 1//4*_a^8 + 3//4*_a^4 + 1//4, 1//4*_a^9 + 3//4*_a^5 + 1//4*_a, 1//8*_a^10 + 1//8*_a^9 + 1//8*_a^8 + 3//8*_a^6 + 3//8*_a^5 + 7//8*_a^4 + 1//2*_a^3 + 1//8*_a^2 + 5//8*_a + 5//8, 1//8*_a^11 + 1//8*_a^8 + 3//8*_a^7 + 1//2*_a^5 + 3//8*_a^4 + 5//8*_a^3 + 1//2*_a^2 + 5//8, 1//13339480*_a^12 + 1343677//13339480*_a^10 + 1359107//6669740*_a^8 + 1178895//2667896*_a^6 + 2894869//6669740*_a^4 + 145049//173240*_a^2 + 10946679//13339480, 1//13339480*_a^13 + 1343677//13339480*_a^11 + 1359107//6669740*_a^9 + 1178895//2667896*_a^7 + 2894869//6669740*_a^5 + 145049//173240*_a^3 + 10946679//13339480*_a, 1//102836411328969481240*_a^14 + 555646636021//9348764666269952840*_a^12 + 2615393501915691533//25709102832242370310*_a^10 + 20324950843360328391//102836411328969481240*_a^8 + 53590697935069221//63167328826148330*_a^6 + 3921744398383432029//20567282265793896248*_a^4 + 88254520287137337261//102836411328969481240*_a^2 + 35538671689967505883//51418205664484740620, 1//456696502711953466186840*_a^15 + 494374771003//102836411328969481240*_a^13 + 2344986750505056396441//41517863882904860562440*_a^11 + 2193631741647802222747//65242357530279066598120*_a^9 + 1//8*_a^8 + 11603054128278839970229//12343148721944688275320*_a^7 + 127692514224888494876671//456696502711953466186840*_a^5 + 3//8*_a^4 + 8795963959282537573244//57087062838994183273355*_a^3 + 1//2*_a^2 + 8483978129658880687098//57087062838994183273355*_a + 5//8]"
      ]
     },
     "execution_count": 10,
     "metadata": {},
     "output_type": "execute_result"
    }
   ],
   "source": [
    "Ka, mKa = absolute_simple_field(K)\n",
    "Oa = maximal_order(Ka)"
   ]
  },
  {
   "cell_type": "markdown",
   "id": "0da868c8-088f-4226-8309-b71a420aa531",
   "metadata": {},
   "source": [
    "Now some (small) primes: one above 2 and one above 3. The 2 will be interesting as the abelian extensino is ramified at 2, while the 3 was already ramified in the very first field"
   ]
  },
  {
   "cell_type": "code",
   "execution_count": 11,
   "id": "1110a762-f299-4cf5-8806-11bc608b4cb3",
   "metadata": {},
   "outputs": [
    {
     "data": {
      "text/plain": [
       "<3, _a^2 + 2*_a + 2>\n",
       "Norm: 9\n",
       "Minimum: 3\n",
       "two normal wrt: 3"
      ]
     },
     "execution_count": 11,
     "metadata": {},
     "output_type": "execute_result"
    }
   ],
   "source": [
    "P2 = prime_decomposition(Oa, 2)[1][1]\n",
    "P3 = prime_decomposition(Oa, 3)[1][1]"
   ]
  },
  {
   "cell_type": "code",
   "execution_count": 12,
   "id": "d1487d9c-44bf-4cbc-8422-39d51c90dc85",
   "metadata": {},
   "outputs": [
    {
     "data": {
      "text/plain": [
       "(Permutation group of degree 16, Map: Gal -> generic group of order 16 with multiplication table -> set of automorphisms of Ka)"
      ]
     },
     "execution_count": 12,
     "metadata": {},
     "output_type": "execute_result"
    }
   ],
   "source": [
    "Gal, Map = automorphism_group(PermGroup, Ka)"
   ]
  },
  {
   "cell_type": "code",
   "execution_count": 13,
   "id": "764eaa00-b9e8-417f-b6e8-d4098032501e",
   "metadata": {},
   "outputs": [
    {
     "name": "stdout",
     "output_type": "stream",
     "text": [
      "0-th group has order 8\n",
      "1-th group has order 8\n",
      "2-th group has order 2\n",
      "3-th group has order 2\n",
      "4-th group has order 2\n",
      "5-th group has order 2\n",
      "6-th group has order 1\n"
     ]
    }
   ],
   "source": [
    "G = Gal\n",
    "s = 0; i = 0\n",
    "while order(G) > 1\n",
    "    G, _ = ramification_group(Ka, P2, i, Map)\n",
    "    s += order(G)-1\n",
    "    println(\"$i-th group has order $(order(G))\")\n",
    "    i += 1\n",
    "end        "
   ]
  },
  {
   "cell_type": "code",
   "execution_count": 14,
   "id": "715a80a2-568a-4cdd-92d1-085d5d931542",
   "metadata": {},
   "outputs": [
    {
     "data": {
      "text/plain": [
       "18"
      ]
     },
     "execution_count": 14,
     "metadata": {},
     "output_type": "execute_result"
    }
   ],
   "source": [
    "s"
   ]
  },
  {
   "cell_type": "code",
   "execution_count": 15,
   "id": "6ad7b26c-493a-432d-976c-a710cc973c10",
   "metadata": {
    "scrolled": true
   },
   "outputs": [
    {
     "data": {
      "text/plain": [
       "18"
      ]
     },
     "execution_count": 15,
     "metadata": {},
     "output_type": "execute_result"
    }
   ],
   "source": [
    "valuation(different(Oa), P2)"
   ]
  },
  {
   "cell_type": "markdown",
   "id": "1c1ddfe0-e836-4774-bc9f-125e3ab521ab",
   "metadata": {},
   "source": [
    "So, since there is only one prime above 2, the intertia field is also  the decomposition field and P2 should be inert there"
   ]
  },
  {
   "cell_type": "code",
   "execution_count": 16,
   "id": "7f217202-382a-4594-abdf-6f570101b6b6",
   "metadata": {},
   "outputs": [
    {
     "data": {
      "text/plain": [
       "(Permutation group of degree 16, Hom: i -> Gal)"
      ]
     },
     "execution_count": 16,
     "metadata": {},
     "output_type": "execute_result"
    }
   ],
   "source": [
    "i, mi = inertia_subgroup(Ka, P2, Map)"
   ]
  },
  {
   "cell_type": "code",
   "execution_count": 17,
   "id": "ee516fac-be15-4739-b4b5-9495af402ac5",
   "metadata": {
    "scrolled": true
   },
   "outputs": [
    {
     "data": {
      "text/plain": [
       "(Number field of degree 2 over QQ, Map: K2 -> Ka)"
      ]
     },
     "execution_count": 17,
     "metadata": {},
     "output_type": "execute_result"
    }
   ],
   "source": [
    "K2, mK2_Ka = fixed_field(Ka, map(mi*Map, gens(i)))"
   ]
  },
  {
   "cell_type": "markdown",
   "id": "d39d79ab-d036-4347-91a0-1b2526725991",
   "metadata": {},
   "source": [
    "Write the large field as an extension of the intertia field:"
   ]
  },
  {
   "cell_type": "code",
   "execution_count": 18,
   "id": "771073bd-3d61-4baf-b48d-299da054831d",
   "metadata": {},
   "outputs": [
    {
     "data": {
      "text/plain": [
       "(Relative number field of degree 8 over K2, Map: relative number field -> Ka)"
      ]
     },
     "execution_count": 18,
     "metadata": {},
     "output_type": "execute_result"
    }
   ],
   "source": [
    "K2r, iso = relative_simple_extension(mK2_Ka)"
   ]
  },
  {
   "cell_type": "code",
   "execution_count": 19,
   "id": "a7b71078-657c-4acc-8237-4b00797a1f99",
   "metadata": {
    "scrolled": true
   },
   "outputs": [
    {
     "data": {
      "text/plain": [
       "Relative maximal order of Relative number field of degree 8 over K2\n",
       "with pseudo-basis \n",
       "(1, 1//1 * <1, 1>)\n",
       "(_$, 1//1 * <1, 1>)\n",
       "(_$^2, 1//1 * <1, 1>)\n",
       "(_$^3, 1//1 * <1, 1>)\n",
       "(_$^4 + 3*_a, 1//4 * <1, 1>)\n",
       "(_$^5 + _a*_$^4 + 4*_$^3 + 4*_a*_$^2 + (3*_a + 4)*_$ + 7*_a + 5, 1//8 * <1, 1>)\n",
       "(_$^6 + (65*_a + 417881)*_$^4 + (55*_a + 1965704)*_$^2 + 38*_a + 364697, 1//2352280 * <8401, 24154089*_a + 52841323>)\n",
       "(_$^7 + (30*_a + 480274531)*_$^5 + (35*_a + 1286411595)*_$^4 + (195*_a + 4652457144)*_$^3 + (140*_a + 5145646380)*_$^2 + (143*_a + 7773793402)*_$ + 70*_a + 1267013755, 1//10446475480 * <37308841, 628825663602129*_a + 439015077548058>)"
      ]
     },
     "execution_count": 19,
     "metadata": {},
     "output_type": "execute_result"
    }
   ],
   "source": [
    "M2r = maximal_order(K2r);"
   ]
  },
  {
   "cell_type": "markdown",
   "id": "0c021c9f-d9ca-4601-aee6-6f9d34bd29be",
   "metadata": {},
   "source": [
    "Transport the prime ideal over..."
   ]
  },
  {
   "cell_type": "code",
   "execution_count": 20,
   "id": "0c0f8641-d396-41bd-b690-261b06ed0ec3",
   "metadata": {
    "scrolled": true
   },
   "outputs": [
    {
     "data": {
      "text/plain": [
       "Ideal of\n",
       "Relative maximal order with pseudo-basis (1) * 1//1 * <1, 1>, (_$) * 1//1 * <1, 1>, (_$^2) * 1//1 * <1, 1>, (_$^3) * 1//1 * <1, 1>, (_$^4 + 3*_a) * 1//4 * <1, 1>, (_$^5 + _a*_$^4 + 4*_$^3 + 4*_a*_$^2 + (3*_a + 4)*_$ + 7*_a + 5) * 1//8 * <1, 1>, (_$^6 + (65*_a + 417881)*_$^4 + (55*_a + 1965704)*_$^2 + 38*_a + 364697) * 1//2352280 * <8401, 24154089*_a + 52841323>, (_$^7 + (30*_a + 480274531)*_$^5 + (35*_a + 1286411595)*_$^4 + (195*_a + 4652457144)*_$^3 + (140*_a + 5145646380)*_$^2 + (143*_a + 7773793402)*_$ + 70*_a + 1267013755) * 1//10446475480 * <37308841, 628825663602129*_a + 439015077548058>\n",
       "with basis pseudo-matrix\n",
       "(1//1 * \n",
       "basis_matrix \n",
       "[2 0; 0 2]) * [1 0 0 0 0 0 0 0]\n",
       "(1//1 * <1, 1>) * [_a 1 0 0 0 0 0 0]\n",
       "(1//1 * <1, 1>) * [_a+1 0 1 0 0 0 0 0]\n",
       "(1//1 * <1, 1>) * [1 0 0 1 0 0 0 0]\n",
       "(1//4 * <1, 1>) * [4*_a 0 0 0 1 0 0 0]\n",
       "(1//8 * <1, 1>) * [8*_a 0 0 0 0 1 0 0]\n",
       "(1//2352280 * <8401, 4285158*_a + 859057>) * [2352280 0 0 0 0 0 1 0]\n",
       "(1//10446475480 * <37308841, 608830818*_a + 3937041975>) * [10446475480 0 0 0 0 0 0 1]"
      ]
     },
     "execution_count": 20,
     "metadata": {},
     "output_type": "execute_result"
    }
   ],
   "source": [
    "P2r = M2r*P2.gen_one + M2r*M2r(preimage(iso, Ka(P2.gen_two)))"
   ]
  },
  {
   "cell_type": "markdown",
   "id": "647c285f-d9b4-4729-875f-9876841255ba",
   "metadata": {},
   "source": [
    "Minimum is the intersection with the smaller field."
   ]
  },
  {
   "cell_type": "code",
   "execution_count": 21,
   "id": "cb1196af-dad9-480f-8291-29c7a5827c67",
   "metadata": {},
   "outputs": [
    {
     "data": {
      "text/plain": [
       "<no 2-elts present>\n",
       "Norm: 4\n",
       "Minimum: 2\n",
       "basis_matrix \n",
       "[2 0; 0 2]"
      ]
     },
     "execution_count": 21,
     "metadata": {},
     "output_type": "execute_result"
    }
   ],
   "source": [
    "minimum(ans)"
   ]
  },
  {
   "cell_type": "code",
   "execution_count": 22,
   "id": "a31c419e-1d99-4e26-bf5f-f2137db21a24",
   "metadata": {},
   "outputs": [
    {
     "data": {
      "text/plain": [
       "Dict{AbsSimpleNumFieldOrderIdeal, Int64} with 1 entry:\n",
       "  <2, 2*_a> => 1"
      ]
     },
     "execution_count": 22,
     "metadata": {},
     "output_type": "execute_result"
    }
   ],
   "source": [
    "factor(ans)"
   ]
  },
  {
   "cell_type": "code",
   "execution_count": 23,
   "id": "d72ddb5d-8c23-4c30-941c-4968872cc1a5",
   "metadata": {},
   "outputs": [
    {
     "data": {
      "text/plain": [
       "1-element Vector{Tuple{Hecke.RelNumFieldOrderIdeal{AbsSimpleNumFieldElem, AbsSimpleNumFieldOrderFractionalIdeal, Hecke.RelSimpleNumFieldElem{AbsSimpleNumFieldElem}}, Int64}}:\n",
       " (Ideal of\n",
       "Relative maximal order with pseudo-basis (1) * 1//1 * <1, 1>, (_$) * 1//1 * <1, 1>, (_$^2) * 1//1 * <1, 1>, (_$^3) * 1//1 * <1, 1>, (_$^4 + 3*_a) * 1//4 * <1, 1>, (_$^5 + _a*_$^4 + 4*_$^3 + 4*_a*_$^2 + (3*_a + 4)*_$ + 7*_a + 5) * 1//8 * <1, 1>, (_$^6 + (65*_a + 417881)*_$^4 + (55*_a + 1965704)*_$^2 + 38*_a + 364697) * 1//2352280 * <8401, 24154089*_a + 52841323>, (_$^7 + (30*_a + 480274531)*_$^5 + (35*_a + 1286411595)*_$^4 + (195*_a + 4652457144)*_$^3 + (140*_a + 5145646380)*_$^2 + (143*_a + 7773793402)*_$ + 70*_a + 1267013755) * 1//10446475480 * <37308841, 628825663602129*_a + 439015077548058>\n",
       "with basis pseudo-matrix\n",
       "(1//1 * \n",
       "basis_matrix \n",
       "[2 0; 0 2]) * [1 0 0 0 0 0 0 0]\n",
       "(1//1 * <1, 1>) * [_a 1 0 0 0 0 0 0]\n",
       "(1//1 * <1, 1>) * [_a+1 0 1 0 0 0 0 0]\n",
       "(1//1 * <1, 1>) * [1 0 0 1 0 0 0 0]\n",
       "(1//4 * <1, 1>) * [4*_a 0 0 0 1 0 0 0]\n",
       "(1//8 * <1, 1>) * [8*_a 0 0 0 0 1 0 0]\n",
       "(1//2352280 * <8401, 52093231*_a + 60568080>) * [2352280 0 0 0 0 0 1 0]\n",
       "(1//10446475480 * <37308841, 23874261747604*_a + 790727764415194>) * [10446475480 0 0 0 0 0 0 1], 8)"
      ]
     },
     "execution_count": 23,
     "metadata": {},
     "output_type": "execute_result"
    }
   ],
   "source": [
    "prime_decomposition(M2r, minimum(P2r))"
   ]
  },
  {
   "cell_type": "markdown",
   "id": "136c1df3-0433-4dad-aae2-3a84a2026cb7",
   "metadata": {},
   "source": [
    "We could have done some of it without actually computing the relative field.."
   ]
  },
  {
   "cell_type": "code",
   "execution_count": 24,
   "id": "3e60796b-2696-4f64-bca9-b402b0965b94",
   "metadata": {},
   "outputs": [
    {
     "data": {
      "text/plain": [
       "<no 2-elts present>\n",
       "basis_matrix \n",
       "[2 0; 0 2]"
      ]
     },
     "execution_count": 24,
     "metadata": {},
     "output_type": "execute_result"
    }
   ],
   "source": [
    "minimum(mK2_Ka, P2)"
   ]
  },
  {
   "cell_type": "code",
   "execution_count": 25,
   "id": "cdcecf21-71a3-4ec8-b017-c3bdb125248f",
   "metadata": {},
   "outputs": [
    {
     "data": {
      "text/plain": [
       "<2, 9265088//43717759505233*_a^14 - 3905092//43717759505233*_a^12 - 112230944//43717759505233*_a^10 - 15440660082//43717759505233*_a^8 + 10583710496//1181561067709*_a^6 + 19084415868//3974341773203*_a^4 + 24753339186720//43717759505233*_a^2 + 13735590340420//3974341773203>\n",
       "two normal wrt: 2"
      ]
     },
     "execution_count": 25,
     "metadata": {},
     "output_type": "execute_result"
    }
   ],
   "source": [
    "mK2_Ka(ans)"
   ]
  },
  {
   "cell_type": "code",
   "execution_count": 26,
   "id": "1de178ff-e622-4b2e-8519-0e90157526fb",
   "metadata": {},
   "outputs": [
    {
     "data": {
      "text/plain": [
       "Dict{AbsSimpleNumFieldOrderIdeal, Int64} with 1 entry:\n",
       "  <2, 1//8*_a^10 + 1//8*_a^9 + 1//8*_a^8 + 3//8*_a^6 + 3//8*_a^5 + 7//8*_a… => 8"
      ]
     },
     "execution_count": 26,
     "metadata": {},
     "output_type": "execute_result"
    }
   ],
   "source": [
    "factor(ans)"
   ]
  },
  {
   "cell_type": "raw",
   "id": "81f8fbb7-1da4-4b12-9cf0-c8008573733f",
   "metadata": {},
   "source": []
  },
  {
   "cell_type": "code",
   "execution_count": 28,
   "id": "f01d3486-62ae-4fbd-be64-6f95101bb2cf",
   "metadata": {},
   "outputs": [
    {
     "data": {
      "text/plain": [
       "(Permutation group of degree 16, Hom: d -> Gal)"
      ]
     },
     "execution_count": 28,
     "metadata": {},
     "output_type": "execute_result"
    }
   ],
   "source": [
    "d, md = decomposition_group(Ka, P3, Map)"
   ]
  },
  {
   "cell_type": "code",
   "execution_count": 29,
   "id": "6579c0b7-476f-4fd2-b2ee-2898f0404ca3",
   "metadata": {},
   "outputs": [
    {
     "data": {
      "text/plain": [
       "(Number field of degree 2 over QQ, Map: D3 -> Ka)"
      ]
     },
     "execution_count": 29,
     "metadata": {},
     "output_type": "execute_result"
    }
   ],
   "source": [
    "D3, mD3 = fixed_field(Ka, map(md*Map, gens(d)))"
   ]
  },
  {
   "cell_type": "code",
   "execution_count": 30,
   "id": "c96249e4-275a-440f-a530-5fe3bfc39851",
   "metadata": {},
   "outputs": [
    {
     "data": {
      "text/plain": [
       "(Permutation group of degree 16, Hom: i -> Gal)"
      ]
     },
     "execution_count": 30,
     "metadata": {},
     "output_type": "execute_result"
    }
   ],
   "source": [
    "i, mi = inertia_subgroup(Ka, P3, Map)"
   ]
  },
  {
   "cell_type": "code",
   "execution_count": 31,
   "id": "50e93af5-ad8c-4abe-b0c8-49b59f7c3f47",
   "metadata": {},
   "outputs": [
    {
     "data": {
      "text/plain": [
       "(Number field of degree 4 over QQ, Map: I3 -> Ka)"
      ]
     },
     "execution_count": 31,
     "metadata": {},
     "output_type": "execute_result"
    }
   ],
   "source": [
    "I3, mI3 = fixed_field(Ka, map(mi*Map, gens(i)))"
   ]
  },
  {
   "cell_type": "code",
   "execution_count": 32,
   "id": "99fcf64c-134e-4b9a-bfa0-bdf961ab2293",
   "metadata": {
    "scrolled": true
   },
   "outputs": [
    {
     "data": {
      "text/plain": [
       "Map\n",
       "  from number field of degree 2 over QQ\n",
       "  to number field of degree 4 over QQ"
      ]
     },
     "execution_count": 32,
     "metadata": {},
     "output_type": "execute_result"
    }
   ],
   "source": [
    "mD3_I3 = hom(D3, I3, preimage(mI3, mD3(gen(D3))))"
   ]
  },
  {
   "cell_type": "markdown",
   "id": "ec0de4b1-38ad-4679-ae6b-8402b92a9ef5",
   "metadata": {},
   "source": [
    "So, D3, the decomposition field, has degree 2, the intertia field has degree 4. Lets verify that 3 splits completely in D3"
   ]
  },
  {
   "cell_type": "code",
   "execution_count": 33,
   "id": "20a66798-087b-4e87-8073-52742d983493",
   "metadata": {
    "scrolled": true
   },
   "outputs": [
    {
     "data": {
      "text/plain": [
       "Dict{AbsSimpleNumFieldOrderIdeal, Int64} with 2 entries:\n",
       "  <3, _a + 2> => 1\n",
       "  <3, _a + 1> => 1"
      ]
     },
     "execution_count": 33,
     "metadata": {},
     "output_type": "execute_result"
    }
   ],
   "source": [
    "factor(3*maximal_order(D3))"
   ]
  },
  {
   "cell_type": "markdown",
   "id": "0ee2801c-bfdb-4cdb-ab1a-a2f66c5cd6e6",
   "metadata": {},
   "source": [
    "As there are 2 factors, both inertia and ramification are trivial!"
   ]
  },
  {
   "cell_type": "code",
   "execution_count": 34,
   "id": "686ef95a-93c4-4819-8320-66c195f4c529",
   "metadata": {
    "scrolled": true
   },
   "outputs": [
    {
     "data": {
      "text/plain": [
       "Dict{AbsSimpleNumFieldOrderIdeal, Int64} with 2 entries:\n",
       "  <3, _a^2 + 2*_a + 2> => 1\n",
       "  <3, _a^2 + _a + 2>   => 1"
      ]
     },
     "execution_count": 34,
     "metadata": {},
     "output_type": "execute_result"
    }
   ],
   "source": [
    "factor(3*maximal_order(I3))"
   ]
  },
  {
   "cell_type": "markdown",
   "id": "39da8a64-f558-472d-a7b7-33e3f6024cf4",
   "metadata": {},
   "source": [
    "Still only two ideals, still unramified (=> 1 implies unramified), so we gained inertia!\n",
    "Finally, checking that we are completely ramified in Ka/I3:"
   ]
  },
  {
   "cell_type": "code",
   "execution_count": 35,
   "id": "299d92b1-0096-47f0-a1ba-07581c6e08e1",
   "metadata": {},
   "outputs": [
    {
     "data": {
      "text/plain": [
       "(Relative number field of degree 4 over I3, Map: relative number field -> Ka)"
      ]
     },
     "execution_count": 35,
     "metadata": {},
     "output_type": "execute_result"
    }
   ],
   "source": [
    "K3r, mK3r = relative_simple_extension(mI3)"
   ]
  },
  {
   "cell_type": "code",
   "execution_count": 36,
   "id": "f33ed0ab-d32d-4a9c-a140-e74f3ebbb13b",
   "metadata": {},
   "outputs": [
    {
     "data": {
      "text/plain": [
       "Ideal of\n",
       "Relative maximal order with pseudo-basis (1) * 1//1 * <1, 1>, (_$) * 1//1 * <1, 1>, (_$^2 + (_a^2 + 9*_a + 7)*_$ + _a^2) * 1//10 * <10, 17*_a^3 + 80*_a^2 + 46*_a + 35>, (_$^3 + 8051*_a*_$^2 + 92227*_$ + _a^2 + 86626*_a + 33817) * 1//101770 * <101770, 9626347123*_a^3 + 7971516643*_a^2 + 6172302574*_a + 9913923994>\n",
       "with basis pseudo-matrix\n",
       "(1//1 * \n",
       "basis_matrix \n",
       "[3 0 0 0; 0 3 0 0; 2 1 1 0; 1 1 0 1]) * [1 0 0 0]\n",
       "(1//1 * <1, 1>) * [_a 1 0 0]\n",
       "(1//10 * <10, 97*_a^3 + 91*_a^2 + 86*_a + 78>) * [20*_a 0 1 0]\n",
       "(1//101770 * <101770, 4951514784*_a^3 + 6191456921*_a^2 + 776563987*_a + 4954636488>) * [203540*_a+203540 0 0 1]"
      ]
     },
     "execution_count": 36,
     "metadata": {},
     "output_type": "execute_result"
    }
   ],
   "source": [
    "M3r = maximal_order(K3r)\n",
    "P3r = M3r*3 + M3r*M3r(preimage(mK3r, Ka(P3.gen_two)))"
   ]
  },
  {
   "cell_type": "code",
   "execution_count": 38,
   "id": "ffea3b2d-018f-46f7-9441-d15b4bd672f5",
   "metadata": {
    "scrolled": true
   },
   "outputs": [
    {
     "data": {
      "text/plain": [
       "Dict{Hecke.RelNumFieldOrderIdeal{AbsSimpleNumFieldElem, AbsSimpleNumFieldOrderFractionalIdeal, Hecke.RelSimpleNumFieldElem{AbsSimpleNumFieldElem}}, Int64} with 1 entry:\n",
       "  Ideal with basis pseudo-matrix…                                            => 4"
      ]
     },
     "execution_count": 38,
     "metadata": {},
     "output_type": "execute_result"
    }
   ],
   "source": [
    "factor(minimum(P3r)*order(P3r))"
   ]
  },
  {
   "cell_type": "markdown",
   "id": "4e171b40-2a37-4750-8707-5a320b5866c4",
   "metadata": {},
   "source": [
    "a degree 4 extension and the factorisation yields only one ideal and exponent 4."
   ]
  },
  {
   "cell_type": "markdown",
   "id": "d4b5bbd0-bbb6-4cb2-b753-df538f2a2a9b",
   "metadata": {},
   "source": [
    "Prime splitting in subfields is gouverned by double cosets. Lets try this. For U the decompisition group of P and V the group fixing the subfield k, the primes in k (related to P) are in 1-to-1 correspondence with the double cosets U\\G/V"
   ]
  },
  {
   "cell_type": "code",
   "execution_count": 39,
   "id": "27447428-074b-48e6-838e-3f52efb24823",
   "metadata": {},
   "outputs": [
    {
     "name": "stdout",
     "output_type": "stream",
     "text": [
      "Bool[1, 1, 0, 0, 1, 1, 0, 0, 0, 0, 0, 0, 1, 1, 1, 1, 1, 1, 1, 1, 1, 1, 1, 1, 1, 1, 1]\n"
     ]
    }
   ],
   "source": [
    "s = subgroup_reps(Gal)\n",
    "println([is_normal_subgroup(x, Gal) for x = s])"
   ]
  },
  {
   "cell_type": "code",
   "execution_count": 40,
   "id": "4953f044-4a87-4098-925a-4472755b1870",
   "metadata": {},
   "outputs": [
    {
     "data": {
      "text/plain": [
       "2"
      ]
     },
     "execution_count": 40,
     "metadata": {},
     "output_type": "execute_result"
    }
   ],
   "source": [
    "V = s[4]; order(V)"
   ]
  },
  {
   "cell_type": "code",
   "execution_count": 41,
   "id": "9c79d556-f2c6-4a15-a317-50beb208b018",
   "metadata": {},
   "outputs": [],
   "source": [
    "P43 = prime_decomposition(Oa, 43)[1][1];"
   ]
  },
  {
   "cell_type": "code",
   "execution_count": 42,
   "id": "da866598-1447-43f9-b7f1-2631ee8b2460",
   "metadata": {},
   "outputs": [],
   "source": [
    "U, _ = decomposition_group(Ka, P43, Map);"
   ]
  },
  {
   "cell_type": "code",
   "execution_count": 54,
   "id": "5bf27bb0-2648-4d3e-9f19-b91f2b5e8b1d",
   "metadata": {},
   "outputs": [
    {
     "data": {
      "text/plain": [
       "4-element Vector{GroupDoubleCoset{PermGroup, PermGroupElem}}:\n",
       " Double coset of U and V with representative ()\n",
       " Double coset of U and V with representative (1,8)(2,7)(3,6)(4,5)(9,16)(10,15)(11,14)(12,13)\n",
       " Double coset of U and V with representative (1,5,8,4)(2,6,7,3)(9,13,16,12)(10,14,15,11)\n",
       " Double coset of U and V with representative (1,4,8,5)(2,3,7,6)(9,12,16,13)(10,11,15,14)"
      ]
     },
     "execution_count": 54,
     "metadata": {},
     "output_type": "execute_result"
    }
   ],
   "source": [
    "dc = double_cosets(Gal, U, V)"
   ]
  },
  {
   "cell_type": "markdown",
   "id": "a0803722-41a2-43e5-a7c7-bcb9c5c8db11",
   "metadata": {},
   "source": [
    "So we expect 4 primes in the fixed field:"
   ]
  },
  {
   "cell_type": "code",
   "execution_count": 51,
   "id": "c149332f-f1a8-4499-b15e-5a1a2740c27f",
   "metadata": {},
   "outputs": [
    {
     "data": {
      "text/plain": [
       "(Number field of degree 8 over QQ, Map: F -> Ka)"
      ]
     },
     "execution_count": 51,
     "metadata": {},
     "output_type": "execute_result"
    }
   ],
   "source": [
    "F, mF = fixed_field(Ka, map(Map, map(Gal, gens(V))))"
   ]
  },
  {
   "cell_type": "code",
   "execution_count": 59,
   "id": "53e95b16-49df-4d58-9e78-9d605fe98963",
   "metadata": {},
   "outputs": [
    {
     "data": {
      "text/plain": [
       "4-element Vector{Tuple{AbsSimpleNumFieldOrderIdeal, Int64}}:\n",
       " (<43, _a^2 + 33*_a + 3>\n",
       "Norm: 1849\n",
       "Minimum: 43\n",
       "two normal wrt: 43, 1)\n",
       " (<43, _a^2 + 31*_a + 9>\n",
       "Norm: 1849\n",
       "Minimum: 43\n",
       "two normal wrt: 43, 1)\n",
       " (<43, _a^2 + 38*_a + 38>\n",
       "Norm: 1849\n",
       "Minimum: 43\n",
       "two normal wrt: 43, 1)\n",
       " (<43, _a^2 + 31*_a + 6>\n",
       "Norm: 1849\n",
       "Minimum: 43\n",
       "two normal wrt: 43, 1)"
      ]
     },
     "execution_count": 59,
     "metadata": {},
     "output_type": "execute_result"
    }
   ],
   "source": [
    "l43 = prime_decomposition(maximal_order(F), 43)"
   ]
  },
  {
   "cell_type": "code",
   "execution_count": 64,
   "id": "36bc8029-2217-421b-8d73-b770bf79aad1",
   "metadata": {},
   "outputs": [
    {
     "data": {
      "text/plain": [
       "4-element Vector{AbsSimpleNumFieldOrderIdeal}:\n",
       " <43, 7061311492551949741787898161900738881649238778219586*_a^7 + 7750205146229515725054389149348811205791014061308045*_a^6 + 3233501730792095679669751334282688213393653763408317*_a^5 + 4381942828869306032503453038228951276970641034614662*_a^4 + 7940167830687089183002980538157712010241731432301468*_a^3 + 8737146098179957173981624887985860295824640596678225*_a^2 + 6417306033325327793238724817160195598561958014175586*_a + 6847066618108320504768001828807231329537133992507133>\n",
       "Norm: 1849\n",
       "Minimum: 43\n",
       "two normal wrt: 43\n",
       " <43, 5822545243479245296673080402546668345022960761252801497619422618231227501461451731421727311440016867158815124123320109492298280880686821115517412144398263144719073222236318185093202926974566436743065976377977537620333027940850155579236052714616312819011533827327267464061882358971456080125263894712981949298*_a^7 + 13633707141954254319037053607838195032162477019796051031951422374441632588404482519572467061863971680175023195132419333045223460263572057942961396634437717170761473461046522620749705701110298424289437535322404649078270434139158126754330768045442693943966682617949458267671004604324921641787845647835435709525*_a^6 + 25700158467629212728837362745015321562409313373547823602788687747011167628151740594267837741925712818725759106116415945189208029774789546872693277358007591766526637652830199932905668903495791173755760096381320586980567389809321944912547030581038777044465188931211050528903153933993041880969842416188372092990*_a^5 + 17119055637337471866934374136435632536124403773556442662104258313831234511899258524437392644651969475467583631103685407081555441641377237381732867409304912417892650031791328212149986508531537760967557290280631135318249527335411405342973614693347689940290069627831750080330170655046983013305427440379821719846*_a^4 + 11164214724257958812870872610556270652372563451368906259260789912977529536860509211666237197062173947148809250793021772427142969981811977621158225215678421055893819298425594252884497903585233182074250761837518198901655965103656752803801591773421454113579283766092722575022908897280282880292506052223432880906*_a^3 + 6267558284805055358936716329103534255964701063643987351405746533417035625176230350563885825867994205773036648796508812057080224144078039540466182306843330305130465483272055740399142284355027767356756690393959747110826200790302615355709403544326117636015120094629758528319203917821447843188838644645191580484*_a^2 + 10822562614192726042989234190522120304613820760276628064337699506788781821505524696934812864973483146356339535334638396438389018191171105173976876472635032725923103858557554269668132715017374047858388482547950680584330112424207608259108523363540448343952558970967752675895508978506168617947003358129658086313*_a + 11455243381125858532457836242109202160889118879310578745647791277801749716033135713925151157395550667041611055515403084747304968331823002988668329654006932736537810068721317321118417455550637007176802870824536968843463193366291044968901912012644099812428542751491832965427398556999023443242788446301657970245>\n",
       "Norm: 1849\n",
       "Minimum: 43\n",
       "two normal wrt: 43\n",
       " <43, 10792699961357761406035194018924899206176247447949439557928947910369744169513239101669509098827600193945718010371505890432043613342554990427047112467152707920513220704389670835358184600406371374662738346250585839286258705836568006397600568025917107073170276660689881341952795782324885*_a^7 + 4719872023747673970663970052755681811238184234835488488086689587473699730981633359766667089412589921139274195707116940506146881821523784307045979468507240831586251986158429538877111567282221773811541611534190831232357054487393473212147730821745549737377004683466995695481653888738417*_a^6 + 7961155074283228232847658724685764313629321441646441014976301412855810245849460405190343335975186574900138456781750168604996874274064211579794817425560186878834798323634220462366698759473841458595872453189780795011618158202248776780557381920373426266430824287668380777002806466003492*_a^5 + 5233819576636127089820442051014851046215817887738220610996629333151510205021269618042144386010329953716259229777198391495765109182403456644965716069644592027034819917221930329154240662763587904601124874792551662996688758309446297417627779520619219633296345893368950732824092570152793*_a^4 + 10282632822257267582277056990849790061990518124988669141462221888316609058189328995008343378284076816840502630610418857969768632832012105008964533023032641503043222046024362494486005702827457923816571808216615204482971716427149593402010059874216389427484354641552980894467491572803016*_a^3 + 150179746421917089568098713234277090515325740435422703201836058546489220793995705087702924631028674030012193838025412532915130146369847722718459075719263186098597361880739197151192809017081431016831015761807237719767202835058155566444465746756606410519199035558581609149996290879578*_a^2 + 10891225059830765699528122349348905502799317715682824793323381840370938302268951297280200804943408535244842693865549766378209356627211319876882111650398439782586237939803708497939294109049753318529641518775410808405437209720195026224619570151867783668402833005115012347462199038317292*_a + 5882914890050055530461377864867024351020607342486733204943742144110900776117935812274679769164712747295278863401347943166974683890919140871200816532195329652061240871435749308712562960970423444582755006352792251740261677667366056024430740794778209833575131672032269704408353057151673>\n",
       "Norm: 1849\n",
       "Minimum: 43\n",
       "two normal wrt: 43\n",
       " <43, 487126288813429307976218400055815947539276740200306088465216833970248831645039126261355062370823460533321891046598438965395499759599134940639363847850040317498856051698465007763045386542008352470532142082224040801657067100336931879347623947015419603057426602295239476528816686442890027137699309947345158347839151413//193*_a^7 + 159384960372119282404872074992229036368437954820820985277644419127294528271093186825662029575519912910039873130185747740398448348865744940378041121469440456520365175332824984304306891147111318364566540156569412152870551223729601523087571071622627880195456724582793407843961628062974591715796426182576056145434174324//193*_a^6 + 154562433035090766624552265748175642511879265342284190454173417384982233408503242935908840922339778330919717704747502063908906407103382449712405847283730290054432508653852740400681218994737620694796845501678954275937219197066387507242654818191564780870591806191393756478037868822718090227519249286999059606483102970//193*_a^5 + 428899886483015906659365091578876063305492295985529980381013458163487509486485591867159758816744655908853960310931021468673431345201773548803304931370012099067327672621607831473253588079514682062567058345946458796154623237725405910485422434683561724779361514813979319319577690827793394498441025092768806379171497329//193*_a^4 + 185086575415045661014534998101883408558975469681413942860418820941174739202612410334078069669425972968192170445669056974647346924673410741059299463575316541803672549354702875361225836949707982429012656643522900570669891153782665414224401538091389931735895439219651090083644747087926077380038966764055564321363349156//193*_a^3 + 322316054388579878369997946557826262639244673040576812517380801857745642827351329546680161142560840217922166788304094847189245640800115502978957096986008720684850261612059895983662935092931810515698228258379319436972487570109559040168048902489642528884072904617710460393449406188376915501241791690982851639142585731//193*_a^2 + 130205483295863129974359959101796000407517669369063811496782685507219939323764566989876625728383402638694377643503309358613301278597626425832162998284673993111291229423651989123302793478745974152425754074628470255051246385840274406731226642645620051769653790412548827114833343681141106515589680141063578679112063265//193*_a + 474457447566531733699691199638360312384088798650806472790171731394809882738798774919604341666114076659838270688810969184897653019033500804701644816517982817520220022859658047352442427379355801976439047343409959386652421689636299870852147896009328740267984785354727569266389508864950969408741951533631491198013701039//193>\n",
       "Norm: 1849\n",
       "Minimum: 43\n",
       "two normal wrt: 43"
      ]
     },
     "execution_count": 64,
     "metadata": {},
     "output_type": "execute_result"
    }
   ],
   "source": [
    "ll =[minimum(mF, Map(representative(x))(P43)) for x = dc]"
   ]
  },
  {
   "cell_type": "code",
   "execution_count": 66,
   "id": "228f05c0-5264-4981-aa0c-086812d1bdc7",
   "metadata": {},
   "outputs": [
    {
     "data": {
      "text/plain": [
       "true"
      ]
     },
     "execution_count": 66,
     "metadata": {},
     "output_type": "execute_result"
    }
   ],
   "source": [
    "Set(x[1] for x = l43) == Set(ll)"
   ]
  },
  {
   "cell_type": "code",
   "execution_count": null,
   "id": "e4ecfd6a-c284-4169-a924-1edaaab089b4",
   "metadata": {},
   "outputs": [],
   "source": []
  }
 ],
 "metadata": {
  "kernelspec": {
   "display_name": "Julia 1.10.4",
   "language": "julia",
   "name": "julia-1.10"
  },
  "language_info": {
   "file_extension": ".jl",
   "mimetype": "application/julia",
   "name": "julia",
   "version": "1.10.4"
  }
 },
 "nbformat": 4,
 "nbformat_minor": 5
}
